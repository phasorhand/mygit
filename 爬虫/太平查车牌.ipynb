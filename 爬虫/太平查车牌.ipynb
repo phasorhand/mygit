{
 "cells": [
  {
   "cell_type": "code",
   "execution_count": 80,
   "metadata": {
    "collapsed": false
   },
   "outputs": [
    {
     "data": {
      "text/plain": [
       "'\\r\\n \\r\\n\\r\\n\\r\\n\\r\\n\\r\\n\\r\\n\\r\\n\\r\\n\\r\\n<html>\\r\\n<head>\\r\\n<meta http-equiv=\"Content-Type\" content=\"text/html; charset=utf-8\" />\\r \\r\\n\\n<title>\\xcc\\xab\\xe5\\xa4\\xaa\\xe5\\xb9\\xb3\\xe8\\xb4\\xa2\\xe4\\xba\\xa7\\xe4\\xbf\\x9d\\xe9\\x99\\xa9\\xe6\\x9c\\x89\\xe9\\x99\\x90\\xe5\\x85\\xac\\xe5\\x8f\\xb8\\xe3\\x80\\x80\\xe6\\xa0\\xb8\\xe5\\xbf\\x83\\xe4\\xb8\\x9a\\xe5\\x8a\\xa1\\xe7\\xb3\\xbb\\xe7\\xbb\\x9f\\xef\\xbc\\x882010\\xe5\\xb9\\xb4\\xe7\\x89\\x88\\xef\\xbc\\x89</title>\\r \\r\\n\\n <OBJECT id=tpmac  classid=\"clsid:037334CA-2BB3-4545-9461-4DBFD8A6AFE8\" codebase=\"tpmacinfo.cab\" width=0 height=0>\\r\\n</OBJECT>\\r\\n<script type=\"text/javascript\" src=\"js/jquery.js\"></script>\\r\\n<script type=\"text/javascript\" src=\"js/MD5.js\"></script>\\r\\n\\r\\n<link href=\"css/css.css\" rel=\"stylesheet\" type=\"text/css\" />\\r\\n\\r\\n\\t    <!--[if gte IE 6]><style type=\"text/css\" media=\"screen\">@import \\'css/ie_cas.css\\';</style><![endif]-->\\r\\n\\t    <script type=\"text/javascript\" src=\"js/common_rosters.js\"></script>\\r\\n\\r\\n</head>\\n<body id=\"cas\" onload=\"init();getMacNo();outSubmitForm();\">\\r\\n<form id=\"fm1\" class=\"fm-v clearfix\" action=\"/casserver/login;jsessionid=11dTKu3_iqi5AuNzTOoELVEUj58-4oWjjpQU1uMO5dvnDFTcwX5S!-496316518!886688251?service=https%3A%2F%2Fcar.tpi.cntaiping.com%3A8002%2Fj_acegi_security_check%3BchinainsuranceSimpleJSESSIONID%3DgqMkY19PfvJ97RphCy11fD173tGRhvcvyhMPW4ZJCKQNxLJb7mmK%21482419685\" method=\"post\" onsubmit=\"checkUserCode();\">\\t<input type=\"hidden\" id=\"macNo\" name=\"macNo\"/>\\n \\r\\n\\t  <table width=\"992\" border=\"0\" align=\"center\" cellpadding=\"0\" cellspacing=\"0\">\\r\\n  <tr>\\r\\n    <td class=\"help\"><a href=\"#\">\\xe5\\xb8\\xae\\xe5\\x8a\\xa9</a></td>\\r\\n  </tr>\\r\\n  <tr>\\r\\n    <td class=\"logon\"><table width=\"535\" border=\"0\" style=\"margin-left:276px;\" cellpadding=\"0\" cellspacing=\"0\">\\r\\n      <tr>\\r\\n        <td width=\"230\">\\r\\n        \\t        \\r\\n\\t\\t\\t\\t\\t\\t\\r\\n\\t\\t\\t\\t\\t\\t\\r\\n\\t\\t\\t\\t\\t\\t\\t\\r\\n\\t\\t\\t\\t\\t\\t\\t<input id=\"username\" name=\"username\" class=\"logon\" tabindex=\"1\" accesskey=\"n\" type=\"text\" value=\"\" size=\"25\" maxlength=\"10\" autocomplete=\"false\"/>\\r\\n\\t\\t\\t\\t\\t\\t\\t\\r\\n        \\t\\t\\t\\t\\t<!--input type=\"text\" class=\"logon\" name=\"textfield\" /-->\\n\\r\\n        </td>\\r\\n        <td width=\"200\">\\r\\n        \\t\\t\\t\\t\\r\\n\\t\\t\\t\\t\\t\\t      \\r\\n\\t\\t\\t\\t\\t\\t<input type=\"password\" id=\"password1\" class=\"logon\" name=\"password1\" >\\r\\n\\t\\t\\t\\t\\t\\t<div style=\"display: none;\">\\r\\n\\t\\t\\t\\t\\t\\t      <input id=\"password\" name=\"password\" class=\"logon\" tabindex=\"2\" accesskey=\"p\" type=\"password\" value=\"\" size=\"27\" autocomplete=\"off\"/>\\t\\r\\n\\t\\t\\t\\t\\t   </div>\\r\\n\\r\\n        </td>\\r\\n        <td width=\"105\">\\r\\n        \\t<input type=\"image\" name=\"imageField\" src=\"images/btnlogon.gif\" />\\r\\n      <div style=\"display:none\">\\r\\n\\t\\t\\t<input class=\"button\" name=\"bt_submit\" accesskey=\"l\" value=\"\\xe7\\x99\\xbb\\xe5\\xbd\\x95\" tabindex=\"4\" type=\"submit\" />\\r\\n\\t\\t\\t</div>\\r\\n        </td>\\r\\n      </tr>\\r \\r\\n      \\r\\n      </table> \\n    </td>\\r\\n  </tr>\\r\\n  <tr>\\r\\n    <td class=\"messages\"><table width=\"600\" height=\"200\" border=\"0\" align=\"center\" cellpadding=\"0\" cellspacing=\"0\">\\r\\n      <tr>\\r\\n        <td class=\"gongneng\">\\xe6\\x96\\xb0\\xe5\\xa2\\x9e\\xe5\\x8a\\x9f\\xe8\\x83\\xbd\\xef\\xbc\\x9a</td>\\r\\n      </tr>\\r\\n      <tr>\\r\\n        <td>\\r \\r\\n        \\t \\r\\n\\n\\t\\t<!-- IFRAME name=frainner src=\"neirong.html\" height=100% width=100% allowTransparency=\"true\" > </IFRAME --> \\n    \\t\\t\\t<IFRAME name=frainner src=\"NewFunction.jsp\" height=100% width=100% allowTransparency=\"true\"> </IFRAME>\\n\\r\\n\\t</td>\\r\\n      </tr>\\r\\n    </table></td>\\r\\n  </tr>\\r\\n</table>\\r\\n\\t<input type=\"hidden\" name=\"lt\" value=\"_cA42B3BE9-E592-ACAC-9250-F205959F0D58_kBDA43094-5320-A17C-7F6D-C103AF5FA42E\" />\\r\\n\\t<input type=\"hidden\" name=\"_eventId\" value=\"submit\" />\\r\\n\\r\\n</form>\\r\\n\\r\\n</body>\\r\\n<script language=\"javascript\">\\r\\n\\tfunction checkUserCode() {\\r\\n\\t\\tvar password = hex_md5(fm1.password1.value);\\r\\n        fm1.password.value = password;\\r\\n\\t\\t\\r\\n\\t\\tvar url = \"/casserver/pswRemind?userCode=\" + fm1.username.value;\\r\\n\\t\\t$.post(url, function(data){\\r\\n\\t\\t\\tif(data != null && data != \"\") {\\r\\n\\t\\t\\t\\tif(data <= 0) {\\r\\n\\t\\t\\t\\t\\talert(\"\\xe8\\xaf\\xa5\\xe7\\x94\\xa8\\xe6\\x88\\xb7\\xe5\\xaf\\x86\\xe7\\xa0\\x81\\xe5\\xb7\\xb2\\xe8\\xbf\\x87\\xe6\\x9c\\x9f\\xef\\xbc\\x8c\\xe8\\xaf\\xb7\\xe5\\x8f\\x8a\\xe6\\x97\\xb6\\xe4\\xbf\\xae\\xe6\\x94\\xb9\\xe5\\xaf\\x86\\xe7\\xa0\\x81\\xef\\xbc\\x81\");\\r\\n\\t\\t\\t\\t} else {\\r\\n\\t\\t\\t   \\t\\talert(\"\\xe8\\xaf\\xa5\\xe7\\x94\\xa8\\xe6\\x88\\xb7\\xe5\\xaf\\x86\\xe7\\xa0\\x81\\xe8\\xbf\\x98\\xe6\\x9c\\x89\" + data + \"\\xe5\\xa4\\xa9\\xe8\\xbf\\x87\\xe6\\x9c\\x9f\\xef\\xbc\\x8c\\xe8\\xaf\\xb7\\xe5\\x8f\\x8a\\xe6\\x97\\xb6\\xe4\\xbf\\xae\\xe6\\x94\\xb9\\xe5\\xaf\\x86\\xe7\\xa0\\x81\\xef\\xbc\\x81\");\\r\\n\\t\\t\\t\\t}\\r\\n\\t\\t\\t}\\r\\n\\t\\t});\\r\\n\\t}\\r\\n\\tfunction submitForm(){\\r\\n\\t\\ttry{\\r\\n\\t\\t\\tdocument.getElementById(\"fm1\").submit();\\r\\n\\t\\t}catch(e){}\\r\\n\\t}\\r \\r\\n\\tfunction getMacNo(){\\r\\n\\t    try{\\t\\r\\n\\t\\t//document.getElementById(\"macNo\").value=MACSVR.MAC;\\r\\n\\t\\tdocument.getElementById(\"macNo\").value=tpmac.getlocalallmac();\\r\\n            }catch(e){}\\r\\n\\t}\\r\\n\\t\\r\\n\\tfunction outSubmitForm(){\\r\\n\\t\\r\\n\\t\\tmyOutSubmitForm();\\r\\n\\t\\r\\n\\t\\t\\r\\n\\t}\\r\\n\\tfunction myOutSubmitForm(){\\r\\n\\t\\t\\r\\n\\t}\\r\\n\\t\\r\\n</script>\\t\\r\\n</html>\\r\\n'"
      ]
     },
     "execution_count": 80,
     "metadata": {},
     "output_type": "execute_result"
    }
   ],
   "source": [
    "# 自动获取cookie \n",
    "import requests\n",
    "import json\n",
    "taiping_account = [\n",
    "    {'username': '802437', 'password1': 'Bj123456'},\n",
    "]\n",
    "\n",
    "def getCookie(account):\n",
    "    ''' 获取Cookies '''\n",
    "    cookies = []\n",
    "    loginURL = r'https://car.tpi.cntaiping.com:8001/casserver/login?service=https%3A%2F%2Fcar.tpi.cntaiping.com%3A8002%2Fj_acegi_security_check%3BchinainsuranceSimpleJSESSIONID%3DgqMkY19PfvJ97RphCy11fD173tGRhvcvyhMPW4ZJCKQNxLJb7mmK%21482419685'\n",
    "    for elem in account:\n",
    "        username = elem['username']\n",
    "        password1 = elem['password1']\n",
    "        postData = {\n",
    "            'mimeType':'application/x-www-form-urlencoded',\n",
    "            'text':'macNo=&username=802437&password1=Bj123456&password=b1cdbc582af18be6a12788b5d5e098ff&imageField.x=14&imageField.y=14&lt=_c6FD1BACE-35A1-7FE4-5120-BD536F2CDBDB_kAE307C83-1EED-BBF7-3A8C-58D6DA7FC733&_eventId=submit',\n",
    "            'username':username,\n",
    "            'password1':password1\n",
    "        }\n",
    "        session = requests.Session()\n",
    "        r = session.post(loginURL, data=postData, verify=False)\n",
    "#         info = json.loads(r.content)\n",
    "        return r.content\n",
    "# 不运行\n",
    "getCookie(taiping_account)\n",
    "        "
   ]
  },
  {
   "cell_type": "code",
   "execution_count": 50,
   "metadata": {
    "collapsed": false,
    "scrolled": true
   },
   "outputs": [
    {
     "data": {
      "text/plain": [
       "u' \\r\\n \\r\\n\\r\\n<html>\\r\\n<head>\\r\\n<title>\\u8f66\\u9669\\u627f\\u4fdd\\u4e1a\\u52a1\\u7cfb\\u7edf</title> \\r\\n<script type=\"text/javascript\">\\r\\nfunction doClose(){\\r\\n\\tif (event.clientX > document.body.clientWidth - 50 && event.clientY < 0 || event.altKey)\\r\\n\\t{\\r\\n\\t\\tevent.returnValue = \"Sure exit core insurance system?\";\\r\\n\\t\\twindow.attachEvent(\"onunload\", doLogout);\\r\\n\\t}else{\\r\\n\\t\\twindow.detachEvent(\"onunload\", doLogout);\\r\\n\\t}\\r\\n}\\r\\nfunction doLogout(){\\r\\n}\\r\\nwindow.attachEvent(\"onbeforeunload\", doClose);\\r\\n</script>\\r\\n</head>\\r\\n<frameset rows=\"79,*,0\" cols=\"*\" frameborder=\"NO\" border=\"0\" framespacing=\"0\">\\r\\n  <frame src=\"/prpall/processSimpleProposal.do?actionType=title\" name=\"topFrame\"\\r\\n    scrolling=\"NO\" noresize>\\r\\n  <frameset cols=\"190,*\" frameborder=\"yes\" border=\"1\" framespacing=\"3\" name=\"fraMenuReport\">\\r\\n  \\t<frame src=\"/common/Menu.jsp\" name=\"leftFrame\" scrolling=\"yes\">\\r\\n  \\t<frame src=\"/prpall/processSimpleProposal.do?actionType=welcome\" name=\"mainFrame\" scrolling=\"yes\"> \\r\\n  </frameset>\\r\\n  <frame src=\"/common/Blank.html\" name=\"submitFrame\" scrolling=\"yes\">\\r\\n</frameset>\\r\\n<noframes>\\r\\n<body>\\r\\n</body>\\r\\n</noframes>\\r\\n</html>\\r\\n'"
      ]
     },
     "execution_count": 50,
     "metadata": {},
     "output_type": "execute_result"
    }
   ],
   "source": [
    "# 根据cookie去post\n",
    "import requests\n",
    "# import sys\n",
    "# reload(sys)\n",
    "# sys.setdefaultencoding('utf-8')\n",
    "# loginURL = r'https://car.tpi.cntaiping.com:8001/casserver/login?service=https%3A%2F%2Fcar.tpi.cntaiping.com%3A8002%2Fj_acegi_security_check%3BchinainsuranceSimpleJSESSIONID%3DgqMkY19PfvJ97RphCy11fD173tGRhvcvyhMPW4ZJCKQNxLJb7mmK%21482419685'\n",
    "# loginURL = r'https://car.tpi.cntaiping.com:8001/casserver/login?service=https%3A%2F%2Fcar.tpi.cntaiping.com%3A8002%2Fj_acegi_security_check%3BchinainsuranceSimpleJSESSIONID%3DgqMkY19PfvJ97RphCy11fD173tGRhvcvyhMPW4ZJCKQNxLJb7mmK%21482419685'\n",
    "loginURL = r'https://car.tpi.cntaiping.com:8002/index.jsp'\n",
    "headers = {'user-agent': 'Mozilla/5.0 (Windows NT 6.1; WOW64) AppleWebKit/537.36 (KHTML, like Gecko) Chrome/57.0.2987.133 Safari/537.36'}\n",
    "# params = {'username': '802437', \n",
    "#            'password1': 'Bj123456', \n",
    "#            'password': 'b1cdbc582af18be6a12788b5d5e098ff',\n",
    "#            'lt': '_c6FD1BACE-35A1-7FE4-5120-BD536F2CDBDB_kAE307C83-1EED-BBF7-3A8C-58D6DA7FC733',\n",
    "#            '_eventId': 'submit'\n",
    "#           }\n",
    "params = {\n",
    "    \"mimeType\": \"application/x-www-form-urlencoded\",\n",
    "    \"text\": \"macNo=&username=802437&password1=Bj123456&password=b1cdbc582af18be6a12788b5d5e098ff&imageField.x=14&imageField.y=14&lt=_c6FD1BACE-35A1-7FE4-5120-BD536F2CDBDB_kAE307C83-1EED-BBF7-3A8C-58D6DA7FC733&_eventId=submit\",\n",
    "    \"username\": \"802437\",\n",
    "    \"password1\": \"Bj123456\",\n",
    "    \"password\": \"b1cdbc582af18be6a12788b5d5e098ff\",\n",
    "          }\n",
    "\n",
    "cookie ={\"Cookie\":\"Hm_lvt_f7aa396f88259db43263ef6ad17c0090=1474163267,1474163302; Hm_lpvt_f7aa396f88259db43263ef6ad17c0090=1474163302; _ga=GA1.2.387567557.1474163267; chinainsuranceJSESSIONID=WSP2XfzRW4bbGspk78fxJ6kL9n4q172clJQJsvKkGSS216GNdvYG!-1235294532; chinainsuranceVisaJSESSIONID=DqC9YpNRFsTtJszt1htn2rCvHSzQQzznXXZMk13Qx27z3T2HdSRg!555065420; chinainsuranceSimpleJSESSIONID=kbSGYqzW4JRV6gzHGv2mt2wJ2jkHypTGq8n11fgyNn3kXnLYhkpv!-54309582; JSESSIONID=cbNS2HmbB_dam6beoVG2nNY5aU2x4lqqqbVzt1RwtfAdAnNjpRUe!-496316518!886688251\"}\n",
    "# r = requests.post(loginURL, verify=False, params=payload)\n",
    "# r = requests.get(loginURL, verify=False)\n",
    "# s = requests.Session()\n",
    "# s.mount('https://car.tpi.cntaiping.com', requests.adapters.BaseAdapter())\n",
    "# r = s.post(loginURL, verify=False, data=params, headers=headers)\n",
    "r = requests.get(loginURL, cookies=cookie, verify=False)\n",
    "r.status_code\n",
    "# r.encoding = ''\n",
    "# html_doc=str(r.content)\n",
    "# html_doc\n",
    "# r.content\n",
    "print 0\n",
    "a = r.text\n",
    "print a\n",
    "def convert(s):\n",
    "    try:\n",
    "        return s.group(0).encode('latin1').decode('utf8')\n",
    "    except:\n",
    "        return s.group(0)\n",
    "\n",
    "import re\n",
    "a = re.sub(r'[\\x80-\\xFF]+', convert, a)\n",
    "# print a.encode('utf8')\n",
    "a\n"
   ]
  },
  {
   "cell_type": "code",
   "execution_count": 52,
   "metadata": {
    "collapsed": false
   },
   "outputs": [
    {
     "ename": "IOError",
     "evalue": "[Errno socket error] [SSL: CERTIFICATE_VERIFY_FAILED] certificate verify failed (_ssl.c:590)",
     "output_type": "error",
     "traceback": [
      "\u001b[0;31m---------------------------------------------------------------------------\u001b[0m",
      "\u001b[0;31mIOError\u001b[0m                                   Traceback (most recent call last)",
      "\u001b[0;32m<ipython-input-52-272f8509fbbf>\u001b[0m in \u001b[0;36m<module>\u001b[0;34m()\u001b[0m\n\u001b[1;32m     17\u001b[0m \u001b[1;33m\u001b[0m\u001b[0m\n\u001b[1;32m     18\u001b[0m \u001b[0mcookie\u001b[0m \u001b[1;33m=\u001b[0m\u001b[1;33m{\u001b[0m\u001b[1;34m\"Cookie\"\u001b[0m\u001b[1;33m:\u001b[0m\u001b[1;34m\"Hm_lvt_f7aa396f88259db43263ef6ad17c0090=1474163267,1474163302; Hm_lpvt_f7aa396f88259db43263ef6ad17c0090=1474163302; _ga=GA1.2.387567557.1474163267; chinainsuranceJSESSIONID=WSP2XfzRW4bbGspk78fxJ6kL9n4q172clJQJsvKkGSS216GNdvYG!-1235294532; chinainsuranceVisaJSESSIONID=DqC9YpNRFsTtJszt1htn2rCvHSzQQzznXXZMk13Qx27z3T2HdSRg!555065420; chinainsuranceSimpleJSESSIONID=kbSGYqzW4JRV6gzHGv2mt2wJ2jkHypTGq8n11fgyNn3kXnLYhkpv!-54309582; JSESSIONID=cbNS2HmbB_dam6beoVG2nNY5aU2x4lqqqbVzt1RwtfAdAnNjpRUe!-496316518!886688251\"\u001b[0m\u001b[1;33m}\u001b[0m\u001b[1;33m\u001b[0m\u001b[0m\n\u001b[0;32m---> 19\u001b[0;31m \u001b[1;32mwith\u001b[0m \u001b[0murllib\u001b[0m\u001b[1;33m.\u001b[0m\u001b[0murlopen\u001b[0m\u001b[1;33m(\u001b[0m\u001b[0mloginURL\u001b[0m\u001b[1;33m)\u001b[0m \u001b[1;32mas\u001b[0m \u001b[0mf\u001b[0m\u001b[1;33m:\u001b[0m\u001b[1;33m\u001b[0m\u001b[0m\n\u001b[0m\u001b[1;32m     20\u001b[0m     \u001b[1;32mprint\u001b[0m \u001b[0mf\u001b[0m\u001b[1;33m.\u001b[0m\u001b[0mread\u001b[0m\u001b[1;33m(\u001b[0m\u001b[1;36m300\u001b[0m\u001b[1;33m)\u001b[0m\u001b[1;33m\u001b[0m\u001b[0m\n",
      "\u001b[0;32mc:\\python27\\lib\\urllib.pyc\u001b[0m in \u001b[0;36murlopen\u001b[0;34m(url, data, proxies, context)\u001b[0m\n\u001b[1;32m     85\u001b[0m         \u001b[0mopener\u001b[0m \u001b[1;33m=\u001b[0m \u001b[0m_urlopener\u001b[0m\u001b[1;33m\u001b[0m\u001b[0m\n\u001b[1;32m     86\u001b[0m     \u001b[1;32mif\u001b[0m \u001b[0mdata\u001b[0m \u001b[1;32mis\u001b[0m \u001b[0mNone\u001b[0m\u001b[1;33m:\u001b[0m\u001b[1;33m\u001b[0m\u001b[0m\n\u001b[0;32m---> 87\u001b[0;31m         \u001b[1;32mreturn\u001b[0m \u001b[0mopener\u001b[0m\u001b[1;33m.\u001b[0m\u001b[0mopen\u001b[0m\u001b[1;33m(\u001b[0m\u001b[0murl\u001b[0m\u001b[1;33m)\u001b[0m\u001b[1;33m\u001b[0m\u001b[0m\n\u001b[0m\u001b[1;32m     88\u001b[0m     \u001b[1;32melse\u001b[0m\u001b[1;33m:\u001b[0m\u001b[1;33m\u001b[0m\u001b[0m\n\u001b[1;32m     89\u001b[0m         \u001b[1;32mreturn\u001b[0m \u001b[0mopener\u001b[0m\u001b[1;33m.\u001b[0m\u001b[0mopen\u001b[0m\u001b[1;33m(\u001b[0m\u001b[0murl\u001b[0m\u001b[1;33m,\u001b[0m \u001b[0mdata\u001b[0m\u001b[1;33m)\u001b[0m\u001b[1;33m\u001b[0m\u001b[0m\n",
      "\u001b[0;32mc:\\python27\\lib\\urllib.pyc\u001b[0m in \u001b[0;36mopen\u001b[0;34m(self, fullurl, data)\u001b[0m\n\u001b[1;32m    211\u001b[0m         \u001b[1;32mtry\u001b[0m\u001b[1;33m:\u001b[0m\u001b[1;33m\u001b[0m\u001b[0m\n\u001b[1;32m    212\u001b[0m             \u001b[1;32mif\u001b[0m \u001b[0mdata\u001b[0m \u001b[1;32mis\u001b[0m \u001b[0mNone\u001b[0m\u001b[1;33m:\u001b[0m\u001b[1;33m\u001b[0m\u001b[0m\n\u001b[0;32m--> 213\u001b[0;31m                 \u001b[1;32mreturn\u001b[0m \u001b[0mgetattr\u001b[0m\u001b[1;33m(\u001b[0m\u001b[0mself\u001b[0m\u001b[1;33m,\u001b[0m \u001b[0mname\u001b[0m\u001b[1;33m)\u001b[0m\u001b[1;33m(\u001b[0m\u001b[0murl\u001b[0m\u001b[1;33m)\u001b[0m\u001b[1;33m\u001b[0m\u001b[0m\n\u001b[0m\u001b[1;32m    214\u001b[0m             \u001b[1;32melse\u001b[0m\u001b[1;33m:\u001b[0m\u001b[1;33m\u001b[0m\u001b[0m\n\u001b[1;32m    215\u001b[0m                 \u001b[1;32mreturn\u001b[0m \u001b[0mgetattr\u001b[0m\u001b[1;33m(\u001b[0m\u001b[0mself\u001b[0m\u001b[1;33m,\u001b[0m \u001b[0mname\u001b[0m\u001b[1;33m)\u001b[0m\u001b[1;33m(\u001b[0m\u001b[0murl\u001b[0m\u001b[1;33m,\u001b[0m \u001b[0mdata\u001b[0m\u001b[1;33m)\u001b[0m\u001b[1;33m\u001b[0m\u001b[0m\n",
      "\u001b[0;32mc:\\python27\\lib\\urllib.pyc\u001b[0m in \u001b[0;36mopen_https\u001b[0;34m(self, url, data)\u001b[0m\n\u001b[1;32m    441\u001b[0m             \u001b[1;32mif\u001b[0m \u001b[0mrealhost\u001b[0m\u001b[1;33m:\u001b[0m \u001b[0mh\u001b[0m\u001b[1;33m.\u001b[0m\u001b[0mputheader\u001b[0m\u001b[1;33m(\u001b[0m\u001b[1;34m'Host'\u001b[0m\u001b[1;33m,\u001b[0m \u001b[0mrealhost\u001b[0m\u001b[1;33m)\u001b[0m\u001b[1;33m\u001b[0m\u001b[0m\n\u001b[1;32m    442\u001b[0m             \u001b[1;32mfor\u001b[0m \u001b[0margs\u001b[0m \u001b[1;32min\u001b[0m \u001b[0mself\u001b[0m\u001b[1;33m.\u001b[0m\u001b[0maddheaders\u001b[0m\u001b[1;33m:\u001b[0m \u001b[0mh\u001b[0m\u001b[1;33m.\u001b[0m\u001b[0mputheader\u001b[0m\u001b[1;33m(\u001b[0m\u001b[1;33m*\u001b[0m\u001b[0margs\u001b[0m\u001b[1;33m)\u001b[0m\u001b[1;33m\u001b[0m\u001b[0m\n\u001b[0;32m--> 443\u001b[0;31m             \u001b[0mh\u001b[0m\u001b[1;33m.\u001b[0m\u001b[0mendheaders\u001b[0m\u001b[1;33m(\u001b[0m\u001b[0mdata\u001b[0m\u001b[1;33m)\u001b[0m\u001b[1;33m\u001b[0m\u001b[0m\n\u001b[0m\u001b[1;32m    444\u001b[0m             \u001b[0merrcode\u001b[0m\u001b[1;33m,\u001b[0m \u001b[0merrmsg\u001b[0m\u001b[1;33m,\u001b[0m \u001b[0mheaders\u001b[0m \u001b[1;33m=\u001b[0m \u001b[0mh\u001b[0m\u001b[1;33m.\u001b[0m\u001b[0mgetreply\u001b[0m\u001b[1;33m(\u001b[0m\u001b[1;33m)\u001b[0m\u001b[1;33m\u001b[0m\u001b[0m\n\u001b[1;32m    445\u001b[0m             \u001b[0mfp\u001b[0m \u001b[1;33m=\u001b[0m \u001b[0mh\u001b[0m\u001b[1;33m.\u001b[0m\u001b[0mgetfile\u001b[0m\u001b[1;33m(\u001b[0m\u001b[1;33m)\u001b[0m\u001b[1;33m\u001b[0m\u001b[0m\n",
      "\u001b[0;32mc:\\python27\\lib\\httplib.pyc\u001b[0m in \u001b[0;36mendheaders\u001b[0;34m(self, message_body)\u001b[0m\n\u001b[1;32m   1051\u001b[0m         \u001b[1;32melse\u001b[0m\u001b[1;33m:\u001b[0m\u001b[1;33m\u001b[0m\u001b[0m\n\u001b[1;32m   1052\u001b[0m             \u001b[1;32mraise\u001b[0m \u001b[0mCannotSendHeader\u001b[0m\u001b[1;33m(\u001b[0m\u001b[1;33m)\u001b[0m\u001b[1;33m\u001b[0m\u001b[0m\n\u001b[0;32m-> 1053\u001b[0;31m         \u001b[0mself\u001b[0m\u001b[1;33m.\u001b[0m\u001b[0m_send_output\u001b[0m\u001b[1;33m(\u001b[0m\u001b[0mmessage_body\u001b[0m\u001b[1;33m)\u001b[0m\u001b[1;33m\u001b[0m\u001b[0m\n\u001b[0m\u001b[1;32m   1054\u001b[0m \u001b[1;33m\u001b[0m\u001b[0m\n\u001b[1;32m   1055\u001b[0m     \u001b[1;32mdef\u001b[0m \u001b[0mrequest\u001b[0m\u001b[1;33m(\u001b[0m\u001b[0mself\u001b[0m\u001b[1;33m,\u001b[0m \u001b[0mmethod\u001b[0m\u001b[1;33m,\u001b[0m \u001b[0murl\u001b[0m\u001b[1;33m,\u001b[0m \u001b[0mbody\u001b[0m\u001b[1;33m=\u001b[0m\u001b[0mNone\u001b[0m\u001b[1;33m,\u001b[0m \u001b[0mheaders\u001b[0m\u001b[1;33m=\u001b[0m\u001b[1;33m{\u001b[0m\u001b[1;33m}\u001b[0m\u001b[1;33m)\u001b[0m\u001b[1;33m:\u001b[0m\u001b[1;33m\u001b[0m\u001b[0m\n",
      "\u001b[0;32mc:\\python27\\lib\\httplib.pyc\u001b[0m in \u001b[0;36m_send_output\u001b[0;34m(self, message_body)\u001b[0m\n\u001b[1;32m    895\u001b[0m             \u001b[0mmsg\u001b[0m \u001b[1;33m+=\u001b[0m \u001b[0mmessage_body\u001b[0m\u001b[1;33m\u001b[0m\u001b[0m\n\u001b[1;32m    896\u001b[0m             \u001b[0mmessage_body\u001b[0m \u001b[1;33m=\u001b[0m \u001b[0mNone\u001b[0m\u001b[1;33m\u001b[0m\u001b[0m\n\u001b[0;32m--> 897\u001b[0;31m         \u001b[0mself\u001b[0m\u001b[1;33m.\u001b[0m\u001b[0msend\u001b[0m\u001b[1;33m(\u001b[0m\u001b[0mmsg\u001b[0m\u001b[1;33m)\u001b[0m\u001b[1;33m\u001b[0m\u001b[0m\n\u001b[0m\u001b[1;32m    898\u001b[0m         \u001b[1;32mif\u001b[0m \u001b[0mmessage_body\u001b[0m \u001b[1;32mis\u001b[0m \u001b[1;32mnot\u001b[0m \u001b[0mNone\u001b[0m\u001b[1;33m:\u001b[0m\u001b[1;33m\u001b[0m\u001b[0m\n\u001b[1;32m    899\u001b[0m             \u001b[1;31m#message_body was not a string (i.e. it is a file) and\u001b[0m\u001b[1;33m\u001b[0m\u001b[1;33m\u001b[0m\u001b[0m\n",
      "\u001b[0;32mc:\\python27\\lib\\httplib.pyc\u001b[0m in \u001b[0;36msend\u001b[0;34m(self, data)\u001b[0m\n\u001b[1;32m    857\u001b[0m         \u001b[1;32mif\u001b[0m \u001b[0mself\u001b[0m\u001b[1;33m.\u001b[0m\u001b[0msock\u001b[0m \u001b[1;32mis\u001b[0m \u001b[0mNone\u001b[0m\u001b[1;33m:\u001b[0m\u001b[1;33m\u001b[0m\u001b[0m\n\u001b[1;32m    858\u001b[0m             \u001b[1;32mif\u001b[0m \u001b[0mself\u001b[0m\u001b[1;33m.\u001b[0m\u001b[0mauto_open\u001b[0m\u001b[1;33m:\u001b[0m\u001b[1;33m\u001b[0m\u001b[0m\n\u001b[0;32m--> 859\u001b[0;31m                 \u001b[0mself\u001b[0m\u001b[1;33m.\u001b[0m\u001b[0mconnect\u001b[0m\u001b[1;33m(\u001b[0m\u001b[1;33m)\u001b[0m\u001b[1;33m\u001b[0m\u001b[0m\n\u001b[0m\u001b[1;32m    860\u001b[0m             \u001b[1;32melse\u001b[0m\u001b[1;33m:\u001b[0m\u001b[1;33m\u001b[0m\u001b[0m\n\u001b[1;32m    861\u001b[0m                 \u001b[1;32mraise\u001b[0m \u001b[0mNotConnected\u001b[0m\u001b[1;33m(\u001b[0m\u001b[1;33m)\u001b[0m\u001b[1;33m\u001b[0m\u001b[0m\n",
      "\u001b[0;32mc:\\python27\\lib\\httplib.pyc\u001b[0m in \u001b[0;36mconnect\u001b[0;34m(self)\u001b[0m\n\u001b[1;32m   1276\u001b[0m \u001b[1;33m\u001b[0m\u001b[0m\n\u001b[1;32m   1277\u001b[0m             self.sock = self._context.wrap_socket(self.sock,\n\u001b[0;32m-> 1278\u001b[0;31m                                                   server_hostname=server_hostname)\n\u001b[0m\u001b[1;32m   1279\u001b[0m \u001b[1;33m\u001b[0m\u001b[0m\n\u001b[1;32m   1280\u001b[0m     \u001b[0m__all__\u001b[0m\u001b[1;33m.\u001b[0m\u001b[0mappend\u001b[0m\u001b[1;33m(\u001b[0m\u001b[1;34m\"HTTPSConnection\"\u001b[0m\u001b[1;33m)\u001b[0m\u001b[1;33m\u001b[0m\u001b[0m\n",
      "\u001b[0;32mc:\\python27\\lib\\ssl.pyc\u001b[0m in \u001b[0;36mwrap_socket\u001b[0;34m(self, sock, server_side, do_handshake_on_connect, suppress_ragged_eofs, server_hostname)\u001b[0m\n\u001b[1;32m    351\u001b[0m                          \u001b[0msuppress_ragged_eofs\u001b[0m\u001b[1;33m=\u001b[0m\u001b[0msuppress_ragged_eofs\u001b[0m\u001b[1;33m,\u001b[0m\u001b[1;33m\u001b[0m\u001b[0m\n\u001b[1;32m    352\u001b[0m                          \u001b[0mserver_hostname\u001b[0m\u001b[1;33m=\u001b[0m\u001b[0mserver_hostname\u001b[0m\u001b[1;33m,\u001b[0m\u001b[1;33m\u001b[0m\u001b[0m\n\u001b[0;32m--> 353\u001b[0;31m                          _context=self)\n\u001b[0m\u001b[1;32m    354\u001b[0m \u001b[1;33m\u001b[0m\u001b[0m\n\u001b[1;32m    355\u001b[0m     \u001b[1;32mdef\u001b[0m \u001b[0mset_npn_protocols\u001b[0m\u001b[1;33m(\u001b[0m\u001b[0mself\u001b[0m\u001b[1;33m,\u001b[0m \u001b[0mnpn_protocols\u001b[0m\u001b[1;33m)\u001b[0m\u001b[1;33m:\u001b[0m\u001b[1;33m\u001b[0m\u001b[0m\n",
      "\u001b[0;32mc:\\python27\\lib\\ssl.pyc\u001b[0m in \u001b[0;36m__init__\u001b[0;34m(self, sock, keyfile, certfile, server_side, cert_reqs, ssl_version, ca_certs, do_handshake_on_connect, family, type, proto, fileno, suppress_ragged_eofs, npn_protocols, ciphers, server_hostname, _context)\u001b[0m\n\u001b[1;32m    599\u001b[0m                         \u001b[1;31m# non-blocking\u001b[0m\u001b[1;33m\u001b[0m\u001b[1;33m\u001b[0m\u001b[0m\n\u001b[1;32m    600\u001b[0m                         \u001b[1;32mraise\u001b[0m \u001b[0mValueError\u001b[0m\u001b[1;33m(\u001b[0m\u001b[1;34m\"do_handshake_on_connect should not be specified for non-blocking sockets\"\u001b[0m\u001b[1;33m)\u001b[0m\u001b[1;33m\u001b[0m\u001b[0m\n\u001b[0;32m--> 601\u001b[0;31m                     \u001b[0mself\u001b[0m\u001b[1;33m.\u001b[0m\u001b[0mdo_handshake\u001b[0m\u001b[1;33m(\u001b[0m\u001b[1;33m)\u001b[0m\u001b[1;33m\u001b[0m\u001b[0m\n\u001b[0m\u001b[1;32m    602\u001b[0m \u001b[1;33m\u001b[0m\u001b[0m\n\u001b[1;32m    603\u001b[0m             \u001b[1;32mexcept\u001b[0m \u001b[1;33m(\u001b[0m\u001b[0mOSError\u001b[0m\u001b[1;33m,\u001b[0m \u001b[0mValueError\u001b[0m\u001b[1;33m)\u001b[0m\u001b[1;33m:\u001b[0m\u001b[1;33m\u001b[0m\u001b[0m\n",
      "\u001b[0;32mc:\\python27\\lib\\ssl.pyc\u001b[0m in \u001b[0;36mdo_handshake\u001b[0;34m(self, block)\u001b[0m\n\u001b[1;32m    828\u001b[0m             \u001b[1;32mif\u001b[0m \u001b[0mtimeout\u001b[0m \u001b[1;33m==\u001b[0m \u001b[1;36m0.0\u001b[0m \u001b[1;32mand\u001b[0m \u001b[0mblock\u001b[0m\u001b[1;33m:\u001b[0m\u001b[1;33m\u001b[0m\u001b[0m\n\u001b[1;32m    829\u001b[0m                 \u001b[0mself\u001b[0m\u001b[1;33m.\u001b[0m\u001b[0msettimeout\u001b[0m\u001b[1;33m(\u001b[0m\u001b[0mNone\u001b[0m\u001b[1;33m)\u001b[0m\u001b[1;33m\u001b[0m\u001b[0m\n\u001b[0;32m--> 830\u001b[0;31m             \u001b[0mself\u001b[0m\u001b[1;33m.\u001b[0m\u001b[0m_sslobj\u001b[0m\u001b[1;33m.\u001b[0m\u001b[0mdo_handshake\u001b[0m\u001b[1;33m(\u001b[0m\u001b[1;33m)\u001b[0m\u001b[1;33m\u001b[0m\u001b[0m\n\u001b[0m\u001b[1;32m    831\u001b[0m         \u001b[1;32mfinally\u001b[0m\u001b[1;33m:\u001b[0m\u001b[1;33m\u001b[0m\u001b[0m\n\u001b[1;32m    832\u001b[0m             \u001b[0mself\u001b[0m\u001b[1;33m.\u001b[0m\u001b[0msettimeout\u001b[0m\u001b[1;33m(\u001b[0m\u001b[0mtimeout\u001b[0m\u001b[1;33m)\u001b[0m\u001b[1;33m\u001b[0m\u001b[0m\n",
      "\u001b[0;31mIOError\u001b[0m: [Errno socket error] [SSL: CERTIFICATE_VERIFY_FAILED] certificate verify failed (_ssl.c:590)"
     ]
    }
   ],
   "source": [
    "import urllib\n",
    "loginURL = r'https://car.tpi.cntaiping.com:8002/index.jsp'\n",
    "headers = {'user-agent': 'Mozilla/5.0 (Windows NT 6.1; WOW64) AppleWebKit/537.36 (KHTML, like Gecko) Chrome/57.0.2987.133 Safari/537.36'}\n",
    "# params = {'username': '802437', \n",
    "#            'password1': 'Bj123456', \n",
    "#            'password': 'b1cdbc582af18be6a12788b5d5e098ff',\n",
    "#            'lt': '_c6FD1BACE-35A1-7FE4-5120-BD536F2CDBDB_kAE307C83-1EED-BBF7-3A8C-58D6DA7FC733',\n",
    "#            '_eventId': 'submit'\n",
    "#           }\n",
    "params = {\n",
    "    \"mimeType\": \"application/x-www-form-urlencoded\",\n",
    "    \"text\": \"macNo=&username=802437&password1=Bj123456&password=b1cdbc582af18be6a12788b5d5e098ff&imageField.x=14&imageField.y=14&lt=_c6FD1BACE-35A1-7FE4-5120-BD536F2CDBDB_kAE307C83-1EED-BBF7-3A8C-58D6DA7FC733&_eventId=submit\",\n",
    "    \"username\": \"802437\",\n",
    "    \"password1\": \"Bj123456\",\n",
    "    \"password\": \"b1cdbc582af18be6a12788b5d5e098ff\",\n",
    "          }\n",
    "\n",
    "cookie ={\"Cookie\":\"Hm_lvt_f7aa396f88259db43263ef6ad17c0090=1474163267,1474163302; Hm_lpvt_f7aa396f88259db43263ef6ad17c0090=1474163302; _ga=GA1.2.387567557.1474163267; chinainsuranceJSESSIONID=WSP2XfzRW4bbGspk78fxJ6kL9n4q172clJQJsvKkGSS216GNdvYG!-1235294532; chinainsuranceVisaJSESSIONID=DqC9YpNRFsTtJszt1htn2rCvHSzQQzznXXZMk13Qx27z3T2HdSRg!555065420; chinainsuranceSimpleJSESSIONID=kbSGYqzW4JRV6gzHGv2mt2wJ2jkHypTGq8n11fgyNn3kXnLYhkpv!-54309582; JSESSIONID=cbNS2HmbB_dam6beoVG2nNY5aU2x4lqqqbVzt1RwtfAdAnNjpRUe!-496316518!886688251\"}\n",
    "with urllib.urlopen(loginURL) as f:\n",
    "    print f.read(300)"
   ]
  },
  {
   "cell_type": "markdown",
   "metadata": {},
   "source": [
    "所遇问题\n",
    "1、编码\n",
    "2、文档版本"
   ]
  },
  {
   "cell_type": "code",
   "execution_count": 18,
   "metadata": {
    "collapsed": false
   },
   "outputs": [
    {
     "name": "stderr",
     "output_type": "stream",
     "text": [
      "C:\\Users\\admin\\Anaconda3\\lib\\site-packages\\requests\\packages\\urllib3\\connectionpool.py:843: InsecureRequestWarning: Unverified HTTPS request is being made. Adding certificate verification is strongly advised. See: https://urllib3.readthedocs.io/en/latest/advanced-usage.html#ssl-warnings\n",
      "  InsecureRequestWarning)\n",
      "C:\\Users\\admin\\Anaconda3\\lib\\site-packages\\requests\\packages\\urllib3\\connectionpool.py:843: InsecureRequestWarning: Unverified HTTPS request is being made. Adding certificate verification is strongly advised. See: https://urllib3.readthedocs.io/en/latest/advanced-usage.html#ssl-warnings\n",
      "  InsecureRequestWarning)\n"
     ]
    },
    {
     "name": "stdout",
     "output_type": "stream",
     "text": [
      "\r\n",
      " \r\n",
      "\r\n",
      "\r\n",
      "\r\n",
      "\r\n",
      "\r\n",
      "\r\n",
      "\r\n",
      "\r\n",
      "<html>\r\n",
      "<head>\r\n",
      "<meta http-equiv=\"Content-Type\" content=\"text/html; charset=utf-8\" />\r",
      " \r\n",
      "\n",
      "<title>̫太平财产保险有限公司　核心业务系统（2010年版）</title>\r",
      " \r\n",
      "\n",
      " <OBJECT id=tpmac  classid=\"clsid:037334CA-2BB3-4545-9461-4DBFD8A6AFE8\" codebase=\"tpmacinfo.cab\" width=0 height=0>\r\n",
      "</OBJECT>\r\n",
      "<script type=\"text/javascript\" src=\"js/jquery.js\"></script>\r\n",
      "<script type=\"text/javascript\" src=\"js/MD5.js\"></script>\r\n",
      "\r\n",
      "<link href=\"css/css.css\" rel=\"stylesheet\" type=\"text/css\" />\r\n",
      "\r\n",
      "\t    <!--[if gte IE 6]><style type=\"text/css\" media=\"screen\">@import 'css/ie_cas.css';</style><![endif]-->\r\n",
      "\t    <script type=\"text/javascript\" src=\"js/common_rosters.js\"></script>\r\n",
      "\r\n",
      "</head>\n",
      "<body id=\"cas\" onload=\"init();getMacNo();outSubmitForm();\">\r\n",
      "<form id=\"fm1\" class=\"fm-v clearfix\" action=\"/casserver/login;jsessionid=bnPIBrrpsK3iplCwXv-zWKcLi9yWHVQGhVNlfa4shDkSm9p26746!1035451227!132443162?service=https%3A%2F%2Fcar.tpi.cntaiping.com%3A8002%2Fj_acegi_security_check%3BchinainsuranceSimpleJSESSIONID%3DKYz4ZLyQN6QS9QnYr1Bhw1nXNN1ydlGxTQnXt0tZryTDvvQHQWfh%21-1427277908\" method=\"post\" onsubmit=\"checkUserCode();\">\t<input type=\"hidden\" id=\"macNo\" name=\"macNo\"/>\n",
      " \r\n",
      "\t  <table width=\"992\" border=\"0\" align=\"center\" cellpadding=\"0\" cellspacing=\"0\">\r\n",
      "  <tr>\r\n",
      "    <td class=\"help\"><a href=\"#\">帮助</a></td>\r\n",
      "  </tr>\r\n",
      "  <tr>\r\n",
      "    <td class=\"logon\"><table width=\"535\" border=\"0\" style=\"margin-left:276px;\" cellpadding=\"0\" cellspacing=\"0\">\r\n",
      "      <tr>\r\n",
      "        <td width=\"230\">\r\n",
      "        \t        \r\n",
      "\t\t\t\t\t\t\r\n",
      "\t\t\t\t\t\t\r\n",
      "\t\t\t\t\t\t\t\r\n",
      "\t\t\t\t\t\t\t<input id=\"username\" name=\"username\" class=\"logon\" tabindex=\"1\" accesskey=\"n\" type=\"text\" value=\"\" size=\"25\" maxlength=\"10\" autocomplete=\"false\"/>\r\n",
      "\t\t\t\t\t\t\t\r\n",
      "        \t\t\t\t\t<!--input type=\"text\" class=\"logon\" name=\"textfield\" /-->\n",
      "\r\n",
      "        </td>\r\n",
      "        <td width=\"200\">\r\n",
      "        \t\t\t\t\r\n",
      "\t\t\t\t\t\t      \r\n",
      "\t\t\t\t\t\t<input type=\"password\" id=\"password1\" class=\"logon\" name=\"password1\" >\r\n",
      "\t\t\t\t\t\t<div style=\"display: none;\">\r\n",
      "\t\t\t\t\t\t      <input id=\"password\" name=\"password\" class=\"logon\" tabindex=\"2\" accesskey=\"p\" type=\"password\" value=\"\" size=\"27\" autocomplete=\"off\"/>\t\r\n",
      "\t\t\t\t\t   </div>\r\n",
      "\r\n",
      "        </td>\r\n",
      "        <td width=\"105\">\r\n",
      "        \t<input type=\"image\" name=\"imageField\" src=\"images/btnlogon.gif\" />\r\n",
      "      <div style=\"display:none\">\r\n",
      "\t\t\t<input class=\"button\" name=\"bt_submit\" accesskey=\"l\" value=\"登录\" tabindex=\"4\" type=\"submit\" />\r\n",
      "\t\t\t</div>\r\n",
      "        </td>\r\n",
      "      </tr>\r",
      " \r\n",
      "      \r\n",
      "      </table> \n",
      "    </td>\r\n",
      "  </tr>\r\n",
      "  <tr>\r\n",
      "    <td class=\"messages\"><table width=\"600\" height=\"200\" border=\"0\" align=\"center\" cellpadding=\"0\" cellspacing=\"0\">\r\n",
      "      <tr>\r\n",
      "        <td class=\"gongneng\">新增功能：</td>\r\n",
      "      </tr>\r\n",
      "      <tr>\r\n",
      "        <td>\r",
      " \r\n",
      "        \t \r\n",
      "\n",
      "\t\t<!-- IFRAME name=frainner src=\"neirong.html\" height=100% width=100% allowTransparency=\"true\" > </IFRAME --> \n",
      "    \t\t\t<IFRAME name=frainner src=\"NewFunction.jsp\" height=100% width=100% allowTransparency=\"true\"> </IFRAME>\n",
      "\r\n",
      "\t</td>\r\n",
      "      </tr>\r\n",
      "    </table></td>\r\n",
      "  </tr>\r\n",
      "</table>\r\n",
      "\t<input type=\"hidden\" name=\"lt\" value=\"_c2350AA74-CD35-CC66-309A-1E31E8019698_kFAB5038F-5EB3-DC01-457B-DADA06668191\" />\r\n",
      "\t<input type=\"hidden\" name=\"_eventId\" value=\"submit\" />\r\n",
      "\r\n",
      "</form>\r\n",
      "\r\n",
      "</body>\r\n",
      "<script language=\"javascript\">\r\n",
      "\tfunction checkUserCode() {\r\n",
      "\t\tvar password = hex_md5(fm1.password1.value);\r\n",
      "        fm1.password.value = password;\r\n",
      "\t\t\r\n",
      "\t\tvar url = \"/casserver/pswRemind?userCode=\" + fm1.username.value;\r\n",
      "\t\t$.post(url, function(data){\r\n",
      "\t\t\tif(data != null && data != \"\") {\r\n",
      "\t\t\t\tif(data <= 0) {\r\n",
      "\t\t\t\t\talert(\"该用户密码已过期，请及时修改密码！\");\r\n",
      "\t\t\t\t} else {\r\n",
      "\t\t\t   \t\talert(\"该用户密码还有\" + data + \"天过期，请及时修改密码！\");\r\n",
      "\t\t\t\t}\r\n",
      "\t\t\t}\r\n",
      "\t\t});\r\n",
      "\t}\r\n",
      "\tfunction submitForm(){\r\n",
      "\t\ttry{\r\n",
      "\t\t\tdocument.getElementById(\"fm1\").submit();\r\n",
      "\t\t}catch(e){}\r\n",
      "\t}\r",
      " \r\n",
      "\tfunction getMacNo(){\r\n",
      "\t    try{\t\r\n",
      "\t\t//document.getElementById(\"macNo\").value=MACSVR.MAC;\r\n",
      "\t\tdocument.getElementById(\"macNo\").value=tpmac.getlocalallmac();\r\n",
      "            }catch(e){}\r\n",
      "\t}\r\n",
      "\t\r\n",
      "\tfunction outSubmitForm(){\r\n",
      "\t\r\n",
      "\t\tmyOutSubmitForm();\r\n",
      "\t\r\n",
      "\t\t\r\n",
      "\t}\r\n",
      "\tfunction myOutSubmitForm(){\r\n",
      "\t\t\r\n",
      "\t}\r\n",
      "\t\r\n",
      "</script>\t\r\n",
      "</html>\r\n",
      "\n"
     ]
    }
   ],
   "source": [
    "# 看过《Web scrapying with python>>之后\n",
    "import requests\n",
    "from selenium import webdriver\n",
    "\n",
    "params = {'username': '802437', \n",
    "          'password1': 'Bj123456',\n",
    "          'password': 'b1cdbc582af18be6a12788b5d5e098ff', \n",
    "          'lt': '_c037ACA58-F550-1BFE-D31C-00EEC66719CD_k488F49A9-E053-52D0-D178-25D0E43DB2C7',\n",
    "         '_eventld':'submit'}\n",
    "r = requests.post('https://car.tpi.cntaiping.com:8002/index.jsp', verify=False, data=params)\n",
    "print(r.text)\n"
   ]
  },
  {
   "cell_type": "code",
   "execution_count": 23,
   "metadata": {
    "collapsed": false
   },
   "outputs": [
    {
     "ename": "NoSuchElementException",
     "evalue": "Message: {\"errorMessage\":\"Unable to find element with id 'password'\",\"request\":{\"headers\":{\"Accept\":\"application/json\",\"Accept-Encoding\":\"identity\",\"Connection\":\"close\",\"Content-Length\":\"89\",\"Content-Type\":\"application/json;charset=UTF-8\",\"Host\":\"127.0.0.1:60691\",\"User-Agent\":\"Python http auth\"},\"httpVersion\":\"1.1\",\"method\":\"POST\",\"post\":\"{\\\"using\\\": \\\"id\\\", \\\"value\\\": \\\"password\\\", \\\"sessionId\\\": \\\"11191920-2f0c-11e7-ad9a-fd12fda69e53\\\"}\",\"url\":\"/element\",\"urlParsed\":{\"anchor\":\"\",\"query\":\"\",\"file\":\"element\",\"directory\":\"/\",\"path\":\"/element\",\"relative\":\"/element\",\"port\":\"\",\"host\":\"\",\"password\":\"\",\"user\":\"\",\"userInfo\":\"\",\"authority\":\"\",\"protocol\":\"\",\"source\":\"/element\",\"queryKey\":{},\"chunks\":[\"element\"]},\"urlOriginal\":\"/session/11191920-2f0c-11e7-ad9a-fd12fda69e53/element\"}}\nScreenshot: available via screen\n",
     "output_type": "error",
     "traceback": [
      "\u001b[0;31m---------------------------------------------------------------------------\u001b[0m",
      "\u001b[0;31mNoSuchElementException\u001b[0m                    Traceback (most recent call last)",
      "\u001b[0;32m<ipython-input-23-424e260a4b2d>\u001b[0m in \u001b[0;36m<module>\u001b[0;34m()\u001b[0m\n\u001b[1;32m      5\u001b[0m \u001b[0mdriver\u001b[0m\u001b[1;33m.\u001b[0m\u001b[0mget\u001b[0m\u001b[1;33m(\u001b[0m\u001b[1;34m'https://car.tpi.cntaiping.com:8002/index.jsp'\u001b[0m\u001b[1;33m)\u001b[0m\u001b[1;33m\u001b[0m\u001b[0m\n\u001b[1;32m      6\u001b[0m \u001b[0mtime\u001b[0m\u001b[1;33m.\u001b[0m\u001b[0msleep\u001b[0m\u001b[1;33m(\u001b[0m\u001b[1;36m3\u001b[0m\u001b[1;33m)\u001b[0m\u001b[1;33m\u001b[0m\u001b[0m\n\u001b[0;32m----> 7\u001b[0;31m \u001b[0mprint\u001b[0m\u001b[1;33m(\u001b[0m\u001b[0mdriver\u001b[0m\u001b[1;33m.\u001b[0m\u001b[0mfind_element_by_id\u001b[0m\u001b[1;33m(\u001b[0m\u001b[1;34m'password'\u001b[0m\u001b[1;33m)\u001b[0m\u001b[1;33m.\u001b[0m\u001b[0mtext\u001b[0m\u001b[1;33m)\u001b[0m\u001b[1;33m\u001b[0m\u001b[0m\n\u001b[0m\u001b[1;32m      8\u001b[0m \u001b[0mdriver\u001b[0m\u001b[1;33m.\u001b[0m\u001b[0mclose\u001b[0m\u001b[1;33m(\u001b[0m\u001b[1;33m)\u001b[0m\u001b[1;33m\u001b[0m\u001b[0m\n",
      "\u001b[0;32mC:\\Users\\admin\\Anaconda3\\lib\\site-packages\\selenium\\webdriver\\remote\\webdriver.py\u001b[0m in \u001b[0;36mfind_element_by_id\u001b[0;34m(self, id_)\u001b[0m\n\u001b[1;32m    283\u001b[0m             \u001b[0mdriver\u001b[0m\u001b[1;33m.\u001b[0m\u001b[0mfind_element_by_id\u001b[0m\u001b[1;33m(\u001b[0m\u001b[1;34m'foo'\u001b[0m\u001b[1;33m)\u001b[0m\u001b[1;33m\u001b[0m\u001b[0m\n\u001b[1;32m    284\u001b[0m         \"\"\"\n\u001b[0;32m--> 285\u001b[0;31m         \u001b[1;32mreturn\u001b[0m \u001b[0mself\u001b[0m\u001b[1;33m.\u001b[0m\u001b[0mfind_element\u001b[0m\u001b[1;33m(\u001b[0m\u001b[0mby\u001b[0m\u001b[1;33m=\u001b[0m\u001b[0mBy\u001b[0m\u001b[1;33m.\u001b[0m\u001b[0mID\u001b[0m\u001b[1;33m,\u001b[0m \u001b[0mvalue\u001b[0m\u001b[1;33m=\u001b[0m\u001b[0mid_\u001b[0m\u001b[1;33m)\u001b[0m\u001b[1;33m\u001b[0m\u001b[0m\n\u001b[0m\u001b[1;32m    286\u001b[0m \u001b[1;33m\u001b[0m\u001b[0m\n\u001b[1;32m    287\u001b[0m     \u001b[1;32mdef\u001b[0m \u001b[0mfind_elements_by_id\u001b[0m\u001b[1;33m(\u001b[0m\u001b[0mself\u001b[0m\u001b[1;33m,\u001b[0m \u001b[0mid_\u001b[0m\u001b[1;33m)\u001b[0m\u001b[1;33m:\u001b[0m\u001b[1;33m\u001b[0m\u001b[0m\n",
      "\u001b[0;32mC:\\Users\\admin\\Anaconda3\\lib\\site-packages\\selenium\\webdriver\\remote\\webdriver.py\u001b[0m in \u001b[0;36mfind_element\u001b[0;34m(self, by, value)\u001b[0m\n\u001b[1;32m    785\u001b[0m         return self.execute(Command.FIND_ELEMENT, {\n\u001b[1;32m    786\u001b[0m             \u001b[1;34m'using'\u001b[0m\u001b[1;33m:\u001b[0m \u001b[0mby\u001b[0m\u001b[1;33m,\u001b[0m\u001b[1;33m\u001b[0m\u001b[0m\n\u001b[0;32m--> 787\u001b[0;31m             'value': value})['value']\n\u001b[0m\u001b[1;32m    788\u001b[0m \u001b[1;33m\u001b[0m\u001b[0m\n\u001b[1;32m    789\u001b[0m     \u001b[1;32mdef\u001b[0m \u001b[0mfind_elements\u001b[0m\u001b[1;33m(\u001b[0m\u001b[0mself\u001b[0m\u001b[1;33m,\u001b[0m \u001b[0mby\u001b[0m\u001b[1;33m=\u001b[0m\u001b[0mBy\u001b[0m\u001b[1;33m.\u001b[0m\u001b[0mID\u001b[0m\u001b[1;33m,\u001b[0m \u001b[0mvalue\u001b[0m\u001b[1;33m=\u001b[0m\u001b[1;32mNone\u001b[0m\u001b[1;33m)\u001b[0m\u001b[1;33m:\u001b[0m\u001b[1;33m\u001b[0m\u001b[0m\n",
      "\u001b[0;32mC:\\Users\\admin\\Anaconda3\\lib\\site-packages\\selenium\\webdriver\\remote\\webdriver.py\u001b[0m in \u001b[0;36mexecute\u001b[0;34m(self, driver_command, params)\u001b[0m\n\u001b[1;32m    250\u001b[0m         \u001b[0mresponse\u001b[0m \u001b[1;33m=\u001b[0m \u001b[0mself\u001b[0m\u001b[1;33m.\u001b[0m\u001b[0mcommand_executor\u001b[0m\u001b[1;33m.\u001b[0m\u001b[0mexecute\u001b[0m\u001b[1;33m(\u001b[0m\u001b[0mdriver_command\u001b[0m\u001b[1;33m,\u001b[0m \u001b[0mparams\u001b[0m\u001b[1;33m)\u001b[0m\u001b[1;33m\u001b[0m\u001b[0m\n\u001b[1;32m    251\u001b[0m         \u001b[1;32mif\u001b[0m \u001b[0mresponse\u001b[0m\u001b[1;33m:\u001b[0m\u001b[1;33m\u001b[0m\u001b[0m\n\u001b[0;32m--> 252\u001b[0;31m             \u001b[0mself\u001b[0m\u001b[1;33m.\u001b[0m\u001b[0merror_handler\u001b[0m\u001b[1;33m.\u001b[0m\u001b[0mcheck_response\u001b[0m\u001b[1;33m(\u001b[0m\u001b[0mresponse\u001b[0m\u001b[1;33m)\u001b[0m\u001b[1;33m\u001b[0m\u001b[0m\n\u001b[0m\u001b[1;32m    253\u001b[0m             response['value'] = self._unwrap_value(\n\u001b[1;32m    254\u001b[0m                 response.get('value', None))\n",
      "\u001b[0;32mC:\\Users\\admin\\Anaconda3\\lib\\site-packages\\selenium\\webdriver\\remote\\errorhandler.py\u001b[0m in \u001b[0;36mcheck_response\u001b[0;34m(self, response)\u001b[0m\n\u001b[1;32m    192\u001b[0m         \u001b[1;32melif\u001b[0m \u001b[0mexception_class\u001b[0m \u001b[1;33m==\u001b[0m \u001b[0mUnexpectedAlertPresentException\u001b[0m \u001b[1;32mand\u001b[0m \u001b[1;34m'alert'\u001b[0m \u001b[1;32min\u001b[0m \u001b[0mvalue\u001b[0m\u001b[1;33m:\u001b[0m\u001b[1;33m\u001b[0m\u001b[0m\n\u001b[1;32m    193\u001b[0m             \u001b[1;32mraise\u001b[0m \u001b[0mexception_class\u001b[0m\u001b[1;33m(\u001b[0m\u001b[0mmessage\u001b[0m\u001b[1;33m,\u001b[0m \u001b[0mscreen\u001b[0m\u001b[1;33m,\u001b[0m \u001b[0mstacktrace\u001b[0m\u001b[1;33m,\u001b[0m \u001b[0mvalue\u001b[0m\u001b[1;33m[\u001b[0m\u001b[1;34m'alert'\u001b[0m\u001b[1;33m]\u001b[0m\u001b[1;33m.\u001b[0m\u001b[0mget\u001b[0m\u001b[1;33m(\u001b[0m\u001b[1;34m'text'\u001b[0m\u001b[1;33m)\u001b[0m\u001b[1;33m)\u001b[0m\u001b[1;33m\u001b[0m\u001b[0m\n\u001b[0;32m--> 194\u001b[0;31m         \u001b[1;32mraise\u001b[0m \u001b[0mexception_class\u001b[0m\u001b[1;33m(\u001b[0m\u001b[0mmessage\u001b[0m\u001b[1;33m,\u001b[0m \u001b[0mscreen\u001b[0m\u001b[1;33m,\u001b[0m \u001b[0mstacktrace\u001b[0m\u001b[1;33m)\u001b[0m\u001b[1;33m\u001b[0m\u001b[0m\n\u001b[0m\u001b[1;32m    195\u001b[0m \u001b[1;33m\u001b[0m\u001b[0m\n\u001b[1;32m    196\u001b[0m     \u001b[1;32mdef\u001b[0m \u001b[0m_value_or_default\u001b[0m\u001b[1;33m(\u001b[0m\u001b[0mself\u001b[0m\u001b[1;33m,\u001b[0m \u001b[0mobj\u001b[0m\u001b[1;33m,\u001b[0m \u001b[0mkey\u001b[0m\u001b[1;33m,\u001b[0m \u001b[0mdefault\u001b[0m\u001b[1;33m)\u001b[0m\u001b[1;33m:\u001b[0m\u001b[1;33m\u001b[0m\u001b[0m\n",
      "\u001b[0;31mNoSuchElementException\u001b[0m: Message: {\"errorMessage\":\"Unable to find element with id 'password'\",\"request\":{\"headers\":{\"Accept\":\"application/json\",\"Accept-Encoding\":\"identity\",\"Connection\":\"close\",\"Content-Length\":\"89\",\"Content-Type\":\"application/json;charset=UTF-8\",\"Host\":\"127.0.0.1:60691\",\"User-Agent\":\"Python http auth\"},\"httpVersion\":\"1.1\",\"method\":\"POST\",\"post\":\"{\\\"using\\\": \\\"id\\\", \\\"value\\\": \\\"password\\\", \\\"sessionId\\\": \\\"11191920-2f0c-11e7-ad9a-fd12fda69e53\\\"}\",\"url\":\"/element\",\"urlParsed\":{\"anchor\":\"\",\"query\":\"\",\"file\":\"element\",\"directory\":\"/\",\"path\":\"/element\",\"relative\":\"/element\",\"port\":\"\",\"host\":\"\",\"password\":\"\",\"user\":\"\",\"userInfo\":\"\",\"authority\":\"\",\"protocol\":\"\",\"source\":\"/element\",\"queryKey\":{},\"chunks\":[\"element\"]},\"urlOriginal\":\"/session/11191920-2f0c-11e7-ad9a-fd12fda69e53/element\"}}\nScreenshot: available via screen\n"
     ]
    }
   ],
   "source": [
    "from selenium import webdriver\n",
    "import time\n",
    "driver = webdriver.PhantomJS(executable_path='C:\\\\Users\\\\admin\\\\Desktop\\\\phantomjs-2.1.1-windows\\\\bin\\\\phantomjs')\n",
    "# driver = webdriver.ddows\\\\bin\\\\phantomjs')\n",
    "driver.get('https://car.tpi.cntaiping.com:8002/index.jsp')\n",
    "time.sleep(3)\n",
    "print(driver.find_element_by_id('password').text)\n",
    "driver.close()"
   ]
  },
  {
   "cell_type": "code",
   "execution_count": 31,
   "metadata": {
    "collapsed": false
   },
   "outputs": [
    {
     "name": "stdout",
     "output_type": "stream",
     "text": [
      "<selenium.webdriver.phantomjs.webdriver.WebDriver (session=\"c7934fd0-2f0d-11e7-a802-97ed0fbeb989\")>\n"
     ]
    }
   ],
   "source": [
    "from selenium import webdriver\n",
    "from selenium.webdriver.common.keys import Keys\n",
    "\n",
    "browser = webdriver.PhantomJS(executable_path='C:\\\\Users\\\\admin\\\\Desktop\\\\phantomjs-2.1.1-windows\\\\bin\\\\phantomjs')\n",
    "\n",
    "browser.get('https://car.tpi.cntaiping.com:8002/index.jsp')\n",
    "print(browser)\n",
    "# assert 'Yahoo!' in browser.title\n",
    "\n",
    "# elem = browser.find_element_by_name('p')  # Find the search box\n",
    "# elem.send_keys('seleniumhq' + Keys.RETURN)\n",
    "\n",
    "# browser.quit()"
   ]
  },
  {
   "cell_type": "code",
   "execution_count": 37,
   "metadata": {
    "collapsed": false
   },
   "outputs": [
    {
     "name": "stdout",
     "output_type": "stream",
     "text": [
      "b' \\r\\n \\r\\n\\r\\n<html>\\r\\n<head>\\r\\n<title>\\xe8\\xbd\\xa6\\xe9\\x99\\xa9\\xe6\\x89\\xbf\\xe4\\xbf\\x9d\\xe4\\xb8\\x9a\\xe5\\x8a\\xa1\\xe7\\xb3\\xbb\\xe7\\xbb\\x9f</title> \\r\\n<script type=\"text/javascript\">\\r\\nfunction doClose(){\\r\\n\\tif (event.clientX > document.body.clientWidth - 50 && event.clientY < 0 || event.altKey)\\r\\n\\t{\\r\\n\\t\\tevent.returnValue = \"Sure exit core insurance system?\";\\r\\n\\t\\twindow.attachEvent(\"onunload\", doLogout);\\r\\n\\t}else{\\r\\n\\t\\twindow.detachEvent(\"onunload\", doLogout);\\r\\n\\t}\\r\\n}\\r\\nfunction doLogout(){\\r\\n}\\r\\nwindow.attachEvent(\"onbeforeunload\", doClose);\\r\\n</script>\\r\\n</head>\\r\\n<frameset rows=\"79,*,0\" cols=\"*\" frameborder=\"NO\" border=\"0\" framespacing=\"0\">\\r\\n  <frame src=\"/prpall/processSimpleProposal.do?actionType=title\" name=\"topFrame\"\\r\\n    scrolling=\"NO\" noresize>\\r\\n  <frameset cols=\"190,*\" frameborder=\"yes\" border=\"1\" framespacing=\"3\" name=\"fraMenuReport\">\\r\\n  \\t<frame src=\"/common/Menu.jsp\" name=\"leftFrame\" scrolling=\"yes\">\\r\\n  \\t<frame src=\"/prpall/processSimpleProposal.do?actionType=welcome\" name=\"mainFrame\" scrolling=\"yes\"> \\r\\n  </frameset>\\r\\n  <frame src=\"/common/Blank.html\" name=\"submitFrame\" scrolling=\"yes\">\\r\\n</frameset>\\r\\n<noframes>\\r\\n<body>\\r\\n</body>\\r\\n</noframes>\\r\\n</html>\\r\\n'\n",
      "__________________________\n",
      " \r\n",
      " \r\n",
      "\r\n",
      "<html>\r\n",
      "<head>\r\n",
      "<title>车险承保业务系统</title> \r\n",
      "<script type=\"text/javascript\">\r\n",
      "function doClose(){\r\n",
      "\tif (event.clientX > document.body.clientWidth - 50 && event.clientY < 0 || event.altKey)\r\n",
      "\t{\r\n",
      "\t\tevent.returnValue = \"Sure exit core insurance system?\";\r\n",
      "\t\twindow.attachEvent(\"onunload\", doLogout);\r\n",
      "\t}else{\r\n",
      "\t\twindow.detachEvent(\"onunload\", doLogout);\r\n",
      "\t}\r\n",
      "}\r\n",
      "function doLogout(){\r\n",
      "}\r\n",
      "window.attachEvent(\"onbeforeunload\", doClose);\r\n",
      "</script>\r\n",
      "</head>\r\n",
      "<frameset rows=\"79,*,0\" cols=\"*\" frameborder=\"NO\" border=\"0\" framespacing=\"0\">\r\n",
      "  <frame src=\"/prpall/processSimpleProposal.do?actionType=title\" name=\"topFrame\"\r\n",
      "    scrolling=\"NO\" noresize>\r\n",
      "  <frameset cols=\"190,*\" frameborder=\"yes\" border=\"1\" framespacing=\"3\" name=\"fraMenuReport\">\r\n",
      "  \t<frame src=\"/common/Menu.jsp\" name=\"leftFrame\" scrolling=\"yes\">\r\n",
      "  \t<frame src=\"/prpall/processSimpleProposal.do?actionType=welcome\" name=\"mainFrame\" scrolling=\"yes\"> \r\n",
      "  </frameset>\r\n",
      "  <frame src=\"/common/Blank.html\" name=\"submitFrame\" scrolling=\"yes\">\r\n",
      "</frameset>\r\n",
      "<noframes>\r\n",
      "<body>\r\n",
      "</body>\r\n",
      "</noframes>\r\n",
      "</html>\r\n",
      "\n"
     ]
    },
    {
     "name": "stderr",
     "output_type": "stream",
     "text": [
      "C:\\Users\\admin\\Anaconda3\\lib\\site-packages\\requests\\packages\\urllib3\\connectionpool.py:843: InsecureRequestWarning: Unverified HTTPS request is being made. Adding certificate verification is strongly advised. See: https://urllib3.readthedocs.io/en/latest/advanced-usage.html#ssl-warnings\n",
      "  InsecureRequestWarning)\n"
     ]
    }
   ],
   "source": [
    "# cookie模拟登陆完成\n",
    "url = 'https://car.tpi.cntaiping.com:8002/index.jsp'\n",
    "cookie = {'Cookie': 'JSESSIONID=uIzH7AeBZiER69OJqLqROrYtDOeyZQTLmmVucvB3-Dgn5jOtUVbI!1035451227!132443162; chinainsuranceSimpleJSESSIONID=w44NZL3PL7lJ23Qk31P3s3p6qHJHgcp6txWk2BQ6nJNCYSgCQRLy!-1427277908'}\n",
    "html =requests.get(url, verify=False, cookies=cookie)\n",
    "print(html.content)\n",
    "print('__________________________')\n",
    "print(html.text)"
   ]
  },
  {
   "cell_type": "code",
   "execution_count": null,
   "metadata": {
    "collapsed": true
   },
   "outputs": [],
   "source": []
  },
  {
   "cell_type": "code",
   "execution_count": null,
   "metadata": {
    "collapsed": true
   },
   "outputs": [],
   "source": []
  },
  {
   "cell_type": "code",
   "execution_count": null,
   "metadata": {
    "collapsed": true
   },
   "outputs": [],
   "source": []
  }
 ],
 "metadata": {
  "kernelspec": {
   "display_name": "Python 3",
   "language": "python",
   "name": "python3"
  },
  "language_info": {
   "codemirror_mode": {
    "name": "ipython",
    "version": 3
   },
   "file_extension": ".py",
   "mimetype": "text/x-python",
   "name": "python",
   "nbconvert_exporter": "python",
   "pygments_lexer": "ipython3",
   "version": "3.6.0"
  }
 },
 "nbformat": 4,
 "nbformat_minor": 1
}
