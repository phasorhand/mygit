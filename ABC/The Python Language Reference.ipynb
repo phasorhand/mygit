{
 "cells": [
  {
   "cell_type": "markdown",
   "metadata": {},
   "source": [
    "http://python.usyiyi.cn/translate/python_352/reference/index.html"
   ]
  },
  {
   "cell_type": "markdown",
   "metadata": {},
   "source": [
    "# 可以用来检查（费曼），但是翻译的太差"
   ]
  },
  {
   "cell_type": "markdown",
   "metadata": {},
   "source": [
    "## 2 词法分析"
   ]
  },
  {
   "cell_type": "markdown",
   "metadata": {},
   "source": [
    "Python程序由解析器读取。输入到解析器中的是由词法分析器生成的符号流。本章讲述词法分析器如何把一个文件拆分成符号。"
   ]
  },
  {
   "cell_type": "markdown",
   "metadata": {},
   "source": [
    "### 2.1. 行结构 "
   ]
  },
  {
   "cell_type": "markdown",
   "metadata": {},
   "source": [
    "#### 逻辑行 物理行 注释 编码声明 显示行连接 隐式行连接 空白行 缩进 词符之间的空白"
   ]
  },
  {
   "cell_type": "markdown",
   "metadata": {},
   "source": [
    "逻辑行的结束由 NEWLINE 词符表示。除非语法允许 NEWLINE（例如，复合语句的语句之间），否则语句不能跨越逻辑行的边界。通过遵循显式或隐式行连接规则，从一个或多个物理行构造逻辑行。"
   ]
  },
  {
   "cell_type": "markdown",
   "metadata": {},
   "source": [
    "物理行是由行尾序列终止的字符序列。"
   ]
  },
  {
   "cell_type": "markdown",
   "metadata": {},
   "source": [
    "哈希字符开头的注释 (#) 就不是一个字符串的一部分，终点位于物理行的结尾。注释表示逻辑行的结尾，除非调用隐式线连接规则。语法将忽略注释，他们不是标记。"
   ]
  },
  {
   "cell_type": "markdown",
   "metadata": {},
   "source": [
    "如果Python脚本的第一行或者第二行的注释匹配正则表达式coding[=:]\\s*([-\\w.]+)，那么这行注释将作为编码声明处理；该表达式的第一个分组指出源文件编码的名字。编码声明必须出现在自己的一行上。如果它是第二行，第一行也必须是注释的行。"
   ]
  },
  {
   "cell_type": "markdown",
   "metadata": {},
   "source": [
    " 当一个物理行以反斜杠结尾，则该物理行不是字符串或注释的一部分，它形成一个逻辑行加入是为了删去反斜杠和下面的行尾字符。以反斜杠结尾的行不能包含注释。反斜杠在字符串外面的行上是非法的。"
   ]
  },
  {
   "cell_type": "markdown",
   "metadata": {},
   "source": [
    "隐式行连接：圆括号，方括号或花括号中的表达式可以在不使用反斜杠的情况下在多个物理行上分割。隐含的连续行可以带有注释。连续线的缩进并不重要。允许空白连续线。隐性连续线之间没有NEWLINE词符号。隐式连续的行，也可能发生在三引号字符串 （见下文）;在这种情况下他们不能带有注释"
   ]
  },
  {
   "cell_type": "markdown",
   "metadata": {},
   "source": [
    "空白行：忽略只包含空格，制表符，换行符和注释的逻辑行（即不生成NEWLINE词符号）。在标准的交互式解释器，完全空白的逻辑行 （即一个既不含空格也不包含注释） 终止多行语句。"
   ]
  },
  {
   "cell_type": "code",
   "execution_count": null,
   "metadata": {
    "collapsed": true
   },
   "outputs": [],
   "source": [
    "缩进："
   ]
  },
  {
   "cell_type": "markdown",
   "metadata": {},
   "source": [
    "### 2.3其他字符：标识符，关键字，字面值,>和分隔符"
   ]
  },
  {
   "cell_type": "code",
   "execution_count": null,
   "metadata": {
    "collapsed": true
   },
   "outputs": [],
   "source": [
    "_*\n",
    "不会被from module import *导入。\n",
    "__*__\n",
    "系统定义的名称。\n",
    "__*\n",
    "类私有名称。"
   ]
  },
  {
   "cell_type": "markdown",
   "metadata": {},
   "source": [
    "## 3 数据模型"
   ]
  },
  {
   "cell_type": "markdown",
   "metadata": {},
   "source": [
    "### 3.1 对象、值和类型"
   ]
  },
  {
   "cell_type": "markdown",
   "metadata": {},
   "source": [
    "#### 每个对象由ID、类型以及值组成。对象一旦建立，它的ID永远不会改变；你可以认为它是该对象在内存中的地址。‘is’操作符比较两个对象的ID；id()函数返回一个表示对象ID的整数。"
   ]
  },
  {
   "cell_type": "markdown",
   "metadata": {},
   "source": [
    "对象永远不会显式地销毁；但是当它们不可用时可以被当作垃圾回收。"
   ]
  },
  {
   "cell_type": "markdown",
   "metadata": {},
   "source": [
    "### 3.2 标准类型的层次结构"
   ]
  },
  {
   "cell_type": "markdown",
   "metadata": {},
   "source": [
    "协程函数：使用async def定义的函数或方法叫做协程函数。这种函数，在调用时，返回一个协程对象。它可以包含await表达式，以及async with和async for语句"
   ]
  },
  {
   "cell_type": "markdown",
   "metadata": {},
   "source": [
    "切片对象：切片对象用于表示__getitem__()方法产生的切片。它们还可以由内建的slice()函数创建。"
   ]
  },
  {
   "cell_type": "markdown",
   "metadata": {},
   "source": [
    "### 3.3 特殊方法的名称"
   ]
  },
  {
   "cell_type": "markdown",
   "metadata": {},
   "source": [
    "#### 3.3.1 基本的定制(都带有\\_\\_*\\_\\_)"
   ]
  },
  {
   "cell_type": "markdown",
   "metadata": {},
   "source": [
    "#### object.__new__(cls[, ...])"
   ]
  },
  {
   "cell_type": "markdown",
   "metadata": {},
   "source": [
    "定义：调用以创建类cls的新实例。__new__()是一个静态方法（这是个特列，所以你不需要显式地声明），以实例的类为第一个参数。"
   ]
  },
  {
   "cell_type": "markdown",
   "metadata": {},
   "source": [
    "使用：通过使用带有合适参数的super(currentclass, cls).__new__(cls[, ...])调用超类的__new__()方法创建类的一个新的实例，然后在返回之前有必要地修改新创建的类实例。"
   ]
  },
  {
   "cell_type": "markdown",
   "metadata": {},
   "source": [
    "属性：如果__new__()返回的不是cls的实例，那么新实例的__init__()方法将不会被调用。"
   ]
  },
  {
   "cell_type": "markdown",
   "metadata": {},
   "source": [
    "#### object.__init__(self[, ...])"
   ]
  },
  {
   "cell_type": "markdown",
   "metadata": {},
   "source": [
    "定义：在实例（被__new__()）创建之后，返回给调用者之前调用。"
   ]
  },
  {
   "cell_type": "markdown",
   "metadata": {},
   "source": [
    "使用及属性：因为__new__()和__init__()一起工作来构造对象（__new__()用来创建，__init__()用来定制化），__init__()不可以返回非None的值；如果这样做，则导致运行时引发一个TypeError。"
   ]
  },
  {
   "cell_type": "markdown",
   "metadata": {},
   "source": [
    "#### object.__del__(self) 待深入"
   ]
  },
  {
   "cell_type": "markdown",
   "metadata": {},
   "source": [
    "定义：当实例即将被销毁时调用"
   ]
  },
  {
   "cell_type": "markdown",
   "metadata": {},
   "source": [
    "注意：del x不会直接调用x.__del__() —— 前者减少一个x的引用，后者只是在x的引用达到零时调用。"
   ]
  },
  {
   "cell_type": "markdown",
   "metadata": {},
   "source": [
    "#### object.__repr__(self)"
   ]
  },
  {
   "cell_type": "markdown",
   "metadata": {},
   "source": [
    "翻译的太烂了。。。。"
   ]
  },
  {
   "cell_type": "code",
   "execution_count": null,
   "metadata": {
    "collapsed": true
   },
   "outputs": [],
   "source": []
  }
 ],
 "metadata": {
  "kernelspec": {
   "display_name": "Python 3",
   "language": "python",
   "name": "python3"
  },
  "language_info": {
   "codemirror_mode": {
    "name": "ipython",
    "version": 3
   },
   "file_extension": ".py",
   "mimetype": "text/x-python",
   "name": "python",
   "nbconvert_exporter": "python",
   "pygments_lexer": "ipython3",
   "version": "3.6.0"
  }
 },
 "nbformat": 4,
 "nbformat_minor": 2
}
