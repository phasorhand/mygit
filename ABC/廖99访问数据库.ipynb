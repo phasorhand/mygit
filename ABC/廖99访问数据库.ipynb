{
 "cells": [
  {
   "cell_type": "markdown",
   "metadata": {},
   "source": [
    "### MySQL"
   ]
  },
  {
   "cell_type": "markdown",
   "metadata": {},
   "source": [
    "http://www.liaoxuefeng.com/wiki/0014316089557264a6b348958f449949df42a6d3a2e542c000/0014320107391860b39da6901ed41a296e574ed37104752000"
   ]
  },
  {
   "cell_type": "markdown",
   "metadata": {},
   "source": [
    "重启MySQL后，可以通过MySQL的客户端命令行检查编码：\n"
   ]
  },
  {
   "cell_type": "markdown",
   "metadata": {},
   "source": [
    "：如果MySQL的版本≥5.5.3，可以把编码设置为utf8mb4，utf8mb4和utf8完全兼容，但它支持最新的Unicode标准，可以显示emoji字符。"
   ]
  },
  {
   "cell_type": "markdown",
   "metadata": {},
   "source": [
    "#### 安装MySQL驱动"
   ]
  },
  {
   "cell_type": "markdown",
   "metadata": {},
   "source": [
    "pip install mysql-connector-python --allow-external mysql-connector-python"
   ]
  },
  {
   "cell_type": "markdown",
   "metadata": {},
   "source": [
    "pip install mysql-connector"
   ]
  },
  {
   "cell_type": "code",
   "execution_count": null,
   "metadata": {
    "collapsed": false
   },
   "outputs": [],
   "source": [
    "# 导入MySQL驱动:\n",
    ">>> import mysql.connector\n",
    "# 注意把password设为你的root口令:\n",
    ">>> conn = mysql.connector.connect(user='root', password='password', database='test')\n",
    ">>> cursor = conn.cursor()\n",
    "# 创建user表:\n",
    ">>> cursor.execute('create table user (id varchar(20) primary key, name varchar(20))')\n",
    "# 插入一行记录，注意MySQL的占位符是%s:\n",
    ">>> cursor.execute('insert into user (id, name) values (%s, %s)', ['1', 'Michael'])\n",
    ">>> cursor.rowcount\n",
    "1\n",
    "# 提交事务:\n",
    ">>> conn.commit()\n",
    ">>> cursor.close()\n",
    "# 运行查询:\n",
    ">>> cursor = conn.cursor()\n",
    ">>> cursor.execute('select * from user where id = %s', ('1',))\n",
    ">>> values = cursor.fetchall()\n",
    ">>> values\n",
    "[('1', 'Michael')]\n",
    "# 关闭Cursor和Connection:\n",
    ">>> cursor.close()\n",
    "True\n",
    ">>> conn.close()"
   ]
  },
  {
   "cell_type": "markdown",
   "metadata": {},
   "source": [
    "小结\n",
    "\n",
    "    执行INSERT等操作后要调用commit()提交事务；\n",
    "\n",
    "    MySQL的SQL占位符是%s。\n"
   ]
  },
  {
   "cell_type": "code",
   "execution_count": null,
   "metadata": {
    "collapsed": true
   },
   "outputs": [],
   "source": []
  }
 ],
 "metadata": {
  "kernelspec": {
   "display_name": "Python 2",
   "language": "python",
   "name": "python2"
  },
  "language_info": {
   "codemirror_mode": {
    "name": "ipython",
    "version": 2
   },
   "file_extension": ".py",
   "mimetype": "text/x-python",
   "name": "python",
   "nbconvert_exporter": "python",
   "pygments_lexer": "ipython2",
   "version": "2.7.12"
  }
 },
 "nbformat": 4,
 "nbformat_minor": 1
}
