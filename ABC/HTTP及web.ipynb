{
 "cells": [
  {
   "cell_type": "markdown",
   "metadata": {},
   "source": [
    "### HTTP协议"
   ]
  },
  {
   "cell_type": "markdown",
   "metadata": {},
   "source": [
    "\n",
    "\n",
    "    HTML是一种用来定义网页的文本，会HTML，就可以编写网页；\n",
    "\n",
    "    HTTP是在网络上传输HTML的协议，用于浏览器和服务器的通信。\n"
   ]
  },
  {
   "cell_type": "markdown",
   "metadata": {},
   "source": [
    "Elements显示网页的结构，Network显示浏览器和服务器的通信。我们点Network，确保第一个小红灯亮着，Chrome就会记录所有浏览器和服务器之间的通信"
   ]
  },
  {
   "cell_type": "markdown",
   "metadata": {},
   "source": [
    "GET / HTTP/1.1\n",
    "\n",
    "GET表示一个读取请求，将从服务器获得网页数据，/表示URL的路径，URL总是以/开头，/就表示首页，最后的HTTP/1.1指示采用的HTTP协议版本是1.1。目前HTTP协议的版本就是1.1，但是大部分服务器也支持1.0版本，主要区别在于1.1版本允许多个HTTP请求复用一个TCP连接，以加快传输速度。"
   ]
  },
  {
   "cell_type": "markdown",
   "metadata": {},
   "source": [
    "从第二行开始，每一行都类似于Xxx: abcdefg："
   ]
  },
  {
   "cell_type": "markdown",
   "metadata": {},
   "source": [
    "Host: www.sina.com.cn\n",
    "\n",
    "表示请求的域名是www.sina.com.cn"
   ]
  },
  {
   "cell_type": "markdown",
   "metadata": {},
   "source": [
    "Response Headers，点击view source，显示服务器返回的原始响应数据："
   ]
  },
  {
   "cell_type": "markdown",
   "metadata": {},
   "source": [
    "HTTP响应分为Header和Body两部分（Body是可选项），我们在Network中看到的Header最重要的几行如下：\n",
    "\n"
   ]
  },
  {
   "cell_type": "markdown",
   "metadata": {},
   "source": [
    "200 OK\n",
    "\n",
    "200表示一个成功的响应，后面的OK是说明。失败的响应有404 Not Found：网页不存在，500 Internal Server Error：服务器内部出错，等等。\n",
    "\n"
   ]
  },
  {
   "cell_type": "markdown",
   "metadata": {},
   "source": [
    "Content-Type: text/html\n",
    "    \n",
    "    Content-Type指示响应的内容，这里是text/html表示HTML网页。请注意，浏览器就是依靠Content-Type来判断响应的内容是网页还是图片，是视频还是音乐。浏览器并不靠URL来判断响应的内容，所以，即使URL是http://example.com/abc.jpg，它也不一定就是图片。"
   ]
  },
  {
   "cell_type": "markdown",
   "metadata": {},
   "source": [
    "HTTP响应的Body就是HTML源码，我们在菜单栏选择“视图”，“开发者”，“查看网页源码”就可以在浏览器中直接查看HTML源码："
   ]
  },
  {
   "cell_type": "markdown",
   "metadata": {},
   "source": [
    "当浏览器读取到新浪首页的HTML源码后，它会解析HTML，显示页面，然后，根据HTML里面的各种链接，再发送HTTP请求给新浪服务器，拿到相应的图片、视频、Flash、JavaScript脚本、CSS等各种资源，最终显示出一个完整的页面。所以我们在Network下面能看到很多额外的HTTP请求。"
   ]
  },
  {
   "cell_type": "markdown",
   "metadata": {},
   "source": [
    "#### HTTP请求"
   ]
  },
  {
   "cell_type": "markdown",
   "metadata": {},
   "source": [
    "HTTP请求的流程：\n",
    "\n",
    "步骤1：浏览器首先向服务器发送HTTP请求，请求包括：\n",
    "\n",
    "方法：GET还是POST，GET仅请求资源，POST会附带用户数据；\n",
    "\n",
    "路径：/full/url/path；\n",
    "\n",
    "域名：由Host头指定：Host: www.sina.com.cn\n",
    "\n",
    "以及其他相关的Header；\n",
    "\n",
    "如果是POST，那么请求还包括一个Body，包含用户数据。\n",
    "\n",
    "步骤2：服务器向浏览器返回HTTP响应，响应包括：\n",
    "\n",
    "响应代码：200表示成功，3xx表示重定向，4xx表示客户端发送的请求有错误，5xx表示服务器端处理时发生了错误；\n",
    "\n",
    "响应类型：由Content-Type指定；\n",
    "\n",
    "以及其他相关的Header；\n",
    "\n",
    "通常服务器的HTTP响应会携带内容，也就是有一个Body，包含响应的内容，网页的HTML源码就在Body中。\n",
    "\n",
    "步骤3：如果浏览器还需要继续向服务器请求其他资源，比如图片，就再次发出HTTP请求，重复步骤1、2。"
   ]
  },
  {
   "cell_type": "markdown",
   "metadata": {},
   "source": [
    "Web采用的HTTP协议采用了非常简单的请求-响应模式，从而大大简化了开发。当我们编写一个页面时，我们只需要在HTTP请求中把HTML发送出去，不需要考虑如何附带图片、视频等，浏览器如果需要请求图片和视频，它会发送另一个HTTP请求，因此，一个HTTP请求只处理一个资源。"
   ]
  },
  {
   "cell_type": "markdown",
   "metadata": {},
   "source": [
    "HTTP协议同时具备极强的扩展性，虽然浏览器请求的是http://www.sina.com.cn/的首页，但是新浪在HTML中可以链入其他服务器的资源，比如<img src=\"http://i1.sinaimg.cn/home/2013/1008/U8455P30DT20131008135420.png\">，从而将请求压力分散到各个服务器上，并且，一个站点可以链接到其他站点，无数个站点互相链接起来，就形成了World Wide Web，简称WWW。"
   ]
  },
  {
   "cell_type": "markdown",
   "metadata": {},
   "source": [
    "#### HTTP格式"
   ]
  },
  {
   "cell_type": "markdown",
   "metadata": {},
   "source": [
    "每个HTTP请求和响应都遵循相同的格式，一个HTTP包含Header和Body两部分，其中Body是可选的"
   ]
  },
  {
   "cell_type": "markdown",
   "metadata": {},
   "source": [
    "#GET\n",
    "GET /path HTTP/1.1\n",
    "Header1: Value1\n",
    "Header2: Value2\n",
    "Header3: Value3"
   ]
  },
  {
   "cell_type": "code",
   "execution_count": null,
   "metadata": {
    "collapsed": true
   },
   "outputs": [],
   "source": [
    "每个Header一行一个，换行符是\\r\\n"
   ]
  },
  {
   "cell_type": "code",
   "execution_count": null,
   "metadata": {
    "collapsed": true
   },
   "outputs": [],
   "source": [
    "# POST\n",
    "POST /path HTTP/1.1\n",
    "Header1: Value1\n",
    "Header2: Value2\n",
    "Header3: Value3\n",
    "\n",
    "body data goes here..."
   ]
  },
  {
   "cell_type": "markdown",
   "metadata": {},
   "source": [
    "当遇到连续两个\\r\\n时，Header部分结束，后面的数据全部是Body。"
   ]
  },
  {
   "cell_type": "code",
   "execution_count": null,
   "metadata": {
    "collapsed": true
   },
   "outputs": [],
   "source": [
    "# HTTP响应\n",
    "200 OK\n",
    "Header1: Value1\n",
    "Header2: Value2\n",
    "Header3: Value3\n",
    "\n",
    "body data goes here..."
   ]
  },
  {
   "cell_type": "markdown",
   "metadata": {},
   "source": [
    "HTTP响应如果包含body，也是通过\\r\\n\\r\\n来分隔的。请再次注意，Body的数据类型由Content-Type头来确定，如果是网页，Body就是文本，如果是图片，Body就是图片的二进制数据。"
   ]
  },
  {
   "cell_type": "markdown",
   "metadata": {},
   "source": [
    "当存在Content-Encoding时，Body数据是被压缩的，最常见的压缩方式是gzip，所以，看到Content-Encoding: gzip时，需要将Body数据先解压缩，才能得到真正的数据。压缩的目的在于减少Body的大小，加快网络传输。"
   ]
  },
  {
   "cell_type": "markdown",
   "metadata": {},
   "source": [
    "### HTML简介"
   ]
  },
  {
   "cell_type": "markdown",
   "metadata": {},
   "source": [
    "HTML定义了一套语法规则，来告诉浏览器如何把一个丰富多彩的页面显示出来。·"
   ]
  },
  {
   "cell_type": "markdown",
   "metadata": {},
   "source": [
    "CSS是Cascading Style Sheets（层叠样式表）的简称，CSS用来控制HTML里的所有元素如何展现"
   ]
  },
  {
   "cell_type": "markdown",
   "metadata": {},
   "source": [
    "JavaScript是为了让HTML具有交互性而作为脚本语言添加的，JavaScript既可以内嵌到HTML中，也可以从外部链接到HTML中。"
   ]
  },
  {
   "cell_type": "markdown",
   "metadata": {},
   "source": [
    "### WSGI接口"
   ]
  },
  {
   "cell_type": "markdown",
   "metadata": {},
   "source": [
    "一个Web应用的本质就是：\n",
    "\n",
    "    浏览器发送一个HTTP请求；\n",
    "\n",
    "    服务器收到请求，生成一个HTML文档；\n",
    "\n",
    "    服务器把HTML文档作为HTTP响应的Body发送给浏览器；\n",
    "\n",
    "    浏览器收到HTTP响应，从HTTP Body取出HTML文档并显示。\n"
   ]
  },
  {
   "cell_type": "markdown",
   "metadata": {},
   "source": [
    "最简单的Web应用就是先把HTML用文件保存好，用一个现成的HTTP服务器软件，接收用户请求，从文件中读取HTML，返回。Apache、Nginx、Lighttpd等这些常见的静态服务器就是干这件事情的。"
   ]
  },
  {
   "cell_type": "markdown",
   "metadata": {},
   "source": [
    "正确的做法是底层代码由专门的服务器软件实现，我们用Python专注于生成HTML文档。因为我们不希望接触到TCP连接、HTTP原始请求和响应格式，所以，需要一个统一的接口，让我们专心用Python编写Web业务。\n",
    "\n",
    "这个接口就是WSGI：Web Server Gateway Interface。"
   ]
  },
  {
   "cell_type": "markdown",
   "metadata": {},
   "source": [
    "WSGI接口定义非常简单，它只要求Web开发者实现一个函数，就可以响应HTTP请求。我们来看一个最简单的Web版本的“Hello, web!”："
   ]
  },
  {
   "cell_type": "code",
   "execution_count": null,
   "metadata": {
    "collapsed": true
   },
   "outputs": [],
   "source": [
    "def application(environ, start_response):\n",
    "    start_response('200 OK', [('Content-Type', 'text/html')])\n",
    "    return [b'<h1>hello, web!</h1>']"
   ]
  },
  {
   "cell_type": "markdown",
   "metadata": {},
   "source": [
    "上面的application()函数就是符合WSGI标准的一个HTTP处理函数，它接收两个参数：\n",
    "\n",
    "    environ：一个包含所有HTTP请求信息的dict对象；\n",
    "\n",
    "    start_response：一个发送HTTP响应的函数。\n"
   ]
  },
  {
   "cell_type": "markdown",
   "metadata": {},
   "source": [
    "在application()函数中，调用：\n",
    "\n",
    "start_response('200 OK', [('Content-Type', 'text/html')])\n",
    "\n",
    "就发送了HTTP响应的Header，注意Header只能发送一次，也就是只能调用一次start_response()函数。start_response()函数接收两个参数，一个是HTTP响应码，一个是一组list表示的HTTP Header，每个Header用一个包含两个str的tuple表示。\n",
    "\n",
    "通常情况下，都应该把Content-Type头发送给浏览器。其他很多常用的HTTP Header也应该发送。\n",
    "\n",
    "然后，函数的返回值b'Hello, web!'将作为HTTP响应的Body发送给浏览器。\n",
    "\n",
    "有了WSGI，我们关心的就是如何从environ这个dict对象拿到HTTP请求信息，然后构造HTML，通过start_response()发送Header，最后返回Body。"
   ]
  },
  {
   "cell_type": "markdown",
   "metadata": {},
   "source": [
    "不过，等等，这个application()函数怎么调用？如果我们自己调用，两个参数environ和start_response我们没法提供，返回的bytes也没法发给浏览器。\n",
    "\n",
    "所以application()函数必须由WSGI服务器来调用。有很多符合WSGI规范的服务器，我们可以挑选一个来用。"
   ]
  },
  {
   "cell_type": "markdown",
   "metadata": {},
   "source": [
    "消息是Python内置了一个WSGI服务器，这个模块叫wsgiref，它是用纯Python编写的WSGI服务器的参考实现。所谓“参考实现”是指该实现完全符合WSGI标准，但是不考虑任何运行效率，仅供开发和测试使用"
   ]
  },
  {
   "cell_type": "markdown",
   "metadata": {},
   "source": [
    "#### 运行WSGI服务"
   ]
  },
  {
   "cell_type": "code",
   "execution_count": null,
   "metadata": {
    "collapsed": true
   },
   "outputs": [],
   "source": [
    "# hello.py\n",
    "\n",
    "def application(environ, start_response):\n",
    "    start_response('200 OK', [('Content-Type', 'text/html')])\n",
    "    return [b'<h1>Hello, web!</h1>']"
   ]
  },
  {
   "cell_type": "code",
   "execution_count": null,
   "metadata": {
    "collapsed": true
   },
   "outputs": [],
   "source": [
    "# server.py\n",
    "# 从wsgiref模块导入:\n",
    "from wsgiref.simple_server import make_server\n",
    "# 导入我们自己编写的application函数:\n",
    "from hello import application\n",
    "\n",
    "# 创建一个服务器，IP地址为空，端口是8000，处理函数是application:\n",
    "httpd = make_server('', 8000, application)\n",
    "print('Serving HTTP on port 8000...')\n",
    "# 开始监听HTTP请求:\n",
    "httpd.serve_forever()"
   ]
  },
  {
   "cell_type": "code",
   "execution_count": null,
   "metadata": {
    "collapsed": true
   },
   "outputs": [],
   "source": [
    "python server.py来启动WSGI服务器："
   ]
  },
  {
   "cell_type": "code",
   "execution_count": 6,
   "metadata": {
    "collapsed": false
   },
   "outputs": [
    {
     "ename": "SyntaxError",
     "evalue": "invalid syntax (<ipython-input-6-5d6651365888>, line 1)",
     "output_type": "error",
     "traceback": [
      "\u001b[0;36m  File \u001b[0;32m\"<ipython-input-6-5d6651365888>\"\u001b[0;36m, line \u001b[0;32m1\u001b[0m\n\u001b[0;31m    在命令行可以看到wsgiref打印的log信息\u001b[0m\n\u001b[0m    ^\u001b[0m\n\u001b[0;31mSyntaxError\u001b[0m\u001b[0;31m:\u001b[0m invalid syntax\n"
     ]
    }
   ],
   "source": [
    "在命令行可以看到wsgiref打印的log信息"
   ]
  },
  {
   "cell_type": "code",
   "execution_count": null,
   "metadata": {
    "collapsed": true
   },
   "outputs": [],
   "source": [
    "按Ctrl+C终止服务器。"
   ]
  },
  {
   "cell_type": "code",
   "execution_count": null,
   "metadata": {
    "collapsed": true
   },
   "outputs": [],
   "source": [
    "# 可以稍微改造一下，从environ里读取PATH_INFO，\n",
    "def application(environ, start_response):\n",
    "    start_response('200 OK', [('Content-Type', 'text/html')])\n",
    "    body = '<h1>Hello, %s!</h1>' % (environ['PATH_INFO'][1:] or 'web')\n",
    "    return [body.encode('utf-8')]"
   ]
  },
  {
   "cell_type": "markdown",
   "metadata": {},
   "source": [
    "无论多么复杂的Web应用程序，入口都是一个WSGI处理函数。HTTP请求的所有输入信息都可以通过environ获得，HTTP响应的输出都可以通过start_response()加上函数返回值作为Body。\n",
    "\n",
    "复杂的Web应用程序，光靠一个WSGI函数来处理还是太底层了，我们需要在WSGI之上再抽象出Web框架，进一步简化Web开发。"
   ]
  },
  {
   "cell_type": "markdown",
   "metadata": {},
   "source": [
    "### Web框架"
   ]
  },
  {
   "cell_type": "code",
   "execution_count": null,
   "metadata": {
    "collapsed": true
   },
   "outputs": [],
   "source": [
    "def application(environ, start_response):\n",
    "    method = environ['REQUEST_METHOD']\n",
    "    path = environ['PATH_INFO']\n",
    "    if method=='GET' and path=='/':\n",
    "        return handle_home(environ, start_response)\n",
    "    if method=='POST' and path='/signin':\n",
    "        return handle_signin(environ, start_response)\n",
    "    ..."
   ]
  },
  {
   "cell_type": "markdown",
   "metadata": {},
   "source": [
    "然后写一个app.py，处理3个URL，分别是：\n",
    "\n",
    "    GET /：首页，返回Home；\n",
    "\n",
    "    GET /signin：登录页，显示登录表单；\n",
    "\n",
    "    POST /signin：处理登录表单，显示登录结果。\n"
   ]
  },
  {
   "cell_type": "code",
   "execution_count": null,
   "metadata": {
    "collapsed": true
   },
   "outputs": [],
   "source": [
    "from flask import Flask\n",
    "from flask import request\n",
    "\n",
    "app = Flask(__name__)\n",
    "\n",
    "@app.route('/', methods=['GET', 'POST'])\n",
    "def home():\n",
    "    return '<h1>Home</h1>'\n",
    "\n",
    "@app.route('/signin', methods=['GET'])\n",
    "def signin_form():\n",
    "    return '''<form action=\"/signin\" method=\"post\">\n",
    "              <p><input name=\"username\"></p>\n",
    "              <p><input name=\"password\" type=\"password\"></p>\n",
    "              <p><button type=\"submit\">Sign In</button></p>\n",
    "              </form>'''\n",
    "\n",
    "@app.route('/signin', methods=['POST'])\n",
    "def signin():\n",
    "    # 需要从request对象读取表单内容：\n",
    "    if request.form['username']=='admin' and request.form['password']=='password':\n",
    "        return '<h3>Hello, admin!</h3>'\n",
    "    return '<h3>Bad username or password.</h3>'\n",
    "\n",
    "if __name__ == '__main__':\n",
    "    app.run()"
   ]
  },
  {
   "cell_type": "markdown",
   "metadata": {},
   "source": [
    "除了Flask，常见的Python Web框架还有：\n",
    "\n",
    "    Django：全能型Web框架；\n",
    "\n",
    "    web.py：一个小巧的Web框架；\n",
    "\n",
    "    Bottle：和Flask类似的Web框架；\n",
    "\n",
    "    Tornado：Facebook的开源异步Web框架。\n"
   ]
  },
  {
   "cell_type": "markdown",
   "metadata": {},
   "source": [
    "Flask通过request.form['name']来获取表单的内容。"
   ]
  },
  {
   "cell_type": "markdown",
   "metadata": {},
   "source": [
    "### 使用模板"
   ]
  },
  {
   "cell_type": "markdown",
   "metadata": {},
   "source": [
    "Model-View-Controller，中文名“模型-视图-控制器”。"
   ]
  },
  {
   "cell_type": "markdown",
   "metadata": {},
   "source": [
    "dict作为Model"
   ]
  },
  {
   "cell_type": "code",
   "execution_count": null,
   "metadata": {
    "collapsed": true
   },
   "outputs": [],
   "source": [
    "from flask import Flask, request, render_template\n",
    "\n",
    "app = Flask(__name__)\n",
    "\n",
    "@app.route('/', methods=['GET', 'POST'])\n",
    "def home():\n",
    "    return render_template('home.html')\n",
    "\n",
    "@app.route('/signin', methods=['GET'])\n",
    "def signin_form():\n",
    "    return render_template('form.html')\n",
    "\n",
    "@app.route('/signin', methods=['POST'])\n",
    "def signin():\n",
    "    username = request.form['username']\n",
    "    password = request.form['password']\n",
    "    if username=='admin' and password=='password':\n",
    "        return render_template('signin-ok.html', username=username)\n",
    "    return render_template('form.html', message='Bad username or password', username=username)\n",
    "\n",
    "if __name__ == '__main__':\n",
    "    app.run()"
   ]
  },
  {
   "cell_type": "markdown",
   "metadata": {},
   "source": [
    "Flask通过render_template()函数来实现模板的渲染。和Web框架类似，Python的模板也有很多种。Flask默认支持的模板是jinja2，"
   ]
  },
  {
   "cell_type": "markdown",
   "metadata": {},
   "source": [
    "一定要把模板放到正确的templates目录下，templates和app.py在同级目录下："
   ]
  },
  {
   "cell_type": "markdown",
   "metadata": {},
   "source": [
    "通过MVC，我们在Python代码中处理M：Model和C：Controller，而V：View是通过模板处理的，这样，我们就成功地把Python代码和HTML代码最大限度地分离了。1"
   ]
  },
  {
   "cell_type": "markdown",
   "metadata": {},
   "source": [
    "除了Jinja2，常见的模板还有：\n",
    "\n",
    "    Mako：用<% ... %>和${xxx}的一个模板；\n",
    "\n",
    "    Cheetah：也是用<% ... %>和${xxx}的一个模板；\n",
    "\n",
    "    Django：Django是一站式框架，内置一个用{% ... %}和{{ xxx }}的模板。\n"
   ]
  },
  {
   "cell_type": "code",
   "execution_count": null,
   "metadata": {
    "collapsed": true
   },
   "outputs": [],
   "source": []
  }
 ],
 "metadata": {
  "kernelspec": {
   "display_name": "Python 3",
   "language": "python",
   "name": "python3"
  },
  "language_info": {
   "codemirror_mode": {
    "name": "ipython",
    "version": 3
   },
   "file_extension": ".py",
   "mimetype": "text/x-python",
   "name": "python",
   "nbconvert_exporter": "python",
   "pygments_lexer": "ipython3",
   "version": "3.6.0"
  }
 },
 "nbformat": 4,
 "nbformat_minor": 1
}
