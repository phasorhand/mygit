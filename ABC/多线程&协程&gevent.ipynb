{
 "cells": [
  {
   "cell_type": "markdown",
   "metadata": {},
   "source": [
    "# Python中的异步IO和协程（Coroutine），并应用在爬虫中"
   ]
  },
  {
   "cell_type": "markdown",
   "metadata": {},
   "source": [
    "# 协程，what&how"
   ]
  },
  {
   "cell_type": "markdown",
   "metadata": {},
   "source": [
    "解决IO密集型任务（打开多个网站）：多线程多进程。但是一台电脑中的线程数、进程数是\n",
    "有限的，而且切换也比较浪费时间，所以就出现了\"协程\"。\n",
    "协程允许一个执行过程A终端，然后转到B执行过程，在适当的时候再转回来，有点类似多线程\n",
    "协程优势：\n",
    "    协程的数量理论上可以是无限个，而且没有线程之间的切换动作，执行效率比线程高。\n",
    "    协程不需要“锁”机制，即不需要lock和release过程，因为所有的协程都在一个线程中。\n",
    "    相对于线程，协程更容易调试debug，因为所有的代码都是顺序执行的。"
   ]
  },
  {
   "cell_type": "markdown",
   "metadata": {},
   "source": [
    "# Python中的一部IO和协程"
   ]
  },
  {
   "cell_type": "markdown",
   "metadata": {},
   "source": [
    "Python中的协程是通过“生成器（generator)”的概念实现的。"
   ]
  },
  {
   "cell_type": "code",
   "execution_count": 3,
   "metadata": {
    "collapsed": false
   },
   "outputs": [
    {
     "name": "stdout",
     "output_type": "stream",
     "text": [
      "[Producer] Init Producer ...\n",
      "[Consumer] INit Consumer ...\n",
      "{Producer} Start Consumer, return init ok\n",
      "[Producer] While, Producing 1 ...\n",
      "[Consumer] conusme n = 1, r = init ok\n",
      "[Producer] Consumer return: consume 1 OK\n",
      "[Producer] While, Producing 2 ...\n",
      "[Consumer] conusme n = 2, r = consume 1 OK\n",
      "[Producer] Consumer return: consume 2 OK\n",
      "[Producer] While, Producing 3 ...\n",
      "[Consumer] conusme n = 3, r = consume 2 OK\n",
      "[Producer] Consumer return: consume 3 OK\n",
      "[Producer] While, Producing 4 ...\n",
      "[Consumer] conusme n = 4, r = consume 3 OK\n",
      "[Producer] Consumer return: consume 4 OK\n",
      "[Producer] While, Producing 5 ...\n",
      "[Consumer] conusme n = 5, r = consume 4 OK\n",
      "[Producer] Consumer return: consume 5 OK\n",
      "[Producer] Close Producerr ...\n"
     ]
    }
   ],
   "source": [
    "def consumer():\n",
    "    print(\"[Consumer] INit Consumer ...\")\n",
    "    r = \"init ok\"\n",
    "    while True:\n",
    "        n = yield r\n",
    "        print(\"[Consumer] conusme n = %s, r = %s\" % (n, r))\n",
    "        r = \"consume %s OK\" % n\n",
    "\n",
    "def produce(c):\n",
    "    print(\"[Producer] Init Producer ...\")\n",
    "    r = c.send(None)\n",
    "    print(\"{Producer} Start Consumer, return %s\" % r)\n",
    "    n = 0\n",
    "    while n < 5:\n",
    "        n += 1\n",
    "        print(\"[Producer] While, Producing %s ...\" % n)\n",
    "        r = c.send(n)\n",
    "        print(\"[Producer] Consumer return: %s\" % r)\n",
    "    c.close()\n",
    "    print(\"[Producer] Close Producerr ...\")\n",
    "\n",
    "produce(consumer())              \n",
    "            "
   ]
  },
  {
   "cell_type": "markdown",
   "metadata": {},
   "source": [
    "异步IO，在Python3.4中可以使用asyncio标准库。该标准库支持一个时间循环模型（EventLoop），\n",
    "我们声明写成功，然后将其加入到EventLOOP中，即可实现异步IO"
   ]
  },
  {
   "cell_type": "code",
   "execution_count": 9,
   "metadata": {
    "collapsed": false
   },
   "outputs": [
    {
     "ename": "SyntaxError",
     "evalue": "invalid syntax (<ipython-input-9-d48801201ce6>, line 5)",
     "output_type": "error",
     "traceback": [
      "\u001b[0;36m  File \u001b[0;32m\"<ipython-input-9-d48801201ce6>\"\u001b[0;36m, line \u001b[0;32m5\u001b[0m\n\u001b[0;31m    yield from asyncio.sleep(1) # 模拟IO任务\u001b[0m\n\u001b[0m        ^\u001b[0m\n\u001b[0;31mSyntaxError\u001b[0m\u001b[0;31m:\u001b[0m invalid syntax\n"
     ]
    }
   ],
   "source": [
    "# 一部IO例子： 适配Python3.4， 使用asyncio库\n",
    "@asyncio.coroutine\n",
    "def hello(index): # 通过装饰器asyncio.coroutine定义协程\n",
    "    print(\"hello world! index= %s, thread= %s\" % (index, threading.currendThread())\n",
    "    yield from asyncio.sleep(1) # 模拟IO任务\n",
    "    print(\"hello again! index= %s, thread= %s\" % (index, threading.currentThread))\n",
    "    \n",
    "loop = asyncio.get_event_loop() #得到一个事件循环模型\n",
    "tasks = [hello(1), hello(2)] # 初始化任务列表\n",
    "loop.run_until_complete(asyncio.wait(tasks)) # 执行任务\n",
    "loop.close() # 关闭事件循环列表"
   ]
  },
  {
   "cell_type": "markdown",
   "metadata": {},
   "source": [
    "# Python3.5中引入了关于异步IO的新语法：async和awiat关键字"
   ]
  },
  {
   "cell_type": "code",
   "execution_count": 1,
   "metadata": {
    "collapsed": false
   },
   "outputs": [
    {
     "ename": "SyntaxError",
     "evalue": "invalid syntax (<ipython-input-1-03faad715840>, line 1)",
     "output_type": "error",
     "traceback": [
      "\u001b[0;36m  File \u001b[0;32m\"<ipython-input-1-03faad715840>\"\u001b[0;36m, line \u001b[0;32m1\u001b[0m\n\u001b[0;31m    async def hello(index): # 将一个函数声明为协程函数，函数执行时返回一个协程对象。\u001b[0m\n\u001b[0m            ^\u001b[0m\n\u001b[0;31mSyntaxError\u001b[0m\u001b[0;31m:\u001b[0m invalid syntax\n"
     ]
    }
   ],
   "source": [
    "async def hello(index): # 将一个函数声明为协程函数，函数执行时返回一个协程对象。\n",
    "    print(\"hello world! index= %s, thread= %s\"  % (index, threading.currentThread())\n",
    "    await asyncio.sleep(1) # 模拟IO任务 ，awiat将暂停协程函数的执行，等待异步IO返回结果\n",
    "    print(\"hello agagin! index= %s, thread = %s\" % (index, threading.currentThread())\n",
    "\n",
    "loop = asyncio.get_event_loop() # 得到一个事件循环模型\n",
    "tasks = [hello(1), hello(2)] # 初始化任务列表\n",
    "loop.run_until_complete(asyncio.wait(tasks)) # 执行任务\n",
    "loop.close() # 关闭事件循环列表"
   ]
  },
  {
   "cell_type": "markdown",
   "metadata": {},
   "source": [
    "# 爬虫中使用协程实现异步IO"
   ]
  },
  {
   "cell_type": "markdown",
   "metadata": {},
   "source": [
    "异步IO特别适合爬虫的工作，因为爬虫所有的请求都属于IO密集型任务，想得到比较好的爬虫效率，使用协程很重要。关于http异步请求，建议使用aiohttp库，一个异步的\n",
    "http客户端/服务器框架。"
   ]
  },
  {
   "cell_type": "code",
   "execution_count": 2,
   "metadata": {
    "collapsed": false
   },
   "outputs": [
    {
     "ename": "SyntaxError",
     "evalue": "invalid syntax (<ipython-input-2-27140280b81e>, line 1)",
     "output_type": "error",
     "traceback": [
      "\u001b[0;36m  File \u001b[0;32m\"<ipython-input-2-27140280b81e>\"\u001b[0;36m, line \u001b[0;32m1\u001b[0m\n\u001b[0;31m    async def get(url)：\u001b[0m\n\u001b[0m            ^\u001b[0m\n\u001b[0;31mSyntaxError\u001b[0m\u001b[0;31m:\u001b[0m invalid syntax\n"
     ]
    }
   ],
   "source": [
    "async def get(url)：\n",
    "async with aiohttp.ClientSession() as session:\n",
    "async with session.get(url) as resp:\n",
    "    print(url, resp.status)\n",
    "    print(url, await resp.text())\n",
    "    \n",
    "loop = asyncio.get_event_loop()\n",
    "tasks = [\n",
    "    get(\"http1\"),\n",
    "    get(\"http2\"),\n",
    "    get(\"http3\")\n",
    "]\n",
    "loop.run_until_complete(asyncio.wait(tasks))\n",
    "loop.close()"
   ]
  },
  {
   "cell_type": "markdown",
   "metadata": {},
   "source": [
    "# 廖http://www.liaoxuefeng.com/wiki/001374738125095c955c1e6d8bb493182103fac9270762a000/0013868328689835ecd883d910145dfa8227b539725e5ed000"
   ]
  },
  {
   "cell_type": "code",
   "execution_count": 3,
   "metadata": {
    "collapsed": false
   },
   "outputs": [
    {
     "name": "stdout",
     "output_type": "stream",
     "text": [
      "[Producer] Producing 1 ...\n",
      "[consumer] Consuming 1\n",
      "[Producer] Consumer return 200 OK...\n",
      "[Producer] Producing 2 ...\n",
      "[consumer] Consuming 2\n",
      "[Producer] Consumer return 200 OK...\n",
      "[Producer] Producing 3 ...\n",
      "[consumer] Consuming 3\n",
      "[Producer] Consumer return 200 OK...\n",
      "[Producer] Producing 4 ...\n",
      "[consumer] Consuming 4\n",
      "[Producer] Consumer return 200 OK...\n",
      "[Producer] Producing 5 ...\n",
      "[consumer] Consuming 5\n",
      "[Producer] Consumer return 200 OK...\n"
     ]
    }
   ],
   "source": [
    "import time\n",
    "\n",
    "def consumer():\n",
    "    r = \"\"\n",
    "    while True:\n",
    "        n = yield r # 为什么要加 \"n =\" \n",
    "        if not n:\n",
    "            return\n",
    "        print(\"[consumer] Consuming %s\" % n)\n",
    "        time.sleep(1)\n",
    "        r = \"200 OK\"\n",
    "        \n",
    "def produce(c):\n",
    "    c.next()\n",
    "    n = 0\n",
    "    while n < 5:\n",
    "        n += 1\n",
    "        print(\"[Producer] Producing %s ...\" % n)\n",
    "        r = c.send(n)\n",
    "        print(\"[Producer] Consumer return %s...\" % r)\n",
    "    c.close()\n",
    "if __name__ == \"__main__\":\n",
    "    c = consumer()\n",
    "    produce(c)"
   ]
  },
  {
   "cell_type": "markdown",
   "metadata": {},
   "source": [
    "## gevent"
   ]
  },
  {
   "cell_type": "markdown",
   "metadata": {},
   "source": [
    "Python通过yield提供了对协程的基本支持，但不完全，而第三方gevent为Pyhton提供了比较完全的协程支持gevent是第三方库，通过greenlet实现协程：当一个grennlet遇到IO操作的时候（比如访问网络）就自动切换到其他greenlet，等到IO操作完成，再在适当的时候切换回来\n",
    "继续执行。由于IO非常耗时，经常使程序处于等待状态，有了gevent为我们自动切换协程，就保证总有greenlet在运行，而不是等待IO。由于切换是在IO操作时自动完成，所以gevent需要修改Python自带的一些标准库，这一过程在启动时通过monkey patch完成："
   ]
  },
  {
   "cell_type": "code",
   "execution_count": 5,
   "metadata": {
    "collapsed": false
   },
   "outputs": [
    {
     "name": "stdout",
     "output_type": "stream",
     "text": [
      "<Greenlet at 0x3bb95d0: f(5)> 0\n",
      "<Greenlet at 0x3bb95d0: f(5)> 1\n",
      "<Greenlet at 0x3bb95d0: f(5)> 2\n",
      "<Greenlet at 0x3bb95d0: f(5)> 3\n",
      "<Greenlet at 0x3bb95d0: f(5)> 4\n",
      "<Greenlet at 0x3bb9710: f(5)> 0\n",
      "<Greenlet at 0x3bb9710: f(5)> 1\n",
      "<Greenlet at 0x3bb9710: f(5)> 2\n",
      "<Greenlet at 0x3bb9710: f(5)> 3\n",
      "<Greenlet at 0x3bb9710: f(5)> 4\n",
      "<Greenlet at 0x3bb9760: f(5)> 0\n",
      "<Greenlet at 0x3bb9760: f(5)> 1\n",
      "<Greenlet at 0x3bb9760: f(5)> 2\n",
      "<Greenlet at 0x3bb9760: f(5)> 3\n",
      "<Greenlet at 0x3bb9760: f(5)> 4\n"
     ]
    }
   ],
   "source": [
    "from gevent import monkey; monkey.patch_socket()\n",
    "import gevent\n",
    "\n",
    "def f(n):\n",
    "    for i in range(n):\n",
    "        print gevent.getcurrent(), i\n",
    "        \n",
    "g1 = gevent.spawn(f, 5)\n",
    "g2 = gevent.spawn(f, 5)\n",
    "g3 = gevent.spawn(f, 5)\n",
    "g1.join()\n",
    "g2.join()\n",
    "g3.join()"
   ]
  },
  {
   "cell_type": "markdown",
   "metadata": {},
   "source": [
    "要使gevent交替运行只需通过gevent.sleep()交出控制权"
   ]
  },
  {
   "cell_type": "code",
   "execution_count": 6,
   "metadata": {
    "collapsed": false
   },
   "outputs": [
    {
     "name": "stdout",
     "output_type": "stream",
     "text": [
      "<Greenlet at 0x3bb9990: f(5)> 0\n",
      "<Greenlet at 0x3bb9800: f(5)> 0\n",
      "<Greenlet at 0x3bb9710: f(5)> 0\n",
      "<Greenlet at 0x3bb9990: f(5)> 1\n",
      "<Greenlet at 0x3bb9800: f(5)> 1\n",
      "<Greenlet at 0x3bb9710: f(5)> 1\n",
      "<Greenlet at 0x3bb9990: f(5)> 2\n",
      "<Greenlet at 0x3bb9800: f(5)> 2\n",
      "<Greenlet at 0x3bb9710: f(5)> 2\n",
      "<Greenlet at 0x3bb9990: f(5)> 3\n",
      "<Greenlet at 0x3bb9800: f(5)> 3\n",
      "<Greenlet at 0x3bb9710: f(5)> 3\n",
      "<Greenlet at 0x3bb9990: f(5)> 4\n",
      "<Greenlet at 0x3bb9800: f(5)> 4\n",
      "<Greenlet at 0x3bb9710: f(5)> 4\n"
     ]
    }
   ],
   "source": [
    "from gevent import monkey; monkey.patch_socket()\n",
    "import gevent\n",
    "\n",
    "def f(n):\n",
    "    for i in range(n):\n",
    "        print gevent.getcurrent(), i\n",
    "        gevent.sleep(0)\n",
    "        \n",
    "g1 = gevent.spawn(f, 5)\n",
    "g2 = gevent.spawn(f, 5)\n",
    "g3 = gevent.spawn(f, 5)\n",
    "g1.join()\n",
    "g2.join()\n",
    "g3.join()"
   ]
  },
  {
   "cell_type": "markdown",
   "metadata": {},
   "source": [
    "实际上我们不用sleep()去切换，而gevent自动切换"
   ]
  },
  {
   "cell_type": "code",
   "execution_count": null,
   "metadata": {
    "collapsed": false
   },
   "outputs": [
    {
     "name": "stdout",
     "output_type": "stream",
     "text": [
      "Get: http://www.baidu.org\n",
      "Get: http://www.sina.com\n",
      "Get: http://www.github.com\n",
      "The history saving thread hit an unexpected error (LoopExit('This operation would block forever', <Hub at 0x3bedb20 select pending=0 ref=0>)).History will not be written to the database.\n",
      "88795 bytes received from http://www.baidu.org.\n",
      "133509 bytes received from http://www.sina.com.\n",
      "25324 bytes received from http://www.github.com.\n"
     ]
    }
   ],
   "source": [
    "from gevent import monkey; monkey.patch_all()\n",
    "import gevent\n",
    "import urllib2\n",
    "\n",
    "def f(url):\n",
    "    print(\"Get: %s\" % url)\n",
    "    resp = urllib2.urlopen(url)\n",
    "    data = resp.read()\n",
    "    print(\"%d bytes received from %s.\" % (len(data), url))\n",
    "\n",
    "gevent.joinall([\n",
    "        gevent.spawn(f, \"http://www.baidu.org\"),\n",
    "        gevent.spawn(f, \"http://www.sina.com\"),\n",
    "        gevent.spawn(f, \"http://www.github.com\")\n",
    "    ])"
   ]
  },
  {
   "cell_type": "markdown",
   "metadata": {},
   "source": [
    "由于gevent是基于IO切换的协程，所以最神奇的是，我们编写的Web App代码，不需要引入gevent的包，也不需要改任何代码，仅仅在部署的时候，用一个支持gevent的WSGI服务器，立刻就获得了数倍的性能提升。具体部署方式可以参考后续“实战”-“部署Web App”一节。"
   ]
  },
  {
   "cell_type": "code",
   "execution_count": null,
   "metadata": {
    "collapsed": true
   },
   "outputs": [],
   "source": []
  }
 ],
 "metadata": {
  "kernelspec": {
   "display_name": "Python 2",
   "language": "python",
   "name": "python2"
  },
  "language_info": {
   "codemirror_mode": {
    "name": "ipython",
    "version": 2
   },
   "file_extension": ".py",
   "mimetype": "text/x-python",
   "name": "python",
   "nbconvert_exporter": "python",
   "pygments_lexer": "ipython2",
   "version": "2.7.12"
  }
 },
 "nbformat": 4,
 "nbformat_minor": 1
}
