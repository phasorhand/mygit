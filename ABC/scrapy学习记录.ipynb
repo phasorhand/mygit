{
 "cells": [
  {
   "cell_type": "code",
   "execution_count": null,
   "metadata": {
    "collapsed": true
   },
   "outputs": [],
   "source": [
    "links = response.xpath('//td[descendant::a[contains(@href, \"#pagerank\")]]/following-sibling::td/font')\n",
    "\n",
    "\n",
    "for link in links:\n",
    "    item = DirectoryItem()\n",
    "    item['name'] = link.xpath('a/text()').extract()\n",
    "    item['url'] = link.xpath('a/@href').extract()\n",
    "    item['description'] = link.xpath('font[2]/text()').extract()\n",
    "    yield item"
   ]
  }
 ],
 "metadata": {
  "kernelspec": {
   "display_name": "Python 2",
   "language": "python",
   "name": "python2"
  },
  "language_info": {
   "codemirror_mode": {
    "name": "ipython",
    "version": 2
   },
   "file_extension": ".py",
   "mimetype": "text/x-python",
   "name": "python",
   "nbconvert_exporter": "python",
   "pygments_lexer": "ipython2",
   "version": "2.7.12"
  }
 },
 "nbformat": 4,
 "nbformat_minor": 1
}
