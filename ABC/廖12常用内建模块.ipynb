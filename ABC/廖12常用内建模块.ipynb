{
 "cells": [
  {
   "cell_type": "markdown",
   "metadata": {},
   "source": [
    "### datetime"
   ]
  },
  {
   "cell_type": "markdown",
   "metadata": {},
   "source": [
    "标准库"
   ]
  },
  {
   "cell_type": "code",
   "execution_count": 6,
   "metadata": {
    "collapsed": false
   },
   "outputs": [
    {
     "name": "stdout",
     "output_type": "stream",
     "text": [
      "2016-12-17 20:37:10.496000\n",
      "<type 'datetime.datetime'>\n",
      "2015-04-19 12:20:00\n"
     ]
    }
   ],
   "source": [
    "# 获取当前日期和时间：\n",
    "from datetime import datetime # 模块中导入类\n",
    "\n",
    "print datetime.now()\n",
    "print type(datetime.now())\n",
    "\n",
    "# 获取指定日期和时间\n",
    "print datetime(2015, 4, 19, 12, 20)\n",
    "\n",
    "# time转换为timestamp，epoch time 1970.1.1， \n",
    "# timestamp = 0 = 1970-1-1 00:00 UTC+0:00\n",
    "# timestamp = 0 = 1970-1-1 08:00 UTC+8:00\n",
    "\n",
    "# print datetime(2015, 4, 19, 12, 20).timestamp() # 把datetime转换为timestamp\n",
    "# 注意Python的timestamp是一个浮点数。如果有小数位，小数位表示毫秒数。"
   ]
  },
  {
   "cell_type": "markdown",
   "metadata": {},
   "source": [
    "某些编程语言（如Java和JavaScript）的timestamp使用整数表示毫秒数，这种情况下只需要把timestamp除以1000就得到Python的浮点表示方法。"
   ]
  },
  {
   "cell_type": "code",
   "execution_count": 10,
   "metadata": {
    "collapsed": false
   },
   "outputs": [],
   "source": [
    "# timestamp转换为datetime 涉及到是本地时间还是格林威治时间\n",
    "from datetime import datetime\n",
    "t = 3414325355.0\n",
    "# print datetime.formtimestamp(t"
   ]
  },
  {
   "cell_type": "markdown",
   "metadata": {},
   "source": [
    "#### str转为datetime"
   ]
  },
  {
   "cell_type": "code",
   "execution_count": 12,
   "metadata": {
    "collapsed": false
   },
   "outputs": [],
   "source": [
    "from datetime import datetime\n",
    "# print datetime.striptime('2015-6-1 18:19:59', '%Y-%m-%d %H:%M:%S')\n",
    "# 转换后是没有时区信息的"
   ]
  },
  {
   "cell_type": "markdown",
   "metadata": {},
   "source": [
    "#### datetime转为str"
   ]
  },
  {
   "cell_type": "code",
   "execution_count": 15,
   "metadata": {
    "collapsed": false
   },
   "outputs": [
    {
     "data": {
      "text/plain": [
       "'Sat, Dec 17 20:44'"
      ]
     },
     "execution_count": 15,
     "metadata": {},
     "output_type": "execute_result"
    }
   ],
   "source": [
    "from datetime import datetime\n",
    "datetime.now().strftime('%a, %b %d %H:%M')"
   ]
  },
  {
   "cell_type": "markdown",
   "metadata": {},
   "source": [
    "#### datetime加减"
   ]
  },
  {
   "cell_type": "markdown",
   "metadata": {},
   "source": [
    "可直接+ -但需要导入timedelta类"
   ]
  },
  {
   "cell_type": "code",
   "execution_count": 19,
   "metadata": {
    "collapsed": false
   },
   "outputs": [
    {
     "data": {
      "text/plain": [
       "datetime.datetime(2016, 12, 19, 22, 46, 46, 57000)"
      ]
     },
     "execution_count": 19,
     "metadata": {},
     "output_type": "execute_result"
    }
   ],
   "source": [
    "from datetime import datetime,timedelta\n",
    "datetime.now() + timedelta(hours=10)\n",
    "datetime.now() - timedelta(days=1)\n",
    "datetime.now() + timedelta(days=2, hours=2)"
   ]
  },
  {
   "cell_type": "markdown",
   "metadata": {},
   "source": [
    "#### 本地时间转为UTC时间"
   ]
  },
  {
   "cell_type": "code",
   "execution_count": 22,
   "metadata": {
    "collapsed": false
   },
   "outputs": [
    {
     "data": {
      "text/plain": [
       "'\\nfrom datetime import datetime, timedelta, timezone\\ntz_utc_9 = timezone\\xef\\xbc\\x88timedelta(hours=8)\\ndatetime.now()\\ndatetime.datetime(2015, 5, 18, 17, 2, 10, 871012)\\ndt = now.replace(tzinfo=tz_utc_8) # \\xe5\\xbc\\xba\\xe5\\x88\\xb6\\xe8\\xae\\xbe\\xe7\\xbd\\xae\\xe4\\xb8\\xbaUTC+8:00\\nprint \\ndt\\ndatetime.datetime(2015, 5, 18, 17, 2, 10, 871012, tzinfo=datetime.timezone(datetime.timedelta(0, 28800)))\\n'"
      ]
     },
     "execution_count": 22,
     "metadata": {},
     "output_type": "execute_result"
    }
   ],
   "source": [
    "# tzinfo\n",
    "'''\n",
    "from datetime import datetime, timedelta, timezone\n",
    "tz_utc_9 = timezone（timedelta(hours=8)\n",
    "datetime.now()\n",
    "datetime.datetime(2015, 5, 18, 17, 2, 10, 871012)\n",
    "dt = now.replace(tzinfo=tz_utc_8) # 强制设置为UTC+8:00\n",
    "print \n",
    "dt\n",
    "datetime.datetime(2015, 5, 18, 17, 2, 10, 871012, tzinfo=datetime.timezone(datetime.timedelta(0, 28800)))\n",
    "'''"
   ]
  },
  {
   "cell_type": "markdown",
   "metadata": {},
   "source": [
    "#### 时区转换·"
   ]
  },
  {
   "cell_type": "markdown",
   "metadata": {},
   "source": [
    "我们可以先通过utcnow()拿到当前的UTC时间，再转换为任意时区的时间"
   ]
  },
  {
   "cell_type": "code",
   "execution_count": 24,
   "metadata": {
    "collapsed": false
   },
   "outputs": [
    {
     "data": {
      "text/plain": [
       "'\\n# \\xe6\\x8b\\xbf\\xe5\\x88\\xb0UTC\\xe6\\x97\\xb6\\xe9\\x97\\xb4\\xef\\xbc\\x8c\\xe5\\xb9\\xb6\\xe5\\xbc\\xba\\xe5\\x88\\xb6\\xe8\\xae\\xbe\\xe7\\xbd\\xae\\xe6\\x97\\xb6\\xe5\\x8c\\xba\\xe4\\xb8\\xbaUTC+0:00:\\n>>> utc_dt = datetime.utcnow().replace(tzinfo=timezone.utc)\\n>>> print(utc_dt)\\n2015-05-18 09:05:12.377316+00:00\\n# astimezone()\\xe5\\xb0\\x86\\xe8\\xbd\\xac\\xe6\\x8d\\xa2\\xe6\\x97\\xb6\\xe5\\x8c\\xba\\xe4\\xb8\\xba\\xe5\\x8c\\x97\\xe4\\xba\\xac\\xe6\\x97\\xb6\\xe9\\x97\\xb4:\\n>>> bj_dt = utc_dt.astimezone(timezone(timedelta(hours=8)))\\n>>> print(bj_dt)\\n2015-05-18 17:05:12.377316+08:00\\n# astimezone()\\xe5\\xb0\\x86\\xe8\\xbd\\xac\\xe6\\x8d\\xa2\\xe6\\x97\\xb6\\xe5\\x8c\\xba\\xe4\\xb8\\xba\\xe4\\xb8\\x9c\\xe4\\xba\\xac\\xe6\\x97\\xb6\\xe9\\x97\\xb4:\\n>>> tokyo_dt = utc_dt.astimezone(timezone(timedelta(hours=9)))\\n>>> print(tokyo_dt)\\n2015-05-18 18:05:12.377316+09:00\\n# astimezone()\\xe5\\xb0\\x86bj_dt\\xe8\\xbd\\xac\\xe6\\x8d\\xa2\\xe6\\x97\\xb6\\xe5\\x8c\\xba\\xe4\\xb8\\xba\\xe4\\xb8\\x9c\\xe4\\xba\\xac\\xe6\\x97\\xb6\\xe9\\x97\\xb4:\\n>>> tokyo_dt2 = bj_dt.astimezone(timezone(timedelta(hours=9)))\\n>>> print(tokyo_dt2)\\n2015-05-18 18:05:12.377316+09:00\\n\\n'"
      ]
     },
     "execution_count": 24,
     "metadata": {},
     "output_type": "execute_result"
    }
   ],
   "source": [
    "'''\n",
    "# 拿到UTC时间，并强制设置时区为UTC+0:00:\n",
    ">>> utc_dt = datetime.utcnow().replace(tzinfo=timezone.utc)\n",
    ">>> print(utc_dt)\n",
    "2015-05-18 09:05:12.377316+00:00\n",
    "# astimezone()将转换时区为北京时间:\n",
    ">>> bj_dt = utc_dt.astimezone(timezone(timedelta(hours=8)))\n",
    ">>> print(bj_dt)\n",
    "2015-05-18 17:05:12.377316+08:00\n",
    "# astimezone()将转换时区为东京时间:\n",
    ">>> tokyo_dt = utc_dt.astimezone(timezone(timedelta(hours=9)))\n",
    ">>> print(tokyo_dt)\n",
    "2015-05-18 18:05:12.377316+09:00\n",
    "# astimezone()将bj_dt转换时区为东京时间:\n",
    ">>> tokyo_dt2 = bj_dt.astimezone(timezone(timedelta(hours=9)))\n",
    ">>> print(tokyo_dt2)\n",
    "2015-05-18 18:05:12.377316+09:00\n",
    "\n",
    "'''"
   ]
  },
  {
   "cell_type": "markdown",
   "metadata": {},
   "source": [
    "时区转换的关键在于，拿到一个datetime时，要获知其正确的时区，然后强制设置时区，作为基准时间。\n",
    "\n",
    "利用带时区的datetime，通过astimezone()方法，可以转换到任意时区。\n",
    "\n",
    "注：不是必须从UTC+0:00时区转换到其他时区，任何带时区的datetime都可以正确转换，例如上述bj_dt到tokyo_dt的转换。"
   ]
  },
  {
   "cell_type": "markdown",
   "metadata": {},
   "source": [
    "小结\n",
    "\n",
    "datetime表示的时间需要时区信息才能确定一个特定的时间，否则只能视为本地时间。\n",
    "\n",
    "如果要存储datetime，最佳方法是将其转换为timestamp再存储，因为timestamp的值与时区完全无关。"
   ]
  },
  {
   "cell_type": "markdown",
   "metadata": {},
   "source": [
    "### collections"
   ]
  },
  {
   "cell_type": "markdown",
   "metadata": {},
   "source": [
    "collections是Python内建的一个集合模块，提供了许多有用的集合类。"
   ]
  },
  {
   "cell_type": "markdown",
   "metadata": {},
   "source": [
    "#### namedtuple"
   ]
  },
  {
   "cell_type": "code",
   "execution_count": 27,
   "metadata": {
    "collapsed": false
   },
   "outputs": [
    {
     "data": {
      "text/plain": [
       "2"
      ]
     },
     "execution_count": 27,
     "metadata": {},
     "output_type": "execute_result"
    }
   ],
   "source": [
    "from collections import namedtuple\n",
    "Point = namedtuple('Point', ['x', 'y'])\n",
    "p = Point(1, 2)\n",
    "p.x\n",
    "p.y"
   ]
  },
  {
   "cell_type": "markdown",
   "metadata": {},
   "source": [
    "namedtuple是一个函数，它用来创建一个自定义的tuple对象，并且规定了tuple元素的个数，并可以用属性而不是索引来引用tuple的某个元素。"
   ]
  },
  {
   "cell_type": "code",
   "execution_count": 28,
   "metadata": {
    "collapsed": true
   },
   "outputs": [],
   "source": [
    "# namedtuple('名称’， [属性list])"
   ]
  },
  {
   "cell_type": "markdown",
   "metadata": {},
   "source": [
    "#### deque"
   ]
  },
  {
   "cell_type": "markdown",
   "metadata": {},
   "source": [
    "使用list存储数据时，按索引访问元素很快，但是插入和删除元素就很慢了，因为list是线性存储，数据量大的时候，插入和删除效率很低。\n",
    "\n",
    "deque是为了高效实现插入和删除操作的双向列表，适合用于队列和栈："
   ]
  },
  {
   "cell_type": "code",
   "execution_count": 30,
   "metadata": {
    "collapsed": false
   },
   "outputs": [
    {
     "name": "stdout",
     "output_type": "stream",
     "text": [
      "deque(['y', 'a', 'b', 'c', 'x'])\n"
     ]
    }
   ],
   "source": [
    "from collections import deque\n",
    "q = deque(['a', 'b', 'c'])\n",
    "q.append('x')\n",
    "q.appendleft('y')\n",
    "# popleft()\n",
    "print q"
   ]
  },
  {
   "cell_type": "markdown",
   "metadata": {},
   "source": [
    "#### defaultdict"
   ]
  },
  {
   "cell_type": "markdown",
   "metadata": {},
   "source": [
    "使用dict时，如果引用的Key不存在，就会抛出KeyError。如果希望key不存在时，返回一个默认值，就可以用defaultdict："
   ]
  },
  {
   "cell_type": "code",
   "execution_count": 31,
   "metadata": {
    "collapsed": false
   },
   "outputs": [
    {
     "name": "stdout",
     "output_type": "stream",
     "text": [
      "abc\n",
      "N/A\n"
     ]
    }
   ],
   "source": [
    "from collections import defaultdict\n",
    "dd = defaultdict(lambda: 'N/A')\n",
    "dd['key1'] = 'abc'\n",
    "print dd['key1']\n",
    "print dd['key2']"
   ]
  },
  {
   "cell_type": "markdown",
   "metadata": {},
   "source": [
    "#### OrderDict"
   ]
  },
  {
   "cell_type": "markdown",
   "metadata": {},
   "source": [
    "使用dict时，Key是无序的。在对dict做迭代时，我们无法确定Key的顺序。\n",
    "\n",
    "如果要保持Key的顺序，可以用OrderedDict"
   ]
  },
  {
   "cell_type": "code",
   "execution_count": 34,
   "metadata": {
    "collapsed": false
   },
   "outputs": [
    {
     "name": "stdout",
     "output_type": "stream",
     "text": [
      "{'a': 1, 'c': 3, 'b': 2}\n",
      "OrderedDict([('a', 1), ('c', 3), ('b', 2)])\n"
     ]
    }
   ],
   "source": [
    "from collections import OrderedDict\n",
    "d = dict([('a', 1), ('b', 2), ('c', 3)])\n",
    "print d\n",
    "od = OrderedDict(d)\n",
    "print od"
   ]
  },
  {
   "cell_type": "markdown",
   "metadata": {},
   "source": [
    "注意，OrderedDict的Key会按照插入的顺序排列，不是Key本身排序："
   ]
  },
  {
   "cell_type": "markdown",
   "metadata": {},
   "source": [
    "OrderedDict可以实现一个FIFO（先进先出）的dict，当容量超出限制时，先删除最早添加的Key："
   ]
  },
  {
   "cell_type": "code",
   "execution_count": 35,
   "metadata": {
    "collapsed": true
   },
   "outputs": [],
   "source": [
    "from collections import OrderedDict\n",
    "\n",
    "class LastUpdateOrderedDict(OrderedDict):\n",
    "    \n",
    "    def __init__(self, capacity):\n",
    "        super(LastUpdateOrderedDict, self),__init__()\n",
    "        self._capacity = capacity\n",
    "        \n",
    "    def __setitem__(self, key, value):\n",
    "        containsKey = 1 if key in self else 0\n",
    "        if len(self) - containsKey >= self._capacity:\n",
    "            last = self.popitem(last=False)\n",
    "            print 'remove:', last\n",
    "        if containsKey:\n",
    "            del self[key]\n",
    "            print 'set:', (key, value)\n",
    "        else:\n",
    "            print 'add:', (key, value)\n",
    "        OrderedDict.__setitem__(self, key, value)"
   ]
  },
  {
   "cell_type": "markdown",
   "metadata": {},
   "source": [
    "#### Counter"
   ]
  },
  {
   "cell_type": "markdown",
   "metadata": {},
   "source": [
    "Counter是一个简单的计数器，例如，统计字符出现的个数："
   ]
  },
  {
   "cell_type": "code",
   "execution_count": 37,
   "metadata": {
    "collapsed": false
   },
   "outputs": [
    {
     "name": "stdout",
     "output_type": "stream",
     "text": [
      "Counter({'g': 2, 'm': 2, 'r': 2, 'a': 1, 'i': 1, 'o': 1, 'n': 1, 'p': 1})\n"
     ]
    }
   ],
   "source": [
    "from collections import Counter\n",
    "\n",
    "c = Counter()\n",
    "for ch in 'programming':\n",
    "    c[ch] = c[ch] + 1\n",
    "\n",
    "print c"
   ]
  },
  {
   "cell_type": "markdown",
   "metadata": {},
   "source": [
    "### base64?"
   ]
  },
  {
   "cell_type": "markdown",
   "metadata": {},
   "source": [
    "Base64是一种用64个字符来表示任意二进制数据的方法。"
   ]
  },
  {
   "cell_type": "markdown",
   "metadata": {},
   "source": [
    "由于标准的Base64编码后可能出现字符+和/，在URL中就不能直接作为参数，所以又有一种\"url safe\"的base64编码，其实就是把字符+和/分别变成-和_："
   ]
  },
  {
   "cell_type": "markdown",
   "metadata": {},
   "source": [
    "Base64适用于小段内容的编码，比如数字证书签名、Cookie的内容等。\n",
    "\n",
    "由于=字符也可能出现在Base64编码中，但=用在URL、Cookie里面会造成歧义，所以，很多Base64编码后会把=去掉："
   ]
  },
  {
   "cell_type": "markdown",
   "metadata": {},
   "source": [
    "Base64是一种任意二进制到文本字符串的编码方法，常用于在URL、Cookie、网页中传输少量二进制数据。"
   ]
  },
  {
   "cell_type": "markdown",
   "metadata": {},
   "source": [
    "### struts"
   ]
  },
  {
   "cell_type": "markdown",
   "metadata": {},
   "source": [
    "### hashlib"
   ]
  },
  {
   "cell_type": "markdown",
   "metadata": {},
   "source": [
    "### itertoools"
   ]
  },
  {
   "cell_type": "code",
   "execution_count": 45,
   "metadata": {
    "collapsed": false
   },
   "outputs": [
    {
     "name": "stdout",
     "output_type": "stream",
     "text": [
      "('A', ['A', 'a', 'a'])\n",
      "('B', ['B'])\n",
      "('D', ['d', 'D'])\n",
      "('A', ['a', 'a'])\n",
      "('V', ['v'])\n",
      "('C', ['c'])\n"
     ]
    }
   ],
   "source": [
    "import itertools\n",
    "itertools.count(1)\n",
    "itertools.cycle('abc')\n",
    "itertools.repeat('a', 3)\n",
    "itertools.takewhile(lambda x: x<=10, itertools.count(1))\n",
    "itertools.chain('abc', 'xyz')\n",
    "for key, group in itertools.groupby('AaaBdDaavc',lambda c: c.upper()):\n",
    "    print(key, list(group))"
   ]
  },
  {
   "cell_type": "markdown",
   "metadata": {},
   "source": [
    "itertools模块提供的全部是处理迭代功能的函数，它们的返回值不是list，而是Iterator，只有用for循环迭代的时候才真正计算。"
   ]
  },
  {
   "cell_type": "markdown",
   "metadata": {},
   "source": [
    "### contextlib?"
   ]
  },
  {
   "cell_type": "markdown",
   "metadata": {},
   "source": [
    "#### with"
   ]
  },
  {
   "cell_type": "markdown",
   "metadata": {},
   "source": [
    "#### @contextmanager"
   ]
  },
  {
   "cell_type": "markdown",
   "metadata": {},
   "source": [
    "itertools模块提供的全部是处理迭代功能的函数，它们的返回值不是list，而是Iterator，只有用for循环迭代的时候才真正计算。"
   ]
  },
  {
   "cell_type": "markdown",
   "metadata": {},
   "source": [
    "#### @closing"
   ]
  },
  {
   "cell_type": "markdown",
   "metadata": {},
   "source": [
    "如果一个对象没有实现上下文，我们就不能把它用于with语句。这个时候，可以用closing()来把该对象变为上下文对象。例如，用with语句使用urlopen()："
   ]
  },
  {
   "cell_type": "markdown",
   "metadata": {
    "collapsed": true
   },
   "source": [
    "### xml"
   ]
  },
  {
   "cell_type": "markdown",
   "metadata": {},
   "source": [
    "#### DOM vs SAX"
   ]
  },
  {
   "cell_type": "markdown",
   "metadata": {},
   "source": [
    "操作XML有两种方法：DOM和SAX。DOM会把整个XML读入内存，解析为树，因此占用内存大，解析慢，优点是可以任意遍历树的节点。SAX是流模式，边读边解析，占用内存小，解析快，缺点是我们需要自己处理事件。"
   ]
  },
  {
   "cell_type": "markdown",
   "metadata": {},
   "source": [
    "正常情况下，优先考虑SAX，因为DOM实在太占内存。\n",
    "\n",
    "在Python中使用SAX解析XML非常简洁，通常我们关心的事件是start_element，end_element和char_data，准备好这3个函数，然后就可以解析xml了。"
   ]
  },
  {
   "cell_type": "markdown",
   "metadata": {},
   "source": [
    "解析XML时，注意找出自己感兴趣的节点，响应事件时，把节点数据保存起来。解析完毕后，就可以处理数据。"
   ]
  },
  {
   "cell_type": "markdown",
   "metadata": {},
   "source": [
    "最简单也是最有效的生成XML的方法是拼接字符串："
   ]
  },
  {
   "cell_type": "markdown",
   "metadata": {},
   "source": [
    "http://www.liaoxuefeng.com/wiki/0014316089557264a6b348958f449949df42a6d3a2e542c000/001432002075057b594f70ecb58445da6ef6071aca880af000#0"
   ]
  },
  {
   "cell_type": "markdown",
   "metadata": {},
   "source": [
    "### HTMLParser"
   ]
  },
  {
   "cell_type": "markdown",
   "metadata": {},
   "source": [
    "\n",
    "\n",
    "好在Python提供了HTMLParser来非常方便地解析HTML，只需简单几行代码："
   ]
  },
  {
   "cell_type": "code",
   "execution_count": 5,
   "metadata": {
    "collapsed": false
   },
   "outputs": [
    {
     "ename": "TypeError",
     "evalue": "Error when calling the metaclass bases\n    module.__init__() takes at most 2 arguments (3 given)",
     "output_type": "error",
     "traceback": [
      "\u001b[0;31m---------------------------------------------------------------------------\u001b[0m",
      "\u001b[0;31mTypeError\u001b[0m                                 Traceback (most recent call last)",
      "\u001b[0;32m<ipython-input-5-806b12b54f39>\u001b[0m in \u001b[0;36m<module>\u001b[0;34m()\u001b[0m\n\u001b[1;32m      3\u001b[0m \u001b[1;31m# from html.entities import name2codepoint\u001b[0m\u001b[1;33m\u001b[0m\u001b[1;33m\u001b[0m\u001b[0m\n\u001b[1;32m      4\u001b[0m \u001b[1;31m# import name2coedepoing\u001b[0m\u001b[1;33m\u001b[0m\u001b[1;33m\u001b[0m\u001b[0m\n\u001b[0;32m----> 5\u001b[0;31m \u001b[1;32mclass\u001b[0m \u001b[0mMyHTMLParser\u001b[0m\u001b[1;33m(\u001b[0m\u001b[0mHTMLParser\u001b[0m\u001b[1;33m)\u001b[0m\u001b[1;33m:\u001b[0m\u001b[1;33m\u001b[0m\u001b[0m\n\u001b[0m\u001b[1;32m      6\u001b[0m \u001b[1;33m\u001b[0m\u001b[0m\n\u001b[1;32m      7\u001b[0m     \u001b[1;32mdef\u001b[0m \u001b[0mhandle_starttag\u001b[0m\u001b[1;33m(\u001b[0m\u001b[0mself\u001b[0m\u001b[1;33m,\u001b[0m \u001b[0mtag\u001b[0m\u001b[1;33m,\u001b[0m \u001b[0mattrs\u001b[0m\u001b[1;33m)\u001b[0m\u001b[1;33m:\u001b[0m\u001b[1;33m\u001b[0m\u001b[0m\n",
      "\u001b[0;31mTypeError\u001b[0m: Error when calling the metaclass bases\n    module.__init__() takes at most 2 arguments (3 given)"
     ]
    }
   ],
   "source": [
    "# from html.parser import HTMLParser ?\n",
    "import HTMLParser\n",
    "# from html.entities import name2codepoint\n",
    "# import name2coedepoing\n",
    "class MyHTMLParser(HTMLParser):\n",
    "    \n",
    "    def handle_starttag(self, tag, attrs):\n",
    "        print '<%s>' % tag\n",
    "    \n",
    "    def handle_endtag(self, tag, attrs):\n",
    "        print '<%s>' % tag\n",
    "        \n",
    "    def handle_startendtag(self, tag, attrs):\n",
    "        print '<%s>' % tag\n",
    "        \n",
    "    def handle_data(self, data):\n",
    "        print data\n",
    "        \n",
    "    def handle_comment(self, data):\n",
    "        print '<!--%s-->' % data\n",
    "        \n",
    "    def handle_entityref(slef, name):\n",
    "        print '&%s' % name\n",
    "        \n",
    "    def handle_charref(slef, name):\n",
    "        print '&#%s' % name\n",
    "        \n",
    "parser = MyHTMLParser()\n",
    "parser.feed('''\n",
    "<html>\n",
    "<head></head>\n",
    "<body>\n",
    "<!-- test html parser -->\n",
    "    <p>Some <a href=\\\"#\\\">html</a> HTML&nbsp;tutorial...<br>END</p>\n",
    "</body></html>\n",
    "''')"
   ]
  },
  {
   "cell_type": "markdown",
   "metadata": {},
   "source": [
    "利用HTMLParser，可以把网页中的文本、图像等解析出来。"
   ]
  },
  {
   "cell_type": "markdown",
   "metadata": {},
   "source": [
    "### urllib2"
   ]
  },
  {
   "cell_type": "markdown",
   "metadata": {},
   "source": [
    "urllib提供了一系列用于操作URL的功能。"
   ]
  },
  {
   "cell_type": "markdown",
   "metadata": {},
   "source": [
    "### Get"
   ]
  },
  {
   "cell_type": "code",
   "execution_count": 11,
   "metadata": {
    "collapsed": false
   },
   "outputs": [
    {
     "name": "stdout",
     "output_type": "stream",
     "text": [
      "<addinfourl at 63986824 whose fp = <socket._fileobject object at 0x03CD6D70>>\n"
     ]
    },
    {
     "ename": "AttributeError",
     "evalue": "addinfourl instance has no attribute '__exit__'",
     "output_type": "error",
     "traceback": [
      "\u001b[0;31m---------------------------------------------------------------------------\u001b[0m",
      "\u001b[0;31mAttributeError\u001b[0m                            Traceback (most recent call last)",
      "\u001b[0;32m<ipython-input-11-03d76a597871>\u001b[0m in \u001b[0;36m<module>\u001b[0;34m()\u001b[0m\n\u001b[1;32m      4\u001b[0m \u001b[1;32mprint\u001b[0m \u001b[0mf\u001b[0m\u001b[1;33m\u001b[0m\u001b[0m\n\u001b[1;32m      5\u001b[0m \u001b[1;33m\u001b[0m\u001b[0m\n\u001b[0;32m----> 6\u001b[0;31m \u001b[1;32mwith\u001b[0m \u001b[0murllib2\u001b[0m\u001b[1;33m.\u001b[0m\u001b[0murlopen\u001b[0m\u001b[1;33m(\u001b[0m\u001b[1;34m'https://api.douban.com/v2/book/2129650'\u001b[0m\u001b[1;33m)\u001b[0m \u001b[1;32mas\u001b[0m \u001b[0mf\u001b[0m\u001b[1;33m:\u001b[0m\u001b[1;33m\u001b[0m\u001b[0m\n\u001b[0m\u001b[1;32m      7\u001b[0m     \u001b[0mdata\u001b[0m \u001b[1;33m=\u001b[0m \u001b[0mf\u001b[0m\u001b[1;33m.\u001b[0m\u001b[0mread\u001b[0m\u001b[1;33m(\u001b[0m\u001b[1;33m)\u001b[0m\u001b[1;33m\u001b[0m\u001b[0m\n\u001b[1;32m      8\u001b[0m     \u001b[1;32mprint\u001b[0m \u001b[1;34m'status:'\u001b[0m\u001b[1;33m,\u001b[0m \u001b[0mf\u001b[0m\u001b[1;33m.\u001b[0m\u001b[0mstatus\u001b[0m\u001b[1;33m,\u001b[0m \u001b[0mf\u001b[0m\u001b[1;33m.\u001b[0m\u001b[0mreason\u001b[0m\u001b[1;33m\u001b[0m\u001b[0m\n",
      "\u001b[0;31mAttributeError\u001b[0m: addinfourl instance has no attribute '__exit__'"
     ]
    }
   ],
   "source": [
    "from urllib import request\n",
    "\n",
    "with request.urlopen('https://api.douban.com/v2/book/2129650') as f:\n",
    "    data = f.read()\n",
    "    print 'status:', f.status, f.reason\n",
    "    for k, v in f.getheaders():\n",
    "        print k, v\n",
    "    print 'data:', data.decode('UTF-8')"
   ]
  },
  {
   "cell_type": "markdown",
   "metadata": {},
   "source": [
    "如果我们要想模拟浏览器发送GET请求，就需要使用Request对象，通过往Request对象添加HTTP头，我们就可以把请求伪装成浏览器。例如，模拟iPhone 6去请求豆瓣首页："
   ]
  },
  {
   "cell_type": "code",
   "execution_count": null,
   "metadata": {
    "collapsed": true
   },
   "outputs": [],
   "source": [
    "from urllib import request\n",
    "\n",
    "req = request.Request('http://www.douban.com/')\n",
    "req.add_header('User-Agent', 'Mozilla/6.0 (iPhone; CPU iPhone OS 8_0 like Mac OS X) AppleWebKit/536.26 (KHTML, like Gecko) Version/8.0 Mobile/10A5376e Safari/8536.25')\n",
    "with request.urlopen(req) as f:\n",
    "    print('Status:', f.status, f.reason)\n",
    "    for k, v in f.getheaders():\n",
    "        print('%s: %s' % (k, v))\n",
    "    print('Data:', f.read().decode('utf-8'))"
   ]
  },
  {
   "cell_type": "markdown",
   "metadata": {},
   "source": [
    "#### Post"
   ]
  },
  {
   "cell_type": "markdown",
   "metadata": {},
   "source": [
    "如果要以POST发送一个请求，只需要把参数data以bytes形式传入。\n",
    "\n",
    "我们模拟一个微博登录，先读取登录的邮箱和口令，然后按照weibo.cn的登录页的格式以username=xxx&password=xxx的编码传入："
   ]
  },
  {
   "cell_type": "code",
   "execution_count": null,
   "metadata": {
    "collapsed": true
   },
   "outputs": [],
   "source": [
    "from urllib import request, parse\n",
    "\n",
    "\n",
    "print 'Login to weibo.cn'\n",
    "email = input('Email:')\n",
    "passwd = input('Password:')\n",
    "login_data = parse.urlencode([\n",
    "    ('username', email),\n",
    "    ('password', passwd),\n",
    "    ('entry', 'mweibo'),\n",
    "    ('client_id', ''),\n",
    "    ('savestate', '1'),\n",
    "    ('ec', ''),\n",
    "    ('pagerefer', 'https://passport.weibo.cn/signin/welcome?entry=mweibo&r=http%3A%2F%2Fm.weibo.cn%2F')\n",
    "    ])\n",
    "\n",
    "req = request.Request('https://passport.weibo.cn/sso/login')\n",
    "req.add_header('Origin', 'https://passport.weibo.cn')\n",
    "req.add_header('User-Agent', 'Mozilla/6.0 (iPhone; CPU iPhone OS 8_0 like Mac OS X) AppleWebKit/536.26 (KHTML, like Gecko) Version/8.0 Mobile/10A5376e Safari/8536.25')\n",
    "req.add_header('Referer', 'https://passport.weibo.cn/signin/login?entry=mweibo&res=wel&wm=3349&r=http%3A%2F%2Fm.weibo.cn%2F')\n",
    "\n",
    "with request.urlopen(req, data=lodin_data.encode('utf-8')) as f:\n",
    "    print 'Status:', f.status, f.reason\n",
    "    for k, v in f.getheaders():\n",
    "        print k, v\n",
    "    print 'Data:', f.read().decode('utf-8')"
   ]
  },
  {
   "cell_type": "markdown",
   "metadata": {},
   "source": [
    "#### Handler"
   ]
  },
  {
   "cell_type": "markdown",
   "metadata": {},
   "source": [
    "如果还需要更复杂的控制，比如通过一个Proxy去访问网站，我们需要利用ProxyHandler来处理，示例代码如下："
   ]
  },
  {
   "cell_type": "code",
   "execution_count": null,
   "metadata": {
    "collapsed": true
   },
   "outputs": [],
   "source": [
    "proxy_handler = urllib.request.ProxyHandler({'http': 'http://www.example.com:3128/'})\n",
    "proxy_auth_handler = urllib.request.ProxyBasicAuthHandler()\n",
    "proxy_auth_handler.add_password('realm', 'host', 'username', 'password')\n",
    "opener = urllib.request.build_opener(proxy_handler, proxy_auth_handler)\n",
    "with opener.open('http://www.example.com/login.html') as f:\n",
    "    pass"
   ]
  },
  {
   "cell_type": "markdown",
   "metadata": {},
   "source": [
    "urllib提供的功能就是利用程序去执行各种HTTP请求。如果要模拟浏览器完成特定功能，需要把请求伪装成浏览器。伪装的方法是先监控浏览器发出的请求，再根据浏览器的请求头来伪装，User-Agent头就是用来标识浏览器的。"
   ]
  },
  {
   "cell_type": "code",
   "execution_count": null,
   "metadata": {
    "collapsed": true
   },
   "outputs": [],
   "source": []
  },
  {
   "cell_type": "code",
   "execution_count": null,
   "metadata": {
    "collapsed": true
   },
   "outputs": [],
   "source": []
  },
  {
   "cell_type": "code",
   "execution_count": null,
   "metadata": {
    "collapsed": true
   },
   "outputs": [],
   "source": []
  },
  {
   "cell_type": "code",
   "execution_count": null,
   "metadata": {
    "collapsed": true
   },
   "outputs": [],
   "source": []
  },
  {
   "cell_type": "code",
   "execution_count": null,
   "metadata": {
    "collapsed": true
   },
   "outputs": [],
   "source": []
  },
  {
   "cell_type": "code",
   "execution_count": null,
   "metadata": {
    "collapsed": true
   },
   "outputs": [],
   "source": []
  },
  {
   "cell_type": "code",
   "execution_count": null,
   "metadata": {
    "collapsed": true
   },
   "outputs": [],
   "source": []
  },
  {
   "cell_type": "code",
   "execution_count": null,
   "metadata": {
    "collapsed": true
   },
   "outputs": [],
   "source": []
  },
  {
   "cell_type": "code",
   "execution_count": null,
   "metadata": {
    "collapsed": true
   },
   "outputs": [],
   "source": []
  },
  {
   "cell_type": "code",
   "execution_count": null,
   "metadata": {
    "collapsed": true
   },
   "outputs": [],
   "source": []
  },
  {
   "cell_type": "code",
   "execution_count": null,
   "metadata": {
    "collapsed": true
   },
   "outputs": [],
   "source": []
  },
  {
   "cell_type": "code",
   "execution_count": null,
   "metadata": {
    "collapsed": true
   },
   "outputs": [],
   "source": []
  },
  {
   "cell_type": "code",
   "execution_count": null,
   "metadata": {
    "collapsed": true
   },
   "outputs": [],
   "source": []
  },
  {
   "cell_type": "code",
   "execution_count": null,
   "metadata": {
    "collapsed": true
   },
   "outputs": [],
   "source": []
  },
  {
   "cell_type": "code",
   "execution_count": null,
   "metadata": {
    "collapsed": true
   },
   "outputs": [],
   "source": []
  }
 ],
 "metadata": {
  "kernelspec": {
   "display_name": "Python 2",
   "language": "python",
   "name": "python2"
  },
  "language_info": {
   "codemirror_mode": {
    "name": "ipython",
    "version": 2
   },
   "file_extension": ".py",
   "mimetype": "text/x-python",
   "name": "python",
   "nbconvert_exporter": "python",
   "pygments_lexer": "ipython2",
   "version": "2.7.12"
  }
 },
 "nbformat": 4,
 "nbformat_minor": 1
}
