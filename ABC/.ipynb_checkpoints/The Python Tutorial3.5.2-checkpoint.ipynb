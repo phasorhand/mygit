{
 "cells": [
  {
   "cell_type": "markdown",
   "metadata": {},
   "source": [
    "# Python教程"
   ]
  },
  {
   "cell_type": "markdown",
   "metadata": {},
   "source": [
    "http://python.usyiyi.cn/translate/python_352/tutorial/interpreter.html\n",
    "Python解释器可以用C或C++（或C语言中可调用的其他语言）实现的新函数和数据类型轻松扩展。Python也适合作为可定制应用程序的扩展语言。"
   ]
  },
  {
   "cell_type": "markdown",
   "metadata": {},
   "source": [
    "## 2"
   ]
  },
  {
   "cell_type": "code",
   "execution_count": null,
   "metadata": {
    "collapsed": true
   },
   "outputs": [],
   "source": [
    "#2.1\n",
    "set path=%path%;C:\\python35\n",
    "# 退出\n",
    "Control-D;Control-Z;quit()\n",
    "Control-P\n",
    "# 第二种启动\n",
    "python -c 命令 [args] ...(建议把全部command放在单引号里)\n",
    "# 部分模块\n",
    "python -m 模块 [args] ...直接调用（运行脚本并随后进入交互环境可在脚本前面加上-i选项实现）\n",
    "# 2.1.1 传递参数\n",
    "import sys\n",
    "sys.argv[0](对应上面两行的‘-c’和指定模块全名)\n",
    "#2.1.2 交互模式\n",
    "初始提示符 >>>\n",
    "续行提示符 ..."
   ]
  },
  {
   "cell_type": "code",
   "execution_count": null,
   "metadata": {
    "collapsed": true
   },
   "outputs": [],
   "source": [
    "# 2.2 编译器及环境\n",
    "# 2.2.1 源程序的编码\n",
    "默认为UTF-8，但是标准库中的标识符只使用ASCII，编辑器必须识别该文件是UTF-8，\n",
    "必须使用支持文件中所有字符的字体。\n",
    "为源文件制定不同的编码：增加特殊注释行定义文件的编码\n",
    "# -*- coding;encoding -*- \n",
    "使用上述声明，源文件中所有内容都被视为具有编码encoding而不是UTF-8\n",
    "特殊编码注释必须在文件中的第一行或第二行中"
   ]
  },
  {
   "cell_type": "markdown",
   "metadata": {},
   "source": [
    "## 3.Python简介"
   ]
  },
  {
   "cell_type": "markdown",
   "metadata": {},
   "source": [
    "#### 数字（int.float.小数.分数.负数）（+ - * / // ** _）"
   ]
  },
  {
   "cell_type": "code",
   "execution_count": 5,
   "metadata": {
    "collapsed": false
   },
   "outputs": [
    {
     "name": "stdout",
     "output_type": "stream",
     "text": [
      "5.666666666666667\n",
      "5\n",
      "2\n",
      "2.8333333333333335\n"
     ]
    }
   ],
   "source": [
    "# 3.1 Python作为计算器\n",
    "# 整数为int，带有小数部分的数字属于float浮点型\n",
    "# /总是返回一个float类型数，要做floor除法并且得到一个整数结果（商的整数部分）可以使用//,余数%\n",
    "print(17/3)\n",
    "print(17//3)\n",
    "print(17%3)\n",
    "# ** 乘方\n",
    "print(_)"
   ]
  },
  {
   "cell_type": "markdown",
   "metadata": {},
   "source": [
    "#### 3.1.2 字符串 不可变 ('',\"\",\\,r,\"\"\"...\"\"\")（+，*， 自动连接（字面值而非变量或表达式）,索引（-0与0相同，抛出indexError），切片（始终排除结束,处理indexError）））\n"
   ]
  },
  {
   "cell_type": "code",
   "execution_count": 8,
   "metadata": {
    "collapsed": false
   },
   "outputs": [
    {
     "name": "stdout",
     "output_type": "stream",
     "text": [
      "\"Isn't,\" she said.\n"
     ]
    },
    {
     "data": {
      "text/plain": [
       "'First line. \\nSecond line.'"
      ]
     },
     "execution_count": 8,
     "metadata": {},
     "output_type": "execute_result"
    }
   ],
   "source": [
    "print('\"Isn\\'t,\" she said.')\n",
    "'\"Isn\\'t,\" she said.'"
   ]
  },
  {
   "cell_type": "code",
   "execution_count": 13,
   "metadata": {
    "collapsed": false
   },
   "outputs": [
    {
     "name": "stdout",
     "output_type": "stream",
     "text": [
      "First line. \n",
      "Second line.\n",
      "---------------------\n",
      "First line. \\nSecond line.\n"
     ]
    },
    {
     "data": {
      "text/plain": [
       "'First line. \\nSecond line.'"
      ]
     },
     "execution_count": 13,
     "metadata": {},
     "output_type": "execute_result"
    }
   ],
   "source": [
    "print('First line. \\nSecond line.')\n",
    "print('---------------------')\n",
    "print(r'First line. \\nSecond line.')\n",
    "'First line. \\nSecond line.'"
   ]
  },
  {
   "cell_type": "code",
   "execution_count": 14,
   "metadata": {
    "collapsed": false
   },
   "outputs": [
    {
     "name": "stdout",
     "output_type": "stream",
     "text": [
      "Usage: thingy [OPTIONS]\n",
      "    -h                         Display this usage message\n",
      "    -H hostname                Hostname to connect to\n",
      "\n"
     ]
    }
   ],
   "source": [
    "# 不包括初始换行符\n",
    "print(\"\"\"\\\n",
    "Usage: thingy [OPTIONS]\n",
    "    -h                         Display this usage message\n",
    "    -H hostname                Hostname to connect to\n",
    "\"\"\")"
   ]
  },
  {
   "cell_type": "code",
   "execution_count": 15,
   "metadata": {
    "collapsed": false
   },
   "outputs": [
    {
     "data": {
      "text/plain": [
       "'Python'"
      ]
     },
     "execution_count": 15,
     "metadata": {},
     "output_type": "execute_result"
    }
   ],
   "source": [
    "'Py''thon'"
   ]
  },
  {
   "cell_type": "code",
   "execution_count": 16,
   "metadata": {
    "collapsed": false
   },
   "outputs": [
    {
     "ename": "SyntaxError",
     "evalue": "invalid syntax (<ipython-input-16-851460c7d380>, line 2)",
     "output_type": "error",
     "traceback": [
      "\u001b[0;36m  File \u001b[0;32m\"<ipython-input-16-851460c7d380>\"\u001b[0;36m, line \u001b[0;32m2\u001b[0m\n\u001b[0;31m    i'thon'\u001b[0m\n\u001b[0m          ^\u001b[0m\n\u001b[0;31mSyntaxError\u001b[0m\u001b[0;31m:\u001b[0m invalid syntax\n"
     ]
    }
   ],
   "source": [
    "i = 'Py'\n",
    "i'thon'"
   ]
  },
  {
   "cell_type": "code",
   "execution_count": 20,
   "metadata": {
    "collapsed": false
   },
   "outputs": [
    {
     "data": {
      "text/plain": [
       "'0'"
      ]
     },
     "execution_count": 20,
     "metadata": {},
     "output_type": "execute_result"
    }
   ],
   "source": [
    "i='012345'\n",
    "i[:-1]\n",
    "i[-0]"
   ]
  },
  {
   "cell_type": "markdown",
   "metadata": {},
   "source": [
    " +---+---+---+---+---+---+\n",
    " | P | y | t | h | o | n |\n",
    " +---+---+---+---+---+---+\n",
    " 0   1   2   3   4   5   6\n",
    "-6  -5  -4  -3  -2  -1"
   ]
  },
  {
   "cell_type": "markdown",
   "metadata": {},
   "source": [
    "#### 3.1.3 列表 可变（逗号，方括号，相同的类型）（串联+,.append,len(list)）（索引，切片（返回一个包含所请求元素的新列表。返回改列表的浅拷贝）,切片赋值,嵌套列表）"
   ]
  },
  {
   "cell_type": "code",
   "execution_count": 22,
   "metadata": {
    "collapsed": false
   },
   "outputs": [
    {
     "data": {
      "text/plain": [
       "'b'"
      ]
     },
     "execution_count": 22,
     "metadata": {},
     "output_type": "execute_result"
    }
   ],
   "source": [
    "a = ['a', 'b', 'c']\n",
    "n = [1, 2, 3]\n",
    "x = [a, n]\n",
    "x[0][1]"
   ]
  },
  {
   "cell_type": "markdown",
   "metadata": {},
   "source": [
    "#### 3.2斐波那契 print(something, end='分隔符')"
   ]
  },
  {
   "cell_type": "code",
   "execution_count": 24,
   "metadata": {
    "collapsed": false
   },
   "outputs": [
    {
     "name": "stdout",
     "output_type": "stream",
     "text": [
      "1,1,2,3,5,8,"
     ]
    }
   ],
   "source": [
    "a, b = 0, 1\n",
    "while b < 10:\n",
    "    print(b, end=',')\n",
    "    a, b = b, a+b"
   ]
  },
  {
   "cell_type": "markdown",
   "metadata": {},
   "source": [
    "### 4 流程控制语句"
   ]
  },
  {
   "cell_type": "markdown",
   "metadata": {},
   "source": [
    "#### if,elif,else"
   ]
  },
  {
   "cell_type": "markdown",
   "metadata": {},
   "source": [
    "#### for(按照元素出现的顺序迭代)，循环内修改正在迭代的序列（首先创建原序列的拷贝,不拷贝下面会是无限循环）"
   ]
  },
  {
   "cell_type": "code",
   "execution_count": 2,
   "metadata": {
    "collapsed": false
   },
   "outputs": [
    {
     "name": "stdout",
     "output_type": "stream",
     "text": [
      "['1', '22', '333', '4444']\n",
      "['1', '22', '333', '4444']\n",
      "['1', '22', '333', '4444']\n",
      "['4444', '1', '22', '333', '4444']\n"
     ]
    }
   ],
   "source": [
    "words = ['1', '22', '333', '4444']\n",
    "for w in words[:]:\n",
    "    if len(w) > 3:\n",
    "        words.insert(0, w)\n",
    "    print(words)"
   ]
  },
  {
   "cell_type": "markdown",
   "metadata": {
    "collapsed": true
   },
   "source": [
    "#### range(),range(len()), list(range())"
   ]
  },
  {
   "cell_type": "code",
   "execution_count": 6,
   "metadata": {
    "collapsed": false
   },
   "outputs": [
    {
     "data": {
      "text/plain": [
       "[0, 3, 6, 9]"
      ]
     },
     "execution_count": 6,
     "metadata": {},
     "output_type": "execute_result"
    }
   ],
   "source": [
    "range(5, 9)\n",
    "range(0, 10, 3)\n",
    "list(range(5,9))\n",
    "list(range(0, 10, 3))"
   ]
  },
  {
   "cell_type": "markdown",
   "metadata": {
    "collapsed": true
   },
   "source": [
    "#### break(跳出最近的for或while循环), continue, else(for迭代完或while条件为假,即未出现break)（try的else：在未出现异常时运行）\n",
    "continue 继续下一次迭代"
   ]
  },
  {
   "cell_type": "code",
   "execution_count": 8,
   "metadata": {
    "collapsed": false
   },
   "outputs": [
    {
     "name": "stdout",
     "output_type": "stream",
     "text": [
      "2 is a prime number\n",
      "3 is a prime number\n",
      "4 queals 2 * 2\n",
      "5 is a prime number\n",
      "6 queals 2 * 3\n",
      "7 is a prime number\n",
      "8 queals 2 * 4\n",
      "9 queals 3 * 3\n"
     ]
    }
   ],
   "source": [
    "for n in range(2, 10):\n",
    "    for x in range(2, n):\n",
    "        if n %x == 0:\n",
    "            print(n, 'queals', x, '*', n//x)\n",
    "            break\n",
    "    else:\n",
    "        # loop fell through without finding a factor\n",
    "        print(n , 'is a prime number')"
   ]
  },
  {
   "cell_type": "code",
   "execution_count": null,
   "metadata": {
    "collapsed": true
   },
   "outputs": [],
   "source": []
  },
  {
   "cell_type": "code",
   "execution_count": null,
   "metadata": {
    "collapsed": true
   },
   "outputs": [],
   "source": []
  }
 ],
 "metadata": {
  "kernelspec": {
   "display_name": "Python 3",
   "language": "python",
   "name": "python3"
  },
  "language_info": {
   "codemirror_mode": {
    "name": "ipython",
    "version": 3
   },
   "file_extension": ".py",
   "mimetype": "text/x-python",
   "name": "python",
   "nbconvert_exporter": "python",
   "pygments_lexer": "ipython3",
   "version": "3.6.0"
  }
 },
 "nbformat": 4,
 "nbformat_minor": 2
}
