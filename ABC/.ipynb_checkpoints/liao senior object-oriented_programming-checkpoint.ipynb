{
 "cells": [
  {
   "cell_type": "markdown",
   "metadata": {},
   "source": [
    "## 面向对象高级编程"
   ]
  },
  {
   "cell_type": "markdown",
   "metadata": {},
   "source": [
    "数据封装、继承和多态只是面向对象程序设计中最基础的3个概念。\n",
    "面向对象还有很多高级特性"
   ]
  },
  {
   "cell_type": "markdown",
   "metadata": {},
   "source": [
    "### 使用__slots__"
   ]
  },
  {
   "cell_type": "markdown",
   "metadata": {},
   "source": [
    "但动态绑定允许我们在程序运行的过程中动态给class加上功能，这在静态语言中很难实现。"
   ]
  },
  {
   "cell_type": "code",
   "execution_count": 3,
   "metadata": {
    "collapsed": false
   },
   "outputs": [
    {
     "data": {
      "text/plain": [
       "'\\ndef set_score(self, score):\\n    self.score = score\\n    \\nStudent.set_score = set_score\\n'"
      ]
     },
     "execution_count": 3,
     "metadata": {},
     "output_type": "execute_result"
    }
   ],
   "source": [
    "# 为实例绑定一个属性或方法，为类绑定一个属性或方法\n",
    "'''\n",
    "def set_score(self, score):\n",
    "    self.score = score\n",
    "    \n",
    "Student.set_score = set_score\n",
    "'''"
   ]
  },
  {
   "cell_type": "code",
   "execution_count": 7,
   "metadata": {
    "collapsed": false
   },
   "outputs": [],
   "source": [
    "# 限制实例属性：但是仅对当期那实例起作用，对继承的子类不起作用。\n",
    "class Student(object):\n",
    "    __slots__ = ('name', 'age') # tuple\n",
    "    \n",
    "s = Student()\n",
    "# s.city = 1 # AttributeError: 'Student' object has no attribute 'city'"
   ]
  },
  {
   "cell_type": "markdown",
   "metadata": {},
   "source": [
    "### 使用@property"
   ]
  },
  {
   "cell_type": "markdown",
   "metadata": {},
   "source": [
    "绑定属性时，直接把属性暴露出去，虽然写起来简单，但是没法检查参数，导致可以把成绩随便改"
   ]
  },
  {
   "cell_type": "markdown",
   "metadata": {},
   "source": [
    "可通过一个set_score()来设置成绩，再通过get_score()取成绩"
   ]
  },
  {
   "cell_type": "code",
   "execution_count": 12,
   "metadata": {
    "collapsed": false
   },
   "outputs": [],
   "source": [
    "class Student(object):\n",
    "    \n",
    "    def get_score(self):\n",
    "        return self._score\n",
    "    \n",
    "    def set_score(self, value):\n",
    "        if not isinstance(value, int):\n",
    "            raise ValueError('score must be an iinteger!')\n",
    "        if value < 0 or value > 100:\n",
    "            raise ValueError('score between 0~100!')\n",
    "        self._score = value\n",
    "        \n",
    "s = Student()\n",
    "# s.set_score(1000) # AttributeError: 'Student' object has no attribute 'city'"
   ]
  },
  {
   "cell_type": "markdown",
   "metadata": {},
   "source": [
    "调用复杂，没有直接使用属性高那么直接简单，有没有既能检查参数又可以用类似属性这样简单的方式来访问类的变量？"
   ]
  },
  {
   "cell_type": "markdown",
   "metadata": {},
   "source": [
    "Python内置的@property装饰器就是负责把一个方法变成属性调用的！！"
   ]
  },
  {
   "cell_type": "code",
   "execution_count": 15,
   "metadata": {
    "collapsed": false
   },
   "outputs": [
    {
     "data": {
      "text/plain": [
       "60"
      ]
     },
     "execution_count": 15,
     "metadata": {},
     "output_type": "execute_result"
    }
   ],
   "source": [
    "class Student():\n",
    "    \n",
    "    # @score.setter，负责把一个setter方法变成属性赋值\n",
    "    @property\n",
    "    def score(self):\n",
    "        return self._score\n",
    "    \n",
    "    # @score.setter，负责把一个setter方法变成属性赋值\n",
    "    @score.setter\n",
    "    def score(self, value):\n",
    "        if not isinstance(value, int):\n",
    "            raise ValueError('score must be an integer!')\n",
    "        if value < 0 or value > 100:\n",
    "            raise ValueError('score must between 0~100')\n",
    "        self._score = value\n",
    "        \n",
    "s = Student()\n",
    "s.score = 60 # s.set_score(60)\n",
    "s.score # s.get_score()\n",
    "        "
   ]
  },
  {
   "cell_type": "markdown",
   "metadata": {},
   "source": [
    "可读写及只读"
   ]
  },
  {
   "cell_type": "code",
   "execution_count": 16,
   "metadata": {
    "collapsed": true
   },
   "outputs": [],
   "source": [
    "class Student(object):\n",
    "\n",
    "    @property\n",
    "    def birth(self):\n",
    "        return self._birth\n",
    "\n",
    "    @birth.setter\n",
    "    def birth(self, value):\n",
    "        self._birth = value\n",
    "\n",
    "    @property\n",
    "    def age(self):\n",
    "        return 2015 - self._birth"
   ]
  },
  {
   "cell_type": "markdown",
   "metadata": {},
   "source": [
    "### 多重继承"
   ]
  },
  {
   "cell_type": "code",
   "execution_count": 4,
   "metadata": {
    "collapsed": false
   },
   "outputs": [],
   "source": [
    "class Animal(object):\n",
    "    pass\n",
    "\n",
    "# 大类\n",
    "class Mammal(Animal):\n",
    "    pass\n",
    "\n",
    "class Bird(Animal):\n",
    "    pass\n",
    "\n",
    "# 各种动物\n",
    "class Dog(Mammal):\n",
    "    pass\n",
    "\n",
    "class Bat(Mammal):\n",
    "    pass\n",
    "\n",
    "class Parrot(Bird):\n",
    "    pass\n",
    "\n",
    "class Ostrich(Bird):\n",
    "    pass\n",
    "\n",
    "class Runnable(object):\n",
    "    def run(self):\n",
    "        print('Running...')\n",
    "        \n",
    "class Flyable(object):\n",
    "    def fly(self):\n",
    "        print('Flying...')\n",
    "\n",
    "# 对于需要Runnable功能，就多继承一个Runnable\n",
    "class Dog(Mammal, Runnable):\n",
    "    pass\n",
    "\n",
    "class Bat(Mammal, Flyable):\n",
    "    pass"
   ]
  },
  {
   "cell_type": "markdown",
   "metadata": {},
   "source": [
    "给动物加上 Runnable和Flyable的功能，只要定义好Runable和Flyable类"
   ]
  },
  {
   "cell_type": "markdown",
   "metadata": {},
   "source": [
    "通过多重继承，一个子类就可以同时获得多个父类的所有功能"
   ]
  },
  {
   "cell_type": "markdown",
   "metadata": {},
   "source": [
    "#### Mixln"
   ]
  },
  {
   "cell_type": "markdown",
   "metadata": {},
   "source": [
    "为了更好的看出继承关系，我们把Runnable和Flyable改为RunnableMixIn和FlyableMixIn\n",
    "类似可定义食肉CarnivorousMixIn和食草动物HerbivoresMixIn\n",
    "class Dog(Mammal, RunnableMixIn, CarnivorousMixIn):\n",
    "    pass"
   ]
  },
  {
   "cell_type": "markdown",
   "metadata": {},
   "source": [
    "优先考虑通过多重继承组合多个MixIn的功能，而不是设计多层次的负责继承关系。\n",
    "TCPServer(ForkingMixIn)和UDPServer(ThreadingMixIn)继承它们之外再继承括号里的可以使用多线程多吸纳成模型"
   ]
  },
  {
   "cell_type": "code",
   "execution_count": 7,
   "metadata": {
    "collapsed": false
   },
   "outputs": [
    {
     "data": {
      "text/plain": [
       "'\\nclass MyTCPDeber(TCPServer, ForkingMixIn):\\n    pass\\n\\n# \\xe5\\xa4\\x9a\\xe7\\xba\\xbf\\xe7\\xa8\\x8bUDP\\xe6\\x9c\\x8d\\xe5\\x8a\\xa1\\nclass MyUDPServer(UDPServer, ThreadingMixIn):\\n    psss\\n'"
      ]
     },
     "execution_count": 7,
     "metadata": {},
     "output_type": "execute_result"
    }
   ],
   "source": [
    "# 多进程TCP服务\n",
    "'''\n",
    "class MyTCPDeber(TCPServer, ForkingMixIn):\n",
    "    pass\n",
    "\n",
    "# 多线程UDP服务\n",
    "class MyUDPServer(UDPServer, ThreadingMixIn):\n",
    "    psss\n",
    "'''\n"
   ]
  },
  {
   "cell_type": "code",
   "execution_count": 8,
   "metadata": {
    "collapsed": false
   },
   "outputs": [
    {
     "data": {
      "text/plain": [
       "'\\nclass MyTCPServer(TCPServer, CoroutineMixIn):\\n    pass\\n'"
      ]
     },
     "execution_count": 8,
     "metadata": {},
     "output_type": "execute_result"
    }
   ],
   "source": [
    "# 更先进的协程模型：\n",
    "'''\n",
    "class MyTCPServer(TCPServer, CoroutineMixIn):\n",
    "    pass\n",
    "'''"
   ]
  },
  {
   "cell_type": "markdown",
   "metadata": {},
   "source": [
    "只允许单一继承的语言（如java）不能使用MixIn的设计"
   ]
  },
  {
   "cell_type": "markdown",
   "metadata": {},
   "source": [
    "### 定制类"
   ]
  },
  {
   "cell_type": "markdown",
   "metadata": {},
   "source": [
    "__str__():打印的更好看"
   ]
  },
  {
   "cell_type": "code",
   "execution_count": 10,
   "metadata": {
    "collapsed": false
   },
   "outputs": [
    {
     "name": "stdout",
     "output_type": "stream",
     "text": [
      "Student object (name: Micheal)\n"
     ]
    }
   ],
   "source": [
    "class Student(object):\n",
    "    def __init__(self, name):\n",
    "        self.name = name\n",
    "    def __str__(self):\n",
    "        return 'Student object (name: %s)' % self.name\n",
    "    \n",
    "print(Student('Micheal'))"
   ]
  },
  {
   "cell_type": "markdown",
   "metadata": {},
   "source": [
    "#### __repr__()：不用打印直接显示，定义一个__repr__,可以偷懒"
   ]
  },
  {
   "cell_type": "code",
   "execution_count": 13,
   "metadata": {
    "collapsed": true
   },
   "outputs": [],
   "source": [
    "class Student(object):\n",
    "    def __init__(self, name):\n",
    "        self.name = name\n",
    "    def __str__(self):\n",
    "        return 'Student object (name=%s)' % self.naem\n",
    "    __repr__ = __str__"
   ]
  },
  {
   "cell_type": "markdown",
   "metadata": {},
   "source": [
    "#### __iter__:for in,改方法返回一个迭代对象，for可以不断调用改迭代对象的next()方法拿到下一个值直到遇到StopIteration错误时推出循环。"
   ]
  },
  {
   "cell_type": "code",
   "execution_count": 40,
   "metadata": {
    "collapsed": false
   },
   "outputs": [
    {
     "name": "stdout",
     "output_type": "stream",
     "text": [
      "1\n",
      "1\n",
      "1\n"
     ]
    }
   ],
   "source": [
    "# Fib ?\n",
    "class Fib(object):\n",
    "    def __init__(self):\n",
    "        self.a, self.b = 0, 1 #初始化两个计数器a，b\n",
    "    def __iter__(self):\n",
    "        return self # 实例本身就是一个迭代对象，股返回自己\n",
    "    \n",
    "    def __next__(self):\n",
    "        self.a, self.b = self.b, self.a + self.b # 计算下一个值\n",
    "        if self.a > 100:\n",
    "            raise StopIteration()\n",
    "        return self.a # 返回下一个值\n",
    "    \n",
    "for i in range(3):\n",
    "    print Fib().__next__()"
   ]
  },
  {
   "cell_type": "markdown",
   "metadata": {},
   "source": [
    "#### \\__getitem\\__（） :取第几个元素"
   ]
  },
  {
   "cell_type": "code",
   "execution_count": 49,
   "metadata": {
    "collapsed": false
   },
   "outputs": [
    {
     "data": {
      "text/plain": [
       "1"
      ]
     },
     "execution_count": 49,
     "metadata": {},
     "output_type": "execute_result"
    }
   ],
   "source": [
    "class Fib(object):\n",
    "    def __getitem__(self, n): # 注意n\n",
    "        a, b = 1, 1\n",
    "        for x in range(n):\n",
    "            a, b = b, a + b\n",
    "        return a\n",
    "\n",
    "f = Fib()\n",
    "f[0]"
   ]
  },
  {
   "cell_type": "markdown",
   "metadata": {},
   "source": [
    "切片"
   ]
  },
  {
   "cell_type": "code",
   "execution_count": 51,
   "metadata": {
    "collapsed": false
   },
   "outputs": [
    {
     "data": {
      "text/plain": [
       "[5, 6, 7, 8, 9]"
      ]
     },
     "execution_count": 51,
     "metadata": {},
     "output_type": "execute_result"
    }
   ],
   "source": [
    "list(range(100))[5:10]"
   ]
  },
  {
   "cell_type": "code",
   "execution_count": 54,
   "metadata": {
    "collapsed": false
   },
   "outputs": [
    {
     "data": {
      "text/plain": [
       "[1, 1, 2, 3, 5]"
      ]
     },
     "execution_count": 54,
     "metadata": {},
     "output_type": "execute_result"
    }
   ],
   "source": [
    "class Fib(object):\n",
    "    def __getitem__(self, n): # 为甚没有用多参\n",
    "        if isinstance(n, int):\n",
    "            a, b = 1, 1\n",
    "            for x in range(n):\n",
    "                a, b = b, a + b\n",
    "                return a\n",
    "        if isinstance(n, slice): # n是切片\n",
    "            start = n.start\n",
    "            stop = n.stop\n",
    "            if start is None:\n",
    "                start = 0\n",
    "            a, b = 1, 1\n",
    "            L = []\n",
    "            for x in range(stop):\n",
    "                if x >= start:\n",
    "                    L.append(a)\n",
    "                a, b = b, a+b\n",
    "            return L\n",
    "        \n",
    "f = Fib()\n",
    "f[0:5]\n",
    "# 没有对step处理；"
   ]
  },
  {
   "cell_type": "markdown",
   "metadata": {},
   "source": [
    "#### __getattr__:当调用不存在的属性时，尝试调用存在的属性"
   ]
  },
  {
   "cell_type": "code",
   "execution_count": 66,
   "metadata": {
    "collapsed": false
   },
   "outputs": [
    {
     "ename": "AttributeError",
     "evalue": "'Student' object has no attributes ' sb '",
     "output_type": "error",
     "traceback": [
      "\u001b[0;31m---------------------------------------------------------------------------\u001b[0m",
      "\u001b[0;31mAttributeError\u001b[0m                            Traceback (most recent call last)",
      "\u001b[0;32m<ipython-input-66-1a0712f8fab9>\u001b[0m in \u001b[0;36m<module>\u001b[0;34m()\u001b[0m\n\u001b[1;32m     17\u001b[0m \u001b[0ms\u001b[0m\u001b[1;33m.\u001b[0m\u001b[0mage\u001b[0m\u001b[1;33m\u001b[0m\u001b[0m\n\u001b[1;32m     18\u001b[0m \u001b[0ms\u001b[0m\u001b[1;33m.\u001b[0m\u001b[0mage\u001b[0m\u001b[1;33m(\u001b[0m\u001b[1;33m)\u001b[0m\u001b[1;33m\u001b[0m\u001b[0m\n\u001b[0;32m---> 19\u001b[0;31m \u001b[0ms\u001b[0m\u001b[1;33m.\u001b[0m\u001b[0msb\u001b[0m\u001b[1;33m\u001b[0m\u001b[0m\n\u001b[0m",
      "\u001b[0;32m<ipython-input-66-1a0712f8fab9>\u001b[0m in \u001b[0;36m__getattr__\u001b[0;34m(self, attr)\u001b[0m\n\u001b[1;32m     10\u001b[0m             \u001b[1;32mreturn\u001b[0m \u001b[1;32mlambda\u001b[0m\u001b[1;33m:\u001b[0m\u001b[1;36m25\u001b[0m\u001b[1;33m\u001b[0m\u001b[0m\n\u001b[1;32m     11\u001b[0m         \u001b[1;31m# 其他抛出AttributeError\u001b[0m\u001b[1;33m\u001b[0m\u001b[1;33m\u001b[0m\u001b[0m\n\u001b[0;32m---> 12\u001b[0;31m         \u001b[1;32mraise\u001b[0m \u001b[0mAttributeError\u001b[0m\u001b[1;33m(\u001b[0m\u001b[1;34m'\\'Student\\' object has no attributes \\' %s \\''\u001b[0m \u001b[1;33m%\u001b[0m \u001b[0mattr\u001b[0m\u001b[1;33m)\u001b[0m\u001b[1;33m\u001b[0m\u001b[0m\n\u001b[0m\u001b[1;32m     13\u001b[0m \u001b[1;33m\u001b[0m\u001b[0m\n\u001b[1;32m     14\u001b[0m \u001b[0ms\u001b[0m \u001b[1;33m=\u001b[0m \u001b[0mStudent\u001b[0m\u001b[1;33m(\u001b[0m\u001b[1;33m)\u001b[0m\u001b[1;33m\u001b[0m\u001b[0m\n",
      "\u001b[0;31mAttributeError\u001b[0m: 'Student' object has no attributes ' sb '"
     ]
    }
   ],
   "source": [
    "class Student(object):\n",
    "    def __init__(self):\n",
    "        self.name = 'Michael'\n",
    "        \n",
    "    def __getattr__(self, attr): # 调用未知属性，返回值\n",
    "        if attr == 'score':\n",
    "            return 99\n",
    "         # 调用未知属性， 返回类\n",
    "        if attr == 'age':\n",
    "            return lambda:25\n",
    "        # 其他抛出AttributeError\n",
    "        raise AttributeError('\\'Student\\' object has no attributes \\' %s \\'' % attr)\n",
    "\n",
    "s = Student()\n",
    "s.name\n",
    "s.score\n",
    "s.age\n",
    "s.age()\n",
    "s.sb"
   ]
  },
  {
   "cell_type": "markdown",
   "metadata": {},
   "source": [
    "可以把一个类的所有属性和方法调用全部动态化处理了，不需要任何特殊手段。\n",
    "可以针对完全动态的情况做调用，利用完全年动态的\\__getattr\\__可以写出一个链式调用,\\\n",
    "解决些SDK时要给每个URL对应的API都写一个方法"
   ]
  },
  {
   "cell_type": "code",
   "execution_count": 74,
   "metadata": {
    "collapsed": false
   },
   "outputs": [
    {
     "data": {
      "text/plain": [
       "/status/user/timeline/list"
      ]
     },
     "execution_count": 74,
     "metadata": {},
     "output_type": "execute_result"
    }
   ],
   "source": [
    "class Chain(object):\n",
    "    def __init__(self, path=''):\n",
    "        self._path = path\n",
    "    \n",
    "    def __getattr__(self, path): # ?\n",
    "        return Chain('%s/%s' % (self._path, path))\n",
    "    \n",
    "    def __str__(self):\n",
    "        return self._path\n",
    "    \n",
    "    __repr__ = __str__\n",
    "    \n",
    "Chain().status.user.timeline.list"
   ]
  },
  {
   "cell_type": "markdown",
   "metadata": {},
   "source": [
    "#### \\__call__:直接对实例进行调用"
   ]
  },
  {
   "cell_type": "code",
   "execution_count": 86,
   "metadata": {
    "collapsed": false,
    "scrolled": true
   },
   "outputs": [],
   "source": [
    "class Student(object):\n",
    "    def __intit__(self, name):\n",
    "        self.name = name\n",
    "    \n",
    "    def __call__(self):\n",
    "        print 'My name is %s' % self.name\n",
    "\n",
    "# s = Student('sun') # TypeError: object() takes no parameters 大概2和3的区别\n",
    "# s = Student(1) # ?\n",
    "# s()"
   ]
  },
  {
   "cell_type": "markdown",
   "metadata": {},
   "source": [
    "__call__()还可以定义参数，对实例进行直接调用就好比对一个函数进行调用一样，所以完全可以把对象看成函数，把函数看成对象。\n",
    "如果把对象看成函数，那么函数本身其实也可以砸i运行期间动态创建出来，因为类的实例就是运行期创建出来的，这么一来，我们就模糊了对象和函数的界限\n",
    "能被调用的对象就是一个Callable对象"
   ]
  },
  {
   "cell_type": "markdown",
   "metadata": {},
   "source": [
    "### 使用枚举类"
   ]
  },
  {
   "cell_type": "markdown",
   "metadata": {},
   "source": [
    "为这样的枚举类型定义一个class类型，然后，每个常量都是class的一个唯一实例。Python提供了Enum类来实现这个功能："
   ]
  },
  {
   "cell_type": "code",
   "execution_count": 92,
   "metadata": {
    "collapsed": false
   },
   "outputs": [
    {
     "name": "stdout",
     "output_type": "stream",
     "text": [
      "Jan => Month.Jan , 1\n",
      "Feb => Month.Feb , 2\n",
      "Mar => Month.Mar , 3\n",
      "Apr => Month.Apr , 4\n",
      "Jun => Month.Jun , 5\n",
      "Jul => Month.Jul , 6\n",
      "Aug => Month.Aug , 7\n",
      "Sep => Month.Sep , 8\n",
      "Oct => Month.Oct , 9\n",
      "Nov => Month.Nov , 10\n",
      "Dec => Month.Dec , 11\n"
     ]
    }
   ],
   "source": [
    "from enum import Enum\n",
    "\n",
    "Month = Enum('Month', ('Jan', 'Feb', 'Mar', 'Apr', 'Jun', 'Jul', 'Aug', 'Sep', 'Oct', 'Nov', 'Dec'))\n",
    "\n",
    "for name, member in Month.__members__.items():\n",
    "#     print (name, '=>', member, ',', member.value)\n",
    "    print name, '=>', member, ',', member.value # value 默认从1开始"
   ]
  },
  {
   "cell_type": "code",
   "execution_count": 100,
   "metadata": {
    "collapsed": false
   },
   "outputs": [
    {
     "name": "stdout",
     "output_type": "stream",
     "text": [
      "Weekday.Mon\n",
      "Weekday.Tue\n",
      "2\n",
      "Weekday.Mon\n",
      "Sun => Weekday.Sun\n",
      "Mon => Weekday.Mon\n",
      "Tue => Weekday.Tue\n",
      "Wed => Weekday.Wed\n",
      "Thu => Weekday.Thu\n",
      "Fri => Weekday.Fri\n",
      "Sat => Weekday.Sat\n"
     ]
    }
   ],
   "source": [
    "# 更精确地空值枚举类\n",
    "from enum import Enum, unique\n",
    "\n",
    "@unique\n",
    "class Weekday(Enum):\n",
    "    Sun = 0\n",
    "    Mon = 1\n",
    "    Tue = 2\n",
    "    Wed = 3\n",
    "    Thu = 4\n",
    "    Fri = 5\n",
    "    Sat = 6\n",
    "\n",
    "day1 = Weekday.Mon\n",
    "print day1\n",
    "print Weekday['Tue']\n",
    "print Weekday['Tue'].value\n",
    "print Weekday(1)\n",
    "# Weekday(7) # ValueError: 7 is not a valid Weekday\n",
    "for name, member in Weekday.__members__.items():\n",
    "    print name, '=>', member"
   ]
  },
  {
   "cell_type": "markdown",
   "metadata": {},
   "source": [
    "既可以用成员名称引用枚举常量，又可以直接根据value的值获得枚举常量\n",
    "Enum可以把一组相关常量定义在一个class中，且class不可变，而且成员可以直接比较。"
   ]
  },
  {
   "cell_type": "markdown",
   "metadata": {},
   "source": [
    "### 使用元类"
   ]
  },
  {
   "cell_type": "markdown",
   "metadata": {},
   "source": [
    "动态语言和静态语言最大的不同，就是函数和类的定义，不是编译时确定的，而是运行时动态从创建的。"
   ]
  },
  {
   "cell_type": "code",
   "execution_count": 106,
   "metadata": {
    "collapsed": false
   },
   "outputs": [
    {
     "name": "stdout",
     "output_type": "stream",
     "text": [
      "hello, world.\n",
      "<type 'type'>\n",
      "<class '__main__.Hello'>\n"
     ]
    }
   ],
   "source": [
    "class Hello(object):\n",
    "    def hello(self, name='world'):\n",
    "        print 'hello, %s.' % name\n",
    "        \n",
    "# 当模块载入hello模块时，就会一次执行该模块的所有语句，执行结果就是动态\n",
    "# 创建出一个Hello的class对象\n",
    "h = Hello()\n",
    "h.hello()\n",
    "print type(Hello)\n",
    "print type(h)\n",
    "# class的定义是运行时创建的，而创建class的方法就是使用type()函数"
   ]
  },
  {
   "cell_type": "code",
   "execution_count": 110,
   "metadata": {
    "collapsed": false
   },
   "outputs": [
    {
     "name": "stdout",
     "output_type": "stream",
     "text": [
      "hello, world\n",
      "<type 'type'>\n",
      "<class '__main__.Hello'>\n"
     ]
    }
   ],
   "source": [
    "# type()函数既可以返回一个对象的类型，又可以创建出新的类型\n",
    "def fn(self, name='world'): # 先定义函数\n",
    "    print 'hello, %s' % name\n",
    "    \n",
    "Hello = type('Hello', (object,), dict(hello=fn)) # 创建Hello class\n",
    "\n",
    "h = Hello()\n",
    "h.hello()\n",
    "print type(Hello)\n",
    "print type(h)"
   ]
  },
  {
   "cell_type": "markdown",
   "metadata": {},
   "source": [
    "要创建一个class对象，type（）函数一次传入3个参数"
   ]
  },
  {
   "cell_type": "markdown",
   "metadata": {},
   "source": [
    "1.class的名称"
   ]
  },
  {
   "cell_type": "markdown",
   "metadata": {},
   "source": [
    "2.继承的父类集合，注意Python支持多重继承，如果只有一个父类，别忘了tuple的单元素写法"
   ]
  },
  {
   "cell_type": "markdown",
   "metadata": {},
   "source": [
    "3.class的方法名称与函数绑定"
   ]
  },
  {
   "cell_type": "markdown",
   "metadata": {},
   "source": [
    "通过type()函数创建的类和直接写class是完全一样的，因为Python解释器遇到class定义时，仅仅是扫描一下class定义的语法，然后调用type()函数创建出class。"
   ]
  },
  {
   "cell_type": "markdown",
   "metadata": {},
   "source": [
    "#### metaclass"
   ]
  },
  {
   "cell_type": "markdown",
   "metadata": {},
   "source": [
    "除了使用type()创建类以外，要控制类的创建行为，还可以使用metaclass（元类）"
   ]
  },
  {
   "cell_type": "markdown",
   "metadata": {},
   "source": [
    "metaclass是Python中非常具有魔术性的对象，它可以改变类创建时的行为。这种强大的功能使用起来务必小心。"
   ]
  },
  {
   "cell_type": "code",
   "execution_count": null,
   "metadata": {
    "collapsed": true
   },
   "outputs": [],
   "source": []
  }
 ],
 "metadata": {
  "kernelspec": {
   "display_name": "Python 2",
   "language": "python",
   "name": "python2"
  },
  "language_info": {
   "codemirror_mode": {
    "name": "ipython",
    "version": 2
   },
   "file_extension": ".py",
   "mimetype": "text/x-python",
   "name": "python",
   "nbconvert_exporter": "python",
   "pygments_lexer": "ipython2",
   "version": "2.7.12"
  }
 },
 "nbformat": 4,
 "nbformat_minor": 1
}
