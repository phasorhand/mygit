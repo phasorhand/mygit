{
 "cells": [
  {
   "cell_type": "markdown",
   "metadata": {},
   "source": [
    "## 函数式编程"
   ]
  },
  {
   "cell_type": "markdown",
   "metadata": {},
   "source": [
    "函数式编程就是一种抽象程度很高的编程范式，纯粹的函数式编程语言编写的函数没有变量，因此，任意一个函数，只要输入是确定的，输出就是确定的，这种纯函数我们称之为没有副作用。而允许使用变量的程序设计语言，由于函数内部的变量状态不确定，同样的输入，可能得到不同的输出，因此，这种函数是有副作用的。\n",
    "函数式编程的一个特点就是，允许把函数本身作为参数传入另一个函数，还允许返回一个函数！\n",
    "\n",
    "Python对函数式编程提供部分支持。由于Python允许使用变量，因此，Python不是纯函数式编程语言。"
   ]
  },
  {
   "cell_type": "markdown",
   "metadata": {},
   "source": [
    "### 高阶函数"
   ]
  },
  {
   "cell_type": "markdown",
   "metadata": {},
   "source": [
    "变量可以指向函数\n",
    "函数名也是变量\n",
    "\n",
    "注：由于abs函数实际上是定义在import builtins模块中的，\n",
    "所以要让修改abs变量的指向在其它模块也生效，\n",
    "要用import builtins; builtins.abs = 10。"
   ]
  },
  {
   "cell_type": "markdown",
   "metadata": {},
   "source": [
    "传入函数\n",
    "既然变量可以指向函数，函数的参数能接收变量，那么一个函数就可以接收另一个函数作为参数，这种函数就称之为高阶函数。"
   ]
  },
  {
   "cell_type": "code",
   "execution_count": 2,
   "metadata": {
    "collapsed": false
   },
   "outputs": [
    {
     "data": {
      "text/plain": [
       "11"
      ]
     },
     "execution_count": 2,
     "metadata": {},
     "output_type": "execute_result"
    }
   ],
   "source": [
    "def add(x, y, f):\n",
    "    return f(x) + f(y)\n",
    "add(-5, 6, abs)"
   ]
  },
  {
   "cell_type": "markdown",
   "metadata": {},
   "source": [
    "### map/reduce"
   ]
  },
  {
   "cell_type": "markdown",
   "metadata": {},
   "source": [
    "map()函数接收两个参数，一个是函数，一个是Iterable，map将传入的函数依次作用到序列的每个元素，并把结果作为新的Iterator返回。"
   ]
  },
  {
   "cell_type": "code",
   "execution_count": 4,
   "metadata": {
    "collapsed": false
   },
   "outputs": [
    {
     "data": {
      "text/plain": [
       "['1', '2', '3']"
      ]
     },
     "execution_count": 4,
     "metadata": {},
     "output_type": "execute_result"
    }
   ],
   "source": [
    "list(map(str, [1, 2, 3]))"
   ]
  },
  {
   "cell_type": "markdown",
   "metadata": {},
   "source": [
    "reduce把一个函数作用在一个序列[x1, x2, x3, ...]|‘2123’上，这个函数必须接收两个参数，reduce把结果继续和序列的下一个元素做累积计算，"
   ]
  },
  {
   "cell_type": "code",
   "execution_count": 7,
   "metadata": {
    "collapsed": false
   },
   "outputs": [
    {
     "data": {
      "text/plain": [
       "25"
      ]
     },
     "execution_count": 7,
     "metadata": {},
     "output_type": "execute_result"
    }
   ],
   "source": [
    "# reduce(f, [x1, x2, x3]) = f(f(f(x1, x2),x3)))\n",
    "def add(x, y):\n",
    "    return x + y\n",
    "reduce(add, [1, 3, 5, 7, 9])"
   ]
  },
  {
   "cell_type": "code",
   "execution_count": 8,
   "metadata": {
    "collapsed": false
   },
   "outputs": [
    {
     "data": {
      "text/plain": [
       "1357"
      ]
     },
     "execution_count": 8,
     "metadata": {},
     "output_type": "execute_result"
    }
   ],
   "source": [
    "# 将[1, 3, 5, 7]变换为1357\n",
    "from functools import reduce\n",
    "def fn(x, y):\n",
    "    return (x*10+y)\n",
    "reduce(fn,[1, 3, 5, 7])"
   ]
  },
  {
   "cell_type": "code",
   "execution_count": 11,
   "metadata": {
    "collapsed": false
   },
   "outputs": [
    {
     "data": {
      "text/plain": [
       "123"
      ]
     },
     "execution_count": 11,
     "metadata": {},
     "output_type": "execute_result"
    }
   ],
   "source": [
    "# 实现int 里面是map外面是reduce\n",
    "demo_dict = {'1' : 1, '2' : 2, '3': 3, '4': 4, '5': 5,\n",
    "            '6': 6, '7': 7, '8': 8, '9': 9}\n",
    "def demo(s):\n",
    "    def map_demo(a):\n",
    "        return demo_dict[a]\n",
    "    def reduce_demo(x, y):\n",
    "        return x*10 + y\n",
    "    return reduce(reduce_demo, map(map_demo, s))\n",
    "\n",
    "demo('123')"
   ]
  },
  {
   "cell_type": "code",
   "execution_count": 12,
   "metadata": {
    "collapsed": false
   },
   "outputs": [
    {
     "data": {
      "text/plain": [
       "123"
      ]
     },
     "execution_count": 12,
     "metadata": {},
     "output_type": "execute_result"
    }
   ],
   "source": [
    "# 简化\n",
    "from functools import reduce\n",
    "\n",
    "def map_demo(a):\n",
    "    return demo_dict[a]\n",
    "def demo(s):\n",
    "    return reduce(lambda x, y: x*10 + y,map(map_demo, s))\n",
    "demo('123')"
   ]
  },
  {
   "cell_type": "markdown",
   "metadata": {},
   "source": [
    "### filter"
   ]
  },
  {
   "cell_type": "markdown",
   "metadata": {},
   "source": [
    "Python内建的filter()函数用于过滤序列。\n",
    "\n",
    "和map()类似，filter()也接收一个函数和一个序列。和map()不同的是，filter()把传入的函数依次作用于每个元素，然后根据返回值是True还是False决定保留还是丢弃该元素。"
   ]
  },
  {
   "cell_type": "code",
   "execution_count": 16,
   "metadata": {
    "collapsed": false
   },
   "outputs": [
    {
     "name": "stdout",
     "output_type": "stream",
     "text": [
      "[1, 3]\n",
      "['1', '3']\n"
     ]
    }
   ],
   "source": [
    "# 删掉偶数\n",
    "def is_odd(n):\n",
    "    return n % 2 == 1\n",
    "\n",
    "print list(filter(is_odd,[1, 2, 3]))\n",
    "\n",
    "# 删序列中的空字符串\n",
    "def not_empty(n):\n",
    "    return n != ''\n",
    "print list(filter(not_empty,['','1','3']))"
   ]
  },
  {
   "cell_type": "code",
   "execution_count": null,
   "metadata": {
    "collapsed": false
   },
   "outputs": [],
   "source": [
    "# 质数？\n",
    "def _odd_iter():\n",
    "    n = 1\n",
    "    while True:\n",
    "        n = n+2\n",
    "        yield n\n",
    "        \n",
    "def _not_divisible(n):\n",
    "    return lambda x: x % n >0\n",
    "\n",
    "# 定义一个生成器，不断返回下一个素数\n",
    "def primes():\n",
    "    yield 2\n",
    "    it = _odd_iter()\n",
    "    print it\n",
    "    while True:\n",
    "        n = next(it) # 返回序列的第一个数\n",
    "#         print n\n",
    "        yield n\n",
    "        it = filter(_not_divisible(n), it) # 构造新序列\n",
    "        print 'it:',it\n",
    "        \n",
    "for n in primes():\n",
    "    if n < 100:\n",
    "        print n\n",
    "    else:\n",
    "        break\n",
    "# def get_primes(max_n):\n",
    "#     for n in primes():\n",
    "#         if n < max_n:\n",
    "#             print(n)\n",
    "#         else:\n",
    "#             break\n",
    "            \n",
    "# get_primes(200)"
   ]
  },
  {
   "cell_type": "code",
   "execution_count": 29,
   "metadata": {
    "collapsed": false
   },
   "outputs": [
    {
     "data": {
      "text/plain": [
       "[1, 2, 3, 4, 5, 6, 7, 8, 9, 11, 22, 33, 44, 55, 66, 77, 88, 99]"
      ]
     },
     "execution_count": 29,
     "metadata": {},
     "output_type": "execute_result"
    }
   ],
   "source": [
    "# 回数\n",
    "def is_plindrome(x):\n",
    "    x_str = str(x)\n",
    "    len_list = range(len(x_str)//2)\n",
    "    if len_list:\n",
    "        for i in len_list:\n",
    "            if x_str[i] == x_str[-(i+1)] :\n",
    "                pass\n",
    "            else:\n",
    "                return False\n",
    "    return True\n",
    "\n",
    "filter(is_plindrome,range(1,100))\n",
    "    "
   ]
  },
  {
   "cell_type": "markdown",
   "metadata": {},
   "source": [
    "### sorted"
   ]
  },
  {
   "cell_type": "code",
   "execution_count": 35,
   "metadata": {
    "collapsed": false
   },
   "outputs": [
    {
     "data": {
      "text/plain": [
       "['Zoo', 'bob', 'about']"
      ]
     },
     "execution_count": 35,
     "metadata": {},
     "output_type": "execute_result"
    }
   ],
   "source": [
    "sorted([36, 5, -12, 9, -21], key=abs)\n",
    "sorted(['bob', 'about', 'Zoo'])\n",
    "# 默认情况下，对字符串排序，是按照ASCII的大小比较的，由于'Z' < 'a'，结果，大写字母Z会排在小写字母a的前面。\n",
    "sorted(['bob', 'about', 'Zoo'], key=str.lower)\n",
    "sorted(['bob', 'about', 'Zoo'], key=str.lower, reverse=True)"
   ]
  },
  {
   "cell_type": "code",
   "execution_count": 47,
   "metadata": {
    "collapsed": false
   },
   "outputs": [
    {
     "data": {
      "text/plain": [
       "[('Adam', 92), ('Lisa', 88), ('Bob', 75), ('Bart', 66)]"
      ]
     },
     "execution_count": 47,
     "metadata": {},
     "output_type": "execute_result"
    }
   ],
   "source": [
    "L = [('Bob', 75), ('Adam', 92), ('Bart', 66), ('Lisa', 88)]\n",
    "# 按名字排序\n",
    "def by_name(t):\n",
    "    return t[0]\n",
    "\n",
    "def by_score(t):\n",
    "    return t[1]\n",
    "\n",
    "sorted(L, key=by_name)\n",
    "sorted(L, key=by_score, reverse=True)"
   ]
  },
  {
   "cell_type": "markdown",
   "metadata": {},
   "source": [
    "### 返回函数"
   ]
  },
  {
   "cell_type": "markdown",
   "metadata": {},
   "source": [
    "函数作为返回值"
   ]
  },
  {
   "cell_type": "code",
   "execution_count": 54,
   "metadata": {
    "collapsed": false
   },
   "outputs": [
    {
     "data": {
      "text/plain": [
       "<function __main__.sum>"
      ]
     },
     "execution_count": 54,
     "metadata": {},
     "output_type": "execute_result"
    }
   ],
   "source": [
    "def calc_sum(*args):\n",
    "    ax = 0\n",
    "    for n in args:\n",
    "        ax = ax + n\n",
    "    return ax\n",
    "\n",
    "def lazy_sum(*args):\n",
    "    def sum():\n",
    "        ax = 0\n",
    "        for n in args:\n",
    "            ax = ax + n\n",
    "        return ax\n",
    "#     return sum()\n",
    "    return sum\n",
    "\n",
    "f = lazy_sum(1,2,3)\n",
    "f"
   ]
  },
  {
   "cell_type": "markdown",
   "metadata": {},
   "source": [
    "我们在函数lazy_sum中又定义了函数sum，并且，内部函数sum可以引用外部函数lazy_sum的参数和局部变量，当lazy_sum返回函数sum时，相关参数和变量都保存在返回的函数中，这种称为“闭包（Closure）”\n",
    "请再注意一点，当我们调用lazy_sum()时，每次调用都会返回一个新的函数，即使传入相同的参数："
   ]
  },
  {
   "cell_type": "markdown",
   "metadata": {},
   "source": [
    "#### 闭包"
   ]
  },
  {
   "cell_type": "code",
   "execution_count": 56,
   "metadata": {
    "collapsed": false
   },
   "outputs": [
    {
     "name": "stdout",
     "output_type": "stream",
     "text": [
      "9 9 9\n"
     ]
    }
   ],
   "source": [
    "def count():\n",
    "    fs = []\n",
    "    for i in range(1, 4):\n",
    "        def f():\n",
    "            return i*i\n",
    "        fs.append(f)\n",
    "    return fs\n",
    "f1, f2, f3 = count()\n",
    "print f1(), f2(), f3()\n"
   ]
  },
  {
   "cell_type": "markdown",
   "metadata": {},
   "source": [
    "返回闭包时牢记的一点就是：返回函数不要引用任何循环变量，或者后续会发生变化的变量。"
   ]
  },
  {
   "cell_type": "code",
   "execution_count": 60,
   "metadata": {
    "collapsed": false
   },
   "outputs": [
    {
     "name": "stdout",
     "output_type": "stream",
     "text": [
      "1 4 9\n"
     ]
    }
   ],
   "source": [
    "# 改进\n",
    "def count():\n",
    "    def f(j):\n",
    "        def g():\n",
    "            return j*j\n",
    "        return g\n",
    "    fs = []\n",
    "#     fs.append(f(i) for i in range(1, 4))\n",
    "    for i in range(1, 4):\n",
    "        fs.append(f(i))\n",
    "    return fs\n",
    "f1, f2, f3 = count()\n",
    "print f1(), f2(), f3()"
   ]
  },
  {
   "cell_type": "markdown",
   "metadata": {},
   "source": [
    "返回一个函数时，牢记该函数并未执行，返回函数中不要引用任何可能会变化的变量。"
   ]
  },
  {
   "cell_type": "markdown",
   "metadata": {},
   "source": [
    "## 匿名函数"
   ]
  },
  {
   "cell_type": "code",
   "execution_count": 65,
   "metadata": {
    "collapsed": false
   },
   "outputs": [
    {
     "data": {
      "text/plain": [
       "[1, 4, 9]"
      ]
     },
     "execution_count": 65,
     "metadata": {},
     "output_type": "execute_result"
    }
   ],
   "source": [
    "list(map(lambda x: x * x, [1, 2, 3]))"
   ]
  },
  {
   "cell_type": "markdown",
   "metadata": {},
   "source": [
    "关键字lambda表示匿名函数，冒号前面的x表示函数参数。"
   ]
  },
  {
   "cell_type": "code",
   "execution_count": 67,
   "metadata": {
    "collapsed": false
   },
   "outputs": [
    {
     "name": "stdout",
     "output_type": "stream",
     "text": [
      "1 4 9\n"
     ]
    }
   ],
   "source": [
    "def count():\n",
    "    def f(j):\n",
    "        return lambda: j * j\n",
    "    fs = list(f(i) for i in range(1, 4))\n",
    "    return fs\n",
    "f1, f2, f3 = count()\n",
    "print f1(), f2(), f3()  "
   ]
  },
  {
   "cell_type": "markdown",
   "metadata": {},
   "source": [
    "匿名函数有个限制，就是只能有一个表达式，不用写return，返回值就是该表达式的结果。\n",
    "\n",
    "用匿名函数有个好处，因为函数没有名字，不必担心函数名冲突。此外，匿名函数也是一个函数对象，也可以把匿名函数赋值给一个变量，再利用变量来调用该函数："
   ]
  },
  {
   "cell_type": "markdown",
   "metadata": {},
   "source": [
    "### 装饰器"
   ]
  },
  {
   "cell_type": "markdown",
   "metadata": {},
   "source": [
    "在函数调用前后自动打印日志，但又不希望修改now()函数的定义，这种在代码运行期间动态增加功能的方式，称之为“装饰器”（Decorator）。\n",
    "本质上，decorator就是一个返回函数的高阶函数。"
   ]
  },
  {
   "cell_type": "code",
   "execution_count": 71,
   "metadata": {
    "collapsed": false
   },
   "outputs": [
    {
     "name": "stdout",
     "output_type": "stream",
     "text": [
      "<function wrapper at 0x03C6FE70>\n",
      "call now():\n",
      "now\n"
     ]
    }
   ],
   "source": [
    "def log(func):\n",
    "    def wrapper(*args, **kw):\n",
    "        print('call %s():' % func.__name__)\n",
    "        return func(*args, **kw)\n",
    "    return wrapper\n",
    "\n",
    "@log\n",
    "def now():\n",
    "    print 'now'\n",
    "    \n",
    "print now # now变量指向wrapper\n",
    "now() # 调用\n",
    "        "
   ]
  },
  {
   "cell_type": "markdown",
   "metadata": {},
   "source": [
    "由于log()是一个decorator，返回一个函数，所以，原来的---now()函数---仍然存在，只是现在同名的---now变量---指向了新的函数，于是调用now()将执行新函数，即在log()函数中返回的wrapper()函数。"
   ]
  },
  {
   "cell_type": "markdown",
   "metadata": {},
   "source": [
    "如果decorator本身需要传入参数，那就需要编写一个返回decorator的高阶函数，"
   ]
  },
  {
   "cell_type": "code",
   "execution_count": 87,
   "metadata": {
    "collapsed": false
   },
   "outputs": [
    {
     "name": "stdout",
     "output_type": "stream",
     "text": [
      "<function now at 0x03C6FB70>\n",
      "先打印\n",
      "再打印\n",
      "打印\n"
     ]
    }
   ],
   "source": [
    "import functools\n",
    "def log(text):\n",
    "    def decorator(func):\n",
    "        @functools.wraps(func)\n",
    "        def wrapper(*args, **kw):\n",
    "            print '先打印'\n",
    "            print text\n",
    "            return func(*args, **kw)\n",
    "        return wrapper\n",
    "    return decorator\n",
    "\n",
    "@log('再打印')\n",
    "def now():\n",
    "    print('打印')\n",
    "\n",
    "print now\n",
    "now()\n",
    "# now = log(now)"
   ]
  },
  {
   "cell_type": "code",
   "execution_count": 91,
   "metadata": {
    "collapsed": false
   },
   "outputs": [
    {
     "name": "stdout",
     "output_type": "stream",
     "text": [
      "<function now at 0x03C6FAB0>\n",
      "先打印\n",
      "打印\n",
      "再打印\n"
     ]
    },
    {
     "data": {
      "text/plain": [
       "<function __main__.now>"
      ]
     },
     "execution_count": 91,
     "metadata": {},
     "output_type": "execute_result"
    }
   ],
   "source": [
    "import functools\n",
    "def log(text):\n",
    "    def decorator(func):\n",
    "        @functools.wraps(func) # 保持原始函数的name\n",
    "        def wrapper(*args, **kw):\n",
    "            print '先打印'\n",
    "            func(*args, **kw)\n",
    "            print text\n",
    "            return func\n",
    "#             return func(*arg, **kw) # 会在最后再打印一次\n",
    "        return wrapper\n",
    "    return decorator\n",
    "\n",
    "@log('再打印')\n",
    "def now():\n",
    "    print '打印'\n",
    "    \n",
    "print now\n",
    "now()\n",
    "# log('再打印‘)（now)"
   ]
  },
  {
   "cell_type": "markdown",
   "metadata": {},
   "source": [
    "在面向对象（OOP）的设计模式中，decorator被称为装饰模式。OOP的装饰模式需要通过继承和组合来实现，而Python除了能支持OOP的decorator外，直接从语法层次支持decorator。Python的decorator可以用函数实现，也可以用类实现。"
   ]
  },
  {
   "cell_type": "code",
   "execution_count": 95,
   "metadata": {
    "collapsed": false
   },
   "outputs": [
    {
     "name": "stdout",
     "output_type": "stream",
     "text": [
      "<function now at 0x03C88430>\n",
      "begin call\n",
      "now\n",
      "end call\n",
      "ags: ags\n",
      "begin call\n",
      "now\n",
      "end call\n"
     ]
    },
    {
     "data": {
      "text/plain": [
       "<function __main__.now1>"
      ]
     },
     "execution_count": 95,
     "metadata": {},
     "output_type": "execute_result"
    }
   ],
   "source": [
    "import functools\n",
    "def log(*ags):\n",
    "    def decorator(func):\n",
    "        @functools.wraps(func)\n",
    "        def wrapper(*args, **kw):\n",
    "            print 'begin call'\n",
    "            func(*args, **kw)\n",
    "            print 'end call'\n",
    "            for i in ags:\n",
    "                print 'ags:', i\n",
    "            return func\n",
    "        return wrapper\n",
    "    return decorator\n",
    "\n",
    "@log('ags')\n",
    "def now():\n",
    "    print 'now'\n",
    "\n",
    "@log()\n",
    "def now1():\n",
    "    print 'now'\n",
    "print now\n",
    "now()\n",
    "now1()"
   ]
  },
  {
   "cell_type": "markdown",
   "metadata": {},
   "source": [
    "### 偏函数"
   ]
  },
  {
   "cell_type": "markdown",
   "metadata": {},
   "source": [
    "Python的functools模块提供了很多有用的功能，其中一个就是偏函数（Partial function）。要注意，这里的偏函数和数学意义上的偏函数不一样。\n",
    "\n",
    "在介绍函数参数的时候，我们讲到，通过设定参数的默认值，可以降低函数调用的难度。"
   ]
  },
  {
   "cell_type": "code",
   "execution_count": 101,
   "metadata": {
    "collapsed": false
   },
   "outputs": [
    {
     "ename": "SyntaxError",
     "evalue": "invalid syntax (<ipython-input-101-186d268dff97>, line 5)",
     "output_type": "error",
     "traceback": [
      "\u001b[0;36m  File \u001b[0;32m\"<ipython-input-101-186d268dff97>\"\u001b[0;36m, line \u001b[0;32m5\u001b[0m\n\u001b[0;31m    retrun int(x, base)\u001b[0m\n\u001b[0m             ^\u001b[0m\n\u001b[0;31mSyntaxError\u001b[0m\u001b[0;31m:\u001b[0m invalid syntax\n"
     ]
    }
   ],
   "source": [
    "int('12345', base=8)\n",
    "int('12345', 16)\n",
    "# ?\n",
    "def int2(x, base=2):\n",
    "    retrun int(x, base)\n",
    "\n",
    "int('2', 8)"
   ]
  },
  {
   "cell_type": "code",
   "execution_count": 107,
   "metadata": {
    "collapsed": false
   },
   "outputs": [
    {
     "name": "stdout",
     "output_type": "stream",
     "text": [
      "32\n"
     ]
    },
    {
     "data": {
      "text/plain": [
       "10"
      ]
     },
     "execution_count": 107,
     "metadata": {},
     "output_type": "execute_result"
    }
   ],
   "source": [
    "import functools\n",
    "int2 = functools.partial(int, base=2)\n",
    "print int2('100000')\n",
    "max2 = functools.partial(max, 10)\n",
    "max2(1, 2)"
   ]
  },
  {
   "cell_type": "markdown",
   "metadata": {},
   "source": [
    "当函数的参数个数太多，需要简化时，使用functools.partial可以创建一个新的函数，这个新函数可以固定住原函数的部分参数，从而在调用时更简单。"
   ]
  }
 ],
 "metadata": {
  "kernelspec": {
   "display_name": "Python 2",
   "language": "python",
   "name": "python2"
  },
  "language_info": {
   "codemirror_mode": {
    "name": "ipython",
    "version": 2
   },
   "file_extension": ".py",
   "mimetype": "text/x-python",
   "name": "python",
   "nbconvert_exporter": "python",
   "pygments_lexer": "ipython2",
   "version": "2.7.12"
  }
 },
 "nbformat": 4,
 "nbformat_minor": 1
}
