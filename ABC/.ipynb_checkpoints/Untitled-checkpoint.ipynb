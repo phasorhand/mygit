{
 "cells": [
  {
   "cell_type": "markdown",
   "metadata": {},
   "source": [
    "### TCP编程"
   ]
  },
  {
   "cell_type": "markdown",
   "metadata": {},
   "source": [
    "Socket是网络编程的一个抽象概念。通常我们用一个Socket表示“打开了一个网络链接”，而打开一个Socket需要知道目标计算机的IP地址和端口号，再指定协议类型即可。"
   ]
  },
  {
   "cell_type": "markdown",
   "metadata": {},
   "source": [
    "#### 客户端"
   ]
  },
  {
   "cell_type": "markdown",
   "metadata": {},
   "source": [
    "主动发起连接的叫客户端，被动响应连接的叫服务器。"
   ]
  },
  {
   "cell_type": "code",
   "execution_count": 5,
   "metadata": {
    "collapsed": false
   },
   "outputs": [
    {
     "name": "stdout",
     "output_type": "stream",
     "text": [
      "HTTP/1.1 200 OK\r\n",
      "Server: nginx\r\n",
      "Date: Mon, 19 Dec 2016 10:13:27 GMT\r\n",
      "Content-Type: text/html\r\n",
      "Last-Modified: Mon, 19 Dec 2016 10:12:42 GMT\r\n",
      "Vary: Accept-Encoding\r\n",
      "Expires: Mon, 19 Dec 2016 10:14:27 GMT\r\n",
      "Cache-Control: max-age=60\r\n",
      "X-Powered-By: shci_v1.03\r\n",
      "Age: 49\r\n",
      "Content-Length: 605503\r\n",
      "X-Cache: HIT from xd33-98.sina.com.cn\r\n",
      "Connection: close\n"
     ]
    }
   ],
   "source": [
    "import socket\n",
    "\n",
    "# 创建一个socket\n",
    "s = socket.socket(socket.AF_INET, socket.SOCK_STREAM)\n",
    "# 创建连接\n",
    "s.connect(('www.sina.com.cn', 80))\n",
    "# 参数是一个tuple，包含地址和端口号。\n",
    "\n",
    "#发送数据：\n",
    "s.send(b'GET / HTTP/1.1\\r\\nHost: www.sina.com.cn\\r\\nConnection: close\\r\\n\\r\\n')\n",
    "\n",
    "# 接收数据：\n",
    "buffer = []\n",
    "while True:\n",
    "    # 每次最多接收1k字节\n",
    "    d = s.recv(1024)\n",
    "    if d:\n",
    "        buffer.append(d)\n",
    "    else:\n",
    "        break\n",
    "    data = b''.join(buffer)\n",
    "    \n",
    "# 关闭连接：\n",
    "s.close()\n",
    "header, html = data.split(b'\\r\\n\\r\\n', 1)\n",
    "print header.decode('utf-8')\n",
    "\n",
    "'''\n",
    "with open('sina.html', 'wb') as f:\n",
    "    f.write(html)\n",
    "'''"
   ]
  },
  {
   "cell_type": "markdown",
   "metadata": {},
   "source": [
    "创建Socket时，AF_INET指定使用IPv4协议，如果要用更先进的IPv6，就指定为AF_INET6。SOCK_STREAM指定使用面向流的TCP协议，这样，一个Socket对象就创建成功，但是还没有建立连接。"
   ]
  },
  {
   "cell_type": "markdown",
   "metadata": {},
   "source": [
    "80端口是Web服务的标准端口。其他服务都有对应的标准端口号，例如SMTP服务是25端口，FTP服务是21端口，等等。端口号小于1024的是Internet标准服务的端口，端口号大于1024的，可以任意使用。"
   ]
  },
  {
   "cell_type": "markdown",
   "metadata": {},
   "source": [
    "TCP连接创建的是双向通道，双方都可以同时给对方发数据。但是谁先发谁后发，怎么协调，要根据具体的协议来决定。例如，HTTP协议规定客户端必须先发请求给服务器，服务器收到后才发数据给客户端。\n",
    "\n",
    "发送的文本格式必须符合HTTP标准，如果格式没问题，接下来就可以接收新浪服务器返回的数据了"
   ]
  },
  {
   "cell_type": "markdown",
   "metadata": {},
   "source": [
    "接收数据时，调用recv(max)方法，一次最多接收指定的字节数，因此，在一个while循环中反复接收，直到recv()返回空数据，表示接收完毕，退出循环。\n",
    "\n",
    "当我们接收完数据后，调用close()方法关闭Socket，这样，一次完整的网络通信就结束了："
   ]
  },
  {
   "cell_type": "markdown",
   "metadata": {},
   "source": [
    "接收到的数据包括HTTP头和网页本身，我们只需要把HTTP头和网页分离一下，把HTTP头打印出来，网页内容保存到文件："
   ]
  },
  {
   "cell_type": "markdown",
   "metadata": {},
   "source": [
    "现在，只需要在浏览器中打开这个sina.html文件，就可以看到新浪的首页了。"
   ]
  },
  {
   "cell_type": "markdown",
   "metadata": {},
   "source": [
    "#### 服务器"
   ]
  },
  {
   "cell_type": "markdown",
   "metadata": {},
   "source": [
    "服务器进程首先要绑定一个端口并监听来自其他客户端的连接。如果某个客户端连接过来了，服务器就与该客户端建立Socket连接，随后的通信就靠这个Socket连接了。"
   ]
  },
  {
   "cell_type": "markdown",
   "metadata": {},
   "source": [
    "服务器要能够区分一个Socket连接是和哪个客户端绑定的。一个Socket依赖4项：服务器地址、服务器端口、客户端地址、客户端端口来唯一确定一个Socket。"
   ]
  },
  {
   "cell_type": "markdown",
   "metadata": {},
   "source": [
    "但是服务器还需要同时响应多个客户端的请求，所以，每个连接都需要一个新的进程或者新的线程来处理，否则，服务器一次就只能服务一个客户端了。"
   ]
  },
  {
   "cell_type": "code",
   "execution_count": 6,
   "metadata": {
    "collapsed": true
   },
   "outputs": [],
   "source": [
    "import socket\n",
    "# 创建一个基于IPv4和TCP协议的Socket：\n",
    "s = socket.socket(socket.AF_INET, socket.SOCK_STREAM)\n",
    "# 监听端口\n",
    "s.bind(('127.0.0.1', 9999))\n",
    "# 调用listen()方法开始监听端口，传入的参数指定等待连接的最大数量\n",
    "s.listen(5)\n",
    "print 'Waiting for connection ...'"
   ]
  },
  {
   "cell_type": "markdown",
   "metadata": {},
   "source": [
    "然后，我们要绑定监听的地址和端口。服务器可能有多块网卡，可以绑定到某一块网卡的IP地址上，也可以用0.0.0.0绑定到所有的网络地址，还可以用127.0.0.1绑定到本机地址。127.0.0.1是一个特殊的IP地址，表示本机地址，如果绑定到这个地址，客户端必须同时在本机运行才能连接，也就是说，外部的计算机无法连接进来。·"
   ]
  },
  {
   "cell_type": "markdown",
   "metadata": {},
   "source": [
    "端口号需要预先指定。因为我们写的这个服务不是标准服务，所以用9999这个端口号。请注意，小于1024的端口号必须要有管理员权限才能绑定："
   ]
  },
  {
   "cell_type": "code",
   "execution_count": null,
   "metadata": {
    "collapsed": true
   },
   "outputs": [],
   "source": []
  }
 ],
 "metadata": {
  "kernelspec": {
   "display_name": "Python 2",
   "language": "python",
   "name": "python2"
  },
  "language_info": {
   "codemirror_mode": {
    "name": "ipython",
    "version": 2
   },
   "file_extension": ".py",
   "mimetype": "text/x-python",
   "name": "python",
   "nbconvert_exporter": "python",
   "pygments_lexer": "ipython2",
   "version": "2.7.12"
  }
 },
 "nbformat": 4,
 "nbformat_minor": 1
}
