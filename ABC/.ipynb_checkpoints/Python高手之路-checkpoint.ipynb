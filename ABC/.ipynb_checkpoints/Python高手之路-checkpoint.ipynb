{
 "cells": [
  {
   "cell_type": "markdown",
   "metadata": {},
   "source": [
    "## 第六章 单元测试"
   ]
  },
  {
   "cell_type": "markdown",
   "metadata": {},
   "source": [
    "nose包：安装之后提供nosetests命令，该命令会加载所有以test_开头的文件，然后执行其中所有以test_开头的函数"
   ]
  },
  {
   "cell_type": "markdown",
   "metadata": {},
   "source": [
    "#### unittest:提供错误的详细信息;pydoc unittest"
   ]
  },
  {
   "cell_type": "code",
   "execution_count": 3,
   "metadata": {
    "collapsed": false
   },
   "outputs": [],
   "source": [
    "# 让测试失败\n",
    "import unittest\n",
    "\n",
    "\n",
    "class TestFail(unittest.TestCase):\n",
    "    def test_range(self):\n",
    "        for x in range(5):\n",
    "            if x > 4:\n",
    "                self.fail('Range returned a too big value: %d' % x)"
   ]
  },
  {
   "cell_type": "markdown",
   "metadata": {},
   "source": [
    "属性：可根据某个库的存在与否有条件的运行某个测试：Unitest.SkipTest异常"
   ]
  },
  {
   "cell_type": "code",
   "execution_count": null,
   "metadata": {
    "collapsed": true
   },
   "outputs": [],
   "source": [
    "# 忽略测试\n",
    "import unittest\n",
    "\n",
    "try:\n",
    "    import mylib\n",
    "except ImportError:\n",
    "    mylib = None\n",
    "    \n",
    "class TestSkipped(unittest.TestCase):\n",
    "    @unittest.skip('Do not run this')\n",
    "    def test_fail(self):\n",
    "        self.fail('This should not be run')\n",
    "        \n",
    "    @unittest.skipIf(mylib is None, 'mylib is not available')\n",
    "    def test_mylib(self):\n",
    "        self.assertEqual(mylib.foobar(), 42)\n",
    "        \n",
    "    def test_skip_at_runtime(self):\n",
    "        if True:\n",
    "            self.skipTest(\"Finally i don't want to run it\")"
   ]
  },
  {
   "cell_type": "markdown",
   "metadata": {},
   "source": [
    "unittest提供两个特殊的方法setUp和tearDown,他们在类的每个测试方法调用前后执行一次"
   ]
  },
  {
   "cell_type": "code",
   "execution_count": 6,
   "metadata": {
    "collapsed": false
   },
   "outputs": [
    {
     "ename": "SyntaxError",
     "evalue": "invalid character in identifier (<ipython-input-6-4190473dc404>, line 12)",
     "output_type": "error",
     "traceback": [
      "\u001b[0;36m  File \u001b[0;32m\"<ipython-input-6-4190473dc404>\"\u001b[0;36m, line \u001b[0;32m12\u001b[0m\n\u001b[0;31m    self.assertEqual(len（self.list）, 3)\u001b[0m\n\u001b[0m                            ^\u001b[0m\n\u001b[0;31mSyntaxError\u001b[0m\u001b[0;31m:\u001b[0m invalid character in identifier\n"
     ]
    }
   ],
   "source": [
    "import unittest\n",
    "\n",
    "class TestMe(unittest.TestCase):\n",
    "    def setUp(self):\n",
    "        self.list = [1, 2, 3]\n",
    "        \n",
    "    def test_length(slef):\n",
    "        self.list.append(4)\n",
    "        self.assertEqual(len(self.list), 4)\n",
    "    \n",
    "    def test_has_one(self):\n",
    "        self.assertEqual(len（self.list), 3)\n",
    "        self.assertIn(1, self.list)"
   ]
  },
  {
   "cell_type": "markdown",
   "metadata": {},
   "source": [
    "### 6.2 fixture"
   ]
  },
  {
   "cell_type": "markdown",
   "metadata": {},
   "source": [
    "测试前创建，测试后销毁：fixtures(非标准库的一部分)提供了一个简单的创建fixture类和对象的机制，如useFixtrue方法"
   ]
  },
  {
   "cell_type": "code",
   "execution_count": null,
   "metadata": {
    "collapsed": true
   },
   "outputs": [],
   "source": [
    "fixtures模块"
   ]
  },
  {
   "cell_type": "code",
   "execution_count": null,
   "metadata": {
    "collapsed": true
   },
   "outputs": [],
   "source": [
    "import fixtures\n",
    "import os\n",
    "\n",
    "\n",
    "class TestEnviron(fixtures.TestWithFixtures):\n",
    "    def test_environ(self):\n",
    "        fixture = self.useFixture(\n",
    "            fixtures.EnvironmentVariable('FOOBAR', '42'))\n",
    "        self.assertEqual(of.environ.get('FOOBAR'), '42')\n",
    "        \n",
    "    def test_environ_no_fixture(self):\n",
    "        self.assertEqual(os.environ.get('FOOBAR'), None)"
   ]
  },
  {
   "cell_type": "code",
   "execution_count": null,
   "metadata": {
    "collapsed": true
   },
   "outputs": [],
   "source": []
  },
  {
   "cell_type": "code",
   "execution_count": null,
   "metadata": {
    "collapsed": true
   },
   "outputs": [],
   "source": []
  },
  {
   "cell_type": "code",
   "execution_count": null,
   "metadata": {
    "collapsed": true
   },
   "outputs": [],
   "source": []
  },
  {
   "cell_type": "code",
   "execution_count": null,
   "metadata": {
    "collapsed": true
   },
   "outputs": [],
   "source": []
  },
  {
   "cell_type": "code",
   "execution_count": null,
   "metadata": {
    "collapsed": true
   },
   "outputs": [],
   "source": []
  },
  {
   "cell_type": "code",
   "execution_count": null,
   "metadata": {
    "collapsed": true
   },
   "outputs": [],
   "source": []
  },
  {
   "cell_type": "code",
   "execution_count": null,
   "metadata": {
    "collapsed": true
   },
   "outputs": [],
   "source": []
  },
  {
   "cell_type": "code",
   "execution_count": null,
   "metadata": {
    "collapsed": true
   },
   "outputs": [],
   "source": []
  },
  {
   "cell_type": "code",
   "execution_count": null,
   "metadata": {
    "collapsed": true
   },
   "outputs": [],
   "source": []
  },
  {
   "cell_type": "code",
   "execution_count": null,
   "metadata": {
    "collapsed": true
   },
   "outputs": [],
   "source": []
  },
  {
   "cell_type": "code",
   "execution_count": null,
   "metadata": {
    "collapsed": true
   },
   "outputs": [],
   "source": []
  },
  {
   "cell_type": "code",
   "execution_count": null,
   "metadata": {
    "collapsed": true
   },
   "outputs": [],
   "source": []
  },
  {
   "cell_type": "code",
   "execution_count": null,
   "metadata": {
    "collapsed": true
   },
   "outputs": [],
   "source": []
  }
 ],
 "metadata": {
  "kernelspec": {
   "display_name": "Python 3",
   "language": "python",
   "name": "python3"
  },
  "language_info": {
   "codemirror_mode": {
    "name": "ipython",
    "version": 3
   },
   "file_extension": ".py",
   "mimetype": "text/x-python",
   "name": "python",
   "nbconvert_exporter": "python",
   "pygments_lexer": "ipython3",
   "version": "3.6.0"
  }
 },
 "nbformat": 4,
 "nbformat_minor": 2
}
