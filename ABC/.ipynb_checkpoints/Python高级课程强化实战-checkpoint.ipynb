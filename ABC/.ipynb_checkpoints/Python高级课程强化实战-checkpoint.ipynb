{
 "cells": [
  {
   "cell_type": "markdown",
   "metadata": {},
   "source": [
    "## 第二章"
   ]
  },
  {
   "cell_type": "markdown",
   "metadata": {},
   "source": [
    "### 2.1 如何在列表字典集合中根据条件筛选数据"
   ]
  },
  {
   "cell_type": "code",
   "execution_count": null,
   "metadata": {
    "collapsed": true
   },
   "outputs": [],
   "source": [
    "a:迭代\n",
    "b:\n",
    "\n",
    "列表：filter函数：filter(lambda x : x>=0, data)\n",
    "      列表解析：[x for x in data if x>=0]\n",
    "字典：字典解析：{k:v for k, v in d.items() if v>90}\n",
    "集合：集合解析：{x for x in s if x%3==0}\n",
    "\n",
    "时间：timeit filter(lambda x: x >= 0, data)"
   ]
  },
  {
   "cell_type": "markdown",
   "metadata": {},
   "source": [
    "更多：random randint timeit %取模"
   ]
  },
  {
   "cell_type": "markdown",
   "metadata": {},
   "source": [
    "### 2.2 如何为元组中的每个元素命名，提高可读性"
   ]
  },
  {
   "cell_type": "code",
   "execution_count": null,
   "metadata": {
    "collapsed": true
   },
   "outputs": [],
   "source": [
    "student = ['jim', 15]\n",
    "student[0]\n",
    "student[1]\n",
    "C 中 宏定义 ，枚举类型\n",
    "python中：定义常量NAME=0，AGE=1（替换索引）》》列表拆包：Name, AGE = 0, 1\n",
    "    collextions.namedtuple替代内置tuple：位置传参，关键字传参,isinstance"
   ]
  },
  {
   "cell_type": "code",
   "execution_count": 4,
   "metadata": {
    "collapsed": false
   },
   "outputs": [
    {
     "name": "stdout",
     "output_type": "stream",
     "text": [
      "Student(name='Jim', age=16, sex='male', email='jim@qq.com')\n",
      "True\n",
      "Jim\n"
     ]
    }
   ],
   "source": [
    "from collections import namedtuple\n",
    "Student = namedtuple('Student', ['name', 'age', 'sex', 'email'])\n",
    "s = Student('Jim', 16, 'male', 'jim@qq.com')\n",
    "print(s)\n",
    "print(isinstance(s, tuple))\n",
    "print(s.name)"
   ]
  },
  {
   "cell_type": "markdown",
   "metadata": {},
   "source": [
    "### 2.3如何统计序列中元素的出险频率"
   ]
  },
  {
   "cell_type": "markdown",
   "metadata": {},
   "source": [
    "1.某随即序列中找到出现次数最高的3个元素，他们的出险次数是多少？\n",
    "from collections import Counter\n",
    "2.对某英文文章的单词进行词频统计，找到出现次数最高的十个单词，他们出现的次数是多少？"
   ]
  },
  {
   "cell_type": "code",
   "execution_count": 8,
   "metadata": {
    "collapsed": false
   },
   "outputs": [
    {
     "name": "stdout",
     "output_type": "stream",
     "text": [
      "[7, 16, 14, 12, 19, 4, 14, 2, 11, 15, 16, 14, 11, 5, 3, 19, 19, 18, 10, 17, 2, 20, 18, 7, 0, 9, 5, 3, 7, 6]\n",
      "{7: 0, 16: 0, 14: 0, 12: 0, 19: 0, 4: 0, 2: 0, 11: 0, 15: 0, 5: 0, 3: 0, 18: 0, 10: 0, 17: 0, 20: 0, 0: 0, 9: 0, 6: 0}\n",
      "Counter({7: 3, 14: 3, 19: 3, 16: 2, 2: 2, 11: 2, 5: 2, 3: 2, 18: 2, 12: 1, 4: 1, 15: 1, 10: 1, 17: 1, 20: 1, 0: 1, 9: 1, 6: 1})\n",
      "[(7, 3), (14, 3), (19, 3)]\n"
     ]
    }
   ],
   "source": [
    "from random import randint\n",
    "data = [randint(0, 20) for _ in range(30)]\n",
    "print(data)\n",
    "# 结果是一个字典\n",
    "c = dict.fromkeys(data, 0)\n",
    "print(c)\n",
    "for x in data:\n",
    "    pass\n",
    "\n",
    "from collections import Counter\n",
    "c2 = Counter(data)\n",
    "print(c2)\n",
    "print(c2.most_common(3))"
   ]
  },
  {
   "cell_type": "code",
   "execution_count": null,
   "metadata": {
    "collapsed": true
   },
   "outputs": [],
   "source": [
    "import re\n",
    "txt = open('文件位置').read()\n",
    "# 分割\n",
    "c3 = Counter(re.split('\\w+'))\n",
    "c3.most_common(10)"
   ]
  },
  {
   "cell_type": "markdown",
   "metadata": {},
   "source": [
    "### 2.4 如何根据字典中值得大小，对字典中的项排序"
   ]
  },
  {
   "cell_type": "code",
   "execution_count": null,
   "metadata": {
    "collapsed": true
   },
   "outputs": [],
   "source": [
    "根据成绩排序\n",
    "sorted\n",
    "zip(字典转化为数组),(1,2)>(1,1)\n",
    "sorted(d.items, key=lambda x:x[1])"
   ]
  },
  {
   "cell_type": "code",
   "execution_count": 9,
   "metadata": {
    "collapsed": false
   },
   "outputs": [
    {
     "data": {
      "text/plain": [
       "[1, 2, 3, 9]"
      ]
     },
     "execution_count": 9,
     "metadata": {},
     "output_type": "execute_result"
    }
   ],
   "source": [
    "sorted([2, 1, 9, 3]) # 列表排序"
   ]
  },
  {
   "cell_type": "code",
   "execution_count": 26,
   "metadata": {
    "collapsed": false
   },
   "outputs": [
    {
     "name": "stdout",
     "output_type": "stream",
     "text": [
      "{'x': 78, 'y': 73, 'z': 94, 'b': 94, 'c': 60}\n",
      "['b', 'c', 'x', 'y', 'z']\n",
      "<dict_keyiterator object at 0x0000024944812868>\n",
      "['x', 'y', 'z', 'b', 'c']\n",
      "False\n",
      "dict_keys(['x', 'y', 'z', 'b', 'c'])\n",
      "dict_values([78, 73, 94, 94, 60])\n",
      "<zip object at 0x00000249447F4D88>\n",
      "dict_items([('x', 78), ('y', 73), ('z', 94), ('b', 94), ('c', 60)])\n"
     ]
    },
    {
     "data": {
      "text/plain": [
       "[('c', 60), ('y', 73), ('x', 78), ('z', 94), ('b', 94)]"
      ]
     },
     "execution_count": 26,
     "metadata": {},
     "output_type": "execute_result"
    }
   ],
   "source": [
    "# 字典排序\n",
    "from random import randint\n",
    "d = {x: randint(60, 100) for x in 'xyzbc'}\n",
    "print(d)\n",
    "print(sorted(d))\n",
    "print(iter(d))\n",
    "print(list(iter(d)))\n",
    "print((97, 'a') > (97, 'b'))\n",
    "print(d.keys())\n",
    "print(d.values())\n",
    "zip_d = zip(d.values(), d.keys())\n",
    "print(zip_d)\n",
    "sorted(zip(d.values(), d.keys()))\n",
    "print(d.items())\n",
    "sorted(d.items(), key=lambda x: x[1])"
   ]
  },
  {
   "cell_type": "markdown",
   "metadata": {},
   "source": [
    "### 2.5 如何快速找到多个字典中的公共键"
   ]
  },
  {
   "cell_type": "code",
   "execution_count": null,
   "metadata": {
    "collapsed": true
   },
   "outputs": [],
   "source": [
    "dict.viewkeys()废弃，只用dict.keys()(python2>>3:reduce在functools之下)"
   ]
  },
  {
   "cell_type": "code",
   "execution_count": 39,
   "metadata": {
    "collapsed": false
   },
   "outputs": [
    {
     "name": "stdout",
     "output_type": "stream",
     "text": [
      "{'d': 3, 'b': 1, 'c': 3, 'e': 3}\n",
      "{'b': 3, 'e': 1, 'f': 3}\n",
      "{'a': 4, 'e': 4, 'd': 2, 'g': 2}\n",
      "['e']\n",
      "dict_keys(['d', 'b', 'c', 'e'])\n",
      "{'e'}\n"
     ]
    },
    {
     "data": {
      "text/plain": [
       "{'e'}"
      ]
     },
     "execution_count": 39,
     "metadata": {},
     "output_type": "execute_result"
    }
   ],
   "source": [
    "# 每场进球 sample，集合\n",
    "from random import randint, sample\n",
    "import functools\n",
    "sample('abcdefg', randint(3, 6))\n",
    "s1 = {x: randint(1, 4) for x in sample('abcdefg', randint(3, 6))}\n",
    "print(s1)\n",
    "s2 = {x: randint(1, 4) for x in sample('abcdefg', randint(3, 6))}\n",
    "print(s2)\n",
    "s3 = {x: randint(1, 4) for x in sample('abcdefg', randint(3, 6))}\n",
    "print(s3)\n",
    "res = []\n",
    "for k in s1:\n",
    "    if k in s2 and k in s3:\n",
    "        res.append(k)\n",
    "print(res)\n",
    "print(s1.keys())\n",
    "print(s1.keys() & s2.keys() & s3.keys())\n",
    "\n",
    "# map,reduce\n",
    "map(dict.keys, [s1, s2, s3])\n",
    "functools.reduce(lambda a, b: a & b, map(dict.keys, [s1, s2, s3]))"
   ]
  },
  {
   "cell_type": "markdown",
   "metadata": {},
   "source": [
    "### 2.6 如何让字典保持有序"
   ]
  },
  {
   "cell_type": "markdown",
   "metadata": {},
   "source": [
    "raw_input() was renamed to input()"
   ]
  },
  {
   "cell_type": "code",
   "execution_count": null,
   "metadata": {
    "collapsed": true
   },
   "outputs": [],
   "source": [
    "collectons.OrderedDict"
   ]
  },
  {
   "cell_type": "code",
   "execution_count": 44,
   "metadata": {
    "collapsed": false
   },
   "outputs": [
    {
     "name": "stdout",
     "output_type": "stream",
     "text": [
      "jim\n",
      "leo\n",
      "Bob\n"
     ]
    }
   ],
   "source": [
    "from collections import OrderedDict\n",
    "# d = {}\n",
    "d = OrderedDict()\n",
    "d['jim'] = (1, 35)\n",
    "d['leo'] = (2, 37)\n",
    "d['Bob'] = (3, 40)\n",
    "for k in d: print(k)"
   ]
  },
  {
   "cell_type": "code",
   "execution_count": 46,
   "metadata": {
    "collapsed": false
   },
   "outputs": [
    {
     "name": "stdout",
     "output_type": "stream",
     "text": [
      "\n",
      "1 A 2.795431613922119\n",
      "\n",
      "2 H 3.745293140411377\n",
      "\n",
      "3 C 4.281561374664307\n",
      "\n",
      "4 F 4.7381837368011475\n",
      "\n",
      "5 D 5.17789101600647\n",
      "\n",
      "6 E 5.745654821395874\n",
      "\n",
      "7 B 6.066210508346558\n",
      "\n",
      "8 G 6.577913522720337\n",
      "OrderedDict([('A', (1, 2.795431613922119)), ('H', (2, 3.745293140411377)), ('C', (3, 4.281561374664307)), ('F', (4, 4.7381837368011475)), ('D', (5, 5.17789101600647)), ('E', (6, 5.745654821395874)), ('B', (7, 6.066210508346558)), ('G', (8, 6.577913522720337))])\n"
     ]
    }
   ],
   "source": [
    "from time import time\n",
    "from random import randint\n",
    "from collections import OrderedDict\n",
    "\n",
    "d = OrderedDict()\n",
    "players = list('ABCDEFGH')\n",
    "start = time()\n",
    "\n",
    "for i in range(8):\n",
    "    input() # 阻塞\n",
    "    p = players.pop(randint(0, 7 - i))\n",
    "    end = time()\n",
    "    print(i+1, p, end - start)\n",
    "    d[p] = (i + 1, end - start)\n",
    "    \n",
    "print(d)"
   ]
  },
  {
   "cell_type": "markdown",
   "metadata": {},
   "source": [
    "### 2.7 如何实现用户的实例记录功能（最多n条）"
   ]
  },
  {
   "cell_type": "markdown",
   "metadata": {},
   "source": [
    "collections中的deque,它是一个双端循环队列\n",
    "程序退出前，可以使用pickle将队列对象存入文件，再次运行程序时将其导入(open in binary model)\n",
    "pickle.dump(),pickle."
   ]
  },
  {
   "cell_type": "code",
   "execution_count": 48,
   "metadata": {
    "collapsed": false
   },
   "outputs": [
    {
     "data": {
      "text/plain": [
       "deque([2, 2, 2, 2, 2])"
      ]
     },
     "execution_count": 48,
     "metadata": {},
     "output_type": "execute_result"
    }
   ],
   "source": [
    "# 容量为n的队列存储历史记录\n",
    "# 猜数字\n",
    "from collections import deque\n",
    "q = deque([], 5)\n",
    "q.append(1)\n",
    "q.append(2)\n",
    "q.append(2)\n",
    "q.append(2)\n",
    "q.append(2)\n",
    "q.append(2)\n"
   ]
  },
  {
   "cell_type": "code",
   "execution_count": null,
   "metadata": {
    "collapsed": true
   },
   "outputs": [],
   "source": [
    "pickle.dump(data, open('history', 'wb'))\n",
    "data2 = pickle.load('history', 'rb')"
   ]
  },
  {
   "cell_type": "markdown",
   "metadata": {},
   "source": [
    "### 3.1 迭代器"
   ]
  },
  {
   "cell_type": "markdown",
   "metadata": {},
   "source": [
    "有可迭代对象得到迭代器"
   ]
  },
  {
   "cell_type": "code",
   "execution_count": 52,
   "metadata": {
    "collapsed": false
   },
   "outputs": [
    {
     "name": "stdout",
     "output_type": "stream",
     "text": [
      "1\n",
      "2\n",
      "3\n",
      "4\n"
     ]
    },
    {
     "ename": "AttributeError",
     "evalue": "'list' object has no attribute '__'",
     "output_type": "error",
     "traceback": [
      "\u001b[0;31m---------------------------------------------------------------------------\u001b[0m",
      "\u001b[0;31mAttributeError\u001b[0m                            Traceback (most recent call last)",
      "\u001b[0;32m<ipython-input-52-2c8c128994f5>\u001b[0m in \u001b[0;36m<module>\u001b[0;34m()\u001b[0m\n\u001b[1;32m      2\u001b[0m \u001b[0ms\u001b[0m \u001b[1;33m=\u001b[0m \u001b[1;34m'abcde'\u001b[0m\u001b[1;33m\u001b[0m\u001b[0m\n\u001b[1;32m      3\u001b[0m \u001b[1;32mfor\u001b[0m \u001b[0mx\u001b[0m \u001b[1;32min\u001b[0m \u001b[0ml\u001b[0m\u001b[1;33m:\u001b[0m \u001b[0mprint\u001b[0m\u001b[1;33m(\u001b[0m\u001b[0mx\u001b[0m\u001b[1;33m)\u001b[0m\u001b[1;33m\u001b[0m\u001b[0m\n\u001b[0;32m----> 4\u001b[0;31m \u001b[0ml\u001b[0m\u001b[1;33m.\u001b[0m\u001b[0m__\u001b[0m\u001b[1;33m\u001b[0m\u001b[0m\n\u001b[0m",
      "\u001b[0;31mAttributeError\u001b[0m: 'list' object has no attribute '__'"
     ]
    }
   ],
   "source": [
    "l = [1, 2, 3, 4]\n",
    "s = 'abcde'\n",
    "for x in l: print(x)\n",
    "l.__"
   ]
  },
  {
   "cell_type": "code",
   "execution_count": null,
   "metadata": {
    "collapsed": true
   },
   "outputs": [],
   "source": [
    "class FloatRange:\n",
    "    def __init__(self, start, end, step=0.1):\n",
    "        self.start = start\n",
    "        self.end = end\n",
    "        self.step = step\n",
    "        \n",
    "    def __iter__(self):\n",
    "        t = self.start\n",
    "        while t <= self.end:\n",
    "            yield t\n",
    "            t += self.step\n",
    "            \n",
    "    def __reversed__(self):\n",
    "        t = self.end\n",
    "        while t >= self.start:\n",
    "            yield t\n",
    "            t -= self.step\n",
    "            \n",
    "\n",
    "for x in reversed(FloatRange(1.0, 4.0, 0.5)):\n",
    "    print(x)"
   ]
  },
  {
   "cell_type": "code",
   "execution_count": null,
   "metadata": {
    "collapsed": true
   },
   "outputs": [],
   "source": []
  },
  {
   "cell_type": "markdown",
   "metadata": {},
   "source": [
    "## 7 类与对象深度技术进阶训练"
   ]
  },
  {
   "cell_type": "markdown",
   "metadata": {},
   "source": [
    "### 7.1 派生内置不可变类型并修改其实例化行为\n",
    "__new__：修改对象的实例化行为"
   ]
  },
  {
   "cell_type": "code",
   "execution_count": 8,
   "metadata": {
    "collapsed": false
   },
   "outputs": [
    {
     "name": "stdout",
     "output_type": "stream",
     "text": [
      "(1, 6, 3)\n"
     ]
    }
   ],
   "source": [
    "class IntTuple(tuple):\n",
    "    def __new__(cls, iterable): # 构造器方法，静态方法（类对象， iterable）\n",
    "        g = (x for x in iterable if isinstance(x, int) and x > 0)\n",
    "        return super(IntTuple, cls).__new__(cls, g)\n",
    "        \n",
    "    def __init___(self, iterable):\n",
    "        # before \n",
    "#         print(self)\n",
    "        super(IntTuple, self).__init__((1,6,3))\n",
    "        \n",
    "t = IntTuple([1, -1, 'abc', 6, ['x', 'y'], 3])\n",
    "print(t)"
   ]
  },
  {
   "cell_type": "markdown",
   "metadata": {},
   "source": [
    "### 7.2 如何为创建大量实例节省内存"
   ]
  },
  {
   "cell_type": "code",
   "execution_count": null,
   "metadata": {
    "collapsed": true
   },
   "outputs": [],
   "source": [
    "定义类的__slots__属性，它是用来声明实例属性名字的列表"
   ]
  },
  {
   "cell_type": "code",
   "execution_count": 18,
   "metadata": {
    "collapsed": false
   },
   "outputs": [
    {
     "name": "stdout",
     "output_type": "stream",
     "text": [
      "{'__dict__', '__weakref__'}\n",
      "{'uid': '0001', 'name': 'jim', 'stat': 0, 'level': 1}\n",
      "{'uid': '0001', 'name': 'jim', 'stat': 0, 'level': 1, 'x': 7, 'y': 8}\n",
      "{'uid': '0001', 'name': 'jim', 'stat': 0, 'level': 1}\n",
      "368\n"
     ]
    }
   ],
   "source": [
    "import sys\n",
    "class Player(object):\n",
    "    def __init__(self, uid, name, status=0, level=1):\n",
    "        self.uid = uid\n",
    "        self.name = name\n",
    "        self.stat = status\n",
    "        self.level = level\n",
    "        \n",
    "class Player2(object):\n",
    "    __slots__ = ['uid', 'name', 'stat', 'level'] # 关闭动态绑定\n",
    "    def __init__(self, uid, name, status=0, level=1):\n",
    "        self.uid = uid\n",
    "        self.name = name\n",
    "        self.stat = status\n",
    "        self.level = level\n",
    "        \n",
    "p1 = Player('0001', 'jim')\n",
    "p2 = Player2('0001', 'jim')\n",
    "print(set(dir(p1)) - set(dir(p2)))\n",
    "print(p1.__dict__)\n",
    "# 动态绑定：牺牲内存\n",
    "p1.x = 7\n",
    "p1.__dict__['y'] = 8\n",
    "print(p1.__dict__)\n",
    "del p1.x, p1.y\n",
    "print(p1.__dict__)\n",
    "print(sys.getsizeof(p1.__dict__))"
   ]
  },
  {
   "cell_type": "markdown",
   "metadata": {},
   "source": [
    "### 7.3 如何让对象支持上下文管理"
   ]
  },
  {
   "cell_type": "code",
   "execution_count": null,
   "metadata": {
    "collapsed": true
   },
   "outputs": [],
   "source": [
    "类：__enter__ __exit__(self, exc_type, exc_val, exc_tb)"
   ]
  },
  {
   "cell_type": "code",
   "execution_count": null,
   "metadata": {
    "collapsed": true
   },
   "outputs": [],
   "source": [
    "    raise Exception('Test')\n",
    "    def __enter__(self):\n",
    "        ...\n",
    "        return self # 所需的方法就在此类中定义\n",
    "        \n",
    "    def __exit__(self, exc_type, exc_val, exc_tb):\n",
    "        ..\n",
    "        return True # 外面将无法捕获异常也不会在外部中断\n",
    "        "
   ]
  },
  {
   "cell_type": "markdown",
   "metadata": {},
   "source": [
    "### 7.4 如何创建可管理的对象属性"
   ]
  },
  {
   "cell_type": "markdown",
   "metadata": {},
   "source": [
    "#### property函数，fget/gset/fdel对应相应属性访问\n"
   ]
  },
  {
   "cell_type": "markdown",
   "metadata": {},
   "source": [
    "#### @property"
   ]
  },
  {
   "cell_type": "code",
   "execution_count": 6,
   "metadata": {
    "collapsed": false
   },
   "outputs": [
    {
     "name": "stdout",
     "output_type": "stream",
     "text": [
      "3.2\n",
      "5.9\n"
     ]
    }
   ],
   "source": [
    "from math import pi\n",
    "\n",
    "\n",
    "class Circle(object):\n",
    "    def __init__(self, radius):\n",
    "        self.radius = radius\n",
    "    \n",
    "    def getRadius(self):\n",
    "        return self.radius\n",
    "    \n",
    "    def setRadius(self, value):\n",
    "        if not isinstance(value, (int, float)):\n",
    "            raise ValueError('wrong type.')\n",
    "        self.radius = float(value)\n",
    "        \n",
    "    def getArea(self):\n",
    "        return self.radius ** 2 * pi\n",
    "    \n",
    "    R = property(getRadius, setRadius)\n",
    "    \n",
    "c = Circle(3.2)\n",
    "print(c.R)\n",
    "c.R = 5.9\n",
    "print(c.R)"
   ]
  },
  {
   "cell_type": "code",
   "execution_count": null,
   "metadata": {
    "collapsed": true
   },
   "outputs": [],
   "source": [
    "from decimal import Decimal\n",
    "\n",
    "\n",
    "class Fees(object):\n",
    "    \n",
    "    def __init__(self):\n",
    "        self._fee = None\n",
    "        \n",
    "    @property\n",
    "    def fee(self):\n",
    "        return self._fee\n",
    "    \n",
    "    @fee.setter\n",
    "    def fee(self, value):\n",
    "        if isinstance(vlaue, str):\n",
    "            self._fee = Decimal(value)\n",
    "        elif isinstance(value, Decimal):\n",
    "            self._fee = value\n",
    "            \n",
    "if __name__ == '__main__':\n",
    "    f = Fees()"
   ]
  },
  {
   "cell_type": "markdown",
   "metadata": {},
   "source": [
    "### 7.5 如何让类支持比较操作"
   ]
  },
  {
   "cell_type": "code",
   "execution_count": null,
   "metadata": {
    "collapsed": true
   },
   "outputs": [],
   "source": [
    "__lt__, __le__,__gt__,__ge__,__eq__,__ne__:functools下类装饰器total_ording"
   ]
  },
  {
   "cell_type": "code",
   "execution_count": null,
   "metadata": {
    "collapsed": true
   },
   "outputs": [],
   "source": [
    "不同类比较：两个不同的类定义一个基类，基类中加入比较"
   ]
  },
  {
   "cell_type": "code",
   "execution_count": 14,
   "metadata": {
    "collapsed": false
   },
   "outputs": [
    {
     "name": "stdout",
     "output_type": "stream",
     "text": [
      "in __lt__\n",
      "in __lt__\n",
      "in __lt__\n"
     ]
    },
    {
     "data": {
      "text/plain": [
       "False"
      ]
     },
     "execution_count": 14,
     "metadata": {},
     "output_type": "execute_result"
    }
   ],
   "source": [
    "from functools import total_ordering\n",
    "\n",
    "@total_ordering\n",
    "class Rectangle(object):\n",
    "    def __init__(self, w, h):\n",
    "        self.w = w\n",
    "        self.h = h\n",
    "\n",
    "    def area(self):\n",
    "        return self.w * self.h\n",
    "\n",
    "    def __lt__(self, obj):\n",
    "        print('in __lt__')\n",
    "        return self.area() < obj.area()\n",
    "    \n",
    "    def __eq__(self, obj):\n",
    "        print('in __lt__')\n",
    "        return self.area() == obj.area()\n",
    "    \n",
    "    # total_ordering 定义了如下：\n",
    "#     def __le__(self, obj):\n",
    "#         return self < obj or self == obj\n",
    "    \n",
    "#     def __gt__(self, obj):\n",
    "#         return not (self < obj or self == obj)\n",
    "        \n",
    "r1 = Rectangle(5, 3)\n",
    "r2 = Rectangle(4, 4)\n",
    "\n",
    "r1 < r2 # r1.__lt__(r2)\n",
    "r1 <= r2\n",
    "r1 > r2"
   ]
  },
  {
   "cell_type": "code",
   "execution_count": null,
   "metadata": {
    "collapsed": true
   },
   "outputs": [],
   "source": []
  },
  {
   "cell_type": "raw",
   "metadata": {},
   "source": []
  },
  {
   "cell_type": "code",
   "execution_count": 20,
   "metadata": {
    "collapsed": false
   },
   "outputs": [
    {
     "name": "stdout",
     "output_type": "stream",
     "text": [
      "in __lt__\n"
     ]
    },
    {
     "data": {
      "text/plain": [
       "True"
      ]
     },
     "execution_count": 20,
     "metadata": {},
     "output_type": "execute_result"
    }
   ],
   "source": [
    "from functools import total_ordering\n",
    "from abc import ABCMeta, abstractmethod\n",
    "@total_ordering\n",
    "class Shape(object):\n",
    "    \n",
    "    @abstractmethod # 抽象接口，子类必须实现\n",
    "    def area(self):\n",
    "        pass\n",
    "    \n",
    "    def __lt__(self, obj):\n",
    "        print('in __lt__')\n",
    "        if not isinstance(obj, Shape):\n",
    "            raise TypeError('obj is not shape')\n",
    "        return self.area() < obj.area()\n",
    "    \n",
    "    def __eq__(slef, obj):\n",
    "        print('in __lt__')\n",
    "        if not isinstance(obj, Shape):\n",
    "            raise TypeError('obj is not shape')\n",
    "        return self.area() == obj.area()\n",
    "    \n",
    "class Rectangle(Shape):\n",
    "    def __init__(self, w, h):\n",
    "        self.w = w\n",
    "        self.h = h\n",
    "    \n",
    "    def area(self):\n",
    "        return self.w * self.h\n",
    "    \n",
    "class Circle(Shape):\n",
    "    def __init__(self, r):\n",
    "        self.r = r\n",
    "        \n",
    "    def area(self):\n",
    "        return self.r ** 2 * 3.14\n",
    "    \n",
    "r1 = Rectangle(2, 2)\n",
    "\n",
    "c1 = Circle(2)\n",
    "\n",
    "r1<c1"
   ]
  },
  {
   "cell_type": "markdown",
   "metadata": {},
   "source": [
    "### 7.6 使用描述符对实例属性做类型检查"
   ]
  },
  {
   "cell_type": "code",
   "execution_count": null,
   "metadata": {
    "collapsed": true
   },
   "outputs": [],
   "source": [
    "__get__ __set__ __delete__ isinstance"
   ]
  },
  {
   "cell_type": "code",
   "execution_count": 32,
   "metadata": {
    "collapsed": false
   },
   "outputs": [
    {
     "name": "stdout",
     "output_type": "stream",
     "text": [
      "{}\n",
      "in __set__ <__main__.Person object at 0x000001C33489CA90> sunxing\n"
     ]
    },
    {
     "data": {
      "text/plain": [
       "{'name': 'sunxing'}"
      ]
     },
     "execution_count": 32,
     "metadata": {},
     "output_type": "execute_result"
    }
   ],
   "source": [
    "class Attr(object): # 描述符\n",
    "    def __init__(self, name, type_):\n",
    "        self.name = name\n",
    "        self.type_ = type_\n",
    "        \n",
    "    def __get__(self, instance , cls):\n",
    "        print('in __get__', instance, cls)\n",
    "        return instance.__dict__[self.name]\n",
    "    \n",
    "    def __set__(self, instance, value):\n",
    "        print('in __set__', instance, value)\n",
    "        if not isinstance(value, self.type_):\n",
    "            raise TypeError('expected an %s' % self.type_)\n",
    "        instance.__dict__[self.name] = value\n",
    "        \n",
    "    def __delete__(slef, instance):\n",
    "        print('in __delete__', instance, cls)\n",
    "        del instance.__dict__[self.name]\n",
    "        \n",
    "class Person(object):\n",
    "    name = Attr('name', str) # 描述符实例\n",
    "    age = Attr('age', int)\n",
    "    height = Attr('height', float)\n",
    "    \n",
    "p = Person()\n",
    "# p.name\n",
    "# Person.name # 只传入cls未传入instance\n",
    "print(p.__dict__)\n",
    "p.name = 'sunxing'\n",
    "p.__dict__"
   ]
  },
  {
   "cell_type": "markdown",
   "metadata": {},
   "source": [
    "### 7.7 如何在环状数据结构中管理内存"
   ]
  },
  {
   "cell_type": "markdown",
   "metadata": {},
   "source": [
    "#### 引用计数垃圾回收：某些环状数据（树，图..）存在对象间的循环引用，如树的父节点引用子节点，子节点也同时引用父节点，此时同时del掉父子节点，两个对象不能被立即回收"
   ]
  },
  {
   "cell_type": "code",
   "execution_count": null,
   "metadata": {
    "collapsed": true
   },
   "outputs": [],
   "source": [
    "标准库weakref，它可以创建爱女一种能访问对象单不能引用计数的对象"
   ]
  },
  {
   "cell_type": "code",
   "execution_count": 41,
   "metadata": {
    "collapsed": false
   },
   "outputs": [
    {
     "name": "stdout",
     "output_type": "stream",
     "text": [
      "in A.__del__\n",
      "a的引用数目： 2\n",
      "a的实际引用数目 1\n",
      "a的实际引用数目 2\n",
      "a的实际引用数目 1\n",
      "in A.__del__\n",
      "a的实际引用数目 313\n"
     ]
    }
   ],
   "source": [
    "class A(object):\n",
    "    def __del__(self):\n",
    "        print('in A.__del__')\n",
    "        \n",
    "a = A()\n",
    "import sys\n",
    "print('a的引用数目：', sys.getrefcount(a))\n",
    "sys.getrefcount?\n",
    "print('a的实际引用数目', sys.getrefcount(a)-1)\n",
    "a2 = a\n",
    "print('a的实际引用数目', sys.getrefcount(a)-1)\n",
    "del a2\n",
    "print('a的实际引用数目', sys.getrefcount(a)-1)\n",
    "a = 5 # 调用del\n",
    "print('a的实际引用数目', sys.getrefcount(a)-1)"
   ]
  },
  {
   "cell_type": "code",
   "execution_count": 52,
   "metadata": {
    "collapsed": false
   },
   "outputs": [
    {
     "name": "stdout",
     "output_type": "stream",
     "text": [
      "in Node.__del__\n",
      "in Data.__del__\n",
      "True\n",
      "a的实际引用数目 2\n",
      "in A.__del__\n",
      "True\n"
     ]
    }
   ],
   "source": [
    "class Data(object):\n",
    "    def __init__(self, value, owner):\n",
    "        self.owner = owner\n",
    "        self.value = value\n",
    "        \n",
    "    def __str__(self):\n",
    "        return \"%s's data, value is %s\" % (self.owner, self.value)\n",
    "    \n",
    "    def __del__(self):\n",
    "        print('in Data.__del__')\n",
    "        \n",
    "class Node(object):\n",
    "    def __init__(self, value):\n",
    "        self.data = Data(value, self)\n",
    "        \n",
    "    def __del__(self):\n",
    "        print('in Node.__del__')\n",
    "        \n",
    "\n",
    "node = Node(100)\n",
    "del node # 无 ‘in __del__’输出，所以未立刻回收\n",
    "import gc\n",
    "gc.collect() # 强制回收，扔无法立刻回收(python2.7)\n",
    "\n",
    "\n",
    "# 弱引用\n",
    "import weakref\n",
    "a = A()\n",
    "a_wref = weakref.ref(a)\n",
    "a2 = a_wref()\n",
    "print(a is a2)\n",
    "print('a的实际引用数目', sys.getrefcount(a)-1)\n",
    "del a\n",
    "del a2\n",
    "print(a_wref() is None)"
   ]
  },
  {
   "cell_type": "code",
   "execution_count": 53,
   "metadata": {
    "collapsed": false
   },
   "outputs": [
    {
     "name": "stdout",
     "output_type": "stream",
     "text": [
      "in Node.__del__\n",
      "in Data.__del__\n"
     ]
    }
   ],
   "source": [
    "import weakref\n",
    "class Data(object):\n",
    "    def __init__(self, value, owner):\n",
    "        self.owner = weakref.ref(owner) # 改进版\n",
    "        self.value = value\n",
    "        \n",
    "    def __str__(self):\n",
    "        return \"%s's data, value is %s\" % (self.owner, self.value)\n",
    "    \n",
    "    def __del__(self):\n",
    "        print('in Data.__del__')\n",
    "        \n",
    "class Node(object):\n",
    "    def __init__(self, value):\n",
    "        self.data = Data(value, self)\n",
    "        \n",
    "    def __del__(self):\n",
    "        print('in Node.__del__')\n",
    "    \n",
    "node = Node(100)\n",
    "del node # 立即删除"
   ]
  },
  {
   "cell_type": "markdown",
   "metadata": {},
   "source": [
    "### 7.8 如何使用实例方法名字的字符串调用方法"
   ]
  },
  {
   "cell_type": "code",
   "execution_count": null,
   "metadata": {
    "collapsed": true
   },
   "outputs": [],
   "source": [
    "方法1：使用内置函数getattr,通过名字在实例上获取方法对象，然后调用\n",
    "方法2：使用标准库operator下的methodcaller"
   ]
  },
  {
   "cell_type": "code",
   "execution_count": null,
   "metadata": {
    "collapsed": true
   },
   "outputs": [],
   "source": [
    "def getArea(shape):\n",
    "    for name in ('area', 'getArea', 'get_area'):\n",
    "        f = getattr(shape, name, None)\n",
    "        if f:\n",
    "            return f()"
   ]
  },
  {
   "cell_type": "code",
   "execution_count": 60,
   "metadata": {
    "collapsed": false
   },
   "outputs": [
    {
     "name": "stdout",
     "output_type": "stream",
     "text": [
      "第一种方法得值： operator.methodcaller('find', 'abc', 4)\n",
      "第二种方法得值： 6\n"
     ]
    }
   ],
   "source": [
    "s = 'abc123abc456'\n",
    "s.find('abc', 4)\n",
    "from operator import methodcaller\n",
    "print('第一种方法得值：', methodcaller('find', 'abc', 4))\n",
    "print('第二种方法得值：',methodcaller('find', 'abc', 4)(s))"
   ]
  },
  {
   "cell_type": "markdown",
   "metadata": {},
   "source": [
    "### 8.1 如何使用多线程"
   ]
  },
  {
   "cell_type": "code",
   "execution_count": null,
   "metadata": {
    "collapsed": true
   },
   "outputs": [],
   "source": [
    "threading.Thread"
   ]
  },
  {
   "cell_type": "code",
   "execution_count": null,
   "metadata": {
    "collapsed": true
   },
   "outputs": [],
   "source": [
    "def handle(sid):\n",
    "    print('Download...(%d)' % sid)\n",
    "    url = 'http://table.finance.yahoo.com/table.csv?s=%s.sz'\n",
    "    url %= str(sid).rjust(6, '0')\n",
    "    rf = download(url)\n",
    "    if rf is None: return\n",
    "    \n",
    "    print('Convert to XML...(%d)' % sid)\n",
    "    fname = str(sid).rjust(6, '0') + '.xml'\n",
    "    with open(fname, 'wb') as wf:\n",
    "        csvToXml(rf, wf)\n",
    "        \n",
    "from threading import Thread\n",
    "\n",
    "t = Thread(target=handle, args=(1,))\n",
    "t.start()\n",
    "\n",
    "print('main thread')"
   ]
  }
 ],
 "metadata": {
  "kernelspec": {
   "display_name": "Python 3",
   "language": "python",
   "name": "python3"
  },
  "language_info": {
   "codemirror_mode": {
    "name": "ipython",
    "version": 3
   },
   "file_extension": ".py",
   "mimetype": "text/x-python",
   "name": "python",
   "nbconvert_exporter": "python",
   "pygments_lexer": "ipython3",
   "version": "3.6.0"
  }
 },
 "nbformat": 4,
 "nbformat_minor": 2
}
