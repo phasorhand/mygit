{
 "cells": [
  {
   "cell_type": "markdown",
   "metadata": {},
   "source": [
    "## 7 输入和输出"
   ]
  },
  {
   "cell_type": "code",
   "execution_count": 19,
   "metadata": {
    "collapsed": false
   },
   "outputs": [
    {
     "name": "stdout",
     "output_type": "stream",
     "text": [
      "hello, world.\n",
      "'hello, world.'\n",
      "0.14285714285714285\n",
      "1: 32.5,2: 40000\n",
      "1: 32.5,2: 40000\n",
      "'helo, world\\n1'\n",
      "helo, world\n",
      "1\n"
     ]
    }
   ],
   "source": [
    "s = 'hello, world.'\n",
    "print(str(s))\n",
    "print(repr(s))\n",
    "print(str(1/7))\n",
    "s1 = '1: ' + repr(10*3.25) + ',2: ' + repr(200*200)\n",
    "print(s1)\n",
    "                                           \n",
    "s2 = '1: ' + str(10*3.25) + ',2: ' + str(200*200)\n",
    "print(s2)\n",
    "hello = 'helo, world\\n1'\n",
    "hellos1 = repr(hello)\n",
    "print(hellos1)\n",
    "hellos2 = str(hello)\n",
    "print(hellos2)"
   ]
  },
  {
   "cell_type": "code",
   "execution_count": null,
   "metadata": {
    "collapsed": true
   },
   "outputs": [],
   "source": [
    ".rjust,.format(格式字段;位置参数、关键字参数、名称参数;!a,!s,!r;:格式指令）,.ljust,.center(不会截断字符串)，.zfill"
   ]
  },
  {
   "cell_type": "code",
   "execution_count": 21,
   "metadata": {
    "collapsed": false
   },
   "outputs": [
    {
     "name": "stdout",
     "output_type": "stream",
     "text": [
      " 1   1   1\n",
      " 2   4   8\n",
      " 3   9  27\n",
      " 4  16  64\n",
      " 5  25 125\n",
      " 6  36 216\n",
      " 7  49 343\n",
      " 8  64 512\n",
      " 9  81 729\n",
      "10 1001000\n"
     ]
    }
   ],
   "source": [
    "for x in range(1, 11):\n",
    "    print(repr(x).rjust(2), repr(x*x).rjust(3), end = '')\n",
    "    print(repr(x*x*x).rjust(4))"
   ]
  },
  {
   "cell_type": "code",
   "execution_count": 22,
   "metadata": {
    "collapsed": false
   },
   "outputs": [
    {
     "name": "stdout",
     "output_type": "stream",
     "text": [
      " 1   1    1\n",
      " 2   4    8\n",
      " 3   9   27\n",
      " 4  16   64\n",
      " 5  25  125\n",
      " 6  36  216\n",
      " 7  49  343\n",
      " 8  64  512\n",
      " 9  81  729\n",
      "10 100 1000\n"
     ]
    }
   ],
   "source": [
    "for x in range(1, 11):\n",
    "    print('{0:2d} {1:3d} {2:4d}'.format(x, x*x, x*x*x))"
   ]
  },
  {
   "cell_type": "code",
   "execution_count": 23,
   "metadata": {
    "collapsed": false
   },
   "outputs": [
    {
     "name": "stdout",
     "output_type": "stream",
     "text": [
      "12\n"
     ]
    }
   ],
   "source": [
    "print('{}{}'.format('1', '2'))"
   ]
  },
  {
   "cell_type": "code",
   "execution_count": 25,
   "metadata": {
    "collapsed": false
   },
   "outputs": [
    {
     "name": "stdout",
     "output_type": "stream",
     "text": [
      "The value of PI is approximately 3.142.\n"
     ]
    }
   ],
   "source": [
    "import math\n",
    "print('The value of PI is approximately {0:.3f}.'.format(math.pi))"
   ]
  },
  {
   "cell_type": "code",
   "execution_count": 30,
   "metadata": {
    "collapsed": false
   },
   "outputs": [
    {
     "name": "stdout",
     "output_type": "stream",
     "text": [
      "Sjoerd    ==>      4127\n",
      "Jack      ==>      4098\n",
      "Dcab      ==>      7678\n",
      "----------------------------------------\n",
      "Jack: 4098; Sjoerd: 4127; Dcab: 7678\n",
      "----------------------------------------\n",
      "Jack: 4098; Sjoerd: 4127; Dcab: 7678\n"
     ]
    }
   ],
   "source": [
    "table = {'Sjoerd': 4127, 'Jack': 4098, 'Dcab': 7678}\n",
    "for name, phone in table.items():\n",
    "    print('{0:10}==>{1:10d}'.format(name, phone))\n",
    "print('--'*20)\n",
    "print('Jack: {0[Jack]:d}; Sjoerd: {0[Sjoerd]:d}; Dcab: {0[Dcab]:d}'.format(table))\n",
    "print('-'*40)\n",
    "print('Jack: {Jack:d}; Sjoerd: {Sjoerd:d}; Dcab: {Dcab:d}'.format(**table))"
   ]
  },
  {
   "cell_type": "code",
   "execution_count": null,
   "metadata": {
    "collapsed": true
   },
   "outputs": [],
   "source": [
    "旧式的字符串格式化"
   ]
  },
  {
   "cell_type": "markdown",
   "metadata": {},
   "source": [
    "#### 读写文件；open(filename, mode);mode:r,w,a,r+,b;读写时换行转换（会对JPEG、EXE等有影响）"
   ]
  },
  {
   "cell_type": "markdown",
   "metadata": {},
   "source": [
    "#### f.read(size):读取数据并以字符串（文本模式中）或字节对象（二进制中）返回它。size:省略或负数，到了文件末尾返回空字符串''"
   ]
  },
  {
   "cell_type": "markdown",
   "metadata": {},
   "source": [
    "#### f.readline()：一行数据（行结尾带换行符\\n)，一直读到无换行符。list(f)等同于f.readlines()读取所有行。for line in f"
   ]
  },
  {
   "cell_type": "markdown",
   "metadata": {},
   "source": [
    "#### f.write(string)：返回写入的字符数。写入钱转换成字符串（文本模式下）或字节对象（二进制模式）"
   ]
  },
  {
   "cell_type": "markdown",
   "metadata": {},
   "source": [
    "#### f.seek(offest, from_what);from_what:0,1,2;offset:f.tell()或者0"
   ]
  },
  {
   "cell_type": "markdown",
   "metadata": {},
   "source": [
    "#### json存储结构化数据：序列化，从字符串重构数据：反序列化;json.dumps(),json.dump(x,f)写入文本对象，json.load（f)读取文本对象"
   ]
  },
  {
   "cell_type": "code",
   "execution_count": 34,
   "metadata": {
    "collapsed": false
   },
   "outputs": [
    {
     "data": {
      "text/plain": [
       "'[1, \"simple\", \"list\"]'"
      ]
     },
     "execution_count": 34,
     "metadata": {},
     "output_type": "execute_result"
    }
   ],
   "source": [
    "import json\n",
    "json.dumps([1, 'simple', 'list'])"
   ]
  },
  {
   "cell_type": "markdown",
   "metadata": {},
   "source": [
    "## 8 异常和错误"
   ]
  },
  {
   "cell_type": "markdown",
   "metadata": {},
   "source": [
    "#### 语法错误、异常（异常上下文）、抛出异常（try except raise else）、括号元组（多个异常）、通配符"
   ]
  },
  {
   "cell_type": "code",
   "execution_count": null,
   "metadata": {
    "collapsed": true
   },
   "outputs": [],
   "source": [
    "except:\n",
    "    print('Unexpected error:', sys.exc_info()[0])\n",
    "    raise"
   ]
  },
  {
   "cell_type": "markdown",
   "metadata": {},
   "source": [
    "#### 引发异常（raise NameError('hi there')"
   ]
  },
  {
   "cell_type": "code",
   "execution_count": null,
   "metadata": {
    "collapsed": true
   },
   "outputs": [],
   "source": [
    "try:\n",
    "    raise NameError('')\n",
    "except NamrError:\n",
    "    print('')\n",
    "    raise"
   ]
  },
  {
   "cell_type": "markdown",
   "metadata": {},
   "source": [
    "#### 用户定义的异常（为给模块定义的异常创建基类，并为不同的错误条件创建特定的异常类的子类"
   ]
  },
  {
   "cell_type": "code",
   "execution_count": null,
   "metadata": {
    "collapsed": true
   },
   "outputs": [],
   "source": [
    "class Error(Exception):\n",
    "    \"\"\"Base class for exception in the module\"\"\"\n",
    "\n",
    "class InputError(Error):\n",
    "    \"\"\"Exception raised for errors in the input.\n",
    "    \n",
    "    Atrributes:\n",
    "        expression -- input expression in which the error occured\n",
    "        message -- explanation of the error\n",
    "    \"\"\"\n",
    "    def __init__(self, expression, message):\n",
    "        self.expression = expression\n",
    "        self.message = message\n",
    "        \n",
    "class TransitionError(Error):\n",
    "    \"\"\"Raised when an operation attempts a state transition that is not \n",
    "    allowed.\n",
    "    \n",
    "    Attributes:\n",
    "        previous -- state at the beginning of the transition\n",
    "        next -- attempted new state\n",
    "        message -- explanation of why the specific transition is not allowed\n",
    "    \"\"\"\n",
    "    def __init__(self, previous, next, message):\n",
    "        self.previous = previous\n",
    "        self.next = next\n",
    "        self.message = message"
   ]
  },
  {
   "cell_type": "code",
   "execution_count": null,
   "metadata": {
    "collapsed": true
   },
   "outputs": [],
   "source": [
    "定义清理操作finally"
   ]
  },
  {
   "cell_type": "code",
   "execution_count": null,
   "metadata": {
    "collapsed": true
   },
   "outputs": [],
   "source": [
    "定义预清理操作with"
   ]
  },
  {
   "cell_type": "code",
   "execution_count": null,
   "metadata": {
    "collapsed": true
   },
   "outputs": [],
   "source": []
  },
  {
   "cell_type": "code",
   "execution_count": null,
   "metadata": {
    "collapsed": true
   },
   "outputs": [],
   "source": []
  },
  {
   "cell_type": "code",
   "execution_count": null,
   "metadata": {
    "collapsed": true
   },
   "outputs": [],
   "source": []
  }
 ],
 "metadata": {
  "kernelspec": {
   "display_name": "Python 3",
   "language": "python",
   "name": "python3"
  },
  "language_info": {
   "codemirror_mode": {
    "name": "ipython",
    "version": 3
   },
   "file_extension": ".py",
   "mimetype": "text/x-python",
   "name": "python",
   "nbconvert_exporter": "python",
   "pygments_lexer": "ipython3",
   "version": "3.6.0"
  }
 },
 "nbformat": 4,
 "nbformat_minor": 2
}
