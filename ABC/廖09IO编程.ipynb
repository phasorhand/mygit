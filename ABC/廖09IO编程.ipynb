{
 "cells": [
  {
   "cell_type": "markdown",
   "metadata": {},
   "source": [
    "### IO编程"
   ]
  },
  {
   "cell_type": "code",
   "execution_count": null,
   "metadata": {
    "collapsed": true
   },
   "outputs": [],
   "source": [
    "Input/Output"
   ]
  },
  {
   "cell_type": "markdown",
   "metadata": {},
   "source": [
    "### 文件读写"
   ]
  },
  {
   "cell_type": "code",
   "execution_count": 1,
   "metadata": {
    "collapsed": false
   },
   "outputs": [
    {
     "data": {
      "text/plain": [
       "\"\\ntry:\\n    f = open('/path/to/file', 'r')\\n    print(f.read())\\nfinally:\\n    if f:\\n        f.close()\\n        \\nwith open('/path/to/file.text', 'r') as f:\\n    print(f.read())\\n\\nread(size)\\nreadlines()\\n\""
      ]
     },
     "execution_count": 1,
     "metadata": {},
     "output_type": "execute_result"
    }
   ],
   "source": [
    "# 读\n",
    "'''\n",
    "try:\n",
    "    f = open('/path/to/file', 'r')\n",
    "    print(f.read())\n",
    "finally:\n",
    "    if f:\n",
    "        f.close()\n",
    "        \n",
    "with open('/path/to/file.text', 'r') as f:\n",
    "    print(f.read())\n",
    "\n",
    "read(size)\n",
    "readlines()\n",
    "'''"
   ]
  },
  {
   "cell_type": "markdown",
   "metadata": {},
   "source": [
    "如果文件很小，read()一次性读取最方便；如果不能确定文件大小，反复调用read(size)比较保险；如果是配置文件，调用readlines()最方便："
   ]
  },
  {
   "cell_type": "code",
   "execution_count": 2,
   "metadata": {
    "collapsed": false
   },
   "outputs": [
    {
     "data": {
      "text/plain": [
       "'\\nfor lines in f.readlines():\\n    print(line.strip())\\n'"
      ]
     },
     "execution_count": 2,
     "metadata": {},
     "output_type": "execute_result"
    }
   ],
   "source": [
    "'''\n",
    "for lines in f.readlines():\n",
    "    print(line.strip())\n",
    "'''"
   ]
  },
  {
   "cell_type": "markdown",
   "metadata": {},
   "source": [
    "#### file_like Object"
   ]
  },
  {
   "cell_type": "markdown",
   "metadata": {},
   "source": [
    "StringIO就是在内存中创建的file-like Object，常用作临时缓冲。"
   ]
  },
  {
   "cell_type": "markdown",
   "metadata": {},
   "source": [
    "#### 二进制文件"
   ]
  },
  {
   "cell_type": "markdown",
   "metadata": {},
   "source": [
    "要读取二进制文件，比如图片、视频等等，用'rb'模式打开文件即可："
   ]
  },
  {
   "cell_type": "code",
   "execution_count": 3,
   "metadata": {
    "collapsed": false
   },
   "outputs": [
    {
     "data": {
      "text/plain": [
       "\"\\nf = open('/path/to/file.jpg', 'rb')\\nf.read()\\n\""
      ]
     },
     "execution_count": 3,
     "metadata": {},
     "output_type": "execute_result"
    }
   ],
   "source": [
    "'''\n",
    "f = open('/path/to/file.jpg', 'rb')\n",
    "f.read()\n",
    "'''"
   ]
  },
  {
   "cell_type": "markdown",
   "metadata": {},
   "source": [
    "#### 字符编码"
   ]
  },
  {
   "cell_type": "markdown",
   "metadata": {},
   "source": [
    "要读取非UTF-8编码的文本文件，需要给open()函数传入encoding参数，"
   ]
  },
  {
   "cell_type": "code",
   "execution_count": 4,
   "metadata": {
    "collapsed": false
   },
   "outputs": [
    {
     "data": {
      "text/plain": [
       "\"\\nf = open('/path/to/file.txt', 'r', encoding='gbk')\\nf.read()\\n\""
      ]
     },
     "execution_count": 4,
     "metadata": {},
     "output_type": "execute_result"
    }
   ],
   "source": [
    "'''\n",
    "f = open('/path/to/file.txt', 'r', encoding='gbk')\n",
    "f.read()\n",
    "'''"
   ]
  },
  {
   "cell_type": "markdown",
   "metadata": {},
   "source": [
    "遇到有些编码不规范的文件，你可能会遇到UnicodeDecodeError，因为在文本文件中可能夹杂了一些非法编码的字符。遇到这种情况，open()函数还接收一个errors参数，表示如果遇到编码错误后如何处理。最简单的方式是直接忽略："
   ]
  },
  {
   "cell_type": "code",
   "execution_count": 5,
   "metadata": {
    "collapsed": true
   },
   "outputs": [],
   "source": [
    "# f = open('/path/to/gbk.txt', 'r', encoding='gbk', errors='ignore')"
   ]
  },
  {
   "cell_type": "markdown",
   "metadata": {},
   "source": [
    "#### 写文件"
   ]
  },
  {
   "cell_type": "markdown",
   "metadata": {},
   "source": [
    "当我们写文件时，操作系统往往不会立刻把数据写入磁盘，而是放到内存缓存起来，空闲的时候再慢慢写入。只有调用close()方法时，操作系统才保证把没有写入的数据全部写入磁盘。忘记调用close()的后果是数据可能只写了一部分到磁盘，剩下的丢失了。所以，还是用with语句来得保险"
   ]
  },
  {
   "cell_type": "markdown",
   "metadata": {},
   "source": [
    "with语句操作io"
   ]
  },
  {
   "cell_type": "markdown",
   "metadata": {},
   "source": [
    "### StringIO BytesIO"
   ]
  },
  {
   "cell_type": "code",
   "execution_count": 6,
   "metadata": {
    "collapsed": false
   },
   "outputs": [
    {
     "data": {
      "text/plain": [
       "\"\\nfrom io import StringIO\\nf = StringIO()\\nf.write('hello')\\n>>>5\\nf.write(' ')\\n>>>1\\nf.write('world!')\\n>>>6\\nprint(f.getvalue())\\n>>>hello world\\n\""
      ]
     },
     "execution_count": 6,
     "metadata": {},
     "output_type": "execute_result"
    }
   ],
   "source": [
    "'''\n",
    "from io import StringIO\n",
    "f = StringIO()\n",
    "f.write('hello')\n",
    ">>>5\n",
    "f.write(' ')\n",
    ">>>1\n",
    "f.write('world!')\n",
    ">>>6\n",
    "print(f.getvalue()) # 获取写入后的str\n",
    ">>>hello world\n",
    "'''"
   ]
  },
  {
   "cell_type": "code",
   "execution_count": 7,
   "metadata": {
    "collapsed": false
   },
   "outputs": [
    {
     "data": {
      "text/plain": [
       "\"\\nfrom io import StringIO\\nf = StringIO('Hello!\\nHi\\nGoodbye!')\\nwhile True:\\n    s = f.readline()\\n    if s == '':\\n        break\\n    print(s.strip()) # \\xe5\\x8e\\xbb\\xe9\\x99\\xa4\\n\\n\""
      ]
     },
     "execution_count": 7,
     "metadata": {},
     "output_type": "execute_result"
    }
   ],
   "source": [
    "'''\n",
    "from io import StringIO\n",
    "f = StringIO('Hello!\\nHi\\nGoodbye!')\n",
    "while True:\n",
    "    s = f.readline()\n",
    "    if s == '':\n",
    "        break\n",
    "    print(s.strip()) # 去除\\n\n",
    "'''"
   ]
  },
  {
   "cell_type": "code",
   "execution_count": 8,
   "metadata": {
    "collapsed": false
   },
   "outputs": [
    {
     "data": {
      "text/plain": [
       "\"\\nfrom io import BytesIO\\nf = BytesIO()\\nf.write('\\xe4\\xb8\\xad\\xe6\\x96\\x87\\xe2\\x80\\x99.encode('utf-8'))\\n>>>6\\nprint(f.getvalue())\\n>>>b'\\xe4\\xb8\\xad\\xe6\\x96\\x87' # \\xe5\\x86\\x99\\xe5\\x85\\xa5\\xe7\\x9a\\x84\\xe4\\xb8\\x8d\\xe6\\x98\\xafstr\\xef\\xbc\\x8c\\xe8\\x80\\x8c\\xe6\\x98\\xaf\\xe7\\xbb\\x8f\\xe8\\xbf\\x87UTF-8\\xe7\\xbc\\x96\\xe7\\xa0\\x81\\xe7\\x9a\\x84bytes\\xe3\\x80\\x82\\n\\n# \\xe8\\xaf\\xbb\\nf = BytesIO(b' \\xe5\\x8e\\xbb\\xe9\\x99\\xa4')\\nf.read()\\n>>> b'\\xe5\\x8e\\xbb\\xe9\\x99\\xa4'\\n\""
      ]
     },
     "execution_count": 8,
     "metadata": {},
     "output_type": "execute_result"
    }
   ],
   "source": [
    "# 二进制\n",
    "'''\n",
    "from io import BytesIO\n",
    "f = BytesIO()\n",
    "f.write('中文’.encode('utf-8'))\n",
    ">>>6\n",
    "print(f.getvalue())\n",
    ">>>b'\\xe4\\xb8\\xad\\xe6\\x96\\x87' # 写入的不是str，而是经过UTF-8编码的bytes。\n",
    "\n",
    "# 读\n",
    "f = BytesIO(b' \\xe5\\x8e\\xbb\\xe9\\x99\\xa4')\n",
    "f.read()\n",
    ">>> b'\\xe5\\x8e\\xbb\\xe9\\x99\\xa4'\n",
    "'''"
   ]
  },
  {
   "cell_type": "markdown",
   "metadata": {},
   "source": [
    "### 操作文件和目录"
   ]
  },
  {
   "cell_type": "code",
   "execution_count": 10,
   "metadata": {
    "collapsed": false
   },
   "outputs": [
    {
     "data": {
      "text/plain": [
       "'\\nimport os\\nos.name # \\xe6\\x93\\x8d\\xe4\\xbd\\x9c\\xe7\\xb3\\xbb\\xe7\\xbb\\x9f\\xe7\\x9a\\x84\\xe7\\xb1\\xbb\\xe5\\x9e\\x8b\\n\\xe5\\xa6\\x82\\xe6\\x9e\\x9c\\xe6\\x98\\xafposix\\xef\\xbc\\x8c\\xe8\\xaf\\xb4\\xe6\\x98\\x8e\\xe7\\xb3\\xbb\\xe7\\xbb\\x9f\\xe6\\x98\\xafLinux\\xe3\\x80\\x81Unix\\xe6\\x88\\x96Mac OS X\\xef\\xbc\\x8c\\xe5\\xa6\\x82\\xe6\\x9e\\x9c\\xe6\\x98\\xafnt\\xef\\xbc\\x8c\\xe5\\xb0\\xb1\\xe6\\x98\\xafWindows\\xe7\\xb3\\xbb\\xe7\\xbb\\x9f\\xe3\\x80\\x82\\nos.uname # \\xe8\\x8e\\xb7\\xe5\\x8f\\x96\\xe8\\xaf\\xa6\\xe7\\xbb\\x86\\xe4\\xbf\\xa1\\xe6\\x81\\xaf\\xef\\xbc\\x88windows\\xe4\\xb8\\x8d\\xe6\\x8f\\x90\\xe4\\xbe\\x9b\\xef\\xbc\\x89\\n'"
      ]
     },
     "execution_count": 10,
     "metadata": {},
     "output_type": "execute_result"
    }
   ],
   "source": [
    "# -*-encoding:utf-8 -*-\n",
    "'''\n",
    "import os\n",
    "os.name # 操作系统的类型\n",
    "如果是posix，说明系统是Linux、Unix或Mac OS X，如果是nt，就是Windows系统。\n",
    "os.uname # 获取详细信息（windows不提供）\n",
    "'''"
   ]
  },
  {
   "cell_type": "markdown",
   "metadata": {},
   "source": [
    "#### 环境变量:os.environ"
   ]
  },
  {
   "cell_type": "code",
   "execution_count": 11,
   "metadata": {
    "collapsed": true
   },
   "outputs": [],
   "source": [
    "# os.environ.get('key') # 获取某个环境变量\n",
    "# os.environ.get('PATH')\n",
    "# os.environ.get('x', 'default')\n",
    "# >>> 'default'"
   ]
  },
  {
   "cell_type": "markdown",
   "metadata": {},
   "source": [
    "#### 操作文件和目录"
   ]
  },
  {
   "cell_type": "markdown",
   "metadata": {},
   "source": [
    "操作文件和目录的函数一部分放在os模块中，一部分放在os.path模块中，这一点要注意一下。"
   ]
  },
  {
   "cell_type": "code",
   "execution_count": 12,
   "metadata": {
    "collapsed": true
   },
   "outputs": [],
   "source": [
    "# os.path.abspath(',') # 查看当前目录的绝对路径\n",
    "# os.path.join('/Users/username', 'testdir') # 在某个目录下创建新目录，首先把新目录的完整路径表示出了\n",
    "# >>> '/Users/username/testdir'\n",
    "# os.mkdir('/User/username/testdir') # 创建一个新目录\n",
    "# os.rmdir('/User/username/testdir') # 删除一个目录"
   ]
  },
  {
   "cell_type": "markdown",
   "metadata": {},
   "source": [
    "把两个路径合成一个时，不要直接拼字符串，而要通过os.path.join()函数，这样可以正确处理不同操作系统的路径分隔符。在Linux/Unix/Mac下，os.path.join()返回这样的字符串："
   ]
  },
  {
   "cell_type": "code",
   "execution_count": 13,
   "metadata": {
    "collapsed": true
   },
   "outputs": [],
   "source": [
    "# part-1/part-2\n",
    "\n",
    "# Windows\n",
    "# part-1\\part-2"
   ]
  },
  {
   "cell_type": "markdown",
   "metadata": {},
   "source": [
    "同样的道理，要拆分路径时，也不要直接去拆字符串，而要通过os.path.spliit()函数，这样可以把一个路径拆分为两部分，后一部分总是最后级别的目录或文件名："
   ]
  },
  {
   "cell_type": "code",
   "execution_count": 14,
   "metadata": {
    "collapsed": true
   },
   "outputs": [],
   "source": [
    "# os.path.split('/User/username/testdir/file.txt')\n",
    "# >>> ('/User/username/testdir', 'file.txt')\n",
    "\n",
    "# os.path.splitext()可以直接让你得到文件扩展名\n",
    "# os.path.splitext('/path/to/file.txt')\n",
    "# >>> ('/path/to/file', '.txt')\n",
    "\n",
    "# 这些合并、拆分路径的函数并不要求目录和文件要真实存在，它们只对字符串进行操作。"
   ]
  },
  {
   "cell_type": "code",
   "execution_count": 15,
   "metadata": {
    "collapsed": true
   },
   "outputs": [],
   "source": [
    "# 文件操作使用下面的函数\n",
    "# 对文件重命名\n",
    "# os.rename('text.txt', 'test.py')\n",
    "\n",
    "# 删掉文件：\n",
    "# os.remove('test.py')"
   ]
  },
  {
   "cell_type": "markdown",
   "metadata": {},
   "source": [
    "复制文件的函数居然在os模块中不存在！原因是复制文件并非由操作系统提供的系统调用。"
   ]
  },
  {
   "cell_type": "code",
   "execution_count": 16,
   "metadata": {
    "collapsed": true
   },
   "outputs": [],
   "source": [
    "# shutil模块提供了copyfile()函数\n",
    "\n",
    "# 过滤文件\n",
    "# 列出当前目录下的所有目录\n",
    "# [x for x in os.listdir('.') if os.path.isdir(x)]\n",
    "\n",
    "# 列出所有的.py文件\n",
    "# [x for x in os.listdir('.') if os.path.isfile(x) and os.path.splitext(x)[1]='.py']"
   ]
  },
  {
   "cell_type": "markdown",
   "metadata": {},
   "source": [
    "注意这些函数有的在os模块中，有的在os.path模块中"
   ]
  },
  {
   "cell_type": "markdown",
   "metadata": {},
   "source": [
    "练习？\n",
    "\n",
    "    利用os模块编写一个能实现dir -l输出的程序。\n",
    "\n",
    "    编写一个程序，能在当前目录以及当前目录的所有子目录下查找文件名包含指定字符串的文件，并打印出相对路径。\n"
   ]
  },
  {
   "cell_type": "markdown",
   "metadata": {},
   "source": [
    "### 序列化"
   ]
  },
  {
   "cell_type": "markdown",
   "metadata": {},
   "source": [
    "我们把变量从内存中变成可存储或传输的过程称之为序列化，在Python中叫pickling，在其他语言中也被称之为serialization，marshalling，flattening等等"
   ]
  },
  {
   "cell_type": "markdown",
   "metadata": {},
   "source": [
    "序列化之后，就可以把序列化后的内容写入磁盘，或者通过网络传输到别的机器上。\n",
    "\n",
    "反过来，把变量内容从序列化的对象重新读到内存里称之为反序列化，即unpickling。"
   ]
  },
  {
   "cell_type": "code",
   "execution_count": 19,
   "metadata": {
    "collapsed": true
   },
   "outputs": [],
   "source": [
    "# import pickle\n",
    "# d = dicts(name='bob', age=20, scor=88)\n",
    "# pickle.dumps(d)\n",
    "# >>> b'\\x80\\x03}q\\x00(X\\x03\\x00\\x00\\x00ageq\\x01K\\x14X\\x05\\x00\\x00\\x00scoreq\\x02KXX\\x04\\x00\\x00\\x00nameq\\x03X\\x03\\x00\\x00\\x00Bobq\\x04u.'"
   ]
  },
  {
   "cell_type": "markdown",
   "metadata": {},
   "source": [
    "pickle.dumps()方法把任意对象序列化成一个bytes，然后，就可以把这个bytes写入文件。或者用另一个方法pickle.dump()直接把对象序列化后写入一个file-like Object："
   ]
  },
  {
   "cell_type": "code",
   "execution_count": 20,
   "metadata": {
    "collapsed": true
   },
   "outputs": [],
   "source": [
    "# f = open('dump.txt', 'wb')\n",
    "# pickle.dump(d, f)\n",
    "# f.close()"
   ]
  },
  {
   "cell_type": "markdown",
   "metadata": {},
   "source": [
    "我们要把对象从磁盘读到内存时，可以先把内容读到一个bytes，然后用pickle.loads()方法反序列化出对象，也可以直接用pickle.load()方法从一个file-like Object中直接反序列化出对象。"
   ]
  },
  {
   "cell_type": "code",
   "execution_count": 21,
   "metadata": {
    "collapsed": true
   },
   "outputs": [],
   "source": [
    "# f = open('dump.txt', 'rb')\n",
    "# d = pickle.load(f)\n",
    "# f.close()\n",
    "# d\n",
    "# >>> {'age': 20, 'score': 88, 'name': 'Bob'}"
   ]
  },
  {
   "cell_type": "markdown",
   "metadata": {},
   "source": [
    "这个变量和原来的变量是完全不相干的对象，它们只是内容相同而已"
   ]
  },
  {
   "cell_type": "markdown",
   "metadata": {},
   "source": [
    "Pickle的问题和所有其他编程语言特有的序列化问题一样，就是它只能用于Python，并且可能不同版本的Python彼此都不兼容，因此，只能用Pickle保存那些不重要的数据，不能成功地反序列化也没关系。"
   ]
  },
  {
   "cell_type": "markdown",
   "metadata": {},
   "source": [
    "#### JSON"
   ]
  },
  {
   "cell_type": "markdown",
   "metadata": {},
   "source": [
    "可以被所有语言读取，也可以方便地存储到磁盘或者通过网络传输。"
   ]
  },
  {
   "cell_type": "markdown",
   "metadata": {},
   "source": [
    "JSON类型 \tPython类型\n",
    "{} \tdict\n",
    "[] \tlist\n",
    "\"string\" \tstr\n",
    "1234.56 \tint或float\n",
    "true/false \tTrue/False\n",
    "null \tNone"
   ]
  },
  {
   "cell_type": "code",
   "execution_count": 25,
   "metadata": {
    "collapsed": false
   },
   "outputs": [
    {
     "data": {
      "text/plain": [
       "'{\"age\": 20, \"score\": 88, \"name\": \"Bob\"}'"
      ]
     },
     "execution_count": 25,
     "metadata": {},
     "output_type": "execute_result"
    }
   ],
   "source": [
    "import json\n",
    "d = dict(name='Bob', age=20, score=88)\n",
    "json.dumps(d)"
   ]
  },
  {
   "cell_type": "markdown",
   "metadata": {},
   "source": [
    "类似的，dump()方法可以直接把JSON写入一个file-like Object。`m"
   ]
  },
  {
   "cell_type": "markdown",
   "metadata": {},
   "source": [
    "loads()或者对应的load()"
   ]
  },
  {
   "cell_type": "code",
   "execution_count": 28,
   "metadata": {
    "collapsed": false
   },
   "outputs": [
    {
     "data": {
      "text/plain": [
       "{u'age': 20, u'name': u'Bob', u'score': 88}"
      ]
     },
     "execution_count": 28,
     "metadata": {},
     "output_type": "execute_result"
    }
   ],
   "source": [
    "json_str =  '{\"age\": 20, \"score\": 88, \"name\": \"Bob\"}'\n",
    "json.loads(json_str)"
   ]
  },
  {
   "cell_type": "markdown",
   "metadata": {},
   "source": [
    "由于JSON标准规定JSON编码是UTF-8，所以我们总是能正确地在Python的str与JSON的字符串之间转换。"
   ]
  },
  {
   "cell_type": "markdown",
   "metadata": {},
   "source": [
    "#### JSON进阶"
   ]
  },
  {
   "cell_type": "markdown",
   "metadata": {},
   "source": [
    "Python的dict对象可以直接序列化为JSON的{}，不过，很多时候，我们更喜欢用class表示对象，比如定义Student类，然后序列化"
   ]
  },
  {
   "cell_type": "code",
   "execution_count": 35,
   "metadata": {
    "collapsed": false
   },
   "outputs": [
    {
     "name": "stdout",
     "output_type": "stream",
     "text": [
      "{\"age\": 20, \"score\": 88, \"name\": \"bob\"}\n",
      "{\"age\": 20, \"score\": 88, \"name\": \"bob\"}\n",
      "<__main__.Student object at 0x03ABFA50>\n"
     ]
    }
   ],
   "source": [
    "import json\n",
    "class Student(object):\n",
    "    def __init__(self, name, age, score):\n",
    "        self.name = name\n",
    "        self.age = age\n",
    "        self.score = score\n",
    "        \n",
    "s = Student('bob', 20, 88)\n",
    "# print json.dumps(s) # TypeError: <__main__.Student object at 0x03A467F0> is not JSON serializable\n",
    "\n",
    "def student2dict(std):\n",
    "    return{\n",
    "        'name' : std.name,\n",
    "        'age' : std.age,\n",
    "        'score' : std.score\n",
    "    }\n",
    "\n",
    "print(json.dumps(s, default=student2dict))\n",
    "print(json.dumps(s, default=lambda obj: obj.__dict__))\n",
    "\n",
    "# 反序列化\n",
    "json_str = '{\"age\": 20, \"score\": 88, \"name\": \"Bob\"}'\n",
    "def dict2student(d):\n",
    "    return Student(d['name'], d['age'], d['score'])\n",
    "print(json.loads(json_str, object_hook=dict2student))\n",
    "# 打印出的是反序列化的Student实例对象。"
   ]
  },
  {
   "cell_type": "markdown",
   "metadata": {},
   "source": [
    "Student实例首先被student2dict()函数转换成dict，然后再被顺利序列化为JSON："
   ]
  },
  {
   "cell_type": "markdown",
   "metadata": {},
   "source": [
    "不过，下次如果遇到一个Teacher类的实例，照样无法序列化为JSON。我们可以偷个懒，把任意class的实例变为dict："
   ]
  },
  {
   "cell_type": "markdown",
   "metadata": {},
   "source": [
    "因为通常class的实例都有一个__dict__属性，它就是一个dict，用来存储实例变量。也有少数例外，比如定义了__slots__的class。"
   ]
  },
  {
   "cell_type": "markdown",
   "metadata": {},
   "source": [
    "同样的道理，如果我们要把JSON反序列化为一个Student对象实例，loads()方法首先转换出一个dict对象，然后，我们传入的object_hook函数负责把dict转换为Student实例："
   ]
  },
  {
   "cell_type": "code",
   "execution_count": null,
   "metadata": {
    "collapsed": true
   },
   "outputs": [],
   "source": []
  }
 ],
 "metadata": {
  "kernelspec": {
   "display_name": "Python 2",
   "language": "python",
   "name": "python2"
  },
  "language_info": {
   "codemirror_mode": {
    "name": "ipython",
    "version": 2
   },
   "file_extension": ".py",
   "mimetype": "text/x-python",
   "name": "python",
   "nbconvert_exporter": "python",
   "pygments_lexer": "ipython2",
   "version": "2.7.12"
  }
 },
 "nbformat": 4,
 "nbformat_minor": 1
}
