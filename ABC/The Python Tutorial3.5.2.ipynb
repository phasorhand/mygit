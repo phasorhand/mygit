{
 "cells": [
  {
   "cell_type": "markdown",
   "metadata": {},
   "source": [
    "# Python教程"
   ]
  },
  {
   "cell_type": "markdown",
   "metadata": {},
   "source": [
    "http://python.usyiyi.cn/translate/python_352/tutorial/interpreter.html\n",
    "Python解释器可以用C或C++（或C语言中可调用的其他语言）实现的新函数和数据类型轻松扩展。Python也适合作为可定制应用程序的扩展语言。"
   ]
  },
  {
   "cell_type": "markdown",
   "metadata": {},
   "source": [
    "## 2"
   ]
  },
  {
   "cell_type": "code",
   "execution_count": null,
   "metadata": {
    "collapsed": true
   },
   "outputs": [],
   "source": [
    "#2.1\n",
    "set path=%path%;C:\\python35\n",
    "# 退出\n",
    "Control-D;Control-Z;quit()\n",
    "Control-P\n",
    "# 第二种启动\n",
    "python -c 命令 [args] ...(建议把全部command放在单引号里)\n",
    "# 部分模块\n",
    "python -m 模块 [args] ...直接调用（运行脚本并随后进入交互环境可在脚本前面加上-i选项实现）\n",
    "# 2.1.1 传递参数\n",
    "import sys\n",
    "sys.argv[0](对应上面两行的‘-c’和指定模块全名)\n",
    "#2.1.2 交互模式\n",
    "初始提示符 >>>\n",
    "续行提示符 ..."
   ]
  },
  {
   "cell_type": "code",
   "execution_count": null,
   "metadata": {
    "collapsed": true
   },
   "outputs": [],
   "source": [
    "# 2.2 编译器及环境\n",
    "# 2.2.1 源程序的编码\n",
    "默认为UTF-8，但是标准库中的标识符只使用ASCII，编辑器必须识别该文件是UTF-8，\n",
    "必须使用支持文件中所有字符的字体。\n",
    "为源文件制定不同的编码：增加特殊注释行定义文件的编码\n",
    "# -*- coding;encoding -*- \n",
    "使用上述声明，源文件中所有内容都被视为具有编码encoding而不是UTF-8\n",
    "特殊编码注释必须在文件中的第一行或第二行中"
   ]
  },
  {
   "cell_type": "markdown",
   "metadata": {},
   "source": [
    "## 3.Python简介"
   ]
  },
  {
   "cell_type": "markdown",
   "metadata": {},
   "source": [
    "#### 数字（int.float.小数.分数.负数）（+ - * / // ** _）"
   ]
  },
  {
   "cell_type": "code",
   "execution_count": 5,
   "metadata": {
    "collapsed": false
   },
   "outputs": [
    {
     "name": "stdout",
     "output_type": "stream",
     "text": [
      "5.666666666666667\n",
      "5\n",
      "2\n",
      "2.8333333333333335\n"
     ]
    }
   ],
   "source": [
    "# 3.1 Python作为计算器\n",
    "# 整数为int，带有小数部分的数字属于float浮点型\n",
    "# /总是返回一个float类型数，要做floor除法并且得到一个整数结果（商的整数部分）可以使用//,余数%\n",
    "print(17/3)\n",
    "print(17//3)\n",
    "print(17%3)\n",
    "# ** 乘方\n",
    "print(_)"
   ]
  },
  {
   "cell_type": "markdown",
   "metadata": {},
   "source": [
    "#### 3.1.2 字符串 不可变 ('',\"\",\\,r,\"\"\"...\"\"\")（+，*， 自动连接（字面值而非变量或表达式）,索引（-0与0相同，抛出indexError），切片（始终排除结束,处理indexError）））\n"
   ]
  },
  {
   "cell_type": "code",
   "execution_count": 8,
   "metadata": {
    "collapsed": false
   },
   "outputs": [
    {
     "name": "stdout",
     "output_type": "stream",
     "text": [
      "\"Isn't,\" she said.\n"
     ]
    },
    {
     "data": {
      "text/plain": [
       "'First line. \\nSecond line.'"
      ]
     },
     "execution_count": 8,
     "metadata": {},
     "output_type": "execute_result"
    }
   ],
   "source": [
    "print('\"Isn\\'t,\" she said.')\n",
    "'\"Isn\\'t,\" she said.'"
   ]
  },
  {
   "cell_type": "code",
   "execution_count": 13,
   "metadata": {
    "collapsed": false
   },
   "outputs": [
    {
     "name": "stdout",
     "output_type": "stream",
     "text": [
      "First line. \n",
      "Second line.\n",
      "---------------------\n",
      "First line. \\nSecond line.\n"
     ]
    },
    {
     "data": {
      "text/plain": [
       "'First line. \\nSecond line.'"
      ]
     },
     "execution_count": 13,
     "metadata": {},
     "output_type": "execute_result"
    }
   ],
   "source": [
    "print('First line. \\nSecond line.')\n",
    "print('---------------------')\n",
    "print(r'First line. \\nSecond line.')\n",
    "'First line. \\nSecond line.'"
   ]
  },
  {
   "cell_type": "code",
   "execution_count": 14,
   "metadata": {
    "collapsed": false
   },
   "outputs": [
    {
     "name": "stdout",
     "output_type": "stream",
     "text": [
      "Usage: thingy [OPTIONS]\n",
      "    -h                         Display this usage message\n",
      "    -H hostname                Hostname to connect to\n",
      "\n"
     ]
    }
   ],
   "source": [
    "# 不包括初始换行符\n",
    "print(\"\"\"\\\n",
    "Usage: thingy [OPTIONS]\n",
    "    -h                         Display this usage message\n",
    "    -H hostname                Hostname to connect to\n",
    "\"\"\")"
   ]
  },
  {
   "cell_type": "code",
   "execution_count": 15,
   "metadata": {
    "collapsed": false
   },
   "outputs": [
    {
     "data": {
      "text/plain": [
       "'Python'"
      ]
     },
     "execution_count": 15,
     "metadata": {},
     "output_type": "execute_result"
    }
   ],
   "source": [
    "'Py''thon'"
   ]
  },
  {
   "cell_type": "code",
   "execution_count": 16,
   "metadata": {
    "collapsed": false
   },
   "outputs": [
    {
     "ename": "SyntaxError",
     "evalue": "invalid syntax (<ipython-input-16-851460c7d380>, line 2)",
     "output_type": "error",
     "traceback": [
      "\u001b[0;36m  File \u001b[0;32m\"<ipython-input-16-851460c7d380>\"\u001b[0;36m, line \u001b[0;32m2\u001b[0m\n\u001b[0;31m    i'thon'\u001b[0m\n\u001b[0m          ^\u001b[0m\n\u001b[0;31mSyntaxError\u001b[0m\u001b[0;31m:\u001b[0m invalid syntax\n"
     ]
    }
   ],
   "source": [
    "i = 'Py'\n",
    "i'thon'"
   ]
  },
  {
   "cell_type": "code",
   "execution_count": 20,
   "metadata": {
    "collapsed": false
   },
   "outputs": [
    {
     "data": {
      "text/plain": [
       "'0'"
      ]
     },
     "execution_count": 20,
     "metadata": {},
     "output_type": "execute_result"
    }
   ],
   "source": [
    "i='012345'\n",
    "i[:-1]\n",
    "i[-0]"
   ]
  },
  {
   "cell_type": "markdown",
   "metadata": {},
   "source": [
    " +---+---+---+---+---+---+\n",
    " | P | y | t | h | o | n |\n",
    " +---+---+---+---+---+---+\n",
    " 0   1   2   3   4   5   6\n",
    "-6  -5  -4  -3  -2  -1"
   ]
  },
  {
   "cell_type": "markdown",
   "metadata": {},
   "source": [
    "#### 3.1.3 列表 可变（逗号，方括号，相同的类型）（串联+,.append,len(list)）（索引，切片（返回一个包含所请求元素的新列表。返回改列表的浅拷贝）,切片赋值,嵌套列表）"
   ]
  },
  {
   "cell_type": "code",
   "execution_count": 22,
   "metadata": {
    "collapsed": false
   },
   "outputs": [
    {
     "data": {
      "text/plain": [
       "'b'"
      ]
     },
     "execution_count": 22,
     "metadata": {},
     "output_type": "execute_result"
    }
   ],
   "source": [
    "a = ['a', 'b', 'c']\n",
    "n = [1, 2, 3]\n",
    "x = [a, n]\n",
    "x[0][1]"
   ]
  },
  {
   "cell_type": "markdown",
   "metadata": {},
   "source": [
    "#### 3.2斐波那契 print(something, end='分隔符')"
   ]
  },
  {
   "cell_type": "code",
   "execution_count": 24,
   "metadata": {
    "collapsed": false
   },
   "outputs": [
    {
     "name": "stdout",
     "output_type": "stream",
     "text": [
      "1,1,2,3,5,8,"
     ]
    }
   ],
   "source": [
    "a, b = 0, 1\n",
    "while b < 10:\n",
    "    print(b, end=',')\n",
    "    a, b = b, a+b"
   ]
  },
  {
   "cell_type": "markdown",
   "metadata": {},
   "source": [
    "## 4 流程控制语句"
   ]
  },
  {
   "cell_type": "markdown",
   "metadata": {},
   "source": [
    "#### if,elif,else"
   ]
  },
  {
   "cell_type": "markdown",
   "metadata": {},
   "source": [
    "#### for(按照元素出现的顺序迭代)，循环内修改正在迭代的序列（首先创建原序列的拷贝,不拷贝下面会是无限循环）"
   ]
  },
  {
   "cell_type": "code",
   "execution_count": 2,
   "metadata": {
    "collapsed": false
   },
   "outputs": [
    {
     "name": "stdout",
     "output_type": "stream",
     "text": [
      "['1', '22', '333', '4444']\n",
      "['1', '22', '333', '4444']\n",
      "['1', '22', '333', '4444']\n",
      "['4444', '1', '22', '333', '4444']\n"
     ]
    }
   ],
   "source": [
    "words = ['1', '22', '333', '4444']\n",
    "for w in words[:]:\n",
    "    if len(w) > 3:\n",
    "        words.insert(0, w)\n",
    "    print(words)"
   ]
  },
  {
   "cell_type": "markdown",
   "metadata": {
    "collapsed": true
   },
   "source": [
    "#### range(),range(len()), list(range())"
   ]
  },
  {
   "cell_type": "code",
   "execution_count": 6,
   "metadata": {
    "collapsed": false
   },
   "outputs": [
    {
     "data": {
      "text/plain": [
       "[0, 3, 6, 9]"
      ]
     },
     "execution_count": 6,
     "metadata": {},
     "output_type": "execute_result"
    }
   ],
   "source": [
    "range(5, 9)\n",
    "range(0, 10, 3)\n",
    "list(range(5,9))\n",
    "list(range(0, 10, 3))"
   ]
  },
  {
   "cell_type": "markdown",
   "metadata": {
    "collapsed": true
   },
   "source": [
    "#### break(跳出最近的for或while循环), continue, else(for迭代完或while条件为假,即未出现break)（try的else：在未出现异常时运行）\n",
    "continue 继续下一次迭代"
   ]
  },
  {
   "cell_type": "code",
   "execution_count": 8,
   "metadata": {
    "collapsed": false
   },
   "outputs": [
    {
     "name": "stdout",
     "output_type": "stream",
     "text": [
      "2 is a prime number\n",
      "3 is a prime number\n",
      "4 queals 2 * 2\n",
      "5 is a prime number\n",
      "6 queals 2 * 3\n",
      "7 is a prime number\n",
      "8 queals 2 * 4\n",
      "9 queals 3 * 3\n"
     ]
    }
   ],
   "source": [
    "for n in range(2, 10):\n",
    "    for x in range(2, n):\n",
    "        if n %x == 0:\n",
    "            print(n, 'queals', x, '*', n//x)\n",
    "            break\n",
    "    else:\n",
    "        # loop fell through without finding a factor\n",
    "        print(n , 'is a prime number')"
   ]
  },
  {
   "cell_type": "markdown",
   "metadata": {},
   "source": [
    "#### pass，语法需要语法但是程序不需要动作时(while,class)作为控制体的占位符（def）"
   ]
  },
  {
   "cell_type": "code",
   "execution_count": null,
   "metadata": {
    "collapsed": true
   },
   "outputs": [],
   "source": [
    "while True:\n",
    "    pass\n",
    "class MyEm ptyClass:\n",
    "    pass\n",
    "def initlog(#arags)；\n",
    "     pass"
   ]
  },
  {
   "cell_type": "markdown",
   "metadata": {},
   "source": [
    "#### 4.6 定义函数（文档字符串，局部符号表（局部符号表，上层局部符号表，全局符号表，内置符号表）\n",
    "（在函数内部无法给一个全局变量直接赋值，除非在global语句中命名））\n",
    "传值调用（对象的引用而非值）\n",
    "重命名机制\n",
    "返回值（None）"
   ]
  },
  {
   "cell_type": "markdown",
   "metadata": {},
   "source": [
    "#### 参数（默认参数（如果为变量在定义的作用域中计算,可变不可变代表是否后续调用中共享））"
   ]
  },
  {
   "cell_type": "code",
   "execution_count": 9,
   "metadata": {
    "collapsed": false,
    "scrolled": true
   },
   "outputs": [
    {
     "name": "stdout",
     "output_type": "stream",
     "text": [
      "[1]\n",
      "[1, 2]\n",
      "[1, 2, 3]\n"
     ]
    }
   ],
   "source": [
    "def f(a, L=[]):\n",
    "    L.append(a)\n",
    "    return L\n",
    "\n",
    "print(f(1))\n",
    "print(f(2))\n",
    "print(f(3))"
   ]
  },
  {
   "cell_type": "code",
   "execution_count": 10,
   "metadata": {
    "collapsed": false
   },
   "outputs": [
    {
     "name": "stdout",
     "output_type": "stream",
     "text": [
      "[0]\n",
      "[1]\n",
      "[2]\n"
     ]
    }
   ],
   "source": [
    "def f(a, L=None):\n",
    "    if L is None:\n",
    "        L = []\n",
    "    L.append(a)\n",
    "    return L\n",
    "\n",
    "print(f(0))\n",
    "print(f(1))\n",
    "print(f(2))"
   ]
  },
  {
   "cell_type": "markdown",
   "metadata": {},
   "source": [
    "#### 参数（关键字参数，关键字参数必须在位置参数之后，没有参数可以多次接收到值）"
   ]
  },
  {
   "cell_type": "markdown",
   "metadata": {},
   "source": [
    "#### 参数（形式参数\\*\\*name（接收一个字典，包含除形式参数之外的所有关键字参数,键排序），形式参数\\*name(接收一个元组，包含除形式参数之外的所有位置参数，\\*name必须在\\*\\*name之前）"
   ]
  },
  {
   "cell_type": "code",
   "execution_count": 12,
   "metadata": {
    "collapsed": false
   },
   "outputs": [
    {
     "name": "stdout",
     "output_type": "stream",
     "text": [
      "Limburger\n",
      "----------------------------------------\n",
      "It is very runny, sir.\n",
      "it is really very, VERY runny, sir.\n",
      "----------------------------------------\n",
      "client : John Cleese\n",
      "shopkepper : Michael Palin\n",
      "sketch : Cheese Shop Sketch\n"
     ]
    }
   ],
   "source": [
    "def cheeseshop(kind, *arguments, **keywords):\n",
    "    print(kind)\n",
    "    print('-'*40)\n",
    "    for arg in arguments:\n",
    "        print(arg)\n",
    "    print('-'*40)\n",
    "    keys = sorted(keywords.keys())\n",
    "    for kw in keys:\n",
    "        print(kw, \":\", keywords[kw])\n",
    "        \n",
    "cheeseshop('Limburger', 'It is very runny, sir.',\n",
    "          'it is really very, VERY runny, sir.',\n",
    "          shopkepper='Michael Palin',\n",
    "          client='John Cleese',\n",
    "          sketch='Cheese Shop Sketch')"
   ]
  },
  {
   "cell_type": "markdown",
   "metadata": {},
   "source": [
    "任意参数的列表(特别：非关键字不可）"
   ]
  },
  {
   "cell_type": "markdown",
   "metadata": {},
   "source": [
    "#### 分拆参数列表(用法）"
   ]
  },
  {
   "cell_type": "code",
   "execution_count": 13,
   "metadata": {
    "collapsed": false
   },
   "outputs": [
    {
     "data": {
      "text/plain": [
       "[3, 4, 5]"
      ]
     },
     "execution_count": 13,
     "metadata": {},
     "output_type": "execute_result"
    }
   ],
   "source": [
    "args = [3, 6]\n",
    "list(range(*args))"
   ]
  },
  {
   "cell_type": "code",
   "execution_count": 14,
   "metadata": {
    "collapsed": false
   },
   "outputs": [
    {
     "name": "stdout",
     "output_type": "stream",
     "text": [
      "2\n",
      "3\n"
     ]
    }
   ],
   "source": [
    "def parrot(voltage, state='1'):\n",
    "    print(voltage)\n",
    "    print(state)\n",
    "    \n",
    "d = {'voltage': '2', 'state': '3'}\n",
    "parrot(**d)"
   ]
  },
  {
   "cell_type": "markdown",
   "metadata": {},
   "source": [
    "#### lambda表达式（用于返回函数、函数作为参数（sort））"
   ]
  },
  {
   "cell_type": "code",
   "execution_count": 16,
   "metadata": {
    "collapsed": false
   },
   "outputs": [
    {
     "data": {
      "text/plain": [
       "43"
      ]
     },
     "execution_count": 16,
     "metadata": {},
     "output_type": "execute_result"
    }
   ],
   "source": [
    "def make_incrementor(n):\n",
    "    return lambda x: x + n\n",
    "f = make_incrementor(42)\n",
    "f(0)\n",
    "f(1)"
   ]
  },
  {
   "cell_type": "code",
   "execution_count": 17,
   "metadata": {
    "collapsed": false
   },
   "outputs": [
    {
     "data": {
      "text/plain": [
       "[(4, 'four'), (1, 'one'), (3, 'three'), (2, 'two')]"
      ]
     },
     "execution_count": 17,
     "metadata": {},
     "output_type": "execute_result"
    }
   ],
   "source": [
    "pairs = [(1, 'one'), (2, 'two'), (3, 'three'), (4, 'four')]\n",
    "pairs.sort(key=lambda pair:pair[1])\n",
    "pairs"
   ]
  },
  {
   "cell_type": "markdown",
   "metadata": {},
   "source": [
    "#### 文档字符串（第一行（大写字符开头，.结尾），第二行空白，一个或多个段落；第一行之后的第一个非空行整个文档字符串的缩进量，删除前导空白）"
   ]
  },
  {
   "cell_type": "code",
   "execution_count": 20,
   "metadata": {
    "collapsed": false
   },
   "outputs": [
    {
     "name": "stdout",
     "output_type": "stream",
     "text": [
      "Do noting\n",
      "    \n",
      "    No, really, it doesnot do anything\n",
      "   测试前导空白是否被删除\n",
      "    \n"
     ]
    }
   ],
   "source": [
    "def my_function():\n",
    "    \"\"\"Do noting\n",
    "    \n",
    "    No, really, it doesnot do anything\n",
    "    \"\"\"\n",
    "    pass\n",
    "print(my_function.__doc__)"
   ]
  },
  {
   "cell_type": "markdown",
   "metadata": {},
   "source": [
    "#### 函数注解"
   ]
  },
  {
   "cell_type": "markdown",
   "metadata": {},
   "source": [
    "#### 代码风格（4空格缩进，单行79字符，空行分割，自己代码加注释，使用文档字符串，空格，类与函数、方法的命名，编码，不要使用非ASCII字符）"
   ]
  },
  {
   "cell_type": "markdown",
   "metadata": {},
   "source": [
    "## 5、数据结构"
   ]
  },
  {
   "cell_type": "markdown",
   "metadata": {},
   "source": [
    "#### 列表（apend,extend,insert,remove(value),pop([i]）(方括号表示可选)，clear(),index(value),count(value),sort(key=None, reverse=False),reverse,copy，del)"
   ]
  },
  {
   "cell_type": "code",
   "execution_count": 25,
   "metadata": {
    "collapsed": false
   },
   "outputs": [
    {
     "name": "stdout",
     "output_type": "stream",
     "text": [
      "1 0\n"
     ]
    },
    {
     "data": {
      "text/plain": [
       "[-7, 1, 33, 66, 333, 1234]"
      ]
     },
     "execution_count": 25,
     "metadata": {},
     "output_type": "execute_result"
    }
   ],
   "source": [
    "a = [66, 333, 33,1, 1234]\n",
    "print(a.count(333), a.count('x'))\n",
    "a.insert(2, -7)\n",
    "a.reverse()\n",
    "a.sort()\n",
    "a"
   ]
  },
  {
   "cell_type": "markdown",
   "metadata": {},
   "source": [
    "#### 列表作为栈（先进后出）使用（append,pop）"
   ]
  },
  {
   "cell_type": "markdown",
   "metadata": {},
   "source": [
    "#### 列表作为队列（先进先出），相当抵消（开头插入或弹出元素很慢--每个元素位置都要变）,最好用collections.deque"
   ]
  },
  {
   "cell_type": "code",
   "execution_count": 27,
   "metadata": {
    "collapsed": false
   },
   "outputs": [
    {
     "data": {
      "text/plain": [
       "'Jhon'"
      ]
     },
     "execution_count": 27,
     "metadata": {},
     "output_type": "execute_result"
    }
   ],
   "source": [
    "from collections import deque\n",
    "queue = deque(['Eric', 'Jhon', 'Micheal'])\n",
    "queue.append('Terry')\n",
    "queue.append('Graham')\n",
    "queue.popleft()\n",
    "queue.popleft()"
   ]
  },
  {
   "cell_type": "markdown",
   "metadata": {},
   "source": [
    "#### 列表推导式（避免生成列表后余下垃圾变量）"
   ]
  },
  {
   "cell_type": "code",
   "execution_count": 28,
   "metadata": {
    "collapsed": false
   },
   "outputs": [
    {
     "data": {
      "text/plain": [
       "[0, 1, 4, 9, 16, 25, 36, 49, 64, 81]"
      ]
     },
     "execution_count": 28,
     "metadata": {},
     "output_type": "execute_result"
    }
   ],
   "source": [
    "list(map(lambda x: x**2, range(10)))"
   ]
  },
  {
   "cell_type": "code",
   "execution_count": 30,
   "metadata": {
    "collapsed": false
   },
   "outputs": [
    {
     "data": {
      "text/plain": [
       "[0, 1, 4, 9, 16, 25, 36, 49, 64, 81]"
      ]
     },
     "execution_count": 30,
     "metadata": {},
     "output_type": "execute_result"
    }
   ],
   "source": [
    "[x**2 for x in range(10)]"
   ]
  },
  {
   "cell_type": "code",
   "execution_count": 33,
   "metadata": {
    "collapsed": false
   },
   "outputs": [
    {
     "data": {
      "text/plain": [
       "[<map at 0x12acb101710>]"
      ]
     },
     "execution_count": 33,
     "metadata": {},
     "output_type": "execute_result"
    }
   ],
   "source": [
    "[map(lambda x: x**2, range(10))]"
   ]
  },
  {
   "cell_type": "code",
   "execution_count": 38,
   "metadata": {
    "collapsed": false
   },
   "outputs": [
    {
     "data": {
      "text/plain": [
       "[(1, 3), (1, 4), (2, 3), (2, 1), (2, 4), (3, 1), (3, 4)]"
      ]
     },
     "execution_count": 38,
     "metadata": {},
     "output_type": "execute_result"
    }
   ],
   "source": [
    "[(x, y) for x in [1, 2, 3] for y in [3,1,4] if x != y]"
   ]
  },
  {
   "cell_type": "code",
   "execution_count": null,
   "metadata": {
    "collapsed": true
   },
   "outputs": [],
   "source": [
    ">>> vec = [[1,2,3], [4,5,6], [7,8,9]]\n",
    ">>> [num for elem in vec for num in elem]"
   ]
  },
  {
   "cell_type": "markdown",
   "metadata": {},
   "source": [
    "#### 嵌套的列表推导式（转置行和列） zip"
   ]
  },
  {
   "cell_type": "code",
   "execution_count": 47,
   "metadata": {
    "collapsed": false
   },
   "outputs": [
    {
     "data": {
      "text/plain": [
       "[(1, 5, 9), (2, 6, 10), (3, 7, 11), (4, 8, 12)]"
      ]
     },
     "execution_count": 47,
     "metadata": {},
     "output_type": "execute_result"
    }
   ],
   "source": [
    "\n",
    "matrix = [\n",
    "    [1, 2, 3, 4],\n",
    "    [5, 6, 7, 8],\n",
    "    [9, 10, 11, 12],\n",
    "]\n",
    "[i for i in range(4)]\n",
    "# [[row(i) for row in matrix] for i in range(4)]\n",
    "# [[row[i] for row in matrix] for i in range(4)]\n",
    "list(zip(*matrix))"
   ]
  },
  {
   "cell_type": "code",
   "execution_count": null,
   "metadata": {
    "collapsed": true
   },
   "outputs": [],
   "source": [
    "元组"
   ]
  },
  {
   "cell_type": "code",
   "execution_count": 51,
   "metadata": {
    "collapsed": false
   },
   "outputs": [
    {
     "data": {
      "text/plain": [
       "([1, 2], [3, 4])"
      ]
     },
     "execution_count": 51,
     "metadata": {},
     "output_type": "execute_result"
    }
   ],
   "source": [
    "t = 123, 456, 'hello!'\n",
    "t[0]\n",
    "u = t, (1,2,3)\n",
    "u\n",
    "v = ([1,2], [3,4])\n",
    "v"
   ]
  },
  {
   "cell_type": "markdown",
   "metadata": {},
   "source": [
    "## 9 类"
   ]
  },
  {
   "cell_type": "markdown",
   "metadata": {
    "collapsed": true
   },
   "source": [
    "### 名称和对象（可多对一）"
   ]
  },
  {
   "cell_type": "markdown",
   "metadata": {
    "collapsed": true
   },
   "source": [
    "### Python作用域和命名空间"
   ]
  },
  {
   "cell_type": "markdown",
   "metadata": {
    "collapsed": true
   },
   "source": [
    "#### 命名空间（名称到对象的映射；大多数实现为Python字典）（内置名称集（函数名列，内置异常）；模块中的全局名称；函数调用中的局部名称；对象的属性集合）"
   ]
  },
  {
   "cell_type": "markdown",
   "metadata": {
    "collapsed": true
   },
   "source": [
    "#### 属性：点后面的任何名称；对模块中的名称的引用是属性引用；（在这种情况下，模块的属性和模块中定义的全局名称之间有一个直接的映射：他们共享同一个命名空间）"
   ]
  },
  {
   "cell_type": "markdown",
   "metadata": {},
   "source": [
    "#### 属性：只读、可写（可写可del）"
   ]
  },
  {
   "cell_type": "markdown",
   "metadata": {},
   "source": [
    "#### 命名空间：创建时刻、声明周期；包含內建名称的命名空间builtins；模块的全局命名空间；解释器最外层调用执行的语句;函数本地命名空间（递归调用）"
   ]
  },
  {
   "cell_type": "markdown",
   "metadata": {},
   "source": [
    "#### 作用域：Python程序的文本区域，其中可直接访问命名空间。"
   ]
  },
  {
   "cell_type": "code",
   "execution_count": null,
   "metadata": {
    "collapsed": true
   },
   "outputs": [],
   "source": [
    "执行期间的任何时间，至少有三个且套的作用域，其命名空间可以直接访问：\n",
    "1、最内层包含本地名称\n",
    "2、从最近的封闭范围开始所有的任何封闭函数的作用域都包含本地名称，但也包含非全局名称\n",
    "3、最后一个作用域包含当前模块的全局名称\n",
    "4、最外层的范围是包含內建名称的命名空间"
   ]
  },
  {
   "cell_type": "markdown",
   "metadata": {},
   "source": [
    "如果一个名称被声明为全局的，那么所有的引用和赋值直接到包含模块的全局名称的中间作用域。如果要重新绑定最里层作用域之外的变量，可以使用 nonlocal 语句；如果不声明为nonlocal，这些变量将是只读的（对这样的变量赋值会在最里面的作用域创建一个 新的 局部变量，外部具有相同命名的那个变量不会改变）"
   ]
  },
  {
   "cell_type": "markdown",
   "metadata": {},
   "source": [
    "#### 范围是由文本决定的：在模块中定义的函数的全局范围是该模块的命名空间，不管从什么别名，函数被调用。另一方面。。。"
   ]
  },
  {
   "cell_type": "markdown",
   "metadata": {},
   "source": [
    "#### 如果没有使用global语法-其赋值操作总是在最里层的作用域"
   ]
  },
  {
   "cell_type": "markdown",
   "metadata": {},
   "source": [
    "#### global 语句可以用来指明某个特定的变量位于全局作用域并且应该在那里重新绑定； nonlocal 语句表示否定当前命名空间的作用域，寻找父函数的作用域并绑定对象。"
   ]
  },
  {
   "cell_type": "code",
   "execution_count": 8,
   "metadata": {
    "collapsed": false
   },
   "outputs": [
    {
     "ename": "SyntaxError",
     "evalue": "name 'spam' is used prior to nonlocal declaration (<ipython-input-8-594c2a4803ad>, line 7)",
     "output_type": "error",
     "traceback": [
      "\u001b[0;36m  File \u001b[0;32m\"<ipython-input-8-594c2a4803ad>\"\u001b[0;36m, line \u001b[0;32m7\u001b[0m\n\u001b[0;31m    nonlocal spam\u001b[0m\n\u001b[0;31mSyntaxError\u001b[0m\u001b[0;31m:\u001b[0m name 'spam' is used prior to nonlocal declaration\n"
     ]
    }
   ],
   "source": [
    "def scope_test():\n",
    "    def do_local():\n",
    "        spam = 'local spam'\n",
    "        \n",
    "    def do_nonlocal():\n",
    "        nonlocal spam\n",
    "        print('内置1：', spam)\n",
    "        spam = 'nonlocal spam'\n",
    "        print('内置2：', spam)\n",
    "        \n",
    "    def do_global():\n",
    "        print('内置1：', spam)\n",
    "        global spam\n",
    "        print('内置1：', spam)\n",
    "        spam = 'global spam'\n",
    "        \n",
    "    spam = 'test spam'\n",
    "    do_local()\n",
    "    print('After local assignment:', spam)\n",
    "    do_nonlocal()\n",
    "    print('After nonlocal assignment:', spam)\n",
    "    do_global()\n",
    "    print('After global assignment:', spam)\n",
    "    \n",
    "scope_test()\n",
    "print('In global scope:', spam)"
   ]
  },
  {
   "cell_type": "markdown",
   "metadata": {},
   "source": [
    "#### 注意，local 的赋值（默认行为）没有改变 scope_test 对spam 的绑定。nonlocal 赋值改变了 scope_test 对 spam 的绑定， global 赋值改变了模块级别的绑定。"
   ]
  },
  {
   "cell_type": "code",
   "execution_count": 11,
   "metadata": {
    "collapsed": false
   },
   "outputs": [
    {
     "name": "stdout",
     "output_type": "stream",
     "text": [
      "inner: 2\n",
      "outer: 2\n",
      "global: 0\n"
     ]
    }
   ],
   "source": [
    "x = 0\n",
    "def outer():\n",
    "    x = 1\n",
    "    def inner():\n",
    "        nonlocal x\n",
    "        x = 2\n",
    "        print(\"inner:\", x)\n",
    "\n",
    "    inner()\n",
    "    print(\"outer:\", x)\n",
    "\n",
    "outer()\n",
    "print(\"global:\", x)\n",
    "\n",
    "# inner: 2\n",
    "# outer: 2\n",
    "# global: 0"
   ]
  },
  {
   "cell_type": "code",
   "execution_count": 10,
   "metadata": {
    "collapsed": false
   },
   "outputs": [
    {
     "name": "stdout",
     "output_type": "stream",
     "text": [
      "inner: 2\n",
      "outer: 2\n",
      "global: 0\n"
     ]
    }
   ],
   "source": [
    "x = 0\n",
    "def outer():\n",
    "    x = 1\n",
    "    def inner():\n",
    "        nonlocal x\n",
    "        x = 2\n",
    "        print(\"inner:\", x)\n",
    "\n",
    "    inner()\n",
    "    print(\"outer:\", x)\n",
    "\n",
    "outer()\n",
    "print(\"global:\", x)\n",
    "\n",
    "# inner: 2\n",
    "# outer: 2\n",
    "# global: 0"
   ]
  },
  {
   "cell_type": "code",
   "execution_count": 9,
   "metadata": {
    "collapsed": false
   },
   "outputs": [
    {
     "name": "stdout",
     "output_type": "stream",
     "text": [
      "inner: 2\n",
      "outer: 1\n",
      "global: 2\n"
     ]
    }
   ],
   "source": [
    "x = 0\n",
    "def outer():\n",
    "    x = 1\n",
    "    def inner():\n",
    "        global x\n",
    "        x = 2\n",
    "        print(\"inner:\", x)\n",
    "\n",
    "    inner()\n",
    "    print(\"outer:\", x)\n",
    "\n",
    "outer()\n",
    "print(\"global:\", x)\n",
    "\n",
    "# inner: 2\n",
    "# outer: 1\n",
    "# global: 2"
   ]
  },
  {
   "cell_type": "markdown",
   "metadata": {},
   "source": [
    "### 类：先执行才能生效"
   ]
  },
  {
   "cell_type": "code",
   "execution_count": 12,
   "metadata": {
    "collapsed": false
   },
   "outputs": [
    {
     "ename": "SyntaxError",
     "evalue": "invalid syntax (<ipython-input-12-7c5776e9d583>, line 2)",
     "output_type": "error",
     "traceback": [
      "\u001b[0;36m  File \u001b[0;32m\"<ipython-input-12-7c5776e9d583>\"\u001b[0;36m, line \u001b[0;32m2\u001b[0m\n\u001b[0;31m    <statement-1>\u001b[0m\n\u001b[0m    ^\u001b[0m\n\u001b[0;31mSyntaxError\u001b[0m\u001b[0;31m:\u001b[0m invalid syntax\n"
     ]
    }
   ],
   "source": [
    "class ClassName:\n",
    "    <statement-1>\n",
    "    ...\n",
    "    ...\n",
    "    <statement-N>"
   ]
  },
  {
   "cell_type": "markdown",
   "metadata": {},
   "source": [
    "#### 类对象：属性引用（类变量，类函数，__doc__）和实例化"
   ]
  },
  {
   "cell_type": "code",
   "execution_count": null,
   "metadata": {
    "collapsed": true
   },
   "outputs": [],
   "source": [
    "实例对象:数据属性（不需要声明赋值时生成）；方法对象；类变量(可变不可变对象）和实例变量"
   ]
  },
  {
   "cell_type": "code",
   "execution_count": 17,
   "metadata": {
    "collapsed": false
   },
   "outputs": [
    {
     "data": {
      "text/plain": [
       "1"
      ]
     },
     "execution_count": 17,
     "metadata": {},
     "output_type": "execute_result"
    }
   ],
   "source": [
    "class Complex:\n",
    "    def __init__(self, realpart, imagpart):\n",
    "        self.r = realpart\n",
    "        self.i = imagpart\n",
    "        \n",
    "x = Complex(3.0, -4.5)\n",
    "x.r, x.i\n",
    "x.counter = 1\n",
    "x.counter\n"
   ]
  },
  {
   "cell_type": "code",
   "execution_count": null,
   "metadata": {
    "collapsed": true
   },
   "outputs": [],
   "source": [
    "也不是一定要直接调用方法： x.f 是一个方法对象，可以存储起来以后调用"
   ]
  },
  {
   "cell_type": "code",
   "execution_count": null,
   "metadata": {
    "collapsed": true
   },
   "outputs": [],
   "source": [
    "关于方法的特殊的东西是对象作为函数的第一个参数传递。在我们的示例中，调用 x.f() 完全等同于 MyClass.f(x) 。"
   ]
  },
  {
   "cell_type": "code",
   "execution_count": null,
   "metadata": {
    "collapsed": true
   },
   "outputs": [],
   "source": [
    "calss Dog:\n",
    "    kind = 'canine'\n",
    "    \n",
    "    def __init__(self, name):\n",
    "        self.name = name\n",
    "        \n",
    "d = Dog('Fido')\n",
    "e = Dog('Buddy')"
   ]
  },
  {
   "cell_type": "markdown",
   "metadata": {},
   "source": [
    "#### 补充：数据属性会覆盖同名的方法属性；"
   ]
  },
  {
   "cell_type": "code",
   "execution_count": 18,
   "metadata": {
    "collapsed": true
   },
   "outputs": [],
   "source": [
    "# Function defined outside the class\n",
    "def f1(self, x, y):\n",
    "    return min(x, x+y)\n",
    "\n",
    "class C:\n",
    "    f = f1\n",
    "    \n",
    "    def g(self):\n",
    "        return 'hello world!'\n",
    "    \n",
    "    h = g\n",
    "    \n",
    "class Bag:\n",
    "    def __init__(self):\n",
    "        self.data = []\n",
    "        \n",
    "    def add(self, x):\n",
    "        self.data.append(x)\n",
    "        \n",
    "    def addtwice(self, x):\n",
    "        self.add(x)\n",
    "        self.add(x)"
   ]
  },
  {
   "cell_type": "markdown",
   "metadata": {},
   "source": [
    "#### 类型 object.__class__"
   ]
  },
  {
   "cell_type": "markdown",
   "metadata": {},
   "source": [
    "#### 继承:派生类，基类；可直接调用基类方法BaseClassNmae.methodname(self, arguments)；isinstance,issubclass"
   ]
  },
  {
   "cell_type": "code",
   "execution_count": null,
   "metadata": {
    "collapsed": true
   },
   "outputs": [],
   "source": [
    "classDerivedClassName(BaseClassName):\n",
    "    <statement-1>\n",
    "    .\n",
    "    .\n",
    "    .\n",
    "    <statement-N>"
   ]
  },
  {
   "cell_type": "code",
   "execution_count": null,
   "metadata": {
    "collapsed": true
   },
   "outputs": [],
   "source": [
    "內建函数用于继承：\n",
    "isinstance(obj, int):只有obj.__class__是int或是从int派生的类时才为True,对象检验\n",
    "issubclass(bool, int)：检查类的继承，类检验"
   ]
  },
  {
   "cell_type": "markdown",
   "metadata": {},
   "source": [
    "#### 多继承（两次搜索）super()？？"
   ]
  },
  {
   "cell_type": "code",
   "execution_count": null,
   "metadata": {
    "collapsed": true
   },
   "outputs": [],
   "source": [
    "class C(B):\n",
    "    def method(self, arg):\n",
    "        super().mehod(arg) # this does the same as:\n",
    "                           # super(C, self).method(arg)"
   ]
  },
  {
   "cell_type": "markdown",
   "metadata": {},
   "source": [
    "#### 使用super指南 https://rhettinger.wordpress.com/2011/05/26/super-considered-super/"
   ]
  },
  {
   "cell_type": "markdown",
   "metadata": {},
   "source": [
    "### 9.6 私有变量"
   ]
  },
  {
   "cell_type": "markdown",
   "metadata": {},
   "source": [
    "#### _spam,如有更改恕不通知;__spam》》_classname__spam"
   ]
  },
  {
   "cell_type": "code",
   "execution_count": null,
   "metadata": {
    "collapsed": true
   },
   "outputs": [],
   "source": [
    "class Mapping:\n",
    "    def __init__(self, iterable):\n",
    "        self.items_list = []\n",
    "        self.__update(iterable)\n",
    "        \n",
    "    def update(self, iterable):\n",
    "        for item in terable:\n",
    "            self.items_list.append(item)\n",
    "            \n",
    "    __update = update\n",
    "    \n",
    "class MappingSubclas(Mapping):\n",
    "    \n",
    "    def update(self, keys, values):\n",
    "        # provides new signature for update()\n",
    "        # but does not break __init__()\n",
    "        for item in zip(keys, vlaues):\n",
    "            self.items_list.append(item)"
   ]
  },
  {
   "cell_type": "markdown",
   "metadata": {},
   "source": [
    "注意传递给 exec 或 eval() 的代码没有考虑要将调用类的类名当作当前类；这类似于 global 语句的效果，影响只限于一起进行字节编译的代码。相同的限制适用于 getattr()、setattr() 和 delattr() ，以及直接引用 __dict__ 时。"
   ]
  },
  {
   "cell_type": "markdown",
   "metadata": {},
   "source": [
    "### 9.7零碎的说明"
   ]
  },
  {
   "cell_type": "code",
   "execution_count": null,
   "metadata": {
    "collapsed": true
   },
   "outputs": [],
   "source": [
    "class Employee:\n",
    "    pass\n",
    "\n",
    "jhon = Employee()\n",
    "\n",
    "john.name = 'John Doe'\n",
    "john.dept = 'computer lab'\n",
    "john.salary = 1000"
   ]
  },
  {
   "cell_type": "markdown",
   "metadata": {},
   "source": [
    "#### 一段需要特定抽象数据类型的Python代码，通常可以传递一个类来模拟改数据类型的方法。"
   ]
  },
  {
   "cell_type": "markdown",
   "metadata": {},
   "source": [
    "### 9.8 异常也是类"
   ]
  },
  {
   "cell_type": "code",
   "execution_count": null,
   "metadata": {
    "collapsed": true
   },
   "outputs": [],
   "source": [
    "raise Class\n",
    "raise Instance"
   ]
  },
  {
   "cell_type": "code",
   "execution_count": null,
   "metadata": {
    "collapsed": true
   },
   "outputs": [],
   "source": [
    "class B(Exception):\n",
    "    pass\n",
    "\n",
    "class C(B):\n",
    "    pass\n",
    "\n",
    "class D(C):\n",
    "    pass\n",
    "\n",
    "for cls in [B, C, D]:\n",
    "    try:\n",
    "        raise cls()\n",
    "    except D:\n",
    "        print('D')\n",
    "    except C:\n",
    "        print('C')\n",
    "    except B:\n",
    "        print('B')"
   ]
  },
  {
   "cell_type": "markdown",
   "metadata": {},
   "source": [
    "打印一个异常类的错误信息时，先打印类名，然后是一个空格、一个冒号，然后是用内置函数 str() 将类转换得到的完整字符串。"
   ]
  },
  {
   "cell_type": "markdown",
   "metadata": {},
   "source": [
    "### 9.9 迭代器"
   ]
  },
  {
   "cell_type": "code",
   "execution_count": 22,
   "metadata": {
    "collapsed": false
   },
   "outputs": [
    {
     "name": "stdout",
     "output_type": "stream",
     "text": [
      "1\n",
      "2\n",
      "3\n",
      "1\n",
      "2\n",
      "3\n",
      "one\n",
      "two\n",
      "1\n",
      "2\n",
      "3\n"
     ]
    }
   ],
   "source": [
    "for element in [1, 2, 3]:\n",
    "    print(element)\n",
    "for element in (1, 2, 3):\n",
    "    print(element)\n",
    "for key in {'one': 1, 'two': 2}:\n",
    "    print(key)\n",
    "for char in '123':\n",
    "    print(char)"
   ]
  },
  {
   "cell_type": "markdown",
   "metadata": {},
   "source": [
    "#### 在后台，for语句调用容器对象的iter（）方法。该函数返回一个定义了__next__()方法的迭代器对象，它一次访问容器中的一个元素。没有后续元素时引发StopIteration异常。"
   ]
  },
  {
   "cell_type": "code",
   "execution_count": 25,
   "metadata": {
    "collapsed": false
   },
   "outputs": [
    {
     "ename": "StopIteration",
     "evalue": "",
     "output_type": "error",
     "traceback": [
      "\u001b[0;31m---------------------------------------------------------------------------\u001b[0m",
      "\u001b[0;31mStopIteration\u001b[0m                             Traceback (most recent call last)",
      "\u001b[0;32m<ipython-input-25-4b7dae25c554>\u001b[0m in \u001b[0;36m<module>\u001b[0;34m()\u001b[0m\n\u001b[1;32m      5\u001b[0m \u001b[0mnext\u001b[0m\u001b[1;33m(\u001b[0m\u001b[0mit\u001b[0m\u001b[1;33m)\u001b[0m\u001b[1;33m\u001b[0m\u001b[0m\n\u001b[1;32m      6\u001b[0m \u001b[0mnext\u001b[0m\u001b[1;33m(\u001b[0m\u001b[0mit\u001b[0m\u001b[1;33m)\u001b[0m\u001b[1;33m\u001b[0m\u001b[0m\n\u001b[0;32m----> 7\u001b[0;31m \u001b[0mnext\u001b[0m\u001b[1;33m(\u001b[0m\u001b[0mit\u001b[0m\u001b[1;33m)\u001b[0m\u001b[1;33m\u001b[0m\u001b[0m\n\u001b[0m",
      "\u001b[0;31mStopIteration\u001b[0m: "
     ]
    }
   ],
   "source": [
    "s = 'abc'\n",
    "it = iter(s)\n",
    "it\n",
    "next(it)\n",
    "next(it)\n",
    "next(it)\n",
    "next(it)"
   ]
  },
  {
   "cell_type": "markdown",
   "metadata": {},
   "source": [
    "#### 类中定义\\_\\_iter\\_\\_()方法，它返回一个带有\\_\\_next\\_\\_()的对象。如果类已经定义\\_\\_next\\_\\_(),那么\\_\\_iter\\_\\_()可以直接返回self:iter(string)"
   ]
  },
  {
   "cell_type": "code",
   "execution_count": 27,
   "metadata": {
    "collapsed": false
   },
   "outputs": [
    {
     "name": "stdout",
     "output_type": "stream",
     "text": [
      "m\n",
      "a\n",
      "p\n",
      "s\n"
     ]
    }
   ],
   "source": [
    "class Reverse:\n",
    "    \"\"\"Iterator for looping over a sequence backwards\"\"\"\n",
    "    def __init__(self, data):\n",
    "        self.data = data\n",
    "        self.index = len(data)\n",
    "        \n",
    "    def __iter__(self):\n",
    "        return self\n",
    "    \n",
    "    def __next__(self):\n",
    "        if self.index == 0:\n",
    "            raise StopIteration\n",
    "        self.index = self.index - 1\n",
    "        return self.data[self.index]\n",
    "    \n",
    "rev = Reverse('spam')\n",
    "iter(rev)\n",
    "for char in rev:\n",
    "    print(char)"
   ]
  },
  {
   "cell_type": "markdown",
   "metadata": {},
   "source": [
    "### 9.10 生成器"
   ]
  },
  {
   "cell_type": "markdown",
   "metadata": {},
   "source": [
    "#### 生成器是一种可以简单有效的创建迭代器的工具。它们像常规函数一样撰写，但是在需要返回数据时使用yield语句。每当对它调用next()，生成器从它上次停止的地方重新开始（它会记住所有的数据值和上次执行的语句）。(生成器如此简洁归功于 __iter__() 和 __next__() 方法的自动创建)"
   ]
  },
  {
   "cell_type": "code",
   "execution_count": 28,
   "metadata": {
    "collapsed": false
   },
   "outputs": [
    {
     "name": "stdout",
     "output_type": "stream",
     "text": [
      "f\n",
      "l\n",
      "o\n",
      "g\n"
     ]
    }
   ],
   "source": [
    "def reverse(data):\n",
    "    for index in range(len(data)-1, -1, -1):\n",
    "        yield data[index]\n",
    "\n",
    "for char in reverse('golf'):\n",
    "    print(char)"
   ]
  },
  {
   "cell_type": "markdown",
   "metadata": {},
   "source": [
    "### 9.11 生成器表达式"
   ]
  },
  {
   "cell_type": "markdown",
   "metadata": {},
   "source": [
    "#### 比完整的生成器定义紧凑但是功能上不及，比等价的列表推导式更节省内存;zip?"
   ]
  },
  {
   "cell_type": "code",
   "execution_count": 30,
   "metadata": {
    "collapsed": false
   },
   "outputs": [
    {
     "data": {
      "text/plain": [
       "260"
      ]
     },
     "execution_count": 30,
     "metadata": {},
     "output_type": "execute_result"
    }
   ],
   "source": [
    "sum(i*i for i in range(10))\n",
    "xvec = [10, 20, 30]\n",
    "yvec = [7, 5, 3]\n",
    "sum(x*y for x,y in zip(xvec, yvec))"
   ]
  },
  {
   "cell_type": "markdown",
   "metadata": {},
   "source": [
    "#### unique_words = set(word for line in page for word in line.split())"
   ]
  },
  {
   "cell_type": "code",
   "execution_count": 32,
   "metadata": {
    "collapsed": false
   },
   "outputs": [
    {
     "data": {
      "text/plain": [
       "['f', 'l', 'o', 'g']"
      ]
     },
     "execution_count": 32,
     "metadata": {},
     "output_type": "execute_result"
    }
   ],
   "source": [
    "from math import pi, sin\n",
    "# sine_table = {x: sin(x*pi/180) for x in range(0, 91)}\n",
    "# unique_words = set(word for line in page for word in line.split())\n",
    "# valedictorian = max((student.gpa, sutdent.name) for student in graduates)\n",
    "\n",
    "data = 'golf'\n",
    "list(data[i] for i in range(len(data)-1, -1, -1))"
   ]
  },
  {
   "cell_type": "markdown",
   "metadata": {},
   "source": [
    "more:模块对象有秘密的只读属性__dict__，它返回用于实现模块命名空间的字典；__dict__是一个属性但不是一个全局的名称。显然，使用它违反了命名空间实现的抽象，并且应该局限于事后调试器之类的东西。"
   ]
  },
  {
   "cell_type": "markdown",
   "metadata": {},
   "source": [
    "## 10 标准库概览I"
   ]
  },
  {
   "cell_type": "markdown",
   "metadata": {},
   "source": [
    "### 10.1 操作系统接口"
   ]
  },
  {
   "cell_type": "markdown",
   "metadata": {},
   "source": [
    "#### 确保使用import os而不是from os import *。这样可以防止函数os.open()覆盖内建函数open()，两者之间的操作是很不同的。"
   ]
  },
  {
   "cell_type": "code",
   "execution_count": 33,
   "metadata": {
    "collapsed": false
   },
   "outputs": [
    {
     "data": {
      "text/plain": [
       "'D:\\\\mine\\\\mygit\\\\ABC'"
      ]
     },
     "execution_count": 33,
     "metadata": {},
     "output_type": "execute_result"
    }
   ],
   "source": [
    "import os \n",
    "os.getcwd() # Return the current working directory\n",
    "os.char('/mygit/ABC') # Change current working directory\n",
    "os.system('mkdir today') # Run the command mkdir in the system shell"
   ]
  },
  {
   "cell_type": "code",
   "execution_count": 36,
   "metadata": {
    "collapsed": false
   },
   "outputs": [],
   "source": [
    "import os\n",
    "# dir(os)\n",
    "# help(os)"
   ]
  },
  {
   "cell_type": "code",
   "execution_count": null,
   "metadata": {
    "collapsed": true
   },
   "outputs": [],
   "source": [
    "import shutil\n",
    "# shutil.copyfile('data.db', 'archive.db')\n",
    "# shutil.move('/build/executables', 'installdir')\n"
   ]
  },
  {
   "cell_type": "markdown",
   "metadata": {},
   "source": [
    "#### 文件通配符 glob"
   ]
  },
  {
   "cell_type": "code",
   "execution_count": null,
   "metadata": {
    "collapsed": true
   },
   "outputs": [],
   "source": [
    "import glob\n",
    "# glob.glob('*.py')"
   ]
  },
  {
   "cell_type": "markdown",
   "metadata": {},
   "source": [
    "### 10.3 命令行参数"
   ]
  },
  {
   "cell_type": "markdown",
   "metadata": {},
   "source": [
    "#### 以列表形式存储在sys模块的argv属性中;more:getopt,argparse"
   ]
  },
  {
   "cell_type": "code",
   "execution_count": 38,
   "metadata": {
    "collapsed": false
   },
   "outputs": [
    {
     "name": "stdout",
     "output_type": "stream",
     "text": [
      "['C:\\\\Users\\\\admin\\\\Anaconda3\\\\lib\\\\site-packages\\\\ipykernel\\\\__main__.py', '-f', 'C:\\\\Users\\\\admin\\\\AppData\\\\Roaming\\\\jupyter\\\\runtime\\\\kernel-5e6542ab-c388-44cd-b1ed-d7c208086ace.json']\n"
     ]
    }
   ],
   "source": [
    "import sys\n",
    "print(sys.argv)"
   ]
  },
  {
   "cell_type": "markdown",
   "metadata": {},
   "source": [
    "### 10.4错误输出重定向和程序终止"
   ]
  },
  {
   "cell_type": "code",
   "execution_count": null,
   "metadata": {
    "collapsed": true
   },
   "outputs": [],
   "source": [
    "sys模块：stdin,stout,stderr(标准输入、标准输出和标准错误)"
   ]
  },
  {
   "cell_type": "code",
   "execution_count": 40,
   "metadata": {
    "collapsed": false
   },
   "outputs": [
    {
     "name": "stderr",
     "output_type": "stream",
     "text": [
      "Warning, log file not found starting a new one\n"
     ]
    }
   ],
   "source": [
    "sys.stderr.write('Warning, log file not found starting a new one\\n')"
   ]
  },
  {
   "cell_type": "markdown",
   "metadata": {},
   "source": [
    "### 10.5 字符串模板匹配"
   ]
  },
  {
   "cell_type": "markdown",
   "metadata": {},
   "source": [
    "#### re,简单功能字符串是首选"
   ]
  },
  {
   "cell_type": "code",
   "execution_count": 41,
   "metadata": {
    "collapsed": false
   },
   "outputs": [
    {
     "data": {
      "text/plain": [
       "['foot', 'fell', 'fastest']"
      ]
     },
     "execution_count": 41,
     "metadata": {},
     "output_type": "execute_result"
    }
   ],
   "source": [
    "import re\n",
    "re.findall(r'\\bf[a-z]*', 'which foot or hand fell fastest')"
   ]
  },
  {
   "cell_type": "code",
   "execution_count": 42,
   "metadata": {
    "collapsed": false
   },
   "outputs": [
    {
     "ename": "AttributeError",
     "evalue": "'str' object has no attribute 'raplace'",
     "output_type": "error",
     "traceback": [
      "\u001b[0;31m---------------------------------------------------------------------------\u001b[0m",
      "\u001b[0;31mAttributeError\u001b[0m                            Traceback (most recent call last)",
      "\u001b[0;32m<ipython-input-42-6ebb4c99cd4c>\u001b[0m in \u001b[0;36m<module>\u001b[0;34m()\u001b[0m\n\u001b[0;32m----> 1\u001b[0;31m \u001b[1;34m'tea for too'\u001b[0m\u001b[1;33m.\u001b[0m\u001b[0mraplace\u001b[0m\u001b[1;33m(\u001b[0m\u001b[1;34m'too'\u001b[0m\u001b[1;33m,\u001b[0m \u001b[1;34m'two'\u001b[0m\u001b[1;33m)\u001b[0m\u001b[1;33m\u001b[0m\u001b[0m\n\u001b[0m",
      "\u001b[0;31mAttributeError\u001b[0m: 'str' object has no attribute 'raplace'"
     ]
    }
   ],
   "source": [
    "'tea for too'.raplace('too', 'two')"
   ]
  },
  {
   "cell_type": "markdown",
   "metadata": {},
   "source": [
    "### 10.6 数学"
   ]
  },
  {
   "cell_type": "markdown",
   "metadata": {},
   "source": [
    "#### math模块提供基于c库函数的浮点运算;random 的模块提供了进行随机选择的工具;statistics 模块计算数值数据的基本统计特性 （均值、 中位数、 方差，等）;SciPy"
   ]
  },
  {
   "cell_type": "code",
   "execution_count": 70,
   "metadata": {
    "collapsed": false
   },
   "outputs": [
    {
     "data": {
      "text/plain": [
       "0.5833333333333334"
      ]
     },
     "execution_count": 70,
     "metadata": {},
     "output_type": "execute_result"
    }
   ],
   "source": [
    "import math\n",
    "math.cos(math.pi / 4)\n",
    "math.log(1024, 2)\n",
    "import random\n",
    "random.choice(['apple', 'pear', 'banana'])\n",
    "random.sample(range(100), 10)\n",
    "random.random()\n",
    "random.randrange(6)\n",
    "\n",
    "import statistics\n",
    "data = [2.75, 1.75, 1.25]\n",
    "statistics.mean(data)\n",
    "statistics.median(data)\n",
    "statistics.variance(data)"
   ]
  },
  {
   "cell_type": "markdown",
   "metadata": {},
   "source": [
    "### 10.7 互联网访问（3.5.2urllib中午request属性）"
   ]
  },
  {
   "cell_type": "code",
   "execution_count": 72,
   "metadata": {
    "collapsed": false
   },
   "outputs": [
    {
     "name": "stdout",
     "output_type": "stream",
     "text": [
      "<BR>May. 05, 02:38:08 AM EDT\t\tEastern Time\n",
      "\n"
     ]
    }
   ],
   "source": [
    "from urllib.request import urlopen\n",
    "with urlopen('http://tycho.usno.navy.mil/cgi-bin/timer.pl') as response:\n",
    "    for line in response:\n",
    "        line = line.decode('utf-8') # Decoding the binary data to text\n",
    "        if 'EST' in line or 'EDT' in line: # look for Eastern Time\n",
    "            print(line)"
   ]
  },
  {
   "cell_type": "code",
   "execution_count": null,
   "metadata": {
    "collapsed": true
   },
   "outputs": [],
   "source": [
    "import smtplib\n",
    "server = smtplib.SMTP('localhost')\n",
    "server.sendmail('soothsayer@example.org', 'jcaesar@example.org')\n",
    "server.quit()"
   ]
  },
  {
   "cell_type": "markdown",
   "metadata": {},
   "source": [
    "### 10.8 日期和时间"
   ]
  },
  {
   "cell_type": "markdown",
   "metadata": {},
   "source": [
    "#### datetime有效的成员提取，用于输出格式化和操作。模块还支持时区感知的对象"
   ]
  },
  {
   "cell_type": "markdown",
   "metadata": {},
   "source": [
    "#### now.strftime('%m-%d-%y. %d %b %Y is a %A on the %d day of %B')"
   ]
  },
  {
   "cell_type": "code",
   "execution_count": 74,
   "metadata": {
    "collapsed": false
   },
   "outputs": [
    {
     "data": {
      "text/plain": [
       "'05-05-17. 05 May 2017 is a Friday on the 05 day of May'"
      ]
     },
     "execution_count": 74,
     "metadata": {},
     "output_type": "execute_result"
    }
   ],
   "source": [
    "# dates are easily constructed and formatted\n",
    "from datetime import date\n",
    "now = date.today()\n",
    "now\n",
    "now.strftime('%m-%d-%y. %d %b %Y is a %A on the %d day of %B')"
   ]
  },
  {
   "cell_type": "markdown",
   "metadata": {},
   "source": [
    "### 10.9 数据压缩"
   ]
  },
  {
   "cell_type": "markdown",
   "metadata": {},
   "source": [
    "zlib，gzlip，bz2，lzm zipfile，tarfile\n",
    "\n"
   ]
  },
  {
   "cell_type": "code",
   "execution_count": 80,
   "metadata": {
    "collapsed": false
   },
   "outputs": [
    {
     "name": "stdout",
     "output_type": "stream",
     "text": [
      "41\n",
      "38\n"
     ]
    },
    {
     "data": {
      "text/plain": [
       "661750093"
      ]
     },
     "execution_count": 80,
     "metadata": {},
     "output_type": "execute_result"
    }
   ],
   "source": [
    "import zlib\n",
    "s = b'which which has which witches wrist watch'\n",
    "print(len(s))\n",
    "t = zlib.compress(s)\n",
    "print(len(t))\n",
    "zlib.decompress(t)\n",
    "zlib.crc32(s)\n"
   ]
  },
  {
   "cell_type": "markdown",
   "metadata": {},
   "source": [
    "### 10.10 性能测量"
   ]
  },
  {
   "cell_type": "markdown",
   "metadata": {},
   "source": [
    "timeit;profile;pstats"
   ]
  },
  {
   "cell_type": "code",
   "execution_count": 84,
   "metadata": {
    "collapsed": false
   },
   "outputs": [
    {
     "data": {
      "text/plain": [
       "0.01663801504349749"
      ]
     },
     "execution_count": 84,
     "metadata": {},
     "output_type": "execute_result"
    }
   ],
   "source": [
    "from timeit import Timer\n",
    "# Timer('t=a; a=b; b=t;', 'a=1; b=2').timeit()\n",
    "Timer('a,b = b,a', 'a=1; b=2').timeit()"
   ]
  },
  {
   "cell_type": "markdown",
   "metadata": {},
   "source": [
    "### 10.11 质量控制"
   ]
  },
  {
   "cell_type": "markdown",
   "metadata": {},
   "source": [
    "doctest模块为 扫描模块 和 验证测试 提供了一个嵌入程序文档中的工具。测试结构与将典型的调用及其结果一起剪切和粘贴到docstring中一样简单。这通过为用户提供一个示例来改进文档，它允许doctest模块确保代码在文档中保持为真："
   ]
  },
  {
   "cell_type": "code",
   "execution_count": 86,
   "metadata": {
    "collapsed": false
   },
   "outputs": [
    {
     "data": {
      "text/plain": [
       "TestResults(failed=0, attempted=1)"
      ]
     },
     "execution_count": 86,
     "metadata": {},
     "output_type": "execute_result"
    }
   ],
   "source": [
    "def average(values):\n",
    "    \"\"\"Computes the arithmetic mean of a list of numbers\n",
    "    \n",
    "    >>> print(average([20, 30, 70]))\n",
    "    40.0\n",
    "    \"\"\"\n",
    "    return sum(values) / len(values)\n",
    "\n",
    "import doctest\n",
    "doctest.testmod()"
   ]
  },
  {
   "cell_type": "markdown",
   "metadata": {},
   "source": [
    "#### unittest模块并不像doctest模块那么轻松，但它允许在单独的文件中维护一组更全面的测试："
   ]
  },
  {
   "cell_type": "code",
   "execution_count": 88,
   "metadata": {
    "collapsed": false
   },
   "outputs": [
    {
     "name": "stderr",
     "output_type": "stream",
     "text": [
      "E\n",
      "======================================================================\n",
      "ERROR: C:\\Users\\admin\\AppData\\Roaming\\jupyter\\runtime\\kernel-5e6542ab-c388-44cd-b1ed-d7c208086ace (unittest.loader._FailedTest)\n",
      "----------------------------------------------------------------------\n",
      "AttributeError: module '__main__' has no attribute 'C:\\Users\\admin\\AppData\\Roaming\\jupyter\\runtime\\kernel-5e6542ab-c388-44cd-b1ed-d7c208086ace'\n",
      "\n",
      "----------------------------------------------------------------------\n",
      "Ran 1 test in 0.002s\n",
      "\n",
      "FAILED (errors=1)\n"
     ]
    },
    {
     "ename": "SystemExit",
     "evalue": "True",
     "output_type": "error",
     "traceback": [
      "An exception has occurred, use %tb to see the full traceback.\n",
      "\u001b[0;31mSystemExit\u001b[0m\u001b[0;31m:\u001b[0m True\n"
     ]
    },
    {
     "name": "stderr",
     "output_type": "stream",
     "text": [
      "C:\\Users\\admin\\Anaconda3\\lib\\site-packages\\IPython\\core\\interactiveshell.py:2889: UserWarning: To exit: use 'exit', 'quit', or Ctrl-D.\n",
      "  warn(\"To exit: use 'exit', 'quit', or Ctrl-D.\", stacklevel=1)\n"
     ]
    }
   ],
   "source": [
    "import unittest\n",
    "\n",
    "class TestStatisticalFunctions(unittest.TestCase):\n",
    "    \n",
    "    def test_average(self):\n",
    "        self.assertEqual(average([20, 30, 70], 40.0))\n",
    "        self.assertEqual(round(average([1, 5, 7]), 1), 4.3)\n",
    "        with self.assertRaises(ZeroDivisionError):\n",
    "            average([])\n",
    "        with self.assertRaises(TypeError):\n",
    "            average(20, 30, 70)\n",
    "unittest.main() # Calling from the command line invokes all tests\n",
    "print('%tb')"
   ]
  },
  {
   "cell_type": "markdown",
   "metadata": {},
   "source": [
    "#### http://python.usyiyi.cn/translate/python_352/library/unittest.html#module-unittest"
   ]
  },
  {
   "cell_type": "markdown",
   "metadata": {},
   "source": [
    "### 10.12 Batteries Included"
   ]
  },
  {
   "cell_type": "markdown",
   "metadata": {},
   "source": [
    "‘电池包括’哲学"
   ]
  },
  {
   "cell_type": "code",
   "execution_count": null,
   "metadata": {
    "collapsed": true
   },
   "outputs": [],
   "source": []
  },
  {
   "cell_type": "code",
   "execution_count": null,
   "metadata": {
    "collapsed": true
   },
   "outputs": [],
   "source": []
  },
  {
   "cell_type": "code",
   "execution_count": null,
   "metadata": {
    "collapsed": true
   },
   "outputs": [],
   "source": []
  },
  {
   "cell_type": "code",
   "execution_count": null,
   "metadata": {
    "collapsed": true
   },
   "outputs": [],
   "source": []
  }
 ],
 "metadata": {
  "kernelspec": {
   "display_name": "Python 3",
   "language": "python",
   "name": "python3"
  },
  "language_info": {
   "codemirror_mode": {
    "name": "ipython",
    "version": 3
   },
   "file_extension": ".py",
   "mimetype": "text/x-python",
   "name": "python",
   "nbconvert_exporter": "python",
   "pygments_lexer": "ipython3",
   "version": "3.6.0"
  }
 },
 "nbformat": 4,
 "nbformat_minor": 2
}
