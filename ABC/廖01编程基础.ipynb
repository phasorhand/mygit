{
 "cells": [
  {
   "cell_type": "markdown",
   "metadata": {},
   "source": [
    "## Python基础"
   ]
  },
  {
   "cell_type": "markdown",
   "metadata": {},
   "source": [
    "### 编程语言相对自然语言不能有歧义。编译器或解释器就是负责把符合语法的程序代码转换成cpu能够执行的机器码，然后执行"
   ]
  },
  {
   "cell_type": "markdown",
   "metadata": {},
   "source": [
    "### 使用缩进，四个空格，copy失效，大小写敏感，文本编辑器中把tab设置自动转换为四个空格"
   ]
  },
  {
   "cell_type": "markdown",
   "metadata": {},
   "source": [
    "## 数据类型和变量"
   ]
  },
  {
   "cell_type": "code",
   "execution_count": 41,
   "metadata": {
    "collapsed": false
   },
   "outputs": [
    {
     "name": "stdout",
     "output_type": "stream",
     "text": [
      "\\\t\\\n",
      "\\\\\\t\\\\\n",
      "line1\n",
      "line2\n",
      "line3\n",
      "line1\n",
      "line2\n",
      "line3\n",
      "12\n",
      "3\n",
      "3\n",
      "3\n",
      "1\n"
     ]
    }
   ],
   "source": [
    "# 可直接处理的数据类型\n",
    "# 整数：有时候使用十六进制表示整数比较方便。\n",
    "# 浮点数（小数点位置可变）：使用数学写法或科学计数法\n",
    "#  整数和浮点数在计算机内部存储方式是不同的，\n",
    "#  整数运算永远是精确的，浮点数运算则可能会有四舍五入\n",
    "\n",
    "# 字符串：'',\"\",转义\\，\\n换行，\\t制表，r''默认内部字符串不转义\n",
    "print('\\\\\\t\\\\')\n",
    "print(r'\\\\\\t\\\\')\n",
    "print('''line1\n",
    "line2\n",
    "line3''')\n",
    "print(r'''line1\n",
    "line2\n",
    "line3''')\n",
    "\n",
    "print '1' '2'\n",
    "# 布尔值：True、False; and, or, not\n",
    "# 空值None，不是0\n",
    "# 变量：大小写英文、数字和_的组合，不能用数字开头，静态语言&动态语言\n",
    "# 常量：不能变的变量，PI\n",
    "# 整数的除法为什么是准确的：\n",
    "print(10 / 3)\n",
    "print(9 / 3)\n",
    "# 结果都是浮点数\n",
    "print(10 // 3)\n",
    "print(10 % 3)\n",
    "# 无论整数做//除法还是取余数，结果永远都是整数，所以，整数运算永远是精确的。"
   ]
  },
  {
   "cell_type": "code",
   "execution_count": null,
   "metadata": {
    "collapsed": true
   },
   "outputs": [],
   "source": []
  },
  {
   "cell_type": "markdown",
   "metadata": {},
   "source": [
    "## 字符串和编码"
   ]
  },
  {
   "cell_type": "markdown",
   "metadata": {},
   "source": [
    "计算机只能处理数字，文本转为数字才能被处理，最早的计算机使用8bit做一字节byte，一字节=255"
   ]
  },
  {
   "cell_type": "markdown",
   "metadata": {},
   "source": [
    "Unicode将所有语言都统一到一套编码里\n",
    "ASCII编码是一个字节，Unicode编码通常是两个字节\n",
    "可变长编码 UTF-8,吧一个Unicode字符跟据不同的数字大小编码成1-6个字节\n",
    "常用的英文字母被编译成1个字节，汉字通常是3个，很生僻的才被编码成1-6个字节。\n",
    "有大量的英文字符，用UTF-8节省空间：\n",
    "字符\tASCII\tUnicode\tUTF-8\n",
    "A\t01000001\t00000000 01000001\t01000001\n",
    "中\tx\t01001110 00101101\t11100100 10111000 10101101\n",
    "UTF-8编码有一个额外的好处，就是ASCII编码实际上可以被看成是UTF-8编码的一部分，所以，大量只支持ASCII编码的历史遗留软件可以在UTF-8编码下继续工作。\n",
    "在计算机内存中，统一使用Unicode编码，当需要保存到硬盘或者需要传输的时候，就转换为UTF-8编码。\n",
    "\n",
    "用记事本编辑的时候，从文件读取的UTF-8字符被转换为Unicode字符到内存里，编辑完成后，保存的时候再把Unicode转换为UTF-8保存到文件：\n",
    "浏览网页的时候，服务器会把动态生成的Unicode内容转换为UTF-8再传输到浏览器："
   ]
  },
  {
   "cell_type": "code",
   "execution_count": 9,
   "metadata": {
    "collapsed": false
   },
   "outputs": [
    {
     "ename": "UnicodeDecodeError",
     "evalue": "'ascii' codec can't decode byte 0xe4 in position 0: ordinal not in range(128)",
     "output_type": "error",
     "traceback": [
      "\u001b[0;31m---------------------------------------------------------------------------\u001b[0m",
      "\u001b[0;31mUnicodeDecodeError\u001b[0m                        Traceback (most recent call last)",
      "\u001b[0;32m<ipython-input-9-2da78d02bd8d>\u001b[0m in \u001b[0;36m<module>\u001b[0;34m()\u001b[0m\n\u001b[1;32m      2\u001b[0m \u001b[1;31m# b''\u001b[0m\u001b[1;33m\u001b[0m\u001b[1;33m\u001b[0m\u001b[0m\n\u001b[1;32m      3\u001b[0m \u001b[1;34m'ABC'\u001b[0m\u001b[1;33m.\u001b[0m\u001b[0mencode\u001b[0m\u001b[1;33m(\u001b[0m\u001b[1;34m'ascii'\u001b[0m\u001b[1;33m)\u001b[0m\u001b[1;33m\u001b[0m\u001b[0m\n\u001b[0;32m----> 4\u001b[0;31m \u001b[1;34m'中文'\u001b[0m\u001b[1;33m.\u001b[0m\u001b[0mencode\u001b[0m\u001b[1;33m(\u001b[0m\u001b[1;34m'utf-8'\u001b[0m\u001b[1;33m)\u001b[0m\u001b[1;33m\u001b[0m\u001b[0m\n\u001b[0m\u001b[1;32m      5\u001b[0m \u001b[1;34m'中文'\u001b[0m\u001b[1;33m.\u001b[0m\u001b[0mencode\u001b[0m\u001b[1;33m(\u001b[0m\u001b[1;34m'ascii'\u001b[0m\u001b[1;33m)\u001b[0m\u001b[1;33m\u001b[0m\u001b[0m\n",
      "\u001b[0;31mUnicodeDecodeError\u001b[0m: 'ascii' codec can't decode byte 0xe4 in position 0: ordinal not in range(128)"
     ]
    }
   ],
   "source": [
    "# Python的字符串：\\n\n",
    "# b''\n",
    "'ABC'.encode('ascii')\n",
    "'中文'.encode('utf-8')\n",
    "'中文'.encode('ascii')\n"
   ]
  },
  {
   "cell_type": "markdown",
   "metadata": {},
   "source": [
    "纯英文的str可以用ASCII编码为bytes，内容是一样的，含有中文的str可以用UTF-8编码为bytes。含有中文的str无法用ASCII编码，因为中文编码的范围超过了ASCII编码的范围，Python会报错。"
   ]
  },
  {
   "cell_type": "code",
   "execution_count": 18,
   "metadata": {
    "collapsed": false
   },
   "outputs": [
    {
     "name": "stdout",
     "output_type": "stream",
     "text": [
      "ABC\n",
      "中文\n",
      "3\n",
      "6\n"
     ]
    },
    {
     "data": {
      "text/plain": [
       "'\\n\\xe6\\x96\\x87\\xe4\\xbb\\xb6\\xe5\\xbc\\x80\\xe5\\xa4\\xb4\\n#!/usr/bin/env python3\\n# -*- coding: utf-8 -*-\\n\\n'"
      ]
     },
     "execution_count": 18,
     "metadata": {},
     "output_type": "execute_result"
    }
   ],
   "source": [
    "# 在bytes中，无法显示为ASCII字符的字节，用\\x##显示。\n",
    "# 反过来，如果我们从网络或磁盘上读取了字节流，那么读到的数据就是bytes。要把bytes变为str，就需要用decode()方法：\n",
    "print(b'ABC'.decode('ascii'))\n",
    "print(b'\\xe4\\xb8\\xad\\xe6\\x96\\x87'.decode('utf-8'))\n",
    "print(len(b'ABC'))\n",
    "print(len(b'\\xe4\\xb8\\xad\\xe6\\x96\\x87'))\n",
    "# 1个中文字符经过UTF-8编码后通常会占用3个字节，而1个英文字符只占用1个字节。\n",
    "\"\"\"\n",
    "文件开头\n",
    "#!/usr/bin/env python3\n",
    "# -*- coding: utf-8 -*-\n",
    "\n",
    "\"\"\""
   ]
  },
  {
   "cell_type": "markdown",
   "metadata": {},
   "source": [
    "第一行注释是为了告诉Linux/OS X系统，这是一个Python可执行程序，Windows系统会忽略这个注释；\n",
    "\n",
    "第二行注释是为了告诉Python解释器，按照UTF-8编码读取源代码，否则，你在源代码中写的中文输出可能会有乱码。\n",
    "\n",
    "申明了UTF-8编码并不意味着你的.py文件就是UTF-8编码的，必须并且要确保文本编辑器正在使用UTF-8 without BOM编码："
   ]
  },
  {
   "cell_type": "markdown",
   "metadata": {},
   "source": [
    "常见的占位符有：\n",
    "%d\t整数\n",
    "%f\t浮点数\n",
    "%s\t字符串\n",
    "%x\t十六进制整数"
   ]
  },
  {
   "cell_type": "code",
   "execution_count": 23,
   "metadata": {
    "collapsed": false
   },
   "outputs": [
    {
     "name": "stdout",
     "output_type": "stream",
     "text": [
      " 3-01\n",
      "3.14\n",
      "growth rate: 7 %\n",
      "22.0%\n"
     ]
    }
   ],
   "source": [
    "print '%2d-%02d' % (3, 1)\n",
    "print '%.2f' % 3.1415926\n",
    "print 'growth rate: %d %%' %7\n",
    "s1 = 71\n",
    "s2 = 87\n",
    "r = 100*(s2-s1) / s1\n",
    "print('%.1f%%' % r)"
   ]
  },
  {
   "cell_type": "markdown",
   "metadata": {},
   "source": [
    "## 使用list和tuple"
   ]
  },
  {
   "cell_type": "code",
   "execution_count": 26,
   "metadata": {
    "collapsed": false
   },
   "outputs": [
    {
     "name": "stdout",
     "output_type": "stream",
     "text": [
      "3\n",
      "[1, 2, 3, 4]\n",
      "[1, 5, 2, 3, 4]\n",
      "[1, 5, 2, 3]\n",
      "[1, 2, 3]\n",
      "[1, 6, 3]\n"
     ]
    }
   ],
   "source": [
    "# list --二维数组 三维数组\n",
    "c = [1, 2, 3]\n",
    "print(len(c))\n",
    "# 当索引超出了范围时，Python会报一个IndexError错误，所以，\n",
    "# 要确保索引不要越界，记得最后一个元素的索引是len(classmates) - 1。\n",
    "\n",
    "# list是一个可变的有序表，所以，可以往list中追加元素到末尾：\n",
    "c.append(4)\n",
    "print(c)\n",
    "# 插到指定位置\n",
    "c.insert(1,5)\n",
    "print(c)\n",
    "# 删除末尾\n",
    "c.pop()\n",
    "print(c)\n",
    "# 删除指定位置\n",
    "c.pop(1)\n",
    "print(c)\n",
    "# 替换\n",
    "c[1] = 6\n",
    "print(c)"
   ]
  },
  {
   "cell_type": "code",
   "execution_count": 28,
   "metadata": {
    "collapsed": false
   },
   "outputs": [
    {
     "name": "stdout",
     "output_type": "stream",
     "text": [
      "()\n",
      "1\n",
      "(1,)\n"
     ]
    }
   ],
   "source": [
    "# tuple，一旦初始化不能修改,tuple的不变是说tuple的每个元素指向永远不变。\n",
    "#定义一个空或者1个元素\n",
    "t = ()\n",
    "print(t)\n",
    "t = (1)\n",
    "print(t)\n",
    "t = (1,)\n",
    "print(t)"
   ]
  },
  {
   "cell_type": "markdown",
   "metadata": {},
   "source": [
    "## 条件判断:if,elseif,else"
   ]
  },
  {
   "cell_type": "code",
   "execution_count": null,
   "metadata": {
    "collapsed": true
   },
   "outputs": [],
   "source": []
  },
  {
   "cell_type": "code",
   "execution_count": 31,
   "metadata": {
    "collapsed": false
   },
   "outputs": [
    {
     "name": "stdout",
     "output_type": "stream",
     "text": [
      "your name:'yes'\n",
      "yes\n"
     ]
    }
   ],
   "source": [
    "s = input('your name:') # 不能输入变变量\n",
    "print(s)"
   ]
  },
  {
   "cell_type": "markdown",
   "metadata": {},
   "source": [
    "## 循环"
   ]
  },
  {
   "cell_type": "markdown",
   "metadata": {},
   "source": [
    "## 使用dict和set"
   ]
  },
  {
   "cell_type": "markdown",
   "metadata": {},
   "source": [
    "由于一个key只能对应一个value，所以，多次对一个key放入value，后面的值会把前面的值冲掉：\n",
    "如果key不存在，dict就会报错：(使用in判断或者get)\n",
    "dict内部存放的顺序和key放入的顺序是没有关系的。\n",
    "和list比较，dict有以下几个特点：\n",
    "\n",
    "    查找和插入的速度极快，不会随着key的增加而变慢；\n",
    "    需要占用大量的内存，内存浪费多。\n",
    "\n",
    "而list相反：\n",
    "\n",
    "    查找和插入的时间随着元素的增加而增加；\n",
    "    占用空间小，浪费内存很少。\n",
    "dict可以用在需要高速查找的很多地方，在Python代码中几乎无处不在，正确使用dict非常重要，需要牢记的第一条就是dict的key必须是不可变对象。\n",
    "\n",
    "这是因为dict根据key来计算value的存储位置，如果每次计算相同的key得出的结果不同，那dict内部就完全混乱了。这个通过key计算位置的算法称为哈希算法（Hash）。"
   ]
  },
  {
   "cell_type": "code",
   "execution_count": 32,
   "metadata": {
    "collapsed": false
   },
   "outputs": [
    {
     "name": "stdout",
     "output_type": "stream",
     "text": [
      "False\n",
      "None\n",
      "-1\n"
     ]
    }
   ],
   "source": [
    "d = {'Michael': 95, 'Bob': 75, 'Tracy': 85}\n",
    "print('Thomas' in d)\n",
    "print(d.get('Thomas')) # 返回None的时候Python的交互式命令行不显示结果。\n",
    "print(d.get('Thomas', -1))"
   ]
  },
  {
   "cell_type": "markdown",
   "metadata": {},
   "source": [
    "### set"
   ]
  },
  {
   "cell_type": "markdown",
   "metadata": {},
   "source": [
    "set和dict类似，也是一组key的集合，但不存储value。由于key不能重复，所以，在set中，没有重复的key。\n",
    "\n",
    "要创建一个set，需要提供一个list作为输入集合："
   ]
  },
  {
   "cell_type": "code",
   "execution_count": 38,
   "metadata": {
    "collapsed": false
   },
   "outputs": [
    {
     "name": "stdout",
     "output_type": "stream",
     "text": [
      "set([1, 2, 3])\n",
      "set([1, 2, 3, 4])\n",
      "set([1, 2, 3, 4])\n",
      "set([1, 2, 3])\n",
      "set([2, 3])\n",
      "set([1, 2, 3, 4])\n"
     ]
    }
   ],
   "source": [
    "s = set([1, 2, 2, 3])\n",
    "print(s)\n",
    "s.add(4)\n",
    "print(s)\n",
    "s.add(2)\n",
    "print(s)\n",
    "s.remove(4)\n",
    "print(s)\n",
    "\n",
    "s1 = set([2, 3, 4])\n",
    "# 交集 并集\n",
    "print(s&s1)\n",
    "print(s|s1)"
   ]
  },
  {
   "cell_type": "markdown",
   "metadata": {},
   "source": [
    "对于不变对象来说，调用对象自身的任意方法，也不会改变该对象自身的内容。相反，这些方法会创建新的对象并返回，这样，就保证了不可变对象本身永远是不可变的。"
   ]
  },
  {
   "cell_type": "code",
   "execution_count": 40,
   "metadata": {
    "collapsed": false
   },
   "outputs": [
    {
     "name": "stdout",
     "output_type": "stream",
     "text": [
      "set([1, 2, 3])\n"
     ]
    },
    {
     "ename": "TypeError",
     "evalue": "unhashable type: 'list'",
     "output_type": "error",
     "traceback": [
      "\u001b[0;31m---------------------------------------------------------------------------\u001b[0m",
      "\u001b[0;31mTypeError\u001b[0m                                 Traceback (most recent call last)",
      "\u001b[0;32m<ipython-input-40-1bb1d8ed2ba8>\u001b[0m in \u001b[0;36m<module>\u001b[0;34m()\u001b[0m\n\u001b[1;32m      1\u001b[0m \u001b[1;32mprint\u001b[0m\u001b[1;33m(\u001b[0m\u001b[0mset\u001b[0m\u001b[1;33m(\u001b[0m\u001b[1;33m(\u001b[0m\u001b[1;36m1\u001b[0m\u001b[1;33m,\u001b[0m \u001b[1;36m2\u001b[0m\u001b[1;33m,\u001b[0m \u001b[1;36m3\u001b[0m\u001b[1;33m)\u001b[0m\u001b[1;33m)\u001b[0m\u001b[1;33m)\u001b[0m\u001b[1;33m\u001b[0m\u001b[0m\n\u001b[1;32m      2\u001b[0m \u001b[1;33m\u001b[0m\u001b[0m\n\u001b[0;32m----> 3\u001b[0;31m \u001b[1;32mprint\u001b[0m\u001b[1;33m(\u001b[0m\u001b[0mset\u001b[0m\u001b[1;33m(\u001b[0m\u001b[1;33m(\u001b[0m\u001b[1;36m1\u001b[0m\u001b[1;33m,\u001b[0m\u001b[1;33m[\u001b[0m\u001b[1;36m2\u001b[0m\u001b[1;33m,\u001b[0m \u001b[1;36m3\u001b[0m\u001b[1;33m]\u001b[0m\u001b[1;33m)\u001b[0m\u001b[1;33m)\u001b[0m\u001b[1;33m)\u001b[0m\u001b[1;33m\u001b[0m\u001b[0m\n\u001b[0m",
      "\u001b[0;31mTypeError\u001b[0m: unhashable type: 'list'"
     ]
    }
   ],
   "source": [
    "print(set((1, 2, 3)))\n",
    "\n",
    "print(set((1,[2, 3])))"
   ]
  }
 ],
 "metadata": {
  "kernelspec": {
   "display_name": "Python 2",
   "language": "python",
   "name": "python2"
  },
  "language_info": {
   "codemirror_mode": {
    "name": "ipython",
    "version": 2
   },
   "file_extension": ".py",
   "mimetype": "text/x-python",
   "name": "python",
   "nbconvert_exporter": "python",
   "pygments_lexer": "ipython2",
   "version": "2.7.12"
  }
 },
 "nbformat": 4,
 "nbformat_minor": 1
}
