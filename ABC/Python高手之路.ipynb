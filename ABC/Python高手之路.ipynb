{
 "cells": [
  {
   "cell_type": "markdown",
   "metadata": {},
   "source": [
    "## 第六章 单元测试"
   ]
  },
  {
   "cell_type": "markdown",
   "metadata": {},
   "source": [
    "nose包：安装之后提供nosetests命令，该命令会加载所有以test_开头的文件，然后执行其中所有以test_开头的函数"
   ]
  },
  {
   "cell_type": "markdown",
   "metadata": {},
   "source": [
    "#### unittest:提供错误的详细信息;pydoc unittest"
   ]
  },
  {
   "cell_type": "code",
   "execution_count": 3,
   "metadata": {
    "collapsed": false
   },
   "outputs": [],
   "source": [
    "# 让测试失败\n",
    "import unittest\n",
    "\n",
    "\n",
    "class TestFail(unittest.TestCase):\n",
    "    def test_range(self):\n",
    "        for x in range(5):\n",
    "            if x > 4:\n",
    "                self.fail('Range returned a too big value: %d' % x)"
   ]
  },
  {
   "cell_type": "markdown",
   "metadata": {},
   "source": [
    "属性：可根据某个库的存在与否有条件的运行某个测试：Unitest.SkipTest异常"
   ]
  },
  {
   "cell_type": "code",
   "execution_count": null,
   "metadata": {
    "collapsed": true
   },
   "outputs": [],
   "source": [
    "# 忽略测试\n",
    "import unittest\n",
    "\n",
    "try:\n",
    "    import mylib\n",
    "except ImportError:\n",
    "    mylib = None\n",
    "    \n",
    "class TestSkipped(unittest.TestCase):\n",
    "    @unittest.skip('Do not run this')\n",
    "    def test_fail(self):\n",
    "        self.fail('This should not be run')\n",
    "        \n",
    "    @unittest.skipIf(mylib is None, 'mylib is not available')\n",
    "    def test_mylib(self):\n",
    "        self.assertEqual(mylib.foobar(), 42)\n",
    "        \n",
    "    def test_skip_at_runtime(self):\n",
    "        if True:\n",
    "            self.skipTest(\"Finally i don't want to run it\")"
   ]
  },
  {
   "cell_type": "markdown",
   "metadata": {},
   "source": [
    "unittest提供两个特殊的方法setUp和tearDown,他们在类的每个测试方法调用前后执行一次"
   ]
  },
  {
   "cell_type": "code",
   "execution_count": 11,
   "metadata": {
    "collapsed": false
   },
   "outputs": [],
   "source": [
    "import unittest\n",
    "\n",
    "class TestMe(unittest.TestCase):\n",
    "    def setUp(self):\n",
    "        self.list = [1, 2, 3]\n",
    "        \n",
    "    def test_length(self):\n",
    "        self.list.append(4)\n",
    "        self.assertEqual(len(self.list), 4)\n",
    "    \n",
    "    def test_has_one(self):\n",
    "        self.assertEqual(len(self.list), 3)\n",
    "        self.assertIn(1, self.list)\n",
    "        \n"
   ]
  },
  {
   "cell_type": "markdown",
   "metadata": {},
   "source": [
    "### 6.2 fixture"
   ]
  },
  {
   "cell_type": "markdown",
   "metadata": {},
   "source": [
    "测试前创建，测试后销毁：fixtures(非标准库的一部分)提供了一个简单的创建fixture类和对象的机制，如useFixtrue方法"
   ]
  },
  {
   "cell_type": "code",
   "execution_count": null,
   "metadata": {
    "collapsed": true
   },
   "outputs": [],
   "source": [
    "fixtures模块"
   ]
  },
  {
   "cell_type": "code",
   "execution_count": null,
   "metadata": {
    "collapsed": true
   },
   "outputs": [],
   "source": [
    "import fixtures\n",
    "import os\n",
    "\n",
    "\n",
    "class TestEnviron(fixtures.TestWithFixtures):\n",
    "    def test_environ(self):\n",
    "        fixture = self.useFixture(\n",
    "            fixtures.EnvironmentVariable('FOOBAR', '42'))\n",
    "        self.assertEqual(os.environ.get('FOOBAR'), '42')\n",
    "        \n",
    "    def test_environ_no_fixture(self):\n",
    "        self.assertEqual(os.environ.get('FOOBAR'), None)"
   ]
  },
  {
   "cell_type": "markdown",
   "metadata": {},
   "source": [
    "### 6.3 模拟（mocking）"
   ]
  },
  {
   "cell_type": "markdown",
   "metadata": {},
   "source": [
    "unit.mock"
   ]
  },
  {
   "cell_type": "code",
   "execution_count": 15,
   "metadata": {
    "collapsed": false
   },
   "outputs": [
    {
     "name": "stdout",
     "output_type": "stream",
     "text": [
      "hello world!\n",
      "hello world!\n"
     ]
    },
    {
     "data": {
      "text/plain": [
       "43"
      ]
     },
     "execution_count": 15,
     "metadata": {},
     "output_type": "execute_result"
    }
   ],
   "source": [
    "try:\n",
    "    from unittest import mock\n",
    "except ImportError:\n",
    "    import mock\n",
    "\n",
    "m = mock.Mock()\n",
    "m.some_method.return_value = 42\n",
    "m.some_method()\n",
    "def print_hello():\n",
    "    print('hello world!')\n",
    "m.some_method.side_effect = print_hello\n",
    "m.some_method()\n",
    "\n",
    "def print_hello():\n",
    "    print('hello world!')\n",
    "    return 43\n",
    "\n",
    "m.some_method.side_effect = print_hello\n",
    "m.some_method()"
   ]
  },
  {
   "cell_type": "code",
   "execution_count": null,
   "metadata": {
    "collapsed": true
   },
   "outputs": [],
   "source": [
    "一旦测试运行，必须确保模拟的动作被正确地执行"
   ]
  },
  {
   "cell_type": "code",
   "execution_count": 20,
   "metadata": {
    "collapsed": false
   },
   "outputs": [
    {
     "ename": "AssertionError",
     "evalue": "Expected call: some_method('foo', 'baz')\nActual call: some_method('foo', 'bar')",
     "output_type": "error",
     "traceback": [
      "\u001b[0;31m---------------------------------------------------------------------------\u001b[0m",
      "\u001b[0;31mAssertionError\u001b[0m                            Traceback (most recent call last)",
      "\u001b[0;32m<ipython-input-20-180166668538>\u001b[0m in \u001b[0;36m<module>\u001b[0;34m()\u001b[0m\n\u001b[1;32m      7\u001b[0m \u001b[0mm\u001b[0m\u001b[1;33m.\u001b[0m\u001b[0msome_method\u001b[0m\u001b[1;33m.\u001b[0m\u001b[0massert_called_once_with\u001b[0m\u001b[1;33m(\u001b[0m\u001b[1;34m'foo'\u001b[0m\u001b[1;33m,\u001b[0m \u001b[1;34m'bar'\u001b[0m\u001b[1;33m)\u001b[0m\u001b[1;33m\u001b[0m\u001b[0m\n\u001b[1;32m      8\u001b[0m \u001b[0mm\u001b[0m\u001b[1;33m.\u001b[0m\u001b[0msome_method\u001b[0m\u001b[1;33m.\u001b[0m\u001b[0massert_called_once_with\u001b[0m\u001b[1;33m(\u001b[0m\u001b[1;34m'foo'\u001b[0m\u001b[1;33m,\u001b[0m \u001b[0mmock\u001b[0m\u001b[1;33m.\u001b[0m\u001b[0mANY\u001b[0m\u001b[1;33m)\u001b[0m\u001b[1;33m\u001b[0m\u001b[0m\n\u001b[0;32m----> 9\u001b[0;31m \u001b[0mm\u001b[0m\u001b[1;33m.\u001b[0m\u001b[0msome_method\u001b[0m\u001b[1;33m.\u001b[0m\u001b[0massert_called_once_with\u001b[0m\u001b[1;33m(\u001b[0m\u001b[1;34m'foo'\u001b[0m\u001b[1;33m,\u001b[0m \u001b[1;34m'baz'\u001b[0m\u001b[1;33m)\u001b[0m\u001b[1;33m\u001b[0m\u001b[0m\n\u001b[0m",
      "\u001b[0;32mC:\\Users\\admin\\Anaconda3\\lib\\unittest\\mock.py\u001b[0m in \u001b[0;36massert_called_once_with\u001b[0;34m(_mock_self, *args, **kwargs)\u001b[0m\n\u001b[1;32m    823\u001b[0m                    (self._mock_name or 'mock', self.call_count))\n\u001b[1;32m    824\u001b[0m             \u001b[1;32mraise\u001b[0m \u001b[0mAssertionError\u001b[0m\u001b[1;33m(\u001b[0m\u001b[0mmsg\u001b[0m\u001b[1;33m)\u001b[0m\u001b[1;33m\u001b[0m\u001b[0m\n\u001b[0;32m--> 825\u001b[0;31m         \u001b[1;32mreturn\u001b[0m \u001b[0mself\u001b[0m\u001b[1;33m.\u001b[0m\u001b[0massert_called_with\u001b[0m\u001b[1;33m(\u001b[0m\u001b[1;33m*\u001b[0m\u001b[0margs\u001b[0m\u001b[1;33m,\u001b[0m \u001b[1;33m**\u001b[0m\u001b[0mkwargs\u001b[0m\u001b[1;33m)\u001b[0m\u001b[1;33m\u001b[0m\u001b[0m\n\u001b[0m\u001b[1;32m    826\u001b[0m \u001b[1;33m\u001b[0m\u001b[0m\n\u001b[1;32m    827\u001b[0m \u001b[1;33m\u001b[0m\u001b[0m\n",
      "\u001b[0;32mC:\\Users\\admin\\Anaconda3\\lib\\unittest\\mock.py\u001b[0m in \u001b[0;36massert_called_with\u001b[0;34m(_mock_self, *args, **kwargs)\u001b[0m\n\u001b[1;32m    812\u001b[0m         \u001b[1;32mif\u001b[0m \u001b[0mexpected\u001b[0m \u001b[1;33m!=\u001b[0m \u001b[0mactual\u001b[0m\u001b[1;33m:\u001b[0m\u001b[1;33m\u001b[0m\u001b[0m\n\u001b[1;32m    813\u001b[0m             \u001b[0mcause\u001b[0m \u001b[1;33m=\u001b[0m \u001b[0mexpected\u001b[0m \u001b[1;32mif\u001b[0m \u001b[0misinstance\u001b[0m\u001b[1;33m(\u001b[0m\u001b[0mexpected\u001b[0m\u001b[1;33m,\u001b[0m \u001b[0mException\u001b[0m\u001b[1;33m)\u001b[0m \u001b[1;32melse\u001b[0m \u001b[1;32mNone\u001b[0m\u001b[1;33m\u001b[0m\u001b[0m\n\u001b[0;32m--> 814\u001b[0;31m             \u001b[1;32mraise\u001b[0m \u001b[0mAssertionError\u001b[0m\u001b[1;33m(\u001b[0m\u001b[0m_error_message\u001b[0m\u001b[1;33m(\u001b[0m\u001b[1;33m)\u001b[0m\u001b[1;33m)\u001b[0m \u001b[1;32mfrom\u001b[0m \u001b[0mcause\u001b[0m\u001b[1;33m\u001b[0m\u001b[0m\n\u001b[0m\u001b[1;32m    815\u001b[0m \u001b[1;33m\u001b[0m\u001b[0m\n\u001b[1;32m    816\u001b[0m \u001b[1;33m\u001b[0m\u001b[0m\n",
      "\u001b[0;31mAssertionError\u001b[0m: Expected call: some_method('foo', 'baz')\nActual call: some_method('foo', 'bar')"
     ]
    }
   ],
   "source": [
    "try:\n",
    "    from unittest import mock\n",
    "except ImportError:\n",
    "    import mock\n",
    "m = mock.Mock()\n",
    "m.some_method('foo', 'bar')\n",
    "m.some_method.assert_called_once_with('foo', 'bar')\n",
    "m.some_method.assert_called_once_with('foo', mock.ANY)\n",
    "m.some_method.assert_called_once_with('foo', 'baz')"
   ]
  },
  {
   "cell_type": "markdown",
   "metadata": {},
   "source": [
    "#### mock测试 未深入"
   ]
  },
  {
   "cell_type": "markdown",
   "metadata": {},
   "source": [
    "### 6.4 场景测试"
   ]
  },
  {
   "cell_type": "code",
   "execution_count": null,
   "metadata": {
    "collapsed": true
   },
   "outputs": [],
   "source": [
    "mixin class"
   ]
  },
  {
   "cell_type": "markdown",
   "metadata": {},
   "source": [
    "### 6.5 测试序列与并行"
   ]
  },
  {
   "cell_type": "markdown",
   "metadata": {},
   "source": [
    "### 6.7 使用虚拟环境与tox"
   ]
  },
  {
   "cell_type": "markdown",
   "metadata": {},
   "source": [
    "### 6.8 测试策略"
   ]
  },
  {
   "cell_type": "markdown",
   "metadata": {},
   "source": [
    "对未测试代码零容忍。没有一组合适的单元测试覆盖的代码是不应该被合并的"
   ]
  },
  {
   "cell_type": "markdown",
   "metadata": {},
   "source": [
    "最低目标是保证每次代码提交都能通过所有测试，最后是能以自动的方式实现"
   ]
  },
  {
   "cell_type": "markdown",
   "metadata": {},
   "source": [
    "GitHub：Travis CI"
   ]
  },
  {
   "cell_type": "markdown",
   "metadata": {},
   "source": [
    "#### 分而治之"
   ]
  },
  {
   "cell_type": "code",
   "execution_count": null,
   "metadata": {
    "collapsed": true
   },
   "outputs": [],
   "source": []
  }
 ],
 "metadata": {
  "kernelspec": {
   "display_name": "Python 3",
   "language": "python",
   "name": "python3"
  },
  "language_info": {
   "codemirror_mode": {
    "name": "ipython",
    "version": 3
   },
   "file_extension": ".py",
   "mimetype": "text/x-python",
   "name": "python",
   "nbconvert_exporter": "python",
   "pygments_lexer": "ipython3",
   "version": "3.6.0"
  }
 },
 "nbformat": 4,
 "nbformat_minor": 2
}
