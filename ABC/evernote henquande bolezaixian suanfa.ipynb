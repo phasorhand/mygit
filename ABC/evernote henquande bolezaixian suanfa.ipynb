{
 "cells": [
  {
   "cell_type": "code",
   "execution_count": 3,
   "metadata": {
    "collapsed": false
   },
   "outputs": [
    {
     "data": {
      "text/plain": [
       "[1, 2, 3, 8, 29, 59]"
      ]
     },
     "execution_count": 3,
     "metadata": {},
     "output_type": "execute_result"
    }
   ],
   "source": [
    "\n",
    "# 尾递归\n",
    "def _recursion_merge_sort2(l1, l2, tmp):\n",
    "    if len(l1) == 0 or len(l2) == 0:\n",
    "        tmp.extend(l1)\n",
    "        tmp.extend(l2)\n",
    "        return tmp\n",
    "    else:\n",
    "        if l1[0] < l2[0]:\n",
    "            tmp.append(l1[0])\n",
    "            del l1[0]\n",
    "        else:\n",
    "            tmp.apppend(12[0])\n",
    "            del l2[0]\n",
    "        return _recursion_merge_sort2(l1, l2, tmp)\n",
    "    \n",
    "def recursion_merge_sort2(l1, l2):\n",
    "    return _recursion_merge_sort2(l1, l2, [])\n",
    "\n",
    "recursion_merge_sort2([1,2,3], [8,29,59])"
   ]
  },
  {
   "cell_type": "code",
   "execution_count": 6,
   "metadata": {
    "collapsed": false
   },
   "outputs": [
    {
     "data": {
      "text/plain": [
       "[1, 2, 3, 8, 29, 59]"
      ]
     },
     "execution_count": 6,
     "metadata": {},
     "output_type": "execute_result"
    }
   ],
   "source": [
    "# 循环算法\n",
    "def loop_merge_sort(l1, l2):\n",
    "    tmp = []\n",
    "    while len(l1) >0 and len(l2) > 0:\n",
    "        if l1[0] < l2[0]:\n",
    "            tmp.append(l1[0])\n",
    "            del l1[0]\n",
    "        else:\n",
    "            tmp.append(l2[0])\n",
    "            del l2[0]\n",
    "    tmp.extend(l1)\n",
    "    tmp.extend(l2)\n",
    "    return tmp\n",
    "\n",
    "loop_merge_sort([1,2,3], [8,29,59])"
   ]
  },
  {
   "cell_type": "code",
   "execution_count": 7,
   "metadata": {
    "collapsed": true
   },
   "outputs": [],
   "source": [
    "# 交叉链表求交点\n",
    "class ListNode:\n",
    "    def __init__(self, x):\n",
    "        self.val = x\n",
    "        self.next = None\n",
    "def node(l1, l2):\n",
    "    length1, length2 = 0, 0\n",
    "    # 求两个链表的长度\n",
    "    while l1.next:\n",
    "        l1 = l1.next\n",
    "        length1 += 1\n",
    "    while l2.next:\n",
    "        length2 += 1\n",
    "    # 长的链表先走\n",
    "    if length1 > length2:\n",
    "        for _ in range(length1 - length2):\n",
    "            l1 = l1.next\n",
    "    else:\n",
    "        for _ in range(length2 - length1):\n",
    "            l2 = l2.next\n",
    "    while l1 and l2:\n",
    "        if l1.next == l2.next:\n",
    "            return l1.next\n",
    "        else:\n",
    "            l1 = l1.next\n",
    "            l2 = l2.next"
   ]
  },
  {
   "cell_type": "code",
   "execution_count": 16,
   "metadata": {
    "collapsed": false
   },
   "outputs": [
    {
     "name": "stdout",
     "output_type": "stream",
     "text": [
      "0 7\n",
      "0 3\n",
      "2 3\n",
      "2\n",
      "0 7\n",
      "0 3\n",
      "0 1\n",
      "0\n",
      "0 7\n",
      "0 3\n",
      "2 3\n",
      "False\n",
      "0 7\n",
      "4 7\n",
      "6 7\n",
      "7\n",
      "0 7\n",
      "4 7\n",
      "6 7\n",
      "False\n"
     ]
    }
   ],
   "source": [
    "# 二分查找\n",
    "def binarySearch(l, t):\n",
    "    low, high = 0, len(l) - 1\n",
    "    while low < high:\n",
    "        print low, high\n",
    "        mid = (low + high) / 2\n",
    "        if l[mid] > t:\n",
    "            high = mid\n",
    "        elif l[mid] < t:\n",
    "            low = mid + 1\n",
    "        else:\n",
    "            return mid\n",
    "    return low if l[low] == t else False\n",
    "\n",
    "if __name__ == '__main__':\n",
    "    l = [1, 4, 12, 45, 66, 99, 120, 444]\n",
    "    print binarySearch(l, 12)\n",
    "    print binarySearch(l, 1)\n",
    "    print binarySearch(l, 13)\n",
    "    print binarySearch(l, 444)\n",
    "    print binarySearch(l, 445)"
   ]
  },
  {
   "cell_type": "code",
   "execution_count": 19,
   "metadata": {
    "collapsed": false
   },
   "outputs": [
    {
     "name": "stdout",
     "output_type": "stream",
     "text": [
      "[-65, -1, 0, 2, 3, 5, 6, 9, 12, 78]\n"
     ]
    }
   ],
   "source": [
    "# 快排\n",
    "def qsort(seq):\n",
    "    if seq == []:\n",
    "        return []\n",
    "    else:\n",
    "        pivot = seq[0]\n",
    "        lesser = qsort([x for x in seq[1:] if x < pivot])\n",
    "        greater = qsort([x for x in seq[1:] if x >= pivot])\n",
    "        return lesser + [pivot] + greater\n",
    "\n",
    "if __name__ == '__main__':\n",
    "    seq = [5, 6, 78, 9, 0, -1, 2, 3, -65, 12]\n",
    "    print(qsort(seq))"
   ]
  },
  {
   "cell_type": "code",
   "execution_count": 1,
   "metadata": {
    "collapsed": false
   },
   "outputs": [
    {
     "name": "stdout",
     "output_type": "stream",
     "text": [
      "面值为：1 的最小硬币数目为：1 \n",
      "面值为：2 的最小硬币数目为：2 \n",
      "面值为：3 的最小硬币数目为：3 \n",
      "面值为：4 的最小硬币数目为：4 \n",
      "面值为：5 的最小硬币数目为：1 \n",
      "面值为：6 的最小硬币数目为：2 \n",
      "面值为：7 的最小硬币数目为：3 \n",
      "面值为：8 的最小硬币数目为：4 \n",
      "面值为：9 的最小硬币数目为：5 \n",
      "面值为：10 的最小硬币数目为：1 \n",
      "面值为：11 的最小硬币数目为：2 \n",
      "面值为：12 的最小硬币数目为：3 \n",
      "面值为：13 的最小硬币数目为：4 \n",
      "面值为：14 的最小硬币数目为：5 \n",
      "面值为：15 的最小硬币数目为：2 \n",
      "面值为：16 的最小硬币数目为：3 \n",
      "面值为：17 的最小硬币数目为：4 \n",
      "面值为：18 的最小硬币数目为：5 \n",
      "面值为：19 的最小硬币数目为：6 \n",
      "面值为：20 的最小硬币数目为：2 \n",
      "面值为：21 的最小硬币数目为：1 \n",
      "面值为：22 的最小硬币数目为：2 \n",
      "面值为：23 的最小硬币数目为：3 \n",
      "面值为：24 的最小硬币数目为：4 \n",
      "面值为：25 的最小硬币数目为：1 \n",
      "面值为：26 的最小硬币数目为：2 \n",
      "面值为：27 的最小硬币数目为：3 \n",
      "面值为：28 的最小硬币数目为：4 \n",
      "面值为：29 的最小硬币数目为：5 \n",
      "面值为：30 的最小硬币数目为：2 \n",
      "面值为：31 的最小硬币数目为：2 \n",
      "面值为：32 的最小硬币数目为：3 \n",
      "面值为：33 的最小硬币数目为：4 \n",
      "面值为：34 的最小硬币数目为：5 \n",
      "面值为：35 的最小硬币数目为：2 \n",
      "面值为：36 的最小硬币数目为：3 \n",
      "面值为：37 的最小硬币数目为：4 \n",
      "面值为：38 的最小硬币数目为：5 \n",
      "面值为：39 的最小硬币数目为：6 \n",
      "面值为：40 的最小硬币数目为：3 \n",
      "面值为：41 的最小硬币数目为：3 \n",
      "面值为：42 的最小硬币数目为：2 \n",
      "面值为：43 的最小硬币数目为：3 \n",
      "面值为：44 的最小硬币数目为：4 \n",
      "面值为：45 的最小硬币数目为：3 \n",
      "面值为：46 的最小硬币数目为：2 \n",
      "面值为：47 的最小硬币数目为：3 \n",
      "面值为：48 的最小硬币数目为：4 \n",
      "面值为：49 的最小硬币数目为：5 \n",
      "面值为：50 的最小硬币数目为：2 \n",
      "面值为：51 的最小硬币数目为：3 \n",
      "面值为：52 的最小硬币数目为：3 \n",
      "面值为：53 的最小硬币数目为：4 \n",
      "面值为：54 的最小硬币数目为：5 \n",
      "面值为：55 的最小硬币数目为：3 \n",
      "面值为：56 的最小硬币数目为：3 \n",
      "面值为：57 的最小硬币数目为：4 \n",
      "面值为：58 的最小硬币数目为：5 \n",
      "面值为：59 的最小硬币数目为：6 \n",
      "面值为：60 的最小硬币数目为：3 \n",
      "面值为：61 的最小硬币数目为：4 \n",
      "面值为：62 的最小硬币数目为：4 \n",
      "面值为：63 的最小硬币数目为：3 \n"
     ]
    }
   ],
   "source": [
    "def  coinChange(values, money, coinsUsed):\n",
    "    #values    T[1:n]数组\n",
    "    #valuesCounts   钱币对应的种类数\n",
    "    #money  找出来的总钱数\n",
    "    #coinsUsed   对应于目前钱币总数i所使用的硬币数目\n",
    "    for cents in range(1, money+1):\n",
    "        minCoins = cents     #从第一个开始到money的所有情况初始\n",
    "        for value in values:\n",
    "            if value <= cents:\n",
    "                temp = coinsUsed[cents - value] + 1\n",
    "                if temp < minCoins:\n",
    "                    minCoins = temp\n",
    "        coinsUsed[cents] = minCoins\n",
    "        print('面值为：{0} 的最小硬币数目为：{1} '.format(cents, coinsUsed[cents]) )\n",
    " \n",
    "if __name__ == '__main__':\n",
    "    values = [ 25, 21, 10, 5, 1]\n",
    "    money = 63\n",
    "    coinsUsed = {i:0 for i in range(money+1)}\n",
    "    coinChange(values, money, coinsUsed)"
   ]
  },
  {
   "cell_type": "code",
   "execution_count": 8,
   "metadata": {
    "collapsed": false
   },
   "outputs": [
    {
     "data": {
      "text/plain": [
       "[1, 2, 3, 8, 29, 59]"
      ]
     },
     "execution_count": 8,
     "metadata": {},
     "output_type": "execute_result"
    }
   ],
   "source": [
    "def loop_merge_sort(l1, l2):\n",
    "    tmp = []\n",
    "    while True:\n",
    "        if len(l1) == 0 or len(l1) == 0:\n",
    "            tmp.extend(l1)\n",
    "            tmp.extend(l2)\n",
    "            return tmp\n",
    "        else:\n",
    "            if l1[0] < l2[0]:\n",
    "                tmp.append(l1[0])\n",
    "                del l1[0]\n",
    "            else:\n",
    "                tmp.append(l2[0])\n",
    "                del l2[0]\n",
    "loop_merge_sort([1,2,3], [8,29,59])\n",
    "    "
   ]
  },
  {
   "cell_type": "code",
   "execution_count": 10,
   "metadata": {
    "collapsed": false
   },
   "outputs": [
    {
     "data": {
      "text/plain": [
       "0"
      ]
     },
     "execution_count": 10,
     "metadata": {},
     "output_type": "execute_result"
    }
   ],
   "source": [
    "1/2"
   ]
  },
  {
   "cell_type": "code",
   "execution_count": null,
   "metadata": {
    "collapsed": true
   },
   "outputs": [],
   "source": [
    "for name, value in kwargs.items():\n",
    "    print name, value"
   ]
  }
 ],
 "metadata": {
  "kernelspec": {
   "display_name": "Python 2",
   "language": "python",
   "name": "python2"
  },
  "language_info": {
   "codemirror_mode": {
    "name": "ipython",
    "version": 2
   },
   "file_extension": ".py",
   "mimetype": "text/x-python",
   "name": "python",
   "nbconvert_exporter": "python",
   "pygments_lexer": "ipython2",
   "version": "2.7.12"
  }
 },
 "nbformat": 4,
 "nbformat_minor": 1
}
