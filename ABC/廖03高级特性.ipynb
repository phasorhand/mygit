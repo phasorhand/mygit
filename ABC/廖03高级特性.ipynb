{
 "cells": [
  {
   "cell_type": "markdown",
   "metadata": {},
   "source": [
    "## 高级特性"
   ]
  },
  {
   "cell_type": "markdown",
   "metadata": {},
   "source": [
    "### 切片"
   ]
  },
  {
   "cell_type": "code",
   "execution_count": 9,
   "metadata": {
    "collapsed": false
   },
   "outputs": [
    {
     "data": {
      "text/plain": [
       "[1, 2, 3, 4, 5, 6]"
      ]
     },
     "execution_count": 9,
     "metadata": {},
     "output_type": "execute_result"
    }
   ],
   "source": [
    "L = [1, 2, 3, 4, 5, 6]\n",
    "# L[:10]\n",
    "L[-10:]\n",
    "L[:10:2]\n",
    "L[::5]\n",
    "L[:]"
   ]
  },
  {
   "cell_type": "markdown",
   "metadata": {},
   "source": [
    "### 迭代"
   ]
  },
  {
   "cell_type": "code",
   "execution_count": 14,
   "metadata": {
    "collapsed": false
   },
   "outputs": [
    {
     "name": "stdout",
     "output_type": "stream",
     "text": [
      "(0, 1)\n",
      "(1, 2)\n",
      "(2, 3)\n",
      "(3, 4)\n",
      "(1, 1)\n",
      "(2, 4)\n",
      "(3, 9)\n"
     ]
    }
   ],
   "source": [
    "# 因为dict的存储不是按照list的方式顺序排列，所以，迭代出的结果顺序很可能不一样。\n",
    "# for k, v in d.items()\n",
    "# 判断是否可迭代\n",
    "from collections import Iterable\n",
    "isinstance('abc', Iterable)\n",
    "# enumerate函数可以把一个list编程索引-元素对\n",
    "for i, value in enumerate([1, 2, 3, 4]):\n",
    "    print(i, value)\n",
    "    \n",
    "for x, y in [(1, 1), (2, 4), (3, 9)]:\n",
    "    print(x, y)\n",
    "    \n",
    "# 任何可迭代对象都可以用于for循环，包括我们自定义的数据类型"
   ]
  },
  {
   "cell_type": "markdown",
   "metadata": {},
   "source": [
    "### 列表生成器"
   ]
  },
  {
   "cell_type": "code",
   "execution_count": 27,
   "metadata": {
    "collapsed": false
   },
   "outputs": [
    {
     "name": "stdout",
     "output_type": "stream",
     "text": [
      "[1, 4, 9, 16, 25, 36, 49, 64, 81, 100]\n",
      "[4, 16, 36, 64, 100]\n",
      "['ax', 'ay', 'az', 'bx', 'by', 'bz', 'cx', 'cy', 'cz']\n",
      "1 = 1\n",
      "2 = 2\n",
      "3 = 3\n"
     ]
    }
   ],
   "source": [
    "list(range(1, 11))\n",
    "print [x * x for x in range(1,11)]\n",
    "print [x * x for x in range(1, 11) if x % 2 == 0]\n",
    "print [m + n for m in 'abc' for n in 'xyz']\n",
    "import os\n",
    "# [d for d in os.listdir('.')]\n",
    "d = {1 : 1, 2 : 2, 3 : 3}\n",
    "for k, v in d.items():\n",
    "    print k, '=', v\n",
    "#     print (k, '=', v)"
   ]
  },
  {
   "cell_type": "markdown",
   "metadata": {},
   "source": [
    "### 生成器"
   ]
  },
  {
   "cell_type": "markdown",
   "metadata": {},
   "source": [
    "创建一个包含100万个元素的列表，不仅占用很大的存储空间，如果我们仅仅需要访问前面几个元素，那后面绝大多数元素占用的空间都白白浪费了。\n",
    "\n",
    "所以，如果列表元素可以按照某种算法推算出来，那我们是否可以在循环的过程中不断推算出后续的元素呢？这样就不必创建完整的list，从而节省大量的空间。在Python中，这种一边循环一边计算的机制，称为生成器：generator。"
   ]
  },
  {
   "cell_type": "code",
   "execution_count": 36,
   "metadata": {
    "collapsed": false
   },
   "outputs": [
    {
     "name": "stdout",
     "output_type": "stream",
     "text": [
      "<generator object <genexpr> at 0x03C011C0>\n",
      "0\n",
      "1\n",
      "4\n",
      "1\n",
      "1\n",
      "2\n"
     ]
    },
    {
     "data": {
      "text/plain": [
       "'done'"
      ]
     },
     "execution_count": 36,
     "metadata": {},
     "output_type": "execute_result"
    }
   ],
   "source": [
    "# 把一个列表生成器的[]改成()就创建了一个generator\n",
    "g = (x * x for x in range(10))\n",
    "print g\n",
    "# 同构next()获得generator的下一个返回值\n",
    "print next(g)\n",
    "print next(g)\n",
    "print next(g)\n",
    "\n",
    "# for循环，并且不需要关系StopIteration的错误\n",
    "def fib(max):\n",
    "    n, a, b = 0, 0, 1\n",
    "    while n < max:\n",
    "        print b\n",
    "        a, b = b, a + b\n",
    "        n = n+1\n",
    "    return 'done'\n",
    "fib(3)"
   ]
  },
  {
   "cell_type": "code",
   "execution_count": 45,
   "metadata": {
    "collapsed": false
   },
   "outputs": [
    {
     "name": "stdout",
     "output_type": "stream",
     "text": [
      " <generator object fib at 0x03C01440>\n",
      "f: 1\n",
      "f: 1\n",
      "f: 2\n",
      "f: 3\n",
      "f: 5\n",
      "f: 8\n",
      "Generator return value \n"
     ]
    }
   ],
   "source": [
    "# 停止yield：if while for\n",
    "def fib(max):\n",
    "    n, a, b =0, 0, 1\n",
    "    while n < max:\n",
    "        yield b\n",
    "        a, b = b, a + b\n",
    "        n += 1\n",
    "#     return 'done' # SyntaxError: 'return' with argument inside generator\n",
    "\n",
    "f = fib(6)\n",
    "print f\n",
    "while True:\n",
    "    try:\n",
    "        x = next(f)\n",
    "        print 'f:', x\n",
    "    except StopIteration as e:\n",
    "        print 'Generator return value', e\n",
    "        break\n",
    "'''\n",
    "n = 0\n",
    "for x in f:\n",
    "    print x\n",
    "    n += 1\n",
    "    if n == 6:\n",
    "        break\n",
    "'''"
   ]
  },
  {
   "cell_type": "markdown",
   "metadata": {},
   "source": [
    "### 迭代器"
   ]
  },
  {
   "cell_type": "markdown",
   "metadata": {},
   "source": [
    "for循环的数据类型有以下几种：\n",
    "\n",
    "一类是集合数据类型，如list、tuple、dict、set、str等；\n",
    "\n",
    "一类是generator，包括生成器和带yield的generator function。\n",
    "\n",
    "这些可以直接作用于for循环的对象统称为可迭代对象：Iterable。"
   ]
  },
  {
   "cell_type": "code",
   "execution_count": 47,
   "metadata": {
    "collapsed": false
   },
   "outputs": [
    {
     "data": {
      "text/plain": [
       "True"
      ]
     },
     "execution_count": 47,
     "metadata": {},
     "output_type": "execute_result"
    }
   ],
   "source": [
    "from collections import Iterable\n",
    "isinstance('avb', Iterable)"
   ]
  },
  {
   "cell_type": "markdown",
   "metadata": {},
   "source": [
    " 可以被next()函数调用并不断返回下一个值的对象称为迭代器：Iterator。"
   ]
  },
  {
   "cell_type": "code",
   "execution_count": 54,
   "metadata": {
    "collapsed": false
   },
   "outputs": [
    {
     "name": "stdout",
     "output_type": "stream",
     "text": [
      "True\n"
     ]
    }
   ],
   "source": [
    "from collections import Iterator\n",
    "isinstance('abc', Iterator)\n",
    "print isinstance((x for x in range(10)), Iterator)"
   ]
  },
  {
   "cell_type": "markdown",
   "metadata": {},
   "source": [
    "Python的Iterator对象表示的是一个数据流，Iterator对象可以被next()函数调用并不断返回下一个数据，直到没有数据时抛出StopIteration错误。可以把这个数据流看做是一个有序序列，但我们却不能提前知道序列的长度，只能不断通过next()函数实现按需计算下一个数据，所以Iterator的计算是惰性的，只有在需要返回下一个数据时它才会计算。\n",
    "\n",
    "Iterator甚至可以表示一个无限大的数据流，例如全体自然数。而使用list是永远不可能存储全体自然数的。"
   ]
  }
 ],
 "metadata": {
  "kernelspec": {
   "display_name": "Python 2",
   "language": "python",
   "name": "python2"
  },
  "language_info": {
   "codemirror_mode": {
    "name": "ipython",
    "version": 2
   },
   "file_extension": ".py",
   "mimetype": "text/x-python",
   "name": "python",
   "nbconvert_exporter": "python",
   "pygments_lexer": "ipython2",
   "version": "2.7.12"
  }
 },
 "nbformat": 4,
 "nbformat_minor": 1
}
