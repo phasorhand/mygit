{
 "cells": [
  {
   "cell_type": "code",
   "execution_count": 1,
   "metadata": {
    "collapsed": false
   },
   "outputs": [
    {
     "ename": "SyntaxError",
     "evalue": "invalid syntax (<ipython-input-1-a730f9fb44a9>, line 2)",
     "output_type": "error",
     "traceback": [
      "\u001b[0;36m  File \u001b[0;32m\"<ipython-input-1-a730f9fb44a9>\"\u001b[0;36m, line \u001b[0;32m2\u001b[0m\n\u001b[0;31m    from django.db impor models\u001b[0m\n\u001b[0m                       ^\u001b[0m\n\u001b[0;31mSyntaxError\u001b[0m\u001b[0;31m:\u001b[0m invalid syntax\n"
     ]
    }
   ],
   "source": [
    "# 第七节\n",
    "# models.py\n",
    "from django.db impor models\n",
    "\n",
    "# Create your models here.\n",
    "# tag(标签)\n",
    "class Tag(models.Model):\n",
    "    # 主键 自动维护生成\n",
    "    name = models.CharField(max_length=30, verbose_name='标签名称')\n",
    "    \n",
    "    class Meta:\n",
    "        # 方便在admin里看到标签的中文名\n",
    "        verbose_name = '标签'\n",
    "        verbose_name_plural = verbose_name\n",
    "        \n",
    "    # model最好每个都有，返回自身的属性\n",
    "    class __unicode__(self):\n",
    "        return str(self.id) # 返回字符串类型\n",
    "    \n",
    "# 文章分类\n",
    "calss Catagory(models.Model):\n",
    "    name = models.CharField(max_length=30, verbose_name='分类名称')\n",
    "    index = models.INtegerField(verose_name='分类的排序')\n",
    "    class Meta:\n",
    "        # 方便在admin里看到标签的中文名\n",
    "        verbose_name = '分类'\n",
    "        verbose_name_plural = verbose_name\n",
    "        \n",
    "    # model最好每个都有，返回自身的属性\n",
    "    class __unicode__(self):\n",
    "        return str(self.id) # 返回字符串类型"
   ]
  },
  {
   "cell_type": "code",
   "execution_count": 2,
   "metadata": {
    "collapsed": false
   },
   "outputs": [
    {
     "ename": "SyntaxError",
     "evalue": "invalid syntax (<ipython-input-2-2ad16cbad56e>, line 6)",
     "output_type": "error",
     "traceback": [
      "\u001b[0;36m  File \u001b[0;32m\"<ipython-input-2-2ad16cbad56e>\"\u001b[0;36m, line \u001b[0;32m6\u001b[0m\n\u001b[0;31m    'NAME' : 'blogdb',\u001b[0m\n\u001b[0m           ^\u001b[0m\n\u001b[0;31mSyntaxError\u001b[0m\u001b[0;31m:\u001b[0m invalid syntax\n"
     ]
    }
   ],
   "source": [
    "# 第七节\n",
    "# setting.py\n",
    "DATABASES = {\n",
    "    'defalut' : {\n",
    "        'ENGINE' : 'django.db.backends.mysql' # 后端\n",
    "        'NAME' : 'blogdb',\n",
    "        'USER': 'root',\n",
    "        'PASSWORD' : '1234',\n",
    "        'HOST': '', # 默认值\n",
    "        'PORT' : '',\n",
    "    }\n",
    "}\n",
    "\n",
    "# 自定义用户model\n",
    "AUTH_USER_MODEL = 'blog.User'\n",
    "\n",
    "# MYSQL命令行\n",
    "show databases\n",
    "create database blogdb\n",
    "# 也可以通过管理工具创建\n",
    "# 编码， 排序规则\n",
    "# -*- coding: utf-8 -*-\n",
    "makemigrations blog（项目名字） # 编译 生成脚本\n",
    "syncdb # 第一次初始化数据库，添加一个默认管理员的账号，密码会经过加密处理\n",
    "\n",
    "# 每次数据库有改变时，使用makemigrations [blog]加入到脚本里\n",
    "# 然后使用 migrate [blog] 将更改同步到数据库"
   ]
  },
  {
   "cell_type": "code",
   "execution_count": 3,
   "metadata": {
    "collapsed": false
   },
   "outputs": [
    {
     "ename": "SyntaxError",
     "evalue": "invalid syntax (<ipython-input-3-9887b76fe758>, line 41)",
     "output_type": "error",
     "traceback": [
      "\u001b[0;36m  File \u001b[0;32m\"<ipython-input-3-9887b76fe758>\"\u001b[0;36m, line \u001b[0;32m41\u001b[0m\n\u001b[0;31m    'fields' : ('click_count', 'is_recommend',)\u001b[0m\n\u001b[0m           ^\u001b[0m\n\u001b[0;31mSyntaxError\u001b[0m\u001b[0;31m:\u001b[0m invalid syntax\n"
     ]
    }
   ],
   "source": [
    "# 第八章 admin的配置\n",
    "# django.contrib:admin,auth,sessions,conmments等模块\n",
    "# 1 在INSTALLED_APPSzhong总天天加django.contrib.admin\n",
    "# 2 配置urls.py:url(r'~admin/', include(admin.site.urls))\n",
    "# 3 在admin注册的Model，（默认方式是和自定义方式），关于admin的配置：参考文档\n",
    "\n",
    "# setting.py\n",
    "INSTALLED_APP\n",
    "# urls。py\n",
    "urlpatterns = [\n",
    "    url(r'^admin/', include(admin.site.urls))\n",
    "]\n",
    "# 启动项目后，localhost：8000/admin/login/\n",
    "\n",
    "# models.py 注册models\n",
    "admin.site.register(User)\n",
    "\n",
    "# 刷新admin管理页面\n",
    "\n",
    "# xadmin是非官方的admin管理模块，界面表现形式比较丰富\n",
    "\n",
    "#fields/exclude\n",
    "#fieldsets,某些信息显示在一些块，另一些显示在另一个块\n",
    "# list_display,列表显示的内容\n",
    "# list_editable\n",
    "# inlines 一个model对象关联到另一个对象\n",
    "# admin.py\n",
    "class ArticleAdmin(admin.ModelAdmin):\n",
    "    \n",
    "    \n",
    "#     fields = ('title', 'desc', 'content',) # 只展示title，desc，content\n",
    "    list_display = ('title', 'desc', 'click_count',)\n",
    "    list_display_links = ('title', 'desc',)\n",
    "    list_editable = ('click_count',) # 不能同时是links和editable\n",
    "    fieldsets = (\n",
    "        (None, {\n",
    "                'fields' : ('title', 'desc', 'content',)\n",
    "        }),\n",
    "        ('高级设置', {\n",
    "                'classes' : ('collapse',) # 默认隐藏\n",
    "                'fields' : ('click_count', 'is_recommend',)\n",
    "        })\n",
    "        \n",
    "    )\n",
    "    \n",
    "admin.site.register(Article, ArtticleAdmin)\n",
    "\n",
    "# admindocs的使用：生成自己的开发文档"
   ]
  },
  {
   "cell_type": "code",
   "execution_count": 4,
   "metadata": {
    "collapsed": false
   },
   "outputs": [
    {
     "ename": "SyntaxError",
     "evalue": "invalid syntax (<ipython-input-4-2b0c31f3cfd2>, line 17)",
     "output_type": "error",
     "traceback": [
      "\u001b[0;36m  File \u001b[0;32m\"<ipython-input-4-2b0c31f3cfd2>\"\u001b[0;36m, line \u001b[0;32m17\u001b[0m\n\u001b[0;31m    KindEditor.ready(function(k)) {\u001b[0m\n\u001b[0m                                  ^\u001b[0m\n\u001b[0;31mSyntaxError\u001b[0m\u001b[0;31m:\u001b[0m invalid syntax\n"
     ]
    }
   ],
   "source": [
    "# 第九节 增加富文本编辑器：ckeditor/ueditor/kindeditor/tinymce/..\n",
    "# django-admin中添加富文本编辑器的几种方式：\n",
    "# 1 第三方库 django-ckeditor（下载然后setting中配置）\n",
    "# 2 在admin中定义富文本编辑器widget\n",
    "# 3 同过定义ModelAdmin的媒体文件\n",
    "    # 下载kindeditor，拷到static的js中 \n",
    "    # 2定义ModelAdmin的媒体文件\n",
    "# admin.py\n",
    "class Media:\n",
    "    js = (\n",
    "        '/static/js/kindeditor-4.1.10/kindeditor-min.js',\n",
    "        '/static/js/kindeditor-4.1.10/lang/zh_CN.js',\n",
    "        '/static/js/kindeditor-4.1.10/config.js',\n",
    "    )\n",
    "# 在js目录下新建config.js\n",
    "# config.js\n",
    "KindEditor.ready(function(k)) {\n",
    "    K.create('textarea[name=content]', {\n",
    "            Width:500,\n",
    "            height:200, \n",
    "        })\n",
    "}\n",
    "# 查看页面及其源代码"
   ]
  },
  {
   "cell_type": "code",
   "execution_count": 5,
   "metadata": {
    "collapsed": false
   },
   "outputs": [
    {
     "ename": "SyntaxError",
     "evalue": "invalid syntax (<ipython-input-5-dfb5c9dd1a83>, line 23)",
     "output_type": "error",
     "traceback": [
      "\u001b[0;36m  File \u001b[0;32m\"<ipython-input-5-dfb5c9dd1a83>\"\u001b[0;36m, line \u001b[0;32m23\u001b[0m\n\u001b[0;31m    avatar = models.ImageField(upload_to='avatar/%Y/%m', default='avatar/default.png'[,..])\u001b[0m\n\u001b[0m                                                                                      ^\u001b[0m\n\u001b[0;31mSyntaxError\u001b[0m\u001b[0;31m:\u001b[0m invalid syntax\n"
     ]
    }
   ],
   "source": [
    "# 第十节 如何上传文件\n",
    "# 1 在setting.py中配置MEDIA_URL和MEDIA_ROOT\n",
    "# 2 urls.py 中配置路由\n",
    "# 3 在model中设置图片的上传位置和路径\n",
    "# 根目录新建uploads文件夹专门存上传文件\n",
    "# setting.py 配置\n",
    "MEDIA_URL = '/uploads/'\n",
    "\n",
    "MEDIA_ROOT =os.path.join(BASE_DIR, 'uploads')\n",
    "\n",
    "# url.py 配置路由\n",
    "from django.conf import settings\n",
    "\n",
    "urlpatterns = [\n",
    "    url(r'^uploads/(?P<path>.*)$', \\\n",
    "       'django.view.static.serve', \\\n",
    "       {'document_root': setting.MEDIA_ROOT,}),\n",
    "    url(r'^admin/', include(admin.sit.urls))\n",
    "]\n",
    "\n",
    "# models.py\n",
    "class User(AbstractUser):\n",
    "    avatar = models.ImageField(upload_to='avatar/%Y/%m', default='avatar/default.png'[,..])\n",
    "    \n",
    "# blog/migrations/upload.py\n",
    "# -*- coding: utf-8 -*-\n",
    "from django.http import HttpResponse\n",
    "from django.conf import settings\n",
    "from django.views.decorators.csrf import csrf_exempt\n",
    "import os\n",
    "import uuid\n",
    "import json\n",
    "import datetime as dt\n",
    "\n",
    "@csrf_exempt # 装饰器，请求不再验证csrf\n",
    "def upload_image(request, dir_name):\n",
    "    ################## 这是编辑器所需要的格式\n",
    "    #  kindeditor图片上传返回数据格式说明：\n",
    "    # {\"error\": 1, \"message\": \"出错信息\"}\n",
    "    # {\"error\": 0, \"url\": \"图片地址\"}\n",
    "    ##################\n",
    "    result = {\"error\": 1, \"message\": \"上传出错\"}\n",
    "    files = request.FILES.get(\"imgFile\", None) # 上传文件空间的name\n",
    "    if files:\n",
    "        result =image_upload(files, dir_name)\n",
    "    return HttpResponse(json.dumps(result), content_type=\"application/json\")\n",
    "\n",
    "#目录创建\n",
    "def upload_generation_dir(dir_name):\n",
    "    today = dt.datetime.today()\n",
    "    dir_name = dir_name + '/%d/%d/' %(today.year,today.month)\n",
    "    if not os.path.exists(settings.MEDIA_ROOT + dir_name):\n",
    "        os.makedirs(settings.MEDIA_ROOT + dir_name)\n",
    "    return dir_name\n",
    "\n",
    "# 图片上传\n",
    "def image_upload(files, dir_name):\n",
    "    #允许上传文件类型\n",
    "    allow_suffix =['jpg', 'png', 'jpeg', 'gif', 'bmp']\n",
    "    file_suffix = files.name.split(\".\")[-1]\n",
    "    if file_suffix not in allow_suffix:\n",
    "        return {\"error\": 1, \"message\": \"图片格式不正确\"}\n",
    "    relative_path_file = upload_generation_dir(dir_name)\n",
    "    path=os.path.join(settings.MEDIA_ROOT, relative_path_file)\n",
    "    if not os.path.exists(path): #如果目录不存在创建目录\n",
    "        os.makedirs(path)\n",
    "    file_name=str(uuid.uuid1())+\".\"+file_suffix # 保证唯一性\n",
    "    path_file=os.path.join(path, file_name)\n",
    "    file_url = settings.MEDIA_URL + relative_path_file + file_name\n",
    "    open(path_file, 'wb').write(files.file.read()) # 保存图片\n",
    "    return {\"error\": 0, \"url\": file_url}\n",
    "\n",
    "#blog_project/urls.py 定义路由\n",
    "from blog.uploadd import upload_image\n",
    "urlpatterns = [\n",
    "    url(r'admin/upload/(?P<dir_name>[^/]+)$', upload_image, name='upload_image')\n",
    "]\n",
    "\n",
    "# kindeditor/config.js 配置config.js\n",
    "KindEditor.ready(function(K){\n",
    "        K.create('textarea[name=cont ent]', [\n",
    "                width:'800px',\n",
    "                heigght:'200px',\n",
    "                uploadJson:'/admin/upload/kindeditor',\n",
    "            ])\n",
    "    })"
   ]
  },
  {
   "cell_type": "code",
   "execution_count": 6,
   "metadata": {
    "collapsed": false
   },
   "outputs": [
    {
     "ename": "SyntaxError",
     "evalue": "invalid syntax (<ipython-input-6-7855bac57bfe>, line 4)",
     "output_type": "error",
     "traceback": [
      "\u001b[0;36m  File \u001b[0;32m\"<ipython-input-6-7855bac57bfe>\"\u001b[0;36m, line \u001b[0;32m4\u001b[0m\n\u001b[0;31m    {% block left_content %}{endblock}\u001b[0m\n\u001b[0m     ^\u001b[0m\n\u001b[0;31mSyntaxError\u001b[0m\u001b[0;31m:\u001b[0m invalid syntax\n"
     ]
    }
   ],
   "source": [
    "# 第十一节 模板的规划和设计\n",
    "# Django模板中url的使用http://blog.csdn.net/huochen1994/article/details/52634686\n",
    "# 如何拆分膜拜你，抽离出base模板\n",
    "# 如何规划和设计模板中的block,\n",
    "{% block left_content %}{endblock}\n",
    "{% block custom_css %}{endblock}\n",
    "\n",
    "# 继承\n",
    "{% extends 'base.html' %}\n",
    "{% load staticfiles%}\n",
    "{% block left_content %}\n",
    "# 填入内容\n",
    "\n",
    "{% endblock %}\n",
    "\n",
    "#如何使用include\n",
    "{% include 'ad.html' %} # 引入一个内容ad.html是否应该自己能成页面（包含必须得js等\n",
    "\n",
    "# 导航数据的获取\n",
    "return render\n",
    "{% for % }\n",
    "{% endfor %}\n",
    "# models.py\n",
    "class Category(models.Model):\n",
    "    \n",
    "    class Meta:\n",
    "        verbose_name = '分类'\n",
    "        verbose_name_pplural = verbose_name\n",
    "        ordering = ['index', 'id '] # 升序，倒序只需在前加减号’-index‘\n",
    "# views.py\n",
    "try:\n",
    "    ctaegory_list = Category.objects.all()[:1]\n",
    "except Excetion as e:\n",
    "    logger.error(e)\n",
    "return render(request, 'index.html', {'category_list': category_list})\n",
    "# 可以分析执行时打印的sql代码"
   ]
  },
  {
   "cell_type": "code",
   "execution_count": 7,
   "metadata": {
    "collapsed": false
   },
   "outputs": [
    {
     "ename": "SyntaxError",
     "evalue": "invalid syntax (<ipython-input-7-c1b394592a25>, line 24)",
     "output_type": "error",
     "traceback": [
      "\u001b[0;36m  File \u001b[0;32m\"<ipython-input-7-c1b394592a25>\"\u001b[0;36m, line \u001b[0;32m24\u001b[0m\n\u001b[0;31m    exception (EmptyPage, InvalidPage, PageNotAnInteger):# 用户胡乱输入\u001b[0m\n\u001b[0m            ^\u001b[0m\n\u001b[0;31mSyntaxError\u001b[0m\u001b[0;31m:\u001b[0m invalid syntax\n"
     ]
    }
   ],
   "source": [
    "# 第十二章 分页器Paginator的使用\n",
    "# 功能点：1、广告数据获取，2、最新文章数据获取（分页）\n",
    "# 技术点\n",
    "# 1、查询的基本操作，all()\n",
    "# a、QuerySet[:1],这种方式是查询所有的结果再取其中一条数据还是只从数据库中取一条\n",
    "# b、QuerySet查询时惰性的（当我们去执行all，filter，get，是不会去执行sql的，当\n",
    "#  我们去查询查询结果集时才调用）--print type(name)\n",
    "# 2/分页器Paginator的使用\n",
    "# 3、locals()函数将当前作用域所有页面变量全部传递\n",
    "\n",
    "# views.py\n",
    "# 导入分页器及异常\n",
    "def index(request):\n",
    "    try:\n",
    "        # 分类信息获取（导航数据）\n",
    "        category_list = Category.objects.all()[:1]\n",
    "        # 广告数据\n",
    "        # 最新文章数据\n",
    "        article_list = Article.object.all() # 在meta中定义顺序\n",
    "        paginator = Paginator(article_list, 10)\n",
    "        try:\n",
    "            page = int(request.GET.get('page', 1))\n",
    "            article_list = paginator.page(page)\n",
    "        exception (EmptyPage, InvalidPage, PageNotAnInteger):# 用户胡乱输入 \n",
    "            article_list = paginator.page(1)\n",
    "    except Exception as e:\n",
    "        logger.error(e)\n",
    "    return render(request, 'index.html', locals())\n",
    "# index.html\n",
    "{% for article in article_list %}\n",
    "{{article.title}}\n",
    "{% for tag in article.tag.all %}\n",
    "{{tag.name}}&nbsp #加入空格\n",
    "{% endfor %}\n",
    "{{ article.comment_set.all.count}}# Comment的外键是Article的主键 一对多加_set\n",
    "{{article.data_publish | data:'Y-m-d'}} # 过滤器不加%\n",
    "{% endfor %}"
   ]
  },
  {
   "cell_type": "code",
   "execution_count": 8,
   "metadata": {
    "collapsed": false
   },
   "outputs": [
    {
     "ename": "IndentationError",
     "evalue": "unexpected indent (<ipython-input-8-f851733011d8>, line 16)",
     "output_type": "error",
     "traceback": [
      "\u001b[0;36m  File \u001b[0;32m\"<ipython-input-8-f851733011d8>\"\u001b[0;36m, line \u001b[0;32m16\u001b[0m\n\u001b[0;31m    cursor = connection.cursor()\u001b[0m\n\u001b[0m    ^\u001b[0m\n\u001b[0;31mIndentationError\u001b[0m\u001b[0;31m:\u001b[0m unexpected indent\n"
     ]
    }
   ],
   "source": [
    "# 第十三章 自定义Manager管理器\n",
    "# 功能点： 文章归档\n",
    "# 技术点：\n",
    "# 1、使用filter（）\n",
    "# 2、 values(), distinct()\n",
    "# 3、django中直接使用sql的两种方式\n",
    "#  SELECT DISTINCT DATE_FORMAT(data_publish, '%Y-%m') as col_date FROM blog_article ORDER\n",
    "# 3.1、 raw（异常，Raw query must iniclude the primary key, 返回结果必须包含主键）\n",
    "# 3.2、 excute\n",
    "# 4、 尝试用优雅的方式解决一些数据处理上的问题，自定义Manager管理器\n",
    "# views.py\n",
    "# 文章归档\n",
    "# 1、先要去获取到文章中有的年份-月份\n",
    "# Article.objects.values('data_publish').distinct() 去重\n",
    "# archive_list = Article.objects.raw('select distinct date_format(date_publish, '%%Y-%%m') as col_date..')')# 占位符与转义\n",
    "    cursor = connection.cursor()\n",
    "    cursor.execute(sql)\n",
    "    row = cursor.fetchall()\n",
    "    print row\n",
    "# 不推荐，如果用的话数据库迁移会有麻烦"
   ]
  },
  {
   "cell_type": "code",
   "execution_count": 9,
   "metadata": {
    "collapsed": false
   },
   "outputs": [
    {
     "ename": "SyntaxError",
     "evalue": "invalid syntax (<ipython-input-9-218d8035247d>, line 37)",
     "output_type": "error",
     "traceback": [
      "\u001b[0;36m  File \u001b[0;32m\"<ipython-input-9-218d8035247d>\"\u001b[0;36m, line \u001b[0;32m37\u001b[0m\n\u001b[0;31m    exception (EmptyPage, InvalidPage, PageNotAnInteger):# 用户胡乱输入\u001b[0m\n\u001b[0m            ^\u001b[0m\n\u001b[0;31mSyntaxError\u001b[0m\u001b[0;31m:\u001b[0m invalid syntax\n"
     ]
    }
   ],
   "source": [
    "# 第14章 自定义Manager管理器\n",
    "# 自定义一个文章Model的管理器\n",
    "# 1、新加一个数据处理的方法\n",
    "# 2、改变原有的queryset\n",
    "# 定义管理器\n",
    "class ArticleManager(models.Manager):\n",
    "    def distinct_date(self):\n",
    "        distinct_date_list = []\n",
    "        date_list =self.values('data_publish')\n",
    "        for date in date_list:\n",
    "            date['date_publish'].strftime('%Y%m文档存档')\n",
    "            if date not in distinct_date_list:\n",
    "                distinct_date_list.append(date)\n",
    "        return distinct_date_list\n",
    "# 关联管理器\n",
    "class Article(models.Model):\n",
    "    \n",
    "    objects = ArticleManager()\n",
    "    \n",
    "# views.py\n",
    "for a in Article.objects.objects.distinct_date():\n",
    "    print a\n",
    "\n",
    "# 链接 views.py\n",
    "def arcchive(request):\n",
    "    try:\n",
    "        # 导航数据和归档信息也需要进来\n",
    "        # 先获取客户端提交的信息\n",
    "        year = request.GET.get('year', None)\n",
    "        month = request.GET.get('month', None)\n",
    "#         article_list = Article.object.all() # 在meta中定义顺序\n",
    "        article_list = Articlle.objects.filter(date_publish_icontains=year+'-'+month)\n",
    "        paginator = Paginator(article_list, 10)\n",
    "        try:\n",
    "            page = int(request.GET.get('page', 1))\n",
    "            article_list = paginator.page(page)\n",
    "        exception (EmptyPage, InvalidPage, PageNotAnInteger):# 用户胡乱输入 \n",
    "            article_list = paginator.page(1)\n",
    "    excet Exception as e:\n",
    "        logger.error(e)\n",
    "    return render(request, 'archive.html', locals())\n",
    "# url设置 urls.py\n",
    "url(r'^archive/$', archive, name='archive')\n",
    "\n",
    "# 页面\n",
    "{{request.GET.year}}/{{request.GET.monthh}}文章归档\n",
    "{% for archive in archive_list %}\n",
    "<a href='{% url'archive'%}?year={{ archive| slice:\":4\"}}&month={{archive | slice:\"5:7\"}'>{{archive}}</a>\n",
    "{% endfor %}\n",
    "\n"
   ]
  },
  {
   "cell_type": "code",
   "execution_count": null,
   "metadata": {
    "collapsed": true
   },
   "outputs": [],
   "source": [
    "# 第十五章 重构一下代码\n",
    "# 功能点：考虑一下代码的重构、文章排行、标签云、友情链接、标签列表页面\n",
    "# 整个网站都会用到的代码放在global_setting函数中 views.py重构\n",
    "# urls.py的重构，属于app的归入到app并在project的urls.py中加入include\n",
    "# 分页代码的重构\n",
    "# 整体代码的重构\n",
    "# 评论排行 聚合函数\n",
    "# views.py\n",
    "from Django.db. import Count\n",
    "comment_count_list = Comment.objects.values('article').annotate(comment_count=Count('article')).order_by('-comment_count')\n",
    "article_comment_list = [Article.objects.get(pk=comment['article']) for comment in comment_count_list]\n",
    "return locals()\n",
    "\n",
    "# html中加入过滤器"
   ]
  },
  {
   "cell_type": "code",
   "execution_count": null,
   "metadata": {
    "collapsed": true
   },
   "outputs": [],
   "source": [
    "# 第十六章 如何自定义过滤器(filter也可以自定义tags)\n",
    "# 1、DoesNotExist异常\n",
    "# 2、safe过滤器的使用，date过滤器的使用\n",
    "# 3、如何自定义一个过滤器\n",
    "# date、safe（信息是安全的不需要过滤）\n",
    "# 定义函数\n",
    "# 注册到过滤器\n",
    "# myfilter\n",
    "from django import template\n",
    "register = template.Library()\n",
    "\n",
    "@register.filter[(name='month_to_upper')]\n",
    "def month_to_upper():\n",
    "\n",
    "# html中\n",
    "{% load myfilter %}"
   ]
  },
  {
   "cell_type": "code",
   "execution_count": null,
   "metadata": {
    "collapsed": true
   },
   "outputs": [],
   "source": [
    "# 第十七章 评论\n",
    "# 知识点 1、评论信息读取，注意细节（减少数据库读写次数）2、发表评论3、客户端验证和服务端验证4、csrf5、表单的使用\n",
    "# 不加csrf时views中加入一个装饰器"
   ]
  },
  {
   "cell_type": "code",
   "execution_count": null,
   "metadata": {
    "collapsed": true
   },
   "outputs": [],
   "source": [
    "# 注册登录注销\n",
    "# 知识点：1、django.contrib.auth（logout，login，authenticate\n",
    "# 2、django.contrib.auth.hashers(make_password)django的加密方式\n",
    "# 3、使用redirect跳转\n",
    "# 4、如何判断用户已经登陆\n",
    "# 5、。。。\n",
    "# app/urls.py\n",
    "url('^login', do_login, name='login')\n",
    "url('^reg', do_reg, name='reg')\n",
    "url('^logout', do_logout, name='logout')\n",
    "\n",
    "# views.py\n",
    "# 注册\n",
    "def do_reg(request):\n",
    "    try:\n",
    "        if request.method = 'POST':\n",
    "            reg_form = RegForm(request.POST)\n",
    "            if reg_form.is_valid():\n",
    "                # 注册\n",
    "                user = User.objects.create(username=reg_form.cleaned_data['username'],\n",
    "                                          email=reg_form.cleaned_data['email'],\n",
    "                                          url=reg_from.cleaned_data['url'],\n",
    "                                          password=make_password(reg_form.cleaned_data['password'],)\n",
    "                user.save()\n",
    "                # 登陆\n",
    "                user.backend = 'django.contrib.auth.backends.ModelBackend' # 指定默认的登陆验证方式\n",
    "                login(request, user)\n",
    "                return redirt(request.POST.get('source_url')) # source_url跳转前的页面\n",
    "            else:\n",
    "                return render(request, 'failure.html', {'reason': reg_form.errors})\n",
    "        else:\n",
    "            reg_form = RegForm()\n",
    "    except Exception as e:\n",
    "        logger.error(e)\n",
    "    return render(request, 'reg.html', locals())\n",
    "\n",
    "# reg.html\n",
    "#　记录网页来源（注册完成跳回）"
   ]
  },
  {
   "cell_type": "code",
   "execution_count": null,
   "metadata": {
    "collapsed": true
   },
   "outputs": [],
   "source": [
    "# 登陆\n",
    "user = authenticate(username=username, password=password)\n",
    "if user is not None:\n",
    "    pass\n",
    "else:\n",
    "    return render(request, 'failure.html', {'reson': '登陆验证失败'})"
   ]
  },
  {
   "cell_type": "code",
   "execution_count": null,
   "metadata": {
    "collapsed": true
   },
   "outputs": [],
   "source": [
    "# 注销\n",
    "def do_logout(request):\n",
    "    try:\n",
    "        logout(request)\n",
    "    except Exception as e:\n",
    "        logger.error(e)\n",
    "    return redirect(request.META('HTTP_REFERER'))\n",
    "\n",
    "# 是否登陆\n",
    "user = request.user if request.user.is_authenticated() else None"
   ]
  }
 ],
 "metadata": {
  "kernelspec": {
   "display_name": "Python 3",
   "language": "python",
   "name": "python3"
  },
  "language_info": {
   "codemirror_mode": {
    "name": "ipython",
    "version": 3
   },
   "file_extension": ".py",
   "mimetype": "text/x-python",
   "name": "python",
   "nbconvert_exporter": "python",
   "pygments_lexer": "ipython3",
   "version": "3.6.0"
  }
 },
 "nbformat": 4,
 "nbformat_minor": 1
}
