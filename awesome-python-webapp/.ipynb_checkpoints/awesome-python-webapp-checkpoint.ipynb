{
 "cells": [
  {
   "cell_type": "markdown",
   "metadata": {},
   "source": [
    "## 1、搭建开发环境"
   ]
  },
  {
   "cell_type": "markdown",
   "metadata": {},
   "source": [
    "廖雪峰 http://www.liaoxuefeng.com/wiki/001374738125095c955c1e6d8bb493182103fac9270762a000/0013976177048818eb4187c05a84f9280169d58e22afa09000\n",
    "\n",
    "开发环境\n",
    "python2.7.3\n",
    "jinja2\n",
    "mysql-connector-python\n",
    "\n",
    "项目结构\n",
    "\n",
    "根目录\n",
    "\n",
    "\t备份目录\n",
    "    \n",
    "\t配置文件\n",
    "    \n",
    "\t打包目录\n",
    "    \n",
    "\tweb目录，存放.py文件\n",
    "    \n",
    "\t\t存放静态文件\n",
    "        \n",
    "\t\t存放模板文件\n",
    "        \n",
    "\t代码LICENSE"
   ]
  },
  {
   "cell_type": "markdown",
   "metadata": {},
   "source": [
    "## 2、编写Web App骨架"
   ]
  },
  {
   "cell_type": "markdown",
   "metadata": {},
   "source": [
    "所有数据，包括用户信息、发布的日志、评论等，都存储在数据库中。在awesome-python-app中，我们选择MySQL作为数据库。\n",
    "\n",
    "在一个Web App中，有多个用户会同时访问，系统以多进程或多线程模式来处理每个用户的请求。假设以多线程为例，每个线程在访问数据库时，都必须创建仅属于自身的连接，对别的线程不可见，否则，就会造成数据库操作混乱。\n",
    "所以，我们还要创建一个简单可靠的数据库访问模型，在一个线程中，能既安全又简单地操作数据库。\n",
    "\n",
    "自己设计一个封装基本的SELECT、INSERT、UPDATE和DELETE操作的db模块：transwarp.db"
   ]
  },
  {
   "cell_type": "markdown",
   "metadata": {},
   "source": [
    "### 设计db接口"
   ]
  },
  {
   "cell_type": "markdown",
   "metadata": {},
   "source": [
    "设计底层模块的原则是，根据上层调用者设计简单易用的API接口，然后，实现模块内部代码。\n",
    "\n",
    "假设transwarp.db模块已经编写完毕，我们希望以这样的方式来调用它：\n",
    "\n",
    "首先，初始化数据库连接信息，通过create_engine()函数："
   ]
  },
  {
   "cell_type": "markdown",
   "metadata": {},
   "source": [
    "from transwrap import db\n",
    "db.create_engine(user='root', password='password', database='test', host='127.0.0.1', port=3306)"
   ]
  },
  {
   "cell_type": "markdown",
   "metadata": {},
   "source": [
    "可以直接调用select()方法，返回的是list，每一个元素是用dict表示的对应的行："
   ]
  },
  {
   "cell_type": "code",
   "execution_count": null,
   "metadata": {
    "collapsed": true
   },
   "outputs": [],
   "source": [
    "users = db.select('select * from user')"
   ]
  },
  {
   "cell_type": "markdown",
   "metadata": {},
   "source": [
    "如果要执行INSERT、UPDATE或DELETE操作，m执行update()方法，返回受影响的行数：\n",
    "\n",
    "update(sql, *ards)"
   ]
  },
  {
   "cell_type": "markdown",
   "metadata": {},
   "source": [
    "n = db.update('insert into user(id, name) values(?, ?)', 4, 'Jack')"
   ]
  },
  {
   "cell_type": "markdown",
   "metadata": {},
   "source": [
    "统一用?作为占位符，并传入可变参数来绑定，从根本上避免SQL注入攻击。？"
   ]
  },
  {
   "cell_type": "markdown",
   "metadata": {},
   "source": [
    "每个select()或update()调用，都隐含地自动打开并关闭了数据库连接，这样，上层调用者就完全不必关心数据库底层连接。\n",
    "\n",
    "但是，如果要在一个数据库连接里或者一个数据库事务中执行多个SQL语句怎么办？我们用一个with语句实现："
   ]
  },
  {
   "cell_type": "code",
   "execution_count": null,
   "metadata": {
    "collapsed": true
   },
   "outputs": [],
   "source": [
    "with db.connection():\n",
    "    db.select('...')\n",
    "    db.update('...')\n",
    "    db.update('...')"
   ]
  },
  {
   "cell_type": "markdown",
   "metadata": {},
   "source": [
    "### 实现db模块"
   ]
  },
  {
   "cell_type": "markdown",
   "metadata": {},
   "source": [
    "由于模块是全局对象，模块变量是全局唯一变量，所以，有两个重要的模块变量：·"
   ]
  },
  {
   "cell_type": "code",
   "execution_count": null,
   "metadata": {
    "collapsed": true
   },
   "outputs": [],
   "source": [
    "# db.py\n",
    "\n",
    "# 数据库引擎对象\n",
    "class _Engine(object):\n",
    "    def __init__(self, connect):\n",
    "        self._connect = connect\n",
    "    def connect(self):\n",
    "        return self._connect()\n",
    "    \n",
    "engine = None\n",
    "\n",
    "# 持有数据库连接的上下文对象\n",
    "class _DbCtx(threading.local):\n",
    "    def __init__(self):\n",
    "        self.connection = None\n",
    "        self.transactions = 0\n",
    "        \n",
    "    def is_init(self):\n",
    "        return not self.connection is Nonem # ?\n",
    "    \n",
    "    def init(self):\n",
    "        self.connection = _LasyConnection()\n",
    "        self.transactions = 0\n",
    "        \n",
    "    def cleanup(self):\n",
    "        self.connection.cleanup()\n",
    "        self.connection = None\n",
    "        \n",
    "    def cursor(self):\n",
    "        return self.connection.cursor()\n",
    "    \n",
    "_db_ctx = _DbCtx()\n"
   ]
  },
  {
   "cell_type": "markdown",
   "metadata": {},
   "source": [
    "由于_db_ctx是threadlocal对象，所以，它持有的数据库连接对于每个线程看到的都是不一样的。任何一个线程都无法访问到其他线程持有的数据库连接。\n",
    "\n",
    "有了这两个全局变量，我们继续实现数据库连接的上下文，目的是自动获取和释放连接："
   ]
  },
  {
   "cell_type": "code",
   "execution_count": null,
   "metadata": {
    "collapsed": true
   },
   "outputs": [],
   "source": [
    "class _ConnectionCtx(object):\n",
    "    def __enter__(self):\n",
    "        global _db_ctx\n",
    "        self.should_cleanup = False\n",
    "        if not _db_ctx.is_init():\n",
    "            _db_ctx.init()\n",
    "            self.should_cleanup = True\n",
    "        return self\n",
    "    \n",
    "    def __exit_(self, exctype, excvalue, traceback):\n",
    "        global _db_ctx\n",
    "        if self.should_cleanup:\n",
    "            _db_ctx.cleanup()\n",
    "            \n",
    "def connection():\n",
    "    return _ConnectionCtx"
   ]
  },
  {
   "cell_type": "markdown",
   "metadata": {},
   "source": [
    "定义了__enter__()和__exit__()的对象可以用于with语句，确保任何情况下__exit__()方法可以被调用。\n",
    "\n",
    "把_ConnectionCtx的作用域作用到一个函数调用上，可以这么写："
   ]
  },
  {
   "cell_type": "code",
   "execution_count": null,
   "metadata": {
    "collapsed": true
   },
   "outputs": [],
   "source": [
    "with connection():\n",
    "    do_some_db_operation()\n",
    "    \n",
    "# 或者写个decorator\n",
    "@with_connection\n",
    "def do_some_db_operation():\n",
    "    pass\n",
    "\n",
    "# 实现select()、update()\n",
    "@with_connection\n",
    "def select(sql, *args):\n",
    "    pass\n",
    "\n",
    "@with_connection\n",
    "def update(sql, *args):\n",
    "    pass"
   ]
  },
  {
   "cell_type": "markdown",
   "metadata": {},
   "source": [
    "注意到Connection对象是存储在_DbCtx这个threadlocal对象里的，因此，嵌套使用with connection()也没有问题。_DbCtx永远检测当前是否已存在Connection，如果存在，直接使用，如果不存在，则打开一个新的Connection。\n",
    "\n",
    "对于transaction也是类似的，with transaction()定义了一个数据库事务："
   ]
  },
  {
   "cell_type": "code",
   "execution_count": null,
   "metadata": {
    "collapsed": true
   },
   "outputs": [],
   "source": [
    "with db.transaction():\n",
    "    db.select('...')\n",
    "    db.update('...')\n",
    "    db.update('...')\n",
    "    \n",
    "# 函数的作用域事务也有一个简化的@decorator:\n",
    "@with_transaction\n",
    "def do_in_transaction():\n",
    "    pass"
   ]
  },
  {
   "cell_type": "markdown",
   "metadata": {},
   "source": [
    "事务也可以嵌套，内层事务会自动合并到外层事务中，这种事务模型足够满足99%的需求。\n",
    "\n",
    "事务嵌套比Connection嵌套复杂一点，因为事务嵌套需要计数，每遇到一层嵌套就+1，离开一层嵌套就-1，最后到0时提交事务："
   ]
  },
  {
   "cell_type": "code",
   "execution_count": null,
   "metadata": {
    "collapsed": true
   },
   "outputs": [],
   "source": [
    "class _TransactionCtx(object):\n",
    "    def __enter__(self):\n",
    "        global _db_ctx\n",
    "        self.should_close_conn = False\n",
    "    if not _db_ctx.is_init():\n",
    "        _db_ctx.init()\n",
    "        self.should_close_conn = True\n",
    "    _db_ctx.transactions = _db_ctx.transactions + 1\n",
    "    retrun self\n",
    "    \n",
    "    def __exit__(self, exctype, excvalue, traceback):\n",
    "        global _db_ctx\n",
    "        _db_ctx.transactions = _db_ctx.transcations - 1\n",
    "        try:\n",
    "            if _db_ctx.transactions==0:\n",
    "                if exctype is None:\n",
    "                    self.commit()\n",
    "                else:\n",
    "                    self.rollback()\n",
    "        finally:\n",
    "            if self.should_close_conn:\n",
    "                _db_ctx.cleanup()\n",
    "                \n",
    "    def commit(self):\n",
    "        global _db_ctx\n",
    "        try:\n",
    "            _db_ctx.connection.commit()\n",
    "        except:\n",
    "            _db_ctx.connection.rollback()\n",
    "            raise\n",
    "            \n",
    "    def rollback(self):\n",
    "        global _db_ctx\n",
    "        _db_ctx.connection.rollback()"
   ]
  },
  {
   "cell_type": "markdown",
   "metadata": {},
   "source": [
    "最后，把select()和update()方法实现了，db模块就完成了。"
   ]
  },
  {
   "cell_type": "markdown",
   "metadata": {},
   "source": [
    "## 3、编写ORM对象关系映射(Object Relational Mapping)"
   ]
  },
  {
   "cell_type": "code",
   "execution_count": null,
   "metadata": {
    "collapsed": true
   },
   "outputs": [],
   "source": [
    "# 有ORM\n",
    "user = User.get('123')\n",
    "# 无ORM\n",
    "u = db.select_one('select * from users where id=?', '123')\n",
    "user = User(**u)"
   ]
  },
  {
   "cell_type": "markdown",
   "metadata": {},
   "source": [
    "### 设计ORM接口"
   ]
  },
  {
   "cell_type": "markdown",
   "metadata": {},
   "source": [
    "从上层调用者角度来设计"
   ]
  },
  {
   "cell_type": "markdown",
   "metadata": {},
   "source": [
    "定义一个User对象，然后把数据库表users和它关联起来"
   ]
  },
  {
   "cell_type": "code",
   "execution_count": null,
   "metadata": {
    "collapsed": true
   },
   "outputs": [],
   "source": [
    "from transwarp.orm import Model, StringField, InterField\n",
    "\n",
    "class User(Model):\n",
    "    __table__ = 'users'\n",
    "    id = IntegerField(primary_key=True) # 类属性\n",
    "    name = StringField() # 类属性"
   ]
  },
  {
   "cell_type": "markdown",
   "metadata": {},
   "source": [
    "义在User类中的__table__、id和name是类的属性，不是实例的属性。所以，在类级别上定义的属性用来描述User对象和表的映射关系，而实例属性必须通过__init__()方法去初始化，所以两者互不干扰："
   ]
  },
  {
   "cell_type": "code",
   "execution_count": null,
   "metadata": {
    "collapsed": true
   },
   "outputs": [],
   "source": [
    "# 创建实例：\n",
    "user = User(id=123, name='Michael')\n",
    "# 存入数据库：\n",
    "user.insert()"
   ]
  },
  {
   "cell_type": "markdown",
   "metadata": {},
   "source": [
    "### 实现ORM模块"
   ]
  },
  {
   "cell_type": "markdown",
   "metadata": {},
   "source": [
    "所有ORM映射的基类Model"
   ]
  },
  {
   "cell_type": "code",
   "execution_count": null,
   "metadata": {
    "collapsed": true
   },
   "outputs": [],
   "source": [
    "class Model(dict):\n",
    "    __metaclass__ = ModelMetaclass\n",
    "    \n",
    "    def __init__(self, **kw):\n",
    "        super(Model, self).__init__(**kw)\n",
    "        \n",
    "    def __getattr__(self, key):\n",
    "        try:\n",
    "            retrun self[key]\n",
    "        except KeyError:\n",
    "            raise AttributeError(r\"'Dict' object has no attribute '%s'\" % key)\n",
    "            \n",
    "    def __setattr__(self, key, value):\n",
    "        self[key] = value"
   ]
  },
  {
   "cell_type": "markdown",
   "metadata": {},
   "source": [
    "Model从dict继承，所以具备所有dict的功能，同时又实现了特殊方法__getattr__()和__setattr__()，所以又可以像引用普通字段那样写："
   ]
  },
  {
   "cell_type": "code",
   "execution_count": null,
   "metadata": {
    "collapsed": true
   },
   "outputs": [],
   "source": [
    "user['id']\n",
    "123\n",
    "user.id\n",
    "123"
   ]
  },
  {
   "cell_type": "markdown",
   "metadata": {},
   "source": [
    "Model只是一个基类，如何将具体的子类如User的映射信息读取出来呢？答案就是通过metaclass：ModelMetaclass："
   ]
  },
  {
   "cell_type": "code",
   "execution_count": null,
   "metadata": {
    "collapsed": true
   },
   "outputs": [],
   "source": [
    "class ModelMetaclass(type):\n",
    "    def __new__(cls, name, bases, attrs):\n",
    "        mapping = ... # 读取cls的Field字段\n",
    "        primary_key = ... # 查找primary_key字段\n",
    "        __table__ = cls.__table__ # 读取cls的__table__字段\n",
    "        \n",
    "        # 给cls增加一些字段：\n",
    "        attrs['__mapping__'] = mapping\n",
    "        attrs['__primary_key__'] = __primary_key__\n",
    "        attrs['__table__'] = __table__\n",
    "        return type.__new__(cls, name, bases, attrs)"
   ]
  },
  {
   "cell_type": "markdown",
   "metadata": {},
   "source": [
    "这样，任何继承自Model的类（比如User），会自动通过ModelMetaclass扫描映射关系，并存储到自身的class中。"
   ]
  },
  {
   "cell_type": "markdown",
   "metadata": {},
   "source": [
    "然后，我们往Model类添加class方法，就可以让所有子类调用class方法："
   ]
  },
  {
   "cell_type": "code",
   "execution_count": null,
   "metadata": {
    "collapsed": true
   },
   "outputs": [],
   "source": [
    "class Model(dict):\n",
    "    ...\n",
    "    @classmethod\n",
    "    def get(cls, pk):\n",
    "        d = db.select_one('select * from %s where %s=?' % (cls.__table__, cls.__primary_key__.name), pk)"
   ]
  },
  {
   "cell_type": "markdown",
   "metadata": {},
   "source": [
    "User类就可以通过类方法实现主键查找\n",
    "\n",
    "user = User.get('123')"
   ]
  },
  {
   "cell_type": "markdown",
   "metadata": {},
   "source": [
    "往Model类添加实例方法，就可以让所有子类调用实例方法"
   ]
  },
  {
   "cell_type": "code",
   "execution_count": null,
   "metadata": {
    "collapsed": true
   },
   "outputs": [],
   "source": [
    "class Model(dict):\n",
    "    \n",
    "    ...\n",
    "    \n",
    "    def insert(self):\n",
    "        params = {}\n",
    "        for k, v in self.__mappings__.iteritems():\n",
    "            params[v.name] = getattr(self, k)\n",
    "        db.insert(self.__table__, **params)\n",
    "        return self"
   ]
  },
  {
   "cell_type": "markdown",
   "metadata": {},
   "source": [
    "这样，就可以把一个User实例存入数据库：\n",
    "\n",
    "user = User(id=123, name='Michael')\n",
    "\n",
    "user.insert()\n"
   ]
  },
  {
   "cell_type": "markdown",
   "metadata": {},
   "source": [
    "最后，完善ORM"
   ]
  },
  {
   "cell_type": "markdown",
   "metadata": {},
   "source": [
    "查找\n",
    "\n",
    "find_first()\n",
    "\n",
    "find_all()\n",
    "\n",
    "find_by()\n",
    "\n",
    "计数\n",
    "\n",
    "count_all()\n",
    "\n",
    "count_by()\n",
    "\n",
    "增删\n",
    "\n",
    "update()\n",
    "\n",
    "delete()"
   ]
  },
  {
   "cell_type": "markdown",
   "metadata": {},
   "source": [
    "## 4、编写Model"
   ]
  },
  {
   "cell_type": "markdown",
   "metadata": {
    "collapsed": true
   },
   "source": [
    "有了ORM，我们就可以把Web App需要的3个表用Model表示出来"
   ]
  },
  {
   "cell_type": "code",
   "execution_count": null,
   "metadata": {
    "collapsed": true
   },
   "outputs": [],
   "source": [
    "import time, uuid\n",
    "\n",
    "from transwarp.db import next_id\n",
    "from transwarp.orm import Model, StringField, BooleanField, FloatField, TextField\n",
    "\n",
    "class User(Model):\n",
    "    __table__ = 'users'\n",
    "\n",
    "    id = StringField(primary_key=True, default=next_id, ddl='varchar(50)')\n",
    "    email = StringField(updatable=False, ddl='varchar(50)')\n",
    "    password = StringField(ddl='varchar(50)')\n",
    "    admin = BooleanField()\n",
    "    name = StringField(ddl='varchar(50)')\n",
    "    image = StringField(ddl='varchar(500)')\n",
    "    created_at = FloatField(updatable=False, default=time.time)\n",
    "\n",
    "class Blog(Model):\n",
    "    __table__ = 'blogs'\n",
    "\n",
    "    id = StringField(primary_key=True, default=next_id, ddl='varchar(50)')\n",
    "    user_id = StringField(updatable=False, ddl='varchar(50)')\n",
    "    user_name = StringField(ddl='varchar(50)')\n",
    "    user_image = StringField(ddl='varchar(500)')\n",
    "    name = StringField(ddl='varchar(50)')\n",
    "    summary = StringField(ddl='varchar(200)')\n",
    "    content = TextField()\n",
    "    created_at = FloatField(updatable=False, default=time.time)\n",
    "\n",
    "class Comment(Model):\n",
    "    __table__ = 'comments'\n",
    "\n",
    "    id = StringField(primary_key=True, default=next_id, ddl='varchar(50)')\n",
    "    blog_id = StringField(updatable=False, ddl='varchar(50)')\n",
    "    user_id = StringField(updatable=False, ddl='varchar(50)')\n",
    "    user_name = StringField(ddl='varchar(50)')\n",
    "    user_image = StringField(ddl='varchar(500)')\n",
    "    content = TextField()\n",
    "    created_at = FloatField(updatable=False, default=time.time)`"
   ]
  },
  {
   "cell_type": "markdown",
   "metadata": {},
   "source": [
    "给一个Field增加一个default参数可以让ORM自己填入缺省值，非常方便。并且，缺省值可以作为函数对象传入，在调用insert()时自动计算。\n",
    "\n",
    "例如，主键id的缺省值是函数next_id，创建时间created_at的缺省值是函数time.time，可以自动设置当前日期和时间。"
   ]
  },
  {
   "cell_type": "markdown",
   "metadata": {},
   "source": [
    "日期和时间用float类型存储在数据库中，而不是datetime类型，这么做的好处是不必关心数据库的时区以及时区转换问题，排序非常简单，显示的时候，只需要做一个float到str的转换，也非常容易。"
   ]
  },
  {
   "cell_type": "markdown",
   "metadata": {},
   "source": [
    "### 初始化数据库表"
   ]
  },
  {
   "cell_type": "code",
   "execution_count": null,
   "metadata": {
    "collapsed": true
   },
   "outputs": [],
   "source": [
    "-- schema.sql\n",
    "\n",
    "drop database if exists awesome;\n",
    "\n",
    "use awesome;\n",
    "\n",
    "grant select, insert, update, delete on awesome.* to 'www-data'@'localhost' identified by 'www-data';\n",
    "\n",
    "create table users (\n",
    "    'id' varchar(50) not null,\n",
    "    'password' varchar(50) not null,\n",
    "    'email' varchar(50) not null,\n",
    "    'admin' bool not null,\n",
    "    'name' varchar(50) not null,\n",
    "    'image' varchar(500) not null,\n",
    "    'created_at' real not null,\n",
    "    unique key 'idx_email' ('email'),\n",
    "    key 'idx_created_at' ('created_at'),\n",
    "    primary key ('id')\n",
    ") engine=innodb default charset=utf8\n",
    "\n",
    "\n",
    "create table blogs (\n",
    "    `id` varchar(50) not null,\n",
    "    `user_id` varchar(50) not null,\n",
    "    `user_name` varchar(50) not null,\n",
    "    `user_image` varchar(500) not null,\n",
    "    `name` varchar(50) not null,\n",
    "    `summary` varchar(200) not null,\n",
    "    `content` mediumtext not null,\n",
    "    `created_at` real not null,\n",
    "    key `idx_created_at` (`created_at`),\n",
    "    primary key (`id`)\n",
    ") engine=innodb default charset=utf8;\n",
    "\n",
    "create table comments (\n",
    "    `id` varchar(50) not null,\n",
    "    `blog_id` varchar(50) not null,\n",
    "    `user_id` varchar(50) not null,\n",
    "    `user_name` varchar(50) not null,\n",
    "    `user_image` varchar(500) not null,\n",
    "    `content` mediumtext not null,\n",
    "    `created_at` real not null,\n",
    "    key `idx_created_at` (`created_at`),\n",
    "    primary key (`id`)\n",
    ") engine=innodb default charset=utf8;"
   ]
  },
  {
   "cell_type": "markdown",
   "metadata": {},
   "source": [
    "如果表的数量很多，可以从Model对象直接通过脚本自动生成SQL脚本，使用更简单。\n",
    "\n",
    "把SQL脚本放到MySQL命令行里执行：\n",
    "\n",
    "mysql -u root -p < schema.sql"
   ]
  },
  {
   "cell_type": "markdown",
   "metadata": {},
   "source": [
    "编写数据库访问代码"
   ]
  },
  {
   "cell_type": "code",
   "execution_count": null,
   "metadata": {
    "collapsed": true
   },
   "outputs": [],
   "source": [
    "# test_db.py\n",
    "\n",
    "from models import User, Blog, Comment\n",
    "\n",
    "from transwarp import db\n",
    "\n",
    "db.create_engine(user='www-data', database='awesome')\n",
    "\n",
    "u = User(name='Test', email='test@example.com', password='1234567890', image='about:blank')\n",
    "\n",
    "u.insert()\n",
    "\n",
    "print 'new user id:', u.id\n",
    "\n",
    "u1 = User.find_first('where email=?', 'test@example.com')\n",
    "print 'find user\\'s name:', u1.name\n",
    "u2 = User.find_first('where email=?', 'test@example.com')\n",
    "print 'find user:', u2"
   ]
  },
  {
   "cell_type": "markdown",
   "metadata": {},
   "source": [
    "可以在MySQL客户端命令行查询，看看数据是不是正常存储到MySQL里面了。"
   ]
  },
  {
   "cell_type": "code",
   "execution_count": null,
   "metadata": {
    "collapsed": true
   },
   "outputs": [],
   "source": []
  },
  {
   "cell_type": "code",
   "execution_count": null,
   "metadata": {
    "collapsed": true
   },
   "outputs": [],
   "source": []
  },
  {
   "cell_type": "code",
   "execution_count": null,
   "metadata": {
    "collapsed": true
   },
   "outputs": [],
   "source": []
  }
 ],
 "metadata": {
  "kernelspec": {
   "display_name": "Python 2",
   "language": "python",
   "name": "python2"
  },
  "language_info": {
   "codemirror_mode": {
    "name": "ipython",
    "version": 2
   },
   "file_extension": ".py",
   "mimetype": "text/x-python",
   "name": "python",
   "nbconvert_exporter": "python",
   "pygments_lexer": "ipython2",
   "version": "2.7.12"
  }
 },
 "nbformat": 4,
 "nbformat_minor": 1
}
